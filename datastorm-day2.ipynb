{
 "cells": [
  {
   "cell_type": "markdown",
   "id": "1527639c",
   "metadata": {
    "papermill": {
     "duration": 0.015314,
     "end_time": "2023-04-27T05:22:33.129175",
     "exception": false,
     "start_time": "2023-04-27T05:22:33.113861",
     "status": "completed"
    },
    "tags": []
   },
   "source": [
    "# Store Profile Classifier"
   ]
  },
  {
   "cell_type": "code",
   "execution_count": 1,
   "id": "b9cc1589",
   "metadata": {
    "_cell_guid": "b1076dfc-b9ad-4769-8c92-a6c4dae69d19",
    "_uuid": "8f2839f25d086af736a60e9eeb907d3b93b6e0e5",
    "execution": {
     "iopub.execute_input": "2023-04-27T05:22:33.162480Z",
     "iopub.status.busy": "2023-04-27T05:22:33.162047Z",
     "iopub.status.idle": "2023-04-27T05:22:34.662619Z",
     "shell.execute_reply": "2023-04-27T05:22:34.661000Z"
    },
    "papermill": {
     "duration": 1.520867,
     "end_time": "2023-04-27T05:22:34.665738",
     "exception": false,
     "start_time": "2023-04-27T05:22:33.144871",
     "status": "completed"
    },
    "tags": []
   },
   "outputs": [],
   "source": [
    "import pandas as pd\n",
    "import numpy as np\n",
    "import seaborn as sns"
   ]
  },
  {
   "cell_type": "code",
   "execution_count": 2,
   "id": "2928dded",
   "metadata": {
    "execution": {
     "iopub.execute_input": "2023-04-27T05:22:34.696234Z",
     "iopub.status.busy": "2023-04-27T05:22:34.695756Z",
     "iopub.status.idle": "2023-04-27T05:22:35.890238Z",
     "shell.execute_reply": "2023-04-27T05:22:35.888780Z"
    },
    "papermill": {
     "duration": 1.213093,
     "end_time": "2023-04-27T05:22:35.893120",
     "exception": false,
     "start_time": "2023-04-27T05:22:34.680027",
     "status": "completed"
    },
    "tags": []
   },
   "outputs": [],
   "source": [
    "transactions = pd.read_csv(\"/kaggle/input/dataset/Historical-transaction-data.csv\")\n",
    "storedata = pd.read_csv(\"/kaggle/input/dataset/Store-info.csv\")\n",
    "testdata = pd.read_csv(\"/kaggle/input/dataset/Testing-data.csv\")"
   ]
  },
  {
   "cell_type": "code",
   "execution_count": 3,
   "id": "c24271ee",
   "metadata": {
    "execution": {
     "iopub.execute_input": "2023-04-27T05:22:35.925869Z",
     "iopub.status.busy": "2023-04-27T05:22:35.924524Z",
     "iopub.status.idle": "2023-04-27T05:22:35.959904Z",
     "shell.execute_reply": "2023-04-27T05:22:35.958348Z"
    },
    "papermill": {
     "duration": 0.054513,
     "end_time": "2023-04-27T05:22:35.963325",
     "exception": false,
     "start_time": "2023-04-27T05:22:35.908812",
     "status": "completed"
    },
    "tags": []
   },
   "outputs": [
    {
     "data": {
      "text/html": [
       "<div>\n",
       "<style scoped>\n",
       "    .dataframe tbody tr th:only-of-type {\n",
       "        vertical-align: middle;\n",
       "    }\n",
       "\n",
       "    .dataframe tbody tr th {\n",
       "        vertical-align: top;\n",
       "    }\n",
       "\n",
       "    .dataframe thead th {\n",
       "        text-align: right;\n",
       "    }\n",
       "</style>\n",
       "<table border=\"1\" class=\"dataframe\">\n",
       "  <thead>\n",
       "    <tr style=\"text-align: right;\">\n",
       "      <th></th>\n",
       "      <th>item_description</th>\n",
       "      <th>transaction_date</th>\n",
       "      <th>invoice_id</th>\n",
       "      <th>customer_id</th>\n",
       "      <th>shop_id</th>\n",
       "      <th>item_price</th>\n",
       "      <th>quantity_sold</th>\n",
       "    </tr>\n",
       "  </thead>\n",
       "  <tbody>\n",
       "    <tr>\n",
       "      <th>0</th>\n",
       "      <td>ORANGE BARLEY 1.5L</td>\n",
       "      <td>2021-12-11T00:00:00.000Z</td>\n",
       "      <td>147.0</td>\n",
       "      <td>BGXA</td>\n",
       "      <td>SHOP008</td>\n",
       "      <td>220</td>\n",
       "      <td>2</td>\n",
       "    </tr>\n",
       "    <tr>\n",
       "      <th>1</th>\n",
       "      <td>GINGER BEER 1.5L</td>\n",
       "      <td>2021-10-17T00:00:00.000Z</td>\n",
       "      <td>371.0</td>\n",
       "      <td>IA25</td>\n",
       "      <td>SHOP112</td>\n",
       "      <td>220</td>\n",
       "      <td>2</td>\n",
       "    </tr>\n",
       "    <tr>\n",
       "      <th>2</th>\n",
       "      <td>TONIC PET 500ML</td>\n",
       "      <td>2021-12-13T00:00:00.000Z</td>\n",
       "      <td>484.0</td>\n",
       "      <td>VN7V</td>\n",
       "      <td>SHOP008</td>\n",
       "      <td>160</td>\n",
       "      <td>2</td>\n",
       "    </tr>\n",
       "    <tr>\n",
       "      <th>3</th>\n",
       "      <td>CREAM SODA 1L</td>\n",
       "      <td>2021-12-13T00:00:00.000Z</td>\n",
       "      <td>484.0</td>\n",
       "      <td>VN7V</td>\n",
       "      <td>SHOP008</td>\n",
       "      <td>150</td>\n",
       "      <td>2</td>\n",
       "    </tr>\n",
       "    <tr>\n",
       "      <th>4</th>\n",
       "      <td>STRAWBERRY MILK 180ML</td>\n",
       "      <td>2021-10-23T00:00:00.000Z</td>\n",
       "      <td>1310.0</td>\n",
       "      <td>7S00</td>\n",
       "      <td>SHOP112</td>\n",
       "      <td>210</td>\n",
       "      <td>5</td>\n",
       "    </tr>\n",
       "  </tbody>\n",
       "</table>\n",
       "</div>"
      ],
      "text/plain": [
       "        item_description          transaction_date  invoice_id customer_id  \\\n",
       "0     ORANGE BARLEY 1.5L  2021-12-11T00:00:00.000Z       147.0        BGXA   \n",
       "1       GINGER BEER 1.5L  2021-10-17T00:00:00.000Z       371.0        IA25   \n",
       "2        TONIC PET 500ML  2021-12-13T00:00:00.000Z       484.0        VN7V   \n",
       "3          CREAM SODA 1L  2021-12-13T00:00:00.000Z       484.0        VN7V   \n",
       "4  STRAWBERRY MILK 180ML  2021-10-23T00:00:00.000Z      1310.0        7S00   \n",
       "\n",
       "   shop_id  item_price  quantity_sold  \n",
       "0  SHOP008         220              2  \n",
       "1  SHOP112         220              2  \n",
       "2  SHOP008         160              2  \n",
       "3  SHOP008         150              2  \n",
       "4  SHOP112         210              5  "
      ]
     },
     "execution_count": 3,
     "metadata": {},
     "output_type": "execute_result"
    }
   ],
   "source": [
    "transactions.head()"
   ]
  },
  {
   "cell_type": "code",
   "execution_count": 4,
   "id": "af2f29f0",
   "metadata": {
    "execution": {
     "iopub.execute_input": "2023-04-27T05:22:35.996827Z",
     "iopub.status.busy": "2023-04-27T05:22:35.996399Z",
     "iopub.status.idle": "2023-04-27T05:22:36.044607Z",
     "shell.execute_reply": "2023-04-27T05:22:36.043220Z"
    },
    "papermill": {
     "duration": 0.068122,
     "end_time": "2023-04-27T05:22:36.047716",
     "exception": false,
     "start_time": "2023-04-27T05:22:35.979594",
     "status": "completed"
    },
    "tags": []
   },
   "outputs": [
    {
     "name": "stdout",
     "output_type": "stream",
     "text": [
      "124\n"
     ]
    }
   ],
   "source": [
    "unique_shops = transactions['shop_id'].nunique()\n",
    "print(unique_shops)"
   ]
  },
  {
   "cell_type": "markdown",
   "id": "26e0393e",
   "metadata": {
    "papermill": {
     "duration": 0.014294,
     "end_time": "2023-04-27T05:22:36.076763",
     "exception": false,
     "start_time": "2023-04-27T05:22:36.062469",
     "status": "completed"
    },
    "tags": []
   },
   "source": [
    "Basically there are 124 shops in total, we'll create a dataset from the transaction data"
   ]
  },
  {
   "cell_type": "code",
   "execution_count": 5,
   "id": "13d777c3",
   "metadata": {
    "execution": {
     "iopub.execute_input": "2023-04-27T05:22:36.118077Z",
     "iopub.status.busy": "2023-04-27T05:22:36.117581Z",
     "iopub.status.idle": "2023-04-27T05:22:36.142360Z",
     "shell.execute_reply": "2023-04-27T05:22:36.140581Z"
    },
    "papermill": {
     "duration": 0.047527,
     "end_time": "2023-04-27T05:22:36.145713",
     "exception": false,
     "start_time": "2023-04-27T05:22:36.098186",
     "status": "completed"
    },
    "tags": []
   },
   "outputs": [
    {
     "data": {
      "text/html": [
       "<div>\n",
       "<style scoped>\n",
       "    .dataframe tbody tr th:only-of-type {\n",
       "        vertical-align: middle;\n",
       "    }\n",
       "\n",
       "    .dataframe tbody tr th {\n",
       "        vertical-align: top;\n",
       "    }\n",
       "\n",
       "    .dataframe thead th {\n",
       "        text-align: right;\n",
       "    }\n",
       "</style>\n",
       "<table border=\"1\" class=\"dataframe\">\n",
       "  <thead>\n",
       "    <tr style=\"text-align: right;\">\n",
       "      <th></th>\n",
       "      <th>shop_id</th>\n",
       "      <th>shop_area_sq_ft</th>\n",
       "      <th>shop_profile</th>\n",
       "    </tr>\n",
       "  </thead>\n",
       "  <tbody>\n",
       "    <tr>\n",
       "      <th>0</th>\n",
       "      <td>SHOP047</td>\n",
       "      <td>528</td>\n",
       "      <td>Moderate</td>\n",
       "    </tr>\n",
       "    <tr>\n",
       "      <th>1</th>\n",
       "      <td>SHOP009</td>\n",
       "      <td>676</td>\n",
       "      <td>High</td>\n",
       "    </tr>\n",
       "    <tr>\n",
       "      <th>2</th>\n",
       "      <td>SHOP083</td>\n",
       "      <td>676</td>\n",
       "      <td>Low</td>\n",
       "    </tr>\n",
       "    <tr>\n",
       "      <th>3</th>\n",
       "      <td>SHOP117</td>\n",
       "      <td>676</td>\n",
       "      <td>Low</td>\n",
       "    </tr>\n",
       "    <tr>\n",
       "      <th>4</th>\n",
       "      <td>SHOP042</td>\n",
       "      <td>676</td>\n",
       "      <td>Low</td>\n",
       "    </tr>\n",
       "    <tr>\n",
       "      <th>...</th>\n",
       "      <td>...</td>\n",
       "      <td>...</td>\n",
       "      <td>...</td>\n",
       "    </tr>\n",
       "    <tr>\n",
       "      <th>119</th>\n",
       "      <td>SHOP087</td>\n",
       "      <td>527</td>\n",
       "      <td>NaN</td>\n",
       "    </tr>\n",
       "    <tr>\n",
       "      <th>120</th>\n",
       "      <td>SHOP050</td>\n",
       "      <td>411</td>\n",
       "      <td>NaN</td>\n",
       "    </tr>\n",
       "    <tr>\n",
       "      <th>121</th>\n",
       "      <td>SHOP061</td>\n",
       "      <td>699</td>\n",
       "      <td>NaN</td>\n",
       "    </tr>\n",
       "    <tr>\n",
       "      <th>122</th>\n",
       "      <td>SHOP056</td>\n",
       "      <td>597</td>\n",
       "      <td>NaN</td>\n",
       "    </tr>\n",
       "    <tr>\n",
       "      <th>123</th>\n",
       "      <td>SHOP070</td>\n",
       "      <td>676</td>\n",
       "      <td>NaN</td>\n",
       "    </tr>\n",
       "  </tbody>\n",
       "</table>\n",
       "<p>124 rows × 3 columns</p>\n",
       "</div>"
      ],
      "text/plain": [
       "     shop_id  shop_area_sq_ft shop_profile\n",
       "0    SHOP047              528     Moderate\n",
       "1    SHOP009              676         High\n",
       "2    SHOP083              676          Low\n",
       "3    SHOP117              676          Low\n",
       "4    SHOP042              676          Low\n",
       "..       ...              ...          ...\n",
       "119  SHOP087              527          NaN\n",
       "120  SHOP050              411          NaN\n",
       "121  SHOP061              699          NaN\n",
       "122  SHOP056              597          NaN\n",
       "123  SHOP070              676          NaN\n",
       "\n",
       "[124 rows x 3 columns]"
      ]
     },
     "execution_count": 5,
     "metadata": {},
     "output_type": "execute_result"
    }
   ],
   "source": [
    "storedata"
   ]
  },
  {
   "cell_type": "markdown",
   "id": "1861d9b3",
   "metadata": {
    "papermill": {
     "duration": 0.016542,
     "end_time": "2023-04-27T05:22:36.179350",
     "exception": false,
     "start_time": "2023-04-27T05:22:36.162808",
     "status": "completed"
    },
    "tags": []
   },
   "source": [
    "# Planned Features\n",
    "### Implemented\n",
    "- Total Sales volume (total_vol)\n",
    "- Total number of unique customers (total_customers)\n",
    "- Largest volume by date? Largest volume in a single day (single_day_max_vol) ?\n",
    "- Smallest volume by date? (single_day_max_vol)\n",
    "- Sales volume per square foot (vol_per_sq_ft)\n",
    "- Total Number of unique items (total_unique_items)\n",
    "- Total transactions (n_transactions)\n",
    "- Number of recurring customers (customer_id_repeating and customer_id_unique)\n",
    "- Number of customers who visited only once (customer_id_single)\n",
    "\n",
    "### Best Features so far\n",
    "\n",
    "- shop_area_sq_ft, total_vol, total_customers = 0.6666\n",
    "- single_day_min_vol, customer_id_single, shop_area_sq_ft = 0.5\n",
    "- random forest = 0.416\n",
    "- single_day_min_vol, customer_id_single = 0.375\n",
    "\n",
    "### Target variable is shop_profile"
   ]
  },
  {
   "cell_type": "markdown",
   "id": "f27d14b4",
   "metadata": {
    "papermill": {
     "duration": 0.017918,
     "end_time": "2023-04-27T05:22:36.214281",
     "exception": false,
     "start_time": "2023-04-27T05:22:36.196363",
     "status": "completed"
    },
    "tags": []
   },
   "source": [
    "## Adding total_vol and vol_per_sq_ft"
   ]
  },
  {
   "cell_type": "code",
   "execution_count": 6,
   "id": "e1dd901a",
   "metadata": {
    "execution": {
     "iopub.execute_input": "2023-04-27T05:22:36.250359Z",
     "iopub.status.busy": "2023-04-27T05:22:36.249559Z",
     "iopub.status.idle": "2023-04-27T05:22:36.546273Z",
     "shell.execute_reply": "2023-04-27T05:22:36.545327Z"
    },
    "papermill": {
     "duration": 0.317738,
     "end_time": "2023-04-27T05:22:36.548964",
     "exception": false,
     "start_time": "2023-04-27T05:22:36.231226",
     "status": "completed"
    },
    "tags": []
   },
   "outputs": [
    {
     "data": {
      "text/html": [
       "<div>\n",
       "<style scoped>\n",
       "    .dataframe tbody tr th:only-of-type {\n",
       "        vertical-align: middle;\n",
       "    }\n",
       "\n",
       "    .dataframe tbody tr th {\n",
       "        vertical-align: top;\n",
       "    }\n",
       "\n",
       "    .dataframe thead th {\n",
       "        text-align: right;\n",
       "    }\n",
       "</style>\n",
       "<table border=\"1\" class=\"dataframe\">\n",
       "  <thead>\n",
       "    <tr style=\"text-align: right;\">\n",
       "      <th></th>\n",
       "      <th>shop_id</th>\n",
       "      <th>shop_area_sq_ft</th>\n",
       "      <th>shop_profile</th>\n",
       "      <th>total_vol</th>\n",
       "      <th>vol_per_sq_ft</th>\n",
       "    </tr>\n",
       "  </thead>\n",
       "  <tbody>\n",
       "    <tr>\n",
       "      <th>0</th>\n",
       "      <td>SHOP047</td>\n",
       "      <td>528</td>\n",
       "      <td>Moderate</td>\n",
       "      <td>842960</td>\n",
       "      <td>1596.515152</td>\n",
       "    </tr>\n",
       "    <tr>\n",
       "      <th>1</th>\n",
       "      <td>SHOP009</td>\n",
       "      <td>676</td>\n",
       "      <td>High</td>\n",
       "      <td>1970870</td>\n",
       "      <td>2915.488166</td>\n",
       "    </tr>\n",
       "    <tr>\n",
       "      <th>2</th>\n",
       "      <td>SHOP083</td>\n",
       "      <td>676</td>\n",
       "      <td>Low</td>\n",
       "      <td>1691985</td>\n",
       "      <td>2502.936391</td>\n",
       "    </tr>\n",
       "    <tr>\n",
       "      <th>3</th>\n",
       "      <td>SHOP117</td>\n",
       "      <td>676</td>\n",
       "      <td>Low</td>\n",
       "      <td>2325980</td>\n",
       "      <td>3440.798817</td>\n",
       "    </tr>\n",
       "    <tr>\n",
       "      <th>4</th>\n",
       "      <td>SHOP042</td>\n",
       "      <td>676</td>\n",
       "      <td>Low</td>\n",
       "      <td>1340215</td>\n",
       "      <td>1982.566568</td>\n",
       "    </tr>\n",
       "    <tr>\n",
       "      <th>...</th>\n",
       "      <td>...</td>\n",
       "      <td>...</td>\n",
       "      <td>...</td>\n",
       "      <td>...</td>\n",
       "      <td>...</td>\n",
       "    </tr>\n",
       "    <tr>\n",
       "      <th>119</th>\n",
       "      <td>SHOP087</td>\n",
       "      <td>527</td>\n",
       "      <td>NaN</td>\n",
       "      <td>1128935</td>\n",
       "      <td>2142.191651</td>\n",
       "    </tr>\n",
       "    <tr>\n",
       "      <th>120</th>\n",
       "      <td>SHOP050</td>\n",
       "      <td>411</td>\n",
       "      <td>NaN</td>\n",
       "      <td>2399125</td>\n",
       "      <td>5837.287105</td>\n",
       "    </tr>\n",
       "    <tr>\n",
       "      <th>121</th>\n",
       "      <td>SHOP061</td>\n",
       "      <td>699</td>\n",
       "      <td>NaN</td>\n",
       "      <td>2110800</td>\n",
       "      <td>3019.742489</td>\n",
       "    </tr>\n",
       "    <tr>\n",
       "      <th>122</th>\n",
       "      <td>SHOP056</td>\n",
       "      <td>597</td>\n",
       "      <td>NaN</td>\n",
       "      <td>3023805</td>\n",
       "      <td>5065.000000</td>\n",
       "    </tr>\n",
       "    <tr>\n",
       "      <th>123</th>\n",
       "      <td>SHOP070</td>\n",
       "      <td>676</td>\n",
       "      <td>NaN</td>\n",
       "      <td>1325070</td>\n",
       "      <td>1960.162722</td>\n",
       "    </tr>\n",
       "  </tbody>\n",
       "</table>\n",
       "<p>124 rows × 5 columns</p>\n",
       "</div>"
      ],
      "text/plain": [
       "     shop_id  shop_area_sq_ft shop_profile  total_vol  vol_per_sq_ft\n",
       "0    SHOP047              528     Moderate     842960    1596.515152\n",
       "1    SHOP009              676         High    1970870    2915.488166\n",
       "2    SHOP083              676          Low    1691985    2502.936391\n",
       "3    SHOP117              676          Low    2325980    3440.798817\n",
       "4    SHOP042              676          Low    1340215    1982.566568\n",
       "..       ...              ...          ...        ...            ...\n",
       "119  SHOP087              527          NaN    1128935    2142.191651\n",
       "120  SHOP050              411          NaN    2399125    5837.287105\n",
       "121  SHOP061              699          NaN    2110800    3019.742489\n",
       "122  SHOP056              597          NaN    3023805    5065.000000\n",
       "123  SHOP070              676          NaN    1325070    1960.162722\n",
       "\n",
       "[124 rows x 5 columns]"
      ]
     },
     "execution_count": 6,
     "metadata": {},
     "output_type": "execute_result"
    }
   ],
   "source": [
    "# Compute the total volume of transactions for each store_id in the dataset dataframe\n",
    "total_vol_by_store = transactions.groupby('shop_id').apply(lambda x: (x['item_price'] * x['quantity_sold']).sum())\n",
    "\n",
    "total_vol_by_store = total_vol_by_store.rename('total_vol')\n",
    "\n",
    "# Merge the total_vol_by_store series with the storedata dataframe on the 'store_id' column\n",
    "storedata = pd.merge(storedata, total_vol_by_store, on='shop_id', how='left')\n",
    "storedata[\"vol_per_sq_ft\"] = storedata[\"total_vol\"] / storedata[\"shop_area_sq_ft\"]\n",
    "storedata"
   ]
  },
  {
   "cell_type": "markdown",
   "id": "7d8374d9",
   "metadata": {
    "papermill": {
     "duration": 0.0157,
     "end_time": "2023-04-27T05:22:36.580179",
     "exception": false,
     "start_time": "2023-04-27T05:22:36.564479",
     "status": "completed"
    },
    "tags": []
   },
   "source": [
    "## Adding total_customers"
   ]
  },
  {
   "cell_type": "code",
   "execution_count": 7,
   "id": "948e24b4",
   "metadata": {
    "execution": {
     "iopub.execute_input": "2023-04-27T05:22:36.613841Z",
     "iopub.status.busy": "2023-04-27T05:22:36.612762Z",
     "iopub.status.idle": "2023-04-27T05:22:36.890486Z",
     "shell.execute_reply": "2023-04-27T05:22:36.889161Z"
    },
    "papermill": {
     "duration": 0.297974,
     "end_time": "2023-04-27T05:22:36.893587",
     "exception": false,
     "start_time": "2023-04-27T05:22:36.595613",
     "status": "completed"
    },
    "tags": []
   },
   "outputs": [],
   "source": [
    "# group the transactions dataframe by shop_id and count the number of unique customer_ids\n",
    "unique_customers = transactions.groupby('shop_id')['customer_id'].nunique()\n",
    "\n",
    "# add a new column to the storedata dataframe with the counts of unique customers\n",
    "storedata['total_customers'] = storedata['shop_id'].map(unique_customers)"
   ]
  },
  {
   "cell_type": "code",
   "execution_count": 8,
   "id": "da4dca3e",
   "metadata": {
    "execution": {
     "iopub.execute_input": "2023-04-27T05:22:36.926795Z",
     "iopub.status.busy": "2023-04-27T05:22:36.925808Z",
     "iopub.status.idle": "2023-04-27T05:22:36.944573Z",
     "shell.execute_reply": "2023-04-27T05:22:36.943090Z"
    },
    "papermill": {
     "duration": 0.038669,
     "end_time": "2023-04-27T05:22:36.947517",
     "exception": false,
     "start_time": "2023-04-27T05:22:36.908848",
     "status": "completed"
    },
    "tags": []
   },
   "outputs": [
    {
     "data": {
      "text/html": [
       "<div>\n",
       "<style scoped>\n",
       "    .dataframe tbody tr th:only-of-type {\n",
       "        vertical-align: middle;\n",
       "    }\n",
       "\n",
       "    .dataframe tbody tr th {\n",
       "        vertical-align: top;\n",
       "    }\n",
       "\n",
       "    .dataframe thead th {\n",
       "        text-align: right;\n",
       "    }\n",
       "</style>\n",
       "<table border=\"1\" class=\"dataframe\">\n",
       "  <thead>\n",
       "    <tr style=\"text-align: right;\">\n",
       "      <th></th>\n",
       "      <th>shop_id</th>\n",
       "      <th>shop_area_sq_ft</th>\n",
       "      <th>shop_profile</th>\n",
       "      <th>total_vol</th>\n",
       "      <th>vol_per_sq_ft</th>\n",
       "      <th>total_customers</th>\n",
       "    </tr>\n",
       "  </thead>\n",
       "  <tbody>\n",
       "    <tr>\n",
       "      <th>0</th>\n",
       "      <td>SHOP047</td>\n",
       "      <td>528</td>\n",
       "      <td>Moderate</td>\n",
       "      <td>842960</td>\n",
       "      <td>1596.515152</td>\n",
       "      <td>928</td>\n",
       "    </tr>\n",
       "    <tr>\n",
       "      <th>1</th>\n",
       "      <td>SHOP009</td>\n",
       "      <td>676</td>\n",
       "      <td>High</td>\n",
       "      <td>1970870</td>\n",
       "      <td>2915.488166</td>\n",
       "      <td>2498</td>\n",
       "    </tr>\n",
       "    <tr>\n",
       "      <th>2</th>\n",
       "      <td>SHOP083</td>\n",
       "      <td>676</td>\n",
       "      <td>Low</td>\n",
       "      <td>1691985</td>\n",
       "      <td>2502.936391</td>\n",
       "      <td>1900</td>\n",
       "    </tr>\n",
       "    <tr>\n",
       "      <th>3</th>\n",
       "      <td>SHOP117</td>\n",
       "      <td>676</td>\n",
       "      <td>Low</td>\n",
       "      <td>2325980</td>\n",
       "      <td>3440.798817</td>\n",
       "      <td>2037</td>\n",
       "    </tr>\n",
       "    <tr>\n",
       "      <th>4</th>\n",
       "      <td>SHOP042</td>\n",
       "      <td>676</td>\n",
       "      <td>Low</td>\n",
       "      <td>1340215</td>\n",
       "      <td>1982.566568</td>\n",
       "      <td>1841</td>\n",
       "    </tr>\n",
       "    <tr>\n",
       "      <th>...</th>\n",
       "      <td>...</td>\n",
       "      <td>...</td>\n",
       "      <td>...</td>\n",
       "      <td>...</td>\n",
       "      <td>...</td>\n",
       "      <td>...</td>\n",
       "    </tr>\n",
       "    <tr>\n",
       "      <th>119</th>\n",
       "      <td>SHOP087</td>\n",
       "      <td>527</td>\n",
       "      <td>NaN</td>\n",
       "      <td>1128935</td>\n",
       "      <td>2142.191651</td>\n",
       "      <td>1083</td>\n",
       "    </tr>\n",
       "    <tr>\n",
       "      <th>120</th>\n",
       "      <td>SHOP050</td>\n",
       "      <td>411</td>\n",
       "      <td>NaN</td>\n",
       "      <td>2399125</td>\n",
       "      <td>5837.287105</td>\n",
       "      <td>1778</td>\n",
       "    </tr>\n",
       "    <tr>\n",
       "      <th>121</th>\n",
       "      <td>SHOP061</td>\n",
       "      <td>699</td>\n",
       "      <td>NaN</td>\n",
       "      <td>2110800</td>\n",
       "      <td>3019.742489</td>\n",
       "      <td>1746</td>\n",
       "    </tr>\n",
       "    <tr>\n",
       "      <th>122</th>\n",
       "      <td>SHOP056</td>\n",
       "      <td>597</td>\n",
       "      <td>NaN</td>\n",
       "      <td>3023805</td>\n",
       "      <td>5065.000000</td>\n",
       "      <td>2832</td>\n",
       "    </tr>\n",
       "    <tr>\n",
       "      <th>123</th>\n",
       "      <td>SHOP070</td>\n",
       "      <td>676</td>\n",
       "      <td>NaN</td>\n",
       "      <td>1325070</td>\n",
       "      <td>1960.162722</td>\n",
       "      <td>1423</td>\n",
       "    </tr>\n",
       "  </tbody>\n",
       "</table>\n",
       "<p>124 rows × 6 columns</p>\n",
       "</div>"
      ],
      "text/plain": [
       "     shop_id  shop_area_sq_ft shop_profile  total_vol  vol_per_sq_ft  \\\n",
       "0    SHOP047              528     Moderate     842960    1596.515152   \n",
       "1    SHOP009              676         High    1970870    2915.488166   \n",
       "2    SHOP083              676          Low    1691985    2502.936391   \n",
       "3    SHOP117              676          Low    2325980    3440.798817   \n",
       "4    SHOP042              676          Low    1340215    1982.566568   \n",
       "..       ...              ...          ...        ...            ...   \n",
       "119  SHOP087              527          NaN    1128935    2142.191651   \n",
       "120  SHOP050              411          NaN    2399125    5837.287105   \n",
       "121  SHOP061              699          NaN    2110800    3019.742489   \n",
       "122  SHOP056              597          NaN    3023805    5065.000000   \n",
       "123  SHOP070              676          NaN    1325070    1960.162722   \n",
       "\n",
       "     total_customers  \n",
       "0                928  \n",
       "1               2498  \n",
       "2               1900  \n",
       "3               2037  \n",
       "4               1841  \n",
       "..               ...  \n",
       "119             1083  \n",
       "120             1778  \n",
       "121             1746  \n",
       "122             2832  \n",
       "123             1423  \n",
       "\n",
       "[124 rows x 6 columns]"
      ]
     },
     "execution_count": 8,
     "metadata": {},
     "output_type": "execute_result"
    }
   ],
   "source": [
    "storedata"
   ]
  },
  {
   "cell_type": "markdown",
   "id": "82da7154",
   "metadata": {
    "papermill": {
     "duration": 0.01761,
     "end_time": "2023-04-27T05:22:36.984093",
     "exception": false,
     "start_time": "2023-04-27T05:22:36.966483",
     "status": "completed"
    },
    "tags": []
   },
   "source": [
    "## Adding total_unique_items"
   ]
  },
  {
   "cell_type": "code",
   "execution_count": 9,
   "id": "831ee7c2",
   "metadata": {
    "execution": {
     "iopub.execute_input": "2023-04-27T05:22:37.020691Z",
     "iopub.status.busy": "2023-04-27T05:22:37.019317Z",
     "iopub.status.idle": "2023-04-27T05:22:37.210944Z",
     "shell.execute_reply": "2023-04-27T05:22:37.209553Z"
    },
    "papermill": {
     "duration": 0.212651,
     "end_time": "2023-04-27T05:22:37.214510",
     "exception": false,
     "start_time": "2023-04-27T05:22:37.001859",
     "status": "completed"
    },
    "tags": []
   },
   "outputs": [],
   "source": [
    "# group the transactions dataframe by shop_id and count the number of unique item_descriptions\n",
    "unique_items = transactions.groupby('shop_id')['item_description'].nunique()\n",
    "\n",
    "# add a new column to the storedata dataframe with the counts of unique items\n",
    "storedata['total_unique_items'] = storedata['shop_id'].map(unique_items)"
   ]
  },
  {
   "cell_type": "markdown",
   "id": "39329024",
   "metadata": {
    "papermill": {
     "duration": 0.015145,
     "end_time": "2023-04-27T05:22:37.245192",
     "exception": false,
     "start_time": "2023-04-27T05:22:37.230047",
     "status": "completed"
    },
    "tags": []
   },
   "source": [
    "## Adding single_day_max_vol"
   ]
  },
  {
   "cell_type": "code",
   "execution_count": 10,
   "id": "c91a6b8a",
   "metadata": {
    "execution": {
     "iopub.execute_input": "2023-04-27T05:22:37.280486Z",
     "iopub.status.busy": "2023-04-27T05:22:37.279491Z",
     "iopub.status.idle": "2023-04-27T05:22:37.427412Z",
     "shell.execute_reply": "2023-04-27T05:22:37.425944Z"
    },
    "papermill": {
     "duration": 0.169618,
     "end_time": "2023-04-27T05:22:37.431030",
     "exception": false,
     "start_time": "2023-04-27T05:22:37.261412",
     "status": "completed"
    },
    "tags": []
   },
   "outputs": [],
   "source": [
    "transactions['single_day_max_vol'] = transactions['item_price'] * transactions['quantity_sold']\n",
    "total_volume_per_day = transactions.groupby(['shop_id', 'transaction_date'])['single_day_max_vol'].sum().reset_index()\n",
    "highest_volume_per_shop = total_volume_per_day.groupby('shop_id')['single_day_max_vol'].max().reset_index()\n",
    "\n",
    "storedata = pd.merge(storedata, highest_volume_per_shop, on='shop_id')"
   ]
  },
  {
   "cell_type": "markdown",
   "id": "e739b51f",
   "metadata": {
    "papermill": {
     "duration": 0.015181,
     "end_time": "2023-04-27T05:22:37.463368",
     "exception": false,
     "start_time": "2023-04-27T05:22:37.448187",
     "status": "completed"
    },
    "tags": []
   },
   "source": [
    "## Adding single_day_min_vol"
   ]
  },
  {
   "cell_type": "code",
   "execution_count": 11,
   "id": "7307f779",
   "metadata": {
    "execution": {
     "iopub.execute_input": "2023-04-27T05:22:37.498390Z",
     "iopub.status.busy": "2023-04-27T05:22:37.497920Z",
     "iopub.status.idle": "2023-04-27T05:22:37.658329Z",
     "shell.execute_reply": "2023-04-27T05:22:37.656736Z"
    },
    "papermill": {
     "duration": 0.181272,
     "end_time": "2023-04-27T05:22:37.661317",
     "exception": false,
     "start_time": "2023-04-27T05:22:37.480045",
     "status": "completed"
    },
    "tags": []
   },
   "outputs": [],
   "source": [
    "transactions['single_day_min_vol'] = transactions['item_price'] * transactions['quantity_sold']\n",
    "total_volume_per_day = transactions.groupby(['shop_id', 'transaction_date'])['single_day_min_vol'].sum().reset_index()\n",
    "highest_volume_per_shop = total_volume_per_day.groupby('shop_id')['single_day_min_vol'].min().reset_index()\n",
    "\n",
    "storedata = pd.merge(storedata, highest_volume_per_shop, on='shop_id')"
   ]
  },
  {
   "cell_type": "code",
   "execution_count": 12,
   "id": "526f2d43",
   "metadata": {
    "execution": {
     "iopub.execute_input": "2023-04-27T05:22:37.696335Z",
     "iopub.status.busy": "2023-04-27T05:22:37.695863Z",
     "iopub.status.idle": "2023-04-27T05:22:37.717577Z",
     "shell.execute_reply": "2023-04-27T05:22:37.716181Z"
    },
    "papermill": {
     "duration": 0.04277,
     "end_time": "2023-04-27T05:22:37.720528",
     "exception": false,
     "start_time": "2023-04-27T05:22:37.677758",
     "status": "completed"
    },
    "tags": []
   },
   "outputs": [
    {
     "data": {
      "text/html": [
       "<div>\n",
       "<style scoped>\n",
       "    .dataframe tbody tr th:only-of-type {\n",
       "        vertical-align: middle;\n",
       "    }\n",
       "\n",
       "    .dataframe tbody tr th {\n",
       "        vertical-align: top;\n",
       "    }\n",
       "\n",
       "    .dataframe thead th {\n",
       "        text-align: right;\n",
       "    }\n",
       "</style>\n",
       "<table border=\"1\" class=\"dataframe\">\n",
       "  <thead>\n",
       "    <tr style=\"text-align: right;\">\n",
       "      <th></th>\n",
       "      <th>shop_id</th>\n",
       "      <th>shop_area_sq_ft</th>\n",
       "      <th>shop_profile</th>\n",
       "      <th>total_vol</th>\n",
       "      <th>vol_per_sq_ft</th>\n",
       "      <th>total_customers</th>\n",
       "      <th>total_unique_items</th>\n",
       "      <th>single_day_max_vol</th>\n",
       "      <th>single_day_min_vol</th>\n",
       "    </tr>\n",
       "  </thead>\n",
       "  <tbody>\n",
       "    <tr>\n",
       "      <th>0</th>\n",
       "      <td>SHOP047</td>\n",
       "      <td>528</td>\n",
       "      <td>Moderate</td>\n",
       "      <td>842960</td>\n",
       "      <td>1596.515152</td>\n",
       "      <td>928</td>\n",
       "      <td>35</td>\n",
       "      <td>71305</td>\n",
       "      <td>2020</td>\n",
       "    </tr>\n",
       "    <tr>\n",
       "      <th>1</th>\n",
       "      <td>SHOP009</td>\n",
       "      <td>676</td>\n",
       "      <td>High</td>\n",
       "      <td>1970870</td>\n",
       "      <td>2915.488166</td>\n",
       "      <td>2498</td>\n",
       "      <td>35</td>\n",
       "      <td>85750</td>\n",
       "      <td>9230</td>\n",
       "    </tr>\n",
       "    <tr>\n",
       "      <th>2</th>\n",
       "      <td>SHOP083</td>\n",
       "      <td>676</td>\n",
       "      <td>Low</td>\n",
       "      <td>1691985</td>\n",
       "      <td>2502.936391</td>\n",
       "      <td>1900</td>\n",
       "      <td>36</td>\n",
       "      <td>70610</td>\n",
       "      <td>8225</td>\n",
       "    </tr>\n",
       "    <tr>\n",
       "      <th>3</th>\n",
       "      <td>SHOP117</td>\n",
       "      <td>676</td>\n",
       "      <td>Low</td>\n",
       "      <td>2325980</td>\n",
       "      <td>3440.798817</td>\n",
       "      <td>2037</td>\n",
       "      <td>35</td>\n",
       "      <td>82170</td>\n",
       "      <td>6390</td>\n",
       "    </tr>\n",
       "    <tr>\n",
       "      <th>4</th>\n",
       "      <td>SHOP042</td>\n",
       "      <td>676</td>\n",
       "      <td>Low</td>\n",
       "      <td>1340215</td>\n",
       "      <td>1982.566568</td>\n",
       "      <td>1841</td>\n",
       "      <td>35</td>\n",
       "      <td>69185</td>\n",
       "      <td>5265</td>\n",
       "    </tr>\n",
       "    <tr>\n",
       "      <th>...</th>\n",
       "      <td>...</td>\n",
       "      <td>...</td>\n",
       "      <td>...</td>\n",
       "      <td>...</td>\n",
       "      <td>...</td>\n",
       "      <td>...</td>\n",
       "      <td>...</td>\n",
       "      <td>...</td>\n",
       "      <td>...</td>\n",
       "    </tr>\n",
       "    <tr>\n",
       "      <th>119</th>\n",
       "      <td>SHOP087</td>\n",
       "      <td>527</td>\n",
       "      <td>NaN</td>\n",
       "      <td>1128935</td>\n",
       "      <td>2142.191651</td>\n",
       "      <td>1083</td>\n",
       "      <td>35</td>\n",
       "      <td>119750</td>\n",
       "      <td>2160</td>\n",
       "    </tr>\n",
       "    <tr>\n",
       "      <th>120</th>\n",
       "      <td>SHOP050</td>\n",
       "      <td>411</td>\n",
       "      <td>NaN</td>\n",
       "      <td>2399125</td>\n",
       "      <td>5837.287105</td>\n",
       "      <td>1778</td>\n",
       "      <td>31</td>\n",
       "      <td>157410</td>\n",
       "      <td>8015</td>\n",
       "    </tr>\n",
       "    <tr>\n",
       "      <th>121</th>\n",
       "      <td>SHOP061</td>\n",
       "      <td>699</td>\n",
       "      <td>NaN</td>\n",
       "      <td>2110800</td>\n",
       "      <td>3019.742489</td>\n",
       "      <td>1746</td>\n",
       "      <td>35</td>\n",
       "      <td>475215</td>\n",
       "      <td>6495</td>\n",
       "    </tr>\n",
       "    <tr>\n",
       "      <th>122</th>\n",
       "      <td>SHOP056</td>\n",
       "      <td>597</td>\n",
       "      <td>NaN</td>\n",
       "      <td>3023805</td>\n",
       "      <td>5065.000000</td>\n",
       "      <td>2832</td>\n",
       "      <td>35</td>\n",
       "      <td>162465</td>\n",
       "      <td>16780</td>\n",
       "    </tr>\n",
       "    <tr>\n",
       "      <th>123</th>\n",
       "      <td>SHOP070</td>\n",
       "      <td>676</td>\n",
       "      <td>NaN</td>\n",
       "      <td>1325070</td>\n",
       "      <td>1960.162722</td>\n",
       "      <td>1423</td>\n",
       "      <td>36</td>\n",
       "      <td>84500</td>\n",
       "      <td>5495</td>\n",
       "    </tr>\n",
       "  </tbody>\n",
       "</table>\n",
       "<p>124 rows × 9 columns</p>\n",
       "</div>"
      ],
      "text/plain": [
       "     shop_id  shop_area_sq_ft shop_profile  total_vol  vol_per_sq_ft  \\\n",
       "0    SHOP047              528     Moderate     842960    1596.515152   \n",
       "1    SHOP009              676         High    1970870    2915.488166   \n",
       "2    SHOP083              676          Low    1691985    2502.936391   \n",
       "3    SHOP117              676          Low    2325980    3440.798817   \n",
       "4    SHOP042              676          Low    1340215    1982.566568   \n",
       "..       ...              ...          ...        ...            ...   \n",
       "119  SHOP087              527          NaN    1128935    2142.191651   \n",
       "120  SHOP050              411          NaN    2399125    5837.287105   \n",
       "121  SHOP061              699          NaN    2110800    3019.742489   \n",
       "122  SHOP056              597          NaN    3023805    5065.000000   \n",
       "123  SHOP070              676          NaN    1325070    1960.162722   \n",
       "\n",
       "     total_customers  total_unique_items  single_day_max_vol  \\\n",
       "0                928                  35               71305   \n",
       "1               2498                  35               85750   \n",
       "2               1900                  36               70610   \n",
       "3               2037                  35               82170   \n",
       "4               1841                  35               69185   \n",
       "..               ...                 ...                 ...   \n",
       "119             1083                  35              119750   \n",
       "120             1778                  31              157410   \n",
       "121             1746                  35              475215   \n",
       "122             2832                  35              162465   \n",
       "123             1423                  36               84500   \n",
       "\n",
       "     single_day_min_vol  \n",
       "0                  2020  \n",
       "1                  9230  \n",
       "2                  8225  \n",
       "3                  6390  \n",
       "4                  5265  \n",
       "..                  ...  \n",
       "119                2160  \n",
       "120                8015  \n",
       "121                6495  \n",
       "122               16780  \n",
       "123                5495  \n",
       "\n",
       "[124 rows x 9 columns]"
      ]
     },
     "execution_count": 12,
     "metadata": {},
     "output_type": "execute_result"
    }
   ],
   "source": [
    "storedata"
   ]
  },
  {
   "cell_type": "markdown",
   "id": "038cb2b4",
   "metadata": {
    "papermill": {
     "duration": 0.016037,
     "end_time": "2023-04-27T05:22:37.752942",
     "exception": false,
     "start_time": "2023-04-27T05:22:37.736905",
     "status": "completed"
    },
    "tags": []
   },
   "source": [
    "## Adding n_transactions"
   ]
  },
  {
   "cell_type": "code",
   "execution_count": 13,
   "id": "6dae2eb6",
   "metadata": {
    "execution": {
     "iopub.execute_input": "2023-04-27T05:22:37.789342Z",
     "iopub.status.busy": "2023-04-27T05:22:37.788032Z",
     "iopub.status.idle": "2023-04-27T05:22:37.949319Z",
     "shell.execute_reply": "2023-04-27T05:22:37.947564Z"
    },
    "papermill": {
     "duration": 0.183522,
     "end_time": "2023-04-27T05:22:37.952864",
     "exception": false,
     "start_time": "2023-04-27T05:22:37.769342",
     "status": "completed"
    },
    "tags": []
   },
   "outputs": [],
   "source": [
    "# group transactions by shop_id and count the number of unique invoice_ids\n",
    "transaction_counts = transactions.groupby('shop_id')['invoice_id'].nunique()\n",
    "\n",
    "# add a new column to storedata with the transaction counts for each shop\n",
    "storedata['n_transactions'] = storedata['shop_id'].map(transaction_counts)"
   ]
  },
  {
   "cell_type": "code",
   "execution_count": 14,
   "id": "6027a1a7",
   "metadata": {
    "execution": {
     "iopub.execute_input": "2023-04-27T05:22:37.989978Z",
     "iopub.status.busy": "2023-04-27T05:22:37.989569Z",
     "iopub.status.idle": "2023-04-27T05:22:38.011289Z",
     "shell.execute_reply": "2023-04-27T05:22:38.010240Z"
    },
    "papermill": {
     "duration": 0.043369,
     "end_time": "2023-04-27T05:22:38.013883",
     "exception": false,
     "start_time": "2023-04-27T05:22:37.970514",
     "status": "completed"
    },
    "tags": []
   },
   "outputs": [
    {
     "data": {
      "text/html": [
       "<div>\n",
       "<style scoped>\n",
       "    .dataframe tbody tr th:only-of-type {\n",
       "        vertical-align: middle;\n",
       "    }\n",
       "\n",
       "    .dataframe tbody tr th {\n",
       "        vertical-align: top;\n",
       "    }\n",
       "\n",
       "    .dataframe thead th {\n",
       "        text-align: right;\n",
       "    }\n",
       "</style>\n",
       "<table border=\"1\" class=\"dataframe\">\n",
       "  <thead>\n",
       "    <tr style=\"text-align: right;\">\n",
       "      <th></th>\n",
       "      <th>shop_id</th>\n",
       "      <th>shop_area_sq_ft</th>\n",
       "      <th>shop_profile</th>\n",
       "      <th>total_vol</th>\n",
       "      <th>vol_per_sq_ft</th>\n",
       "      <th>total_customers</th>\n",
       "      <th>total_unique_items</th>\n",
       "      <th>single_day_max_vol</th>\n",
       "      <th>single_day_min_vol</th>\n",
       "      <th>n_transactions</th>\n",
       "    </tr>\n",
       "  </thead>\n",
       "  <tbody>\n",
       "    <tr>\n",
       "      <th>0</th>\n",
       "      <td>SHOP047</td>\n",
       "      <td>528</td>\n",
       "      <td>Moderate</td>\n",
       "      <td>842960</td>\n",
       "      <td>1596.515152</td>\n",
       "      <td>928</td>\n",
       "      <td>35</td>\n",
       "      <td>71305</td>\n",
       "      <td>2020</td>\n",
       "      <td>1302</td>\n",
       "    </tr>\n",
       "    <tr>\n",
       "      <th>1</th>\n",
       "      <td>SHOP009</td>\n",
       "      <td>676</td>\n",
       "      <td>High</td>\n",
       "      <td>1970870</td>\n",
       "      <td>2915.488166</td>\n",
       "      <td>2498</td>\n",
       "      <td>35</td>\n",
       "      <td>85750</td>\n",
       "      <td>9230</td>\n",
       "      <td>3493</td>\n",
       "    </tr>\n",
       "    <tr>\n",
       "      <th>2</th>\n",
       "      <td>SHOP083</td>\n",
       "      <td>676</td>\n",
       "      <td>Low</td>\n",
       "      <td>1691985</td>\n",
       "      <td>2502.936391</td>\n",
       "      <td>1900</td>\n",
       "      <td>36</td>\n",
       "      <td>70610</td>\n",
       "      <td>8225</td>\n",
       "      <td>2718</td>\n",
       "    </tr>\n",
       "    <tr>\n",
       "      <th>3</th>\n",
       "      <td>SHOP117</td>\n",
       "      <td>676</td>\n",
       "      <td>Low</td>\n",
       "      <td>2325980</td>\n",
       "      <td>3440.798817</td>\n",
       "      <td>2037</td>\n",
       "      <td>35</td>\n",
       "      <td>82170</td>\n",
       "      <td>6390</td>\n",
       "      <td>3158</td>\n",
       "    </tr>\n",
       "    <tr>\n",
       "      <th>4</th>\n",
       "      <td>SHOP042</td>\n",
       "      <td>676</td>\n",
       "      <td>Low</td>\n",
       "      <td>1340215</td>\n",
       "      <td>1982.566568</td>\n",
       "      <td>1841</td>\n",
       "      <td>35</td>\n",
       "      <td>69185</td>\n",
       "      <td>5265</td>\n",
       "      <td>2495</td>\n",
       "    </tr>\n",
       "    <tr>\n",
       "      <th>...</th>\n",
       "      <td>...</td>\n",
       "      <td>...</td>\n",
       "      <td>...</td>\n",
       "      <td>...</td>\n",
       "      <td>...</td>\n",
       "      <td>...</td>\n",
       "      <td>...</td>\n",
       "      <td>...</td>\n",
       "      <td>...</td>\n",
       "      <td>...</td>\n",
       "    </tr>\n",
       "    <tr>\n",
       "      <th>119</th>\n",
       "      <td>SHOP087</td>\n",
       "      <td>527</td>\n",
       "      <td>NaN</td>\n",
       "      <td>1128935</td>\n",
       "      <td>2142.191651</td>\n",
       "      <td>1083</td>\n",
       "      <td>35</td>\n",
       "      <td>119750</td>\n",
       "      <td>2160</td>\n",
       "      <td>1504</td>\n",
       "    </tr>\n",
       "    <tr>\n",
       "      <th>120</th>\n",
       "      <td>SHOP050</td>\n",
       "      <td>411</td>\n",
       "      <td>NaN</td>\n",
       "      <td>2399125</td>\n",
       "      <td>5837.287105</td>\n",
       "      <td>1778</td>\n",
       "      <td>31</td>\n",
       "      <td>157410</td>\n",
       "      <td>8015</td>\n",
       "      <td>3159</td>\n",
       "    </tr>\n",
       "    <tr>\n",
       "      <th>121</th>\n",
       "      <td>SHOP061</td>\n",
       "      <td>699</td>\n",
       "      <td>NaN</td>\n",
       "      <td>2110800</td>\n",
       "      <td>3019.742489</td>\n",
       "      <td>1746</td>\n",
       "      <td>35</td>\n",
       "      <td>475215</td>\n",
       "      <td>6495</td>\n",
       "      <td>2345</td>\n",
       "    </tr>\n",
       "    <tr>\n",
       "      <th>122</th>\n",
       "      <td>SHOP056</td>\n",
       "      <td>597</td>\n",
       "      <td>NaN</td>\n",
       "      <td>3023805</td>\n",
       "      <td>5065.000000</td>\n",
       "      <td>2832</td>\n",
       "      <td>35</td>\n",
       "      <td>162465</td>\n",
       "      <td>16780</td>\n",
       "      <td>4320</td>\n",
       "    </tr>\n",
       "    <tr>\n",
       "      <th>123</th>\n",
       "      <td>SHOP070</td>\n",
       "      <td>676</td>\n",
       "      <td>NaN</td>\n",
       "      <td>1325070</td>\n",
       "      <td>1960.162722</td>\n",
       "      <td>1423</td>\n",
       "      <td>36</td>\n",
       "      <td>84500</td>\n",
       "      <td>5495</td>\n",
       "      <td>2122</td>\n",
       "    </tr>\n",
       "  </tbody>\n",
       "</table>\n",
       "<p>124 rows × 10 columns</p>\n",
       "</div>"
      ],
      "text/plain": [
       "     shop_id  shop_area_sq_ft shop_profile  total_vol  vol_per_sq_ft  \\\n",
       "0    SHOP047              528     Moderate     842960    1596.515152   \n",
       "1    SHOP009              676         High    1970870    2915.488166   \n",
       "2    SHOP083              676          Low    1691985    2502.936391   \n",
       "3    SHOP117              676          Low    2325980    3440.798817   \n",
       "4    SHOP042              676          Low    1340215    1982.566568   \n",
       "..       ...              ...          ...        ...            ...   \n",
       "119  SHOP087              527          NaN    1128935    2142.191651   \n",
       "120  SHOP050              411          NaN    2399125    5837.287105   \n",
       "121  SHOP061              699          NaN    2110800    3019.742489   \n",
       "122  SHOP056              597          NaN    3023805    5065.000000   \n",
       "123  SHOP070              676          NaN    1325070    1960.162722   \n",
       "\n",
       "     total_customers  total_unique_items  single_day_max_vol  \\\n",
       "0                928                  35               71305   \n",
       "1               2498                  35               85750   \n",
       "2               1900                  36               70610   \n",
       "3               2037                  35               82170   \n",
       "4               1841                  35               69185   \n",
       "..               ...                 ...                 ...   \n",
       "119             1083                  35              119750   \n",
       "120             1778                  31              157410   \n",
       "121             1746                  35              475215   \n",
       "122             2832                  35              162465   \n",
       "123             1423                  36               84500   \n",
       "\n",
       "     single_day_min_vol  n_transactions  \n",
       "0                  2020            1302  \n",
       "1                  9230            3493  \n",
       "2                  8225            2718  \n",
       "3                  6390            3158  \n",
       "4                  5265            2495  \n",
       "..                  ...             ...  \n",
       "119                2160            1504  \n",
       "120                8015            3159  \n",
       "121                6495            2345  \n",
       "122               16780            4320  \n",
       "123                5495            2122  \n",
       "\n",
       "[124 rows x 10 columns]"
      ]
     },
     "execution_count": 14,
     "metadata": {},
     "output_type": "execute_result"
    }
   ],
   "source": [
    "storedata"
   ]
  },
  {
   "cell_type": "markdown",
   "id": "2dc6900d",
   "metadata": {
    "papermill": {
     "duration": 0.016489,
     "end_time": "2023-04-27T05:22:38.046699",
     "exception": false,
     "start_time": "2023-04-27T05:22:38.030210",
     "status": "completed"
    },
    "tags": []
   },
   "source": [
    "## Adding customer_id_repeating, customer_id_unique and customer_id_single"
   ]
  },
  {
   "cell_type": "code",
   "execution_count": 15,
   "id": "5a85c5e7",
   "metadata": {
    "execution": {
     "iopub.execute_input": "2023-04-27T05:22:38.083288Z",
     "iopub.status.busy": "2023-04-27T05:22:38.082591Z",
     "iopub.status.idle": "2023-04-27T05:22:39.460318Z",
     "shell.execute_reply": "2023-04-27T05:22:39.458887Z"
    },
    "papermill": {
     "duration": 1.399489,
     "end_time": "2023-04-27T05:22:39.463532",
     "exception": false,
     "start_time": "2023-04-27T05:22:38.064043",
     "status": "completed"
    },
    "tags": []
   },
   "outputs": [],
   "source": [
    "# Get a dataframe with the number of unique customers who visited each shop\n",
    "unique_visits = transactions.groupby(['shop_id'])['customer_id'].nunique()\n",
    "\n",
    "# Get a dataframe with the number of customers who visited each shop more than once\n",
    "repeat_customers = transactions.groupby(['shop_id', 'customer_id']).size().reset_index(name='counts')\n",
    "repeat_customers = repeat_customers[repeat_customers['counts'] > 1].groupby('shop_id')['customer_id'].nunique()\n",
    "\n",
    "# Get a dataframe with the number of customers who visited each shop only once\n",
    "single_visits = transactions.groupby(['shop_id'])['customer_id'].nunique() - repeat_customers\n",
    "single_visits = single_visits.reset_index()\n",
    "single_visits = single_visits.rename(columns={'customer_id': 'customer_id_single'})\n",
    "\n",
    "# Merge the three dataframes on shop_id and add new columns to storedata\n",
    "storedata = storedata.merge(unique_visits, on='shop_id')\n",
    "storedata = storedata.merge(repeat_customers, on='shop_id',suffixes=('_unique', '_repeating'))\n",
    "storedata = storedata.merge(single_visits, on='shop_id')\n",
    "\n"
   ]
  },
  {
   "cell_type": "code",
   "execution_count": 16,
   "id": "886dcbfb",
   "metadata": {
    "execution": {
     "iopub.execute_input": "2023-04-27T05:22:39.501203Z",
     "iopub.status.busy": "2023-04-27T05:22:39.500647Z",
     "iopub.status.idle": "2023-04-27T05:22:39.522881Z",
     "shell.execute_reply": "2023-04-27T05:22:39.521424Z"
    },
    "papermill": {
     "duration": 0.043997,
     "end_time": "2023-04-27T05:22:39.526465",
     "exception": false,
     "start_time": "2023-04-27T05:22:39.482468",
     "status": "completed"
    },
    "tags": []
   },
   "outputs": [
    {
     "data": {
      "text/html": [
       "<div>\n",
       "<style scoped>\n",
       "    .dataframe tbody tr th:only-of-type {\n",
       "        vertical-align: middle;\n",
       "    }\n",
       "\n",
       "    .dataframe tbody tr th {\n",
       "        vertical-align: top;\n",
       "    }\n",
       "\n",
       "    .dataframe thead th {\n",
       "        text-align: right;\n",
       "    }\n",
       "</style>\n",
       "<table border=\"1\" class=\"dataframe\">\n",
       "  <thead>\n",
       "    <tr style=\"text-align: right;\">\n",
       "      <th></th>\n",
       "      <th>shop_id</th>\n",
       "      <th>shop_area_sq_ft</th>\n",
       "      <th>shop_profile</th>\n",
       "      <th>total_vol</th>\n",
       "      <th>vol_per_sq_ft</th>\n",
       "      <th>total_customers</th>\n",
       "      <th>total_unique_items</th>\n",
       "      <th>single_day_max_vol</th>\n",
       "      <th>single_day_min_vol</th>\n",
       "      <th>n_transactions</th>\n",
       "      <th>customer_id_unique</th>\n",
       "      <th>customer_id_repeating</th>\n",
       "      <th>customer_id_single</th>\n",
       "    </tr>\n",
       "  </thead>\n",
       "  <tbody>\n",
       "    <tr>\n",
       "      <th>0</th>\n",
       "      <td>SHOP047</td>\n",
       "      <td>528</td>\n",
       "      <td>Moderate</td>\n",
       "      <td>842960</td>\n",
       "      <td>1596.515152</td>\n",
       "      <td>928</td>\n",
       "      <td>35</td>\n",
       "      <td>71305</td>\n",
       "      <td>2020</td>\n",
       "      <td>1302</td>\n",
       "      <td>928</td>\n",
       "      <td>319</td>\n",
       "      <td>609</td>\n",
       "    </tr>\n",
       "    <tr>\n",
       "      <th>1</th>\n",
       "      <td>SHOP009</td>\n",
       "      <td>676</td>\n",
       "      <td>High</td>\n",
       "      <td>1970870</td>\n",
       "      <td>2915.488166</td>\n",
       "      <td>2498</td>\n",
       "      <td>35</td>\n",
       "      <td>85750</td>\n",
       "      <td>9230</td>\n",
       "      <td>3493</td>\n",
       "      <td>2498</td>\n",
       "      <td>902</td>\n",
       "      <td>1596</td>\n",
       "    </tr>\n",
       "    <tr>\n",
       "      <th>2</th>\n",
       "      <td>SHOP083</td>\n",
       "      <td>676</td>\n",
       "      <td>Low</td>\n",
       "      <td>1691985</td>\n",
       "      <td>2502.936391</td>\n",
       "      <td>1900</td>\n",
       "      <td>36</td>\n",
       "      <td>70610</td>\n",
       "      <td>8225</td>\n",
       "      <td>2718</td>\n",
       "      <td>1900</td>\n",
       "      <td>700</td>\n",
       "      <td>1200</td>\n",
       "    </tr>\n",
       "    <tr>\n",
       "      <th>3</th>\n",
       "      <td>SHOP117</td>\n",
       "      <td>676</td>\n",
       "      <td>Low</td>\n",
       "      <td>2325980</td>\n",
       "      <td>3440.798817</td>\n",
       "      <td>2037</td>\n",
       "      <td>35</td>\n",
       "      <td>82170</td>\n",
       "      <td>6390</td>\n",
       "      <td>3158</td>\n",
       "      <td>2037</td>\n",
       "      <td>841</td>\n",
       "      <td>1196</td>\n",
       "    </tr>\n",
       "    <tr>\n",
       "      <th>4</th>\n",
       "      <td>SHOP042</td>\n",
       "      <td>676</td>\n",
       "      <td>Low</td>\n",
       "      <td>1340215</td>\n",
       "      <td>1982.566568</td>\n",
       "      <td>1841</td>\n",
       "      <td>35</td>\n",
       "      <td>69185</td>\n",
       "      <td>5265</td>\n",
       "      <td>2495</td>\n",
       "      <td>1841</td>\n",
       "      <td>594</td>\n",
       "      <td>1247</td>\n",
       "    </tr>\n",
       "    <tr>\n",
       "      <th>...</th>\n",
       "      <td>...</td>\n",
       "      <td>...</td>\n",
       "      <td>...</td>\n",
       "      <td>...</td>\n",
       "      <td>...</td>\n",
       "      <td>...</td>\n",
       "      <td>...</td>\n",
       "      <td>...</td>\n",
       "      <td>...</td>\n",
       "      <td>...</td>\n",
       "      <td>...</td>\n",
       "      <td>...</td>\n",
       "      <td>...</td>\n",
       "    </tr>\n",
       "    <tr>\n",
       "      <th>119</th>\n",
       "      <td>SHOP087</td>\n",
       "      <td>527</td>\n",
       "      <td>NaN</td>\n",
       "      <td>1128935</td>\n",
       "      <td>2142.191651</td>\n",
       "      <td>1083</td>\n",
       "      <td>35</td>\n",
       "      <td>119750</td>\n",
       "      <td>2160</td>\n",
       "      <td>1504</td>\n",
       "      <td>1083</td>\n",
       "      <td>405</td>\n",
       "      <td>678</td>\n",
       "    </tr>\n",
       "    <tr>\n",
       "      <th>120</th>\n",
       "      <td>SHOP050</td>\n",
       "      <td>411</td>\n",
       "      <td>NaN</td>\n",
       "      <td>2399125</td>\n",
       "      <td>5837.287105</td>\n",
       "      <td>1778</td>\n",
       "      <td>31</td>\n",
       "      <td>157410</td>\n",
       "      <td>8015</td>\n",
       "      <td>3159</td>\n",
       "      <td>1778</td>\n",
       "      <td>822</td>\n",
       "      <td>956</td>\n",
       "    </tr>\n",
       "    <tr>\n",
       "      <th>121</th>\n",
       "      <td>SHOP061</td>\n",
       "      <td>699</td>\n",
       "      <td>NaN</td>\n",
       "      <td>2110800</td>\n",
       "      <td>3019.742489</td>\n",
       "      <td>1746</td>\n",
       "      <td>35</td>\n",
       "      <td>475215</td>\n",
       "      <td>6495</td>\n",
       "      <td>2345</td>\n",
       "      <td>1746</td>\n",
       "      <td>641</td>\n",
       "      <td>1105</td>\n",
       "    </tr>\n",
       "    <tr>\n",
       "      <th>122</th>\n",
       "      <td>SHOP056</td>\n",
       "      <td>597</td>\n",
       "      <td>NaN</td>\n",
       "      <td>3023805</td>\n",
       "      <td>5065.000000</td>\n",
       "      <td>2832</td>\n",
       "      <td>35</td>\n",
       "      <td>162465</td>\n",
       "      <td>16780</td>\n",
       "      <td>4320</td>\n",
       "      <td>2832</td>\n",
       "      <td>1125</td>\n",
       "      <td>1707</td>\n",
       "    </tr>\n",
       "    <tr>\n",
       "      <th>123</th>\n",
       "      <td>SHOP070</td>\n",
       "      <td>676</td>\n",
       "      <td>NaN</td>\n",
       "      <td>1325070</td>\n",
       "      <td>1960.162722</td>\n",
       "      <td>1423</td>\n",
       "      <td>36</td>\n",
       "      <td>84500</td>\n",
       "      <td>5495</td>\n",
       "      <td>2122</td>\n",
       "      <td>1423</td>\n",
       "      <td>563</td>\n",
       "      <td>860</td>\n",
       "    </tr>\n",
       "  </tbody>\n",
       "</table>\n",
       "<p>124 rows × 13 columns</p>\n",
       "</div>"
      ],
      "text/plain": [
       "     shop_id  shop_area_sq_ft shop_profile  total_vol  vol_per_sq_ft  \\\n",
       "0    SHOP047              528     Moderate     842960    1596.515152   \n",
       "1    SHOP009              676         High    1970870    2915.488166   \n",
       "2    SHOP083              676          Low    1691985    2502.936391   \n",
       "3    SHOP117              676          Low    2325980    3440.798817   \n",
       "4    SHOP042              676          Low    1340215    1982.566568   \n",
       "..       ...              ...          ...        ...            ...   \n",
       "119  SHOP087              527          NaN    1128935    2142.191651   \n",
       "120  SHOP050              411          NaN    2399125    5837.287105   \n",
       "121  SHOP061              699          NaN    2110800    3019.742489   \n",
       "122  SHOP056              597          NaN    3023805    5065.000000   \n",
       "123  SHOP070              676          NaN    1325070    1960.162722   \n",
       "\n",
       "     total_customers  total_unique_items  single_day_max_vol  \\\n",
       "0                928                  35               71305   \n",
       "1               2498                  35               85750   \n",
       "2               1900                  36               70610   \n",
       "3               2037                  35               82170   \n",
       "4               1841                  35               69185   \n",
       "..               ...                 ...                 ...   \n",
       "119             1083                  35              119750   \n",
       "120             1778                  31              157410   \n",
       "121             1746                  35              475215   \n",
       "122             2832                  35              162465   \n",
       "123             1423                  36               84500   \n",
       "\n",
       "     single_day_min_vol  n_transactions  customer_id_unique  \\\n",
       "0                  2020            1302                 928   \n",
       "1                  9230            3493                2498   \n",
       "2                  8225            2718                1900   \n",
       "3                  6390            3158                2037   \n",
       "4                  5265            2495                1841   \n",
       "..                  ...             ...                 ...   \n",
       "119                2160            1504                1083   \n",
       "120                8015            3159                1778   \n",
       "121                6495            2345                1746   \n",
       "122               16780            4320                2832   \n",
       "123                5495            2122                1423   \n",
       "\n",
       "     customer_id_repeating  customer_id_single  \n",
       "0                      319                 609  \n",
       "1                      902                1596  \n",
       "2                      700                1200  \n",
       "3                      841                1196  \n",
       "4                      594                1247  \n",
       "..                     ...                 ...  \n",
       "119                    405                 678  \n",
       "120                    822                 956  \n",
       "121                    641                1105  \n",
       "122                   1125                1707  \n",
       "123                    563                 860  \n",
       "\n",
       "[124 rows x 13 columns]"
      ]
     },
     "execution_count": 16,
     "metadata": {},
     "output_type": "execute_result"
    }
   ],
   "source": [
    "storedata"
   ]
  },
  {
   "cell_type": "markdown",
   "id": "d6e61383",
   "metadata": {
    "papermill": {
     "duration": 0.016347,
     "end_time": "2023-04-27T05:22:39.559387",
     "exception": false,
     "start_time": "2023-04-27T05:22:39.543040",
     "status": "completed"
    },
    "tags": []
   },
   "source": [
    "## Checking Correlation"
   ]
  },
  {
   "cell_type": "code",
   "execution_count": 17,
   "id": "7d29073f",
   "metadata": {
    "execution": {
     "iopub.execute_input": "2023-04-27T05:22:39.595702Z",
     "iopub.status.busy": "2023-04-27T05:22:39.595250Z",
     "iopub.status.idle": "2023-04-27T05:22:40.678999Z",
     "shell.execute_reply": "2023-04-27T05:22:40.677517Z"
    },
    "papermill": {
     "duration": 1.106221,
     "end_time": "2023-04-27T05:22:40.683076",
     "exception": false,
     "start_time": "2023-04-27T05:22:39.576855",
     "status": "completed"
    },
    "tags": []
   },
   "outputs": [
    {
     "data": {
      "text/plain": [
       "<AxesSubplot:>"
      ]
     },
     "execution_count": 17,
     "metadata": {},
     "output_type": "execute_result"
    },
    {
     "data": {
      "image/png": "[encoded data removed]",
      "text/plain": [
       "<Figure size 640x480 with 2 Axes>"
      ]
     },
     "metadata": {},
     "output_type": "display_data"
    }
   ],
   "source": [
    "# create a correlation matrix\n",
    "corr_matrix = storedata.corr()\n",
    "\n",
    "# create a heatmap of the correlation matrix\n",
    "sns.heatmap(corr_matrix, cmap=\"coolwarm\", annot=True)"
   ]
  },
  {
   "cell_type": "code",
   "execution_count": 18,
   "id": "de11b346",
   "metadata": {
    "execution": {
     "iopub.execute_input": "2023-04-27T05:22:40.724766Z",
     "iopub.status.busy": "2023-04-27T05:22:40.724330Z",
     "iopub.status.idle": "2023-04-27T05:22:40.733238Z",
     "shell.execute_reply": "2023-04-27T05:22:40.731714Z"
    },
    "papermill": {
     "duration": 0.032783,
     "end_time": "2023-04-27T05:22:40.736162",
     "exception": false,
     "start_time": "2023-04-27T05:22:40.703379",
     "status": "completed"
    },
    "tags": []
   },
   "outputs": [
    {
     "data": {
      "text/plain": [
       "Index(['shop_id', 'shop_area_sq_ft', 'shop_profile', 'total_vol',\n",
       "       'vol_per_sq_ft', 'total_customers', 'total_unique_items',\n",
       "       'single_day_max_vol', 'single_day_min_vol', 'n_transactions',\n",
       "       'customer_id_unique', 'customer_id_repeating', 'customer_id_single'],\n",
       "      dtype='object')"
      ]
     },
     "execution_count": 18,
     "metadata": {},
     "output_type": "execute_result"
    }
   ],
   "source": [
    "storedata.columns"
   ]
  },
  {
   "cell_type": "markdown",
   "id": "8c04e074",
   "metadata": {
    "papermill": {
     "duration": 0.018512,
     "end_time": "2023-04-27T05:22:40.773856",
     "exception": false,
     "start_time": "2023-04-27T05:22:40.755344",
     "status": "completed"
    },
    "tags": []
   },
   "source": [
    "## Selected Features\n"
   ]
  },
  {
   "cell_type": "code",
   "execution_count": 19,
   "id": "07ad85c4",
   "metadata": {
    "execution": {
     "iopub.execute_input": "2023-04-27T05:22:40.814983Z",
     "iopub.status.busy": "2023-04-27T05:22:40.814564Z",
     "iopub.status.idle": "2023-04-27T05:22:40.825391Z",
     "shell.execute_reply": "2023-04-27T05:22:40.824347Z"
    },
    "papermill": {
     "duration": 0.034697,
     "end_time": "2023-04-27T05:22:40.827949",
     "exception": false,
     "start_time": "2023-04-27T05:22:40.793252",
     "status": "completed"
    },
    "tags": []
   },
   "outputs": [],
   "source": [
    "all = ['shop_area_sq_ft', 'total_vol',\n",
    "       'vol_per_sq_ft', 'total_customers', 'total_unique_items',\n",
    "       'single_day_max_vol', 'single_day_min_vol', 'n_transactions',\n",
    "       'customer_id_unique', 'customer_id_repeating', 'customer_id_single']\n",
    "\n",
    "keep_all =  []\n",
    "\n",
    "Two_best_MI = ['shop_area_sq_ft', 'total_vol',\n",
    "       'vol_per_sq_ft', 'total_customers', 'total_unique_items',\n",
    "       'single_day_max_vol', 'n_transactions',\n",
    "       'customer_id_unique', 'customer_id_repeating']\n",
    "\n",
    "Two_best_MI_and_area = ['total_vol',\n",
    "       'vol_per_sq_ft', 'total_customers', 'total_unique_items',\n",
    "       'single_day_max_vol', 'n_transactions',\n",
    "       'customer_id_unique', 'customer_id_repeating']\n",
    "\n",
    "First_sub = ['vol_per_sq_ft', 'total_unique_items',\n",
    "       'single_day_max_vol', 'single_day_min_vol', 'n_transactions',\n",
    "       'customer_id_unique', 'customer_id_repeating', 'customer_id_single']\n",
    "\n",
    "First_sub_without_area = ['shop_area_sq_ft','vol_per_sq_ft', 'total_unique_items',\n",
    "       'single_day_max_vol', 'single_day_min_vol', 'n_transactions',\n",
    "       'customer_id_unique', 'customer_id_repeating', 'customer_id_single']\n",
    "\n",
    "Combine_best_two_subs = ['vol_per_sq_ft', 'total_unique_items',\n",
    "       'single_day_max_vol', 'n_transactions','total_customers',\n",
    "       'customer_id_unique', 'customer_id_repeating']\n",
    "\n",
    "Area_and_vol = ['vol_per_sq_ft', 'total_vol', 'total_unique_items',\n",
    "       'single_day_max_vol', 'single_day_min_vol', 'n_transactions',\n",
    "       'customer_id_unique', 'customer_id_repeating', 'customer_id_single']\n",
    "\n",
    "storedata = storedata.drop(Area_and_vol,axis = 1)"
   ]
  },
  {
   "cell_type": "code",
   "execution_count": 20,
   "id": "98728873",
   "metadata": {
    "execution": {
     "iopub.execute_input": "2023-04-27T05:22:40.868030Z",
     "iopub.status.busy": "2023-04-27T05:22:40.867572Z",
     "iopub.status.idle": "2023-04-27T05:22:41.174063Z",
     "shell.execute_reply": "2023-04-27T05:22:41.172605Z"
    },
    "papermill": {
     "duration": 0.330252,
     "end_time": "2023-04-27T05:22:41.177017",
     "exception": false,
     "start_time": "2023-04-27T05:22:40.846765",
     "status": "completed"
    },
    "tags": []
   },
   "outputs": [
    {
     "data": {
      "text/plain": [
       "<AxesSubplot:>"
      ]
     },
     "execution_count": 20,
     "metadata": {},
     "output_type": "execute_result"
    },
    {
     "data": {
      "image/png": "[encoded data removed]",
      "text/plain": [
       "<Figure size 640x480 with 2 Axes>"
      ]
     },
     "metadata": {},
     "output_type": "display_data"
    }
   ],
   "source": [
    "# create a correlation matrix\n",
    "corr_matrix = storedata.corr()\n",
    "\n",
    "# create a heatmap of the correlation matrix\n",
    "sns.heatmap(corr_matrix, cmap=\"coolwarm\", annot=True)"
   ]
  },
  {
   "cell_type": "markdown",
   "id": "955396ab",
   "metadata": {
    "papermill": {
     "duration": 0.020139,
     "end_time": "2023-04-27T05:22:41.217686",
     "exception": false,
     "start_time": "2023-04-27T05:22:41.197547",
     "status": "completed"
    },
    "tags": []
   },
   "source": [
    "## Train test split (basically removing the testing data specified)"
   ]
  },
  {
   "cell_type": "code",
   "execution_count": 21,
   "id": "999bf873",
   "metadata": {
    "execution": {
     "iopub.execute_input": "2023-04-27T05:22:41.260698Z",
     "iopub.status.busy": "2023-04-27T05:22:41.260131Z",
     "iopub.status.idle": "2023-04-27T05:22:41.270915Z",
     "shell.execute_reply": "2023-04-27T05:22:41.269386Z"
    },
    "papermill": {
     "duration": 0.03559,
     "end_time": "2023-04-27T05:22:41.273470",
     "exception": false,
     "start_time": "2023-04-27T05:22:41.237880",
     "status": "completed"
    },
    "tags": []
   },
   "outputs": [],
   "source": [
    "# Create a boolean mask for filtering shopdata\n",
    "mask = storedata['shop_id'].isin(testdata['shop_id'])\n",
    "\n",
    "# Create two separate dataframes\n",
    "test_shops = storedata[mask]\n",
    "train_shops = storedata[~mask]"
   ]
  },
  {
   "cell_type": "code",
   "execution_count": 22,
   "id": "acc1ab8e",
   "metadata": {
    "execution": {
     "iopub.execute_input": "2023-04-27T05:22:41.315314Z",
     "iopub.status.busy": "2023-04-27T05:22:41.314026Z",
     "iopub.status.idle": "2023-04-27T05:22:41.329505Z",
     "shell.execute_reply": "2023-04-27T05:22:41.328179Z"
    },
    "papermill": {
     "duration": 0.039145,
     "end_time": "2023-04-27T05:22:41.332223",
     "exception": false,
     "start_time": "2023-04-27T05:22:41.293078",
     "status": "completed"
    },
    "tags": []
   },
   "outputs": [
    {
     "data": {
      "text/html": [
       "<div>\n",
       "<style scoped>\n",
       "    .dataframe tbody tr th:only-of-type {\n",
       "        vertical-align: middle;\n",
       "    }\n",
       "\n",
       "    .dataframe tbody tr th {\n",
       "        vertical-align: top;\n",
       "    }\n",
       "\n",
       "    .dataframe thead th {\n",
       "        text-align: right;\n",
       "    }\n",
       "</style>\n",
       "<table border=\"1\" class=\"dataframe\">\n",
       "  <thead>\n",
       "    <tr style=\"text-align: right;\">\n",
       "      <th></th>\n",
       "      <th>shop_id</th>\n",
       "      <th>shop_area_sq_ft</th>\n",
       "      <th>total_customers</th>\n",
       "    </tr>\n",
       "  </thead>\n",
       "  <tbody>\n",
       "    <tr>\n",
       "      <th>100</th>\n",
       "      <td>SHOP046</td>\n",
       "      <td>545</td>\n",
       "      <td>1736</td>\n",
       "    </tr>\n",
       "    <tr>\n",
       "      <th>101</th>\n",
       "      <td>SHOP024</td>\n",
       "      <td>676</td>\n",
       "      <td>1641</td>\n",
       "    </tr>\n",
       "    <tr>\n",
       "      <th>102</th>\n",
       "      <td>SHOP023</td>\n",
       "      <td>617</td>\n",
       "      <td>2227</td>\n",
       "    </tr>\n",
       "    <tr>\n",
       "      <th>103</th>\n",
       "      <td>SHOP097</td>\n",
       "      <td>310</td>\n",
       "      <td>1669</td>\n",
       "    </tr>\n",
       "    <tr>\n",
       "      <th>104</th>\n",
       "      <td>SHOP044</td>\n",
       "      <td>715</td>\n",
       "      <td>1552</td>\n",
       "    </tr>\n",
       "    <tr>\n",
       "      <th>105</th>\n",
       "      <td>SHOP030</td>\n",
       "      <td>530</td>\n",
       "      <td>1637</td>\n",
       "    </tr>\n",
       "    <tr>\n",
       "      <th>106</th>\n",
       "      <td>SHOP038</td>\n",
       "      <td>411</td>\n",
       "      <td>1781</td>\n",
       "    </tr>\n",
       "    <tr>\n",
       "      <th>107</th>\n",
       "      <td>SHOP029</td>\n",
       "      <td>597</td>\n",
       "      <td>2052</td>\n",
       "    </tr>\n",
       "    <tr>\n",
       "      <th>108</th>\n",
       "      <td>SHOP096</td>\n",
       "      <td>676</td>\n",
       "      <td>2497</td>\n",
       "    </tr>\n",
       "    <tr>\n",
       "      <th>109</th>\n",
       "      <td>SHOP092</td>\n",
       "      <td>617</td>\n",
       "      <td>2247</td>\n",
       "    </tr>\n",
       "    <tr>\n",
       "      <th>110</th>\n",
       "      <td>SHOP081</td>\n",
       "      <td>774</td>\n",
       "      <td>1985</td>\n",
       "    </tr>\n",
       "    <tr>\n",
       "      <th>111</th>\n",
       "      <td>SHOP076</td>\n",
       "      <td>676</td>\n",
       "      <td>1992</td>\n",
       "    </tr>\n",
       "    <tr>\n",
       "      <th>112</th>\n",
       "      <td>SHOP080</td>\n",
       "      <td>554</td>\n",
       "      <td>1268</td>\n",
       "    </tr>\n",
       "    <tr>\n",
       "      <th>113</th>\n",
       "      <td>SHOP074</td>\n",
       "      <td>617</td>\n",
       "      <td>2738</td>\n",
       "    </tr>\n",
       "    <tr>\n",
       "      <th>114</th>\n",
       "      <td>SHOP107</td>\n",
       "      <td>588</td>\n",
       "      <td>921</td>\n",
       "    </tr>\n",
       "    <tr>\n",
       "      <th>115</th>\n",
       "      <td>SHOP108</td>\n",
       "      <td>676</td>\n",
       "      <td>2077</td>\n",
       "    </tr>\n",
       "    <tr>\n",
       "      <th>116</th>\n",
       "      <td>SHOP019</td>\n",
       "      <td>411</td>\n",
       "      <td>1922</td>\n",
       "    </tr>\n",
       "    <tr>\n",
       "      <th>117</th>\n",
       "      <td>SHOP002</td>\n",
       "      <td>637</td>\n",
       "      <td>2577</td>\n",
       "    </tr>\n",
       "    <tr>\n",
       "      <th>118</th>\n",
       "      <td>SHOP114</td>\n",
       "      <td>513</td>\n",
       "      <td>2480</td>\n",
       "    </tr>\n",
       "    <tr>\n",
       "      <th>119</th>\n",
       "      <td>SHOP087</td>\n",
       "      <td>527</td>\n",
       "      <td>1083</td>\n",
       "    </tr>\n",
       "    <tr>\n",
       "      <th>120</th>\n",
       "      <td>SHOP050</td>\n",
       "      <td>411</td>\n",
       "      <td>1778</td>\n",
       "    </tr>\n",
       "    <tr>\n",
       "      <th>121</th>\n",
       "      <td>SHOP061</td>\n",
       "      <td>699</td>\n",
       "      <td>1746</td>\n",
       "    </tr>\n",
       "    <tr>\n",
       "      <th>122</th>\n",
       "      <td>SHOP056</td>\n",
       "      <td>597</td>\n",
       "      <td>2832</td>\n",
       "    </tr>\n",
       "    <tr>\n",
       "      <th>123</th>\n",
       "      <td>SHOP070</td>\n",
       "      <td>676</td>\n",
       "      <td>1423</td>\n",
       "    </tr>\n",
       "  </tbody>\n",
       "</table>\n",
       "</div>"
      ],
      "text/plain": [
       "     shop_id  shop_area_sq_ft  total_customers\n",
       "100  SHOP046              545             1736\n",
       "101  SHOP024              676             1641\n",
       "102  SHOP023              617             2227\n",
       "103  SHOP097              310             1669\n",
       "104  SHOP044              715             1552\n",
       "105  SHOP030              530             1637\n",
       "106  SHOP038              411             1781\n",
       "107  SHOP029              597             2052\n",
       "108  SHOP096              676             2497\n",
       "109  SHOP092              617             2247\n",
       "110  SHOP081              774             1985\n",
       "111  SHOP076              676             1992\n",
       "112  SHOP080              554             1268\n",
       "113  SHOP074              617             2738\n",
       "114  SHOP107              588              921\n",
       "115  SHOP108              676             2077\n",
       "116  SHOP019              411             1922\n",
       "117  SHOP002              637             2577\n",
       "118  SHOP114              513             2480\n",
       "119  SHOP087              527             1083\n",
       "120  SHOP050              411             1778\n",
       "121  SHOP061              699             1746\n",
       "122  SHOP056              597             2832\n",
       "123  SHOP070              676             1423"
      ]
     },
     "execution_count": 22,
     "metadata": {},
     "output_type": "execute_result"
    }
   ],
   "source": [
    "test_shops = test_shops.drop('shop_profile', axis=1)\n",
    "test_shops"
   ]
  },
  {
   "cell_type": "code",
   "execution_count": 23,
   "id": "08b5049b",
   "metadata": {
    "execution": {
     "iopub.execute_input": "2023-04-27T05:22:41.375107Z",
     "iopub.status.busy": "2023-04-27T05:22:41.374352Z",
     "iopub.status.idle": "2023-04-27T05:22:41.391077Z",
     "shell.execute_reply": "2023-04-27T05:22:41.389674Z"
    },
    "papermill": {
     "duration": 0.041949,
     "end_time": "2023-04-27T05:22:41.393930",
     "exception": false,
     "start_time": "2023-04-27T05:22:41.351981",
     "status": "completed"
    },
    "tags": []
   },
   "outputs": [
    {
     "data": {
      "text/html": [
       "<div>\n",
       "<style scoped>\n",
       "    .dataframe tbody tr th:only-of-type {\n",
       "        vertical-align: middle;\n",
       "    }\n",
       "\n",
       "    .dataframe tbody tr th {\n",
       "        vertical-align: top;\n",
       "    }\n",
       "\n",
       "    .dataframe thead th {\n",
       "        text-align: right;\n",
       "    }\n",
       "</style>\n",
       "<table border=\"1\" class=\"dataframe\">\n",
       "  <thead>\n",
       "    <tr style=\"text-align: right;\">\n",
       "      <th></th>\n",
       "      <th>shop_id</th>\n",
       "      <th>shop_area_sq_ft</th>\n",
       "      <th>shop_profile</th>\n",
       "      <th>total_customers</th>\n",
       "    </tr>\n",
       "  </thead>\n",
       "  <tbody>\n",
       "    <tr>\n",
       "      <th>0</th>\n",
       "      <td>SHOP047</td>\n",
       "      <td>528</td>\n",
       "      <td>Moderate</td>\n",
       "      <td>928</td>\n",
       "    </tr>\n",
       "    <tr>\n",
       "      <th>1</th>\n",
       "      <td>SHOP009</td>\n",
       "      <td>676</td>\n",
       "      <td>High</td>\n",
       "      <td>2498</td>\n",
       "    </tr>\n",
       "    <tr>\n",
       "      <th>2</th>\n",
       "      <td>SHOP083</td>\n",
       "      <td>676</td>\n",
       "      <td>Low</td>\n",
       "      <td>1900</td>\n",
       "    </tr>\n",
       "    <tr>\n",
       "      <th>3</th>\n",
       "      <td>SHOP117</td>\n",
       "      <td>676</td>\n",
       "      <td>Low</td>\n",
       "      <td>2037</td>\n",
       "    </tr>\n",
       "    <tr>\n",
       "      <th>4</th>\n",
       "      <td>SHOP042</td>\n",
       "      <td>676</td>\n",
       "      <td>Low</td>\n",
       "      <td>1841</td>\n",
       "    </tr>\n",
       "    <tr>\n",
       "      <th>...</th>\n",
       "      <td>...</td>\n",
       "      <td>...</td>\n",
       "      <td>...</td>\n",
       "      <td>...</td>\n",
       "    </tr>\n",
       "    <tr>\n",
       "      <th>95</th>\n",
       "      <td>SHOP124</td>\n",
       "      <td>606</td>\n",
       "      <td>High</td>\n",
       "      <td>2281</td>\n",
       "    </tr>\n",
       "    <tr>\n",
       "      <th>96</th>\n",
       "      <td>SHOP012</td>\n",
       "      <td>336</td>\n",
       "      <td>Low</td>\n",
       "      <td>1263</td>\n",
       "    </tr>\n",
       "    <tr>\n",
       "      <th>97</th>\n",
       "      <td>SHOP093</td>\n",
       "      <td>705</td>\n",
       "      <td>High</td>\n",
       "      <td>1493</td>\n",
       "    </tr>\n",
       "    <tr>\n",
       "      <th>98</th>\n",
       "      <td>SHOP004</td>\n",
       "      <td>516</td>\n",
       "      <td>Low</td>\n",
       "      <td>1744</td>\n",
       "    </tr>\n",
       "    <tr>\n",
       "      <th>99</th>\n",
       "      <td>SHOP101</td>\n",
       "      <td>691</td>\n",
       "      <td>High</td>\n",
       "      <td>2695</td>\n",
       "    </tr>\n",
       "  </tbody>\n",
       "</table>\n",
       "<p>100 rows × 4 columns</p>\n",
       "</div>"
      ],
      "text/plain": [
       "    shop_id  shop_area_sq_ft shop_profile  total_customers\n",
       "0   SHOP047              528     Moderate              928\n",
       "1   SHOP009              676         High             2498\n",
       "2   SHOP083              676          Low             1900\n",
       "3   SHOP117              676          Low             2037\n",
       "4   SHOP042              676          Low             1841\n",
       "..      ...              ...          ...              ...\n",
       "95  SHOP124              606         High             2281\n",
       "96  SHOP012              336          Low             1263\n",
       "97  SHOP093              705         High             1493\n",
       "98  SHOP004              516          Low             1744\n",
       "99  SHOP101              691         High             2695\n",
       "\n",
       "[100 rows x 4 columns]"
      ]
     },
     "execution_count": 23,
     "metadata": {},
     "output_type": "execute_result"
    }
   ],
   "source": [
    "train_shops"
   ]
  },
  {
   "cell_type": "markdown",
   "id": "3d268ad7",
   "metadata": {
    "papermill": {
     "duration": 0.019599,
     "end_time": "2023-04-27T05:22:41.433727",
     "exception": false,
     "start_time": "2023-04-27T05:22:41.414128",
     "status": "completed"
    },
    "tags": []
   },
   "source": [
    "## Encoding the target variable \n",
    "\n",
    "### Ordinal encoding\n",
    "0 = Low\n",
    "1 = Moderate\n",
    "2 = High"
   ]
  },
  {
   "cell_type": "code",
   "execution_count": 24,
   "id": "da90a7a3",
   "metadata": {
    "execution": {
     "iopub.execute_input": "2023-04-27T05:22:41.476276Z",
     "iopub.status.busy": "2023-04-27T05:22:41.475038Z",
     "iopub.status.idle": "2023-04-27T05:22:41.672126Z",
     "shell.execute_reply": "2023-04-27T05:22:41.670741Z"
    },
    "papermill": {
     "duration": 0.221841,
     "end_time": "2023-04-27T05:22:41.675347",
     "exception": false,
     "start_time": "2023-04-27T05:22:41.453506",
     "status": "completed"
    },
    "tags": []
   },
   "outputs": [],
   "source": [
    "from sklearn.preprocessing import LabelEncoder\n",
    "pd.options.mode.chained_assignment = None  # default='warn'\n",
    "\n",
    "# Define the mapping of labels to integer codes\n",
    "label_mapping = {\n",
    "    'Low': 0,\n",
    "    'Moderate': 1,\n",
    "    'High': 2\n",
    "}\n",
    "\n",
    "# Create an instance of the LabelEncoder\n",
    "encoder = LabelEncoder()\n",
    "\n",
    "# Fit the encoder to the shop_profile column in train_shops\n",
    "train_shops['shop_profile'] = encoder.fit_transform(train_shops['shop_profile'].map(label_mapping))\n"
   ]
  },
  {
   "cell_type": "code",
   "execution_count": 25,
   "id": "b7b78e22",
   "metadata": {
    "execution": {
     "iopub.execute_input": "2023-04-27T05:22:41.717566Z",
     "iopub.status.busy": "2023-04-27T05:22:41.717098Z",
     "iopub.status.idle": "2023-04-27T05:22:41.733470Z",
     "shell.execute_reply": "2023-04-27T05:22:41.732062Z"
    },
    "papermill": {
     "duration": 0.040654,
     "end_time": "2023-04-27T05:22:41.735896",
     "exception": false,
     "start_time": "2023-04-27T05:22:41.695242",
     "status": "completed"
    },
    "tags": []
   },
   "outputs": [
    {
     "data": {
      "text/html": [
       "<div>\n",
       "<style scoped>\n",
       "    .dataframe tbody tr th:only-of-type {\n",
       "        vertical-align: middle;\n",
       "    }\n",
       "\n",
       "    .dataframe tbody tr th {\n",
       "        vertical-align: top;\n",
       "    }\n",
       "\n",
       "    .dataframe thead th {\n",
       "        text-align: right;\n",
       "    }\n",
       "</style>\n",
       "<table border=\"1\" class=\"dataframe\">\n",
       "  <thead>\n",
       "    <tr style=\"text-align: right;\">\n",
       "      <th></th>\n",
       "      <th>shop_id</th>\n",
       "      <th>shop_area_sq_ft</th>\n",
       "      <th>shop_profile</th>\n",
       "      <th>total_customers</th>\n",
       "    </tr>\n",
       "  </thead>\n",
       "  <tbody>\n",
       "    <tr>\n",
       "      <th>0</th>\n",
       "      <td>SHOP047</td>\n",
       "      <td>528</td>\n",
       "      <td>1</td>\n",
       "      <td>928</td>\n",
       "    </tr>\n",
       "    <tr>\n",
       "      <th>1</th>\n",
       "      <td>SHOP009</td>\n",
       "      <td>676</td>\n",
       "      <td>2</td>\n",
       "      <td>2498</td>\n",
       "    </tr>\n",
       "    <tr>\n",
       "      <th>2</th>\n",
       "      <td>SHOP083</td>\n",
       "      <td>676</td>\n",
       "      <td>0</td>\n",
       "      <td>1900</td>\n",
       "    </tr>\n",
       "    <tr>\n",
       "      <th>3</th>\n",
       "      <td>SHOP117</td>\n",
       "      <td>676</td>\n",
       "      <td>0</td>\n",
       "      <td>2037</td>\n",
       "    </tr>\n",
       "    <tr>\n",
       "      <th>4</th>\n",
       "      <td>SHOP042</td>\n",
       "      <td>676</td>\n",
       "      <td>0</td>\n",
       "      <td>1841</td>\n",
       "    </tr>\n",
       "    <tr>\n",
       "      <th>...</th>\n",
       "      <td>...</td>\n",
       "      <td>...</td>\n",
       "      <td>...</td>\n",
       "      <td>...</td>\n",
       "    </tr>\n",
       "    <tr>\n",
       "      <th>95</th>\n",
       "      <td>SHOP124</td>\n",
       "      <td>606</td>\n",
       "      <td>2</td>\n",
       "      <td>2281</td>\n",
       "    </tr>\n",
       "    <tr>\n",
       "      <th>96</th>\n",
       "      <td>SHOP012</td>\n",
       "      <td>336</td>\n",
       "      <td>0</td>\n",
       "      <td>1263</td>\n",
       "    </tr>\n",
       "    <tr>\n",
       "      <th>97</th>\n",
       "      <td>SHOP093</td>\n",
       "      <td>705</td>\n",
       "      <td>2</td>\n",
       "      <td>1493</td>\n",
       "    </tr>\n",
       "    <tr>\n",
       "      <th>98</th>\n",
       "      <td>SHOP004</td>\n",
       "      <td>516</td>\n",
       "      <td>0</td>\n",
       "      <td>1744</td>\n",
       "    </tr>\n",
       "    <tr>\n",
       "      <th>99</th>\n",
       "      <td>SHOP101</td>\n",
       "      <td>691</td>\n",
       "      <td>2</td>\n",
       "      <td>2695</td>\n",
       "    </tr>\n",
       "  </tbody>\n",
       "</table>\n",
       "<p>100 rows × 4 columns</p>\n",
       "</div>"
      ],
      "text/plain": [
       "    shop_id  shop_area_sq_ft  shop_profile  total_customers\n",
       "0   SHOP047              528             1              928\n",
       "1   SHOP009              676             2             2498\n",
       "2   SHOP083              676             0             1900\n",
       "3   SHOP117              676             0             2037\n",
       "4   SHOP042              676             0             1841\n",
       "..      ...              ...           ...              ...\n",
       "95  SHOP124              606             2             2281\n",
       "96  SHOP012              336             0             1263\n",
       "97  SHOP093              705             2             1493\n",
       "98  SHOP004              516             0             1744\n",
       "99  SHOP101              691             2             2695\n",
       "\n",
       "[100 rows x 4 columns]"
      ]
     },
     "execution_count": 25,
     "metadata": {},
     "output_type": "execute_result"
    }
   ],
   "source": [
    "train_shops"
   ]
  },
  {
   "cell_type": "code",
   "execution_count": 26,
   "id": "cdca38ba",
   "metadata": {
    "execution": {
     "iopub.execute_input": "2023-04-27T05:22:41.779787Z",
     "iopub.status.busy": "2023-04-27T05:22:41.779327Z",
     "iopub.status.idle": "2023-04-27T05:22:43.300454Z",
     "shell.execute_reply": "2023-04-27T05:22:43.298586Z"
    },
    "papermill": {
     "duration": 1.547011,
     "end_time": "2023-04-27T05:22:43.303786",
     "exception": false,
     "start_time": "2023-04-27T05:22:41.756775",
     "status": "completed"
    },
    "tags": []
   },
   "outputs": [
    {
     "data": {
      "text/plain": [
       "<seaborn.axisgrid.PairGrid at 0x765ec35b9590>"
      ]
     },
     "execution_count": 26,
     "metadata": {},
     "output_type": "execute_result"
    },
    {
     "data": {
      "image/png": "[encoded data removed]",
      "text/plain": [
       "<Figure size 595.486x500 with 6 Axes>"
      ]
     },
     "metadata": {},
     "output_type": "display_data"
    }
   ],
   "source": [
    "sns.pairplot(train_shops, hue='shop_profile')"
   ]
  },
  {
   "cell_type": "markdown",
   "id": "f05889ad",
   "metadata": {
    "papermill": {
     "duration": 0.022087,
     "end_time": "2023-04-27T05:22:43.347667",
     "exception": false,
     "start_time": "2023-04-27T05:22:43.325580",
     "status": "completed"
    },
    "tags": []
   },
   "source": [
    "## Spliting for crossvalidation"
   ]
  },
  {
   "cell_type": "code",
   "execution_count": 27,
   "id": "d8d2dade",
   "metadata": {
    "execution": {
     "iopub.execute_input": "2023-04-27T05:22:43.394483Z",
     "iopub.status.busy": "2023-04-27T05:22:43.394004Z",
     "iopub.status.idle": "2023-04-27T05:22:43.402906Z",
     "shell.execute_reply": "2023-04-27T05:22:43.401558Z"
    },
    "papermill": {
     "duration": 0.035478,
     "end_time": "2023-04-27T05:22:43.405824",
     "exception": false,
     "start_time": "2023-04-27T05:22:43.370346",
     "status": "completed"
    },
    "tags": []
   },
   "outputs": [],
   "source": [
    "y = train_shops['shop_profile']\n",
    "X = train_shops.drop('shop_profile', axis=1)\n",
    "X = X.drop('shop_id',axis = 1)"
   ]
  },
  {
   "cell_type": "code",
   "execution_count": 28,
   "id": "e8576bc6",
   "metadata": {
    "execution": {
     "iopub.execute_input": "2023-04-27T05:22:43.450976Z",
     "iopub.status.busy": "2023-04-27T05:22:43.450543Z",
     "iopub.status.idle": "2023-04-27T05:22:43.460585Z",
     "shell.execute_reply": "2023-04-27T05:22:43.459226Z"
    },
    "papermill": {
     "duration": 0.035646,
     "end_time": "2023-04-27T05:22:43.463032",
     "exception": false,
     "start_time": "2023-04-27T05:22:43.427386",
     "status": "completed"
    },
    "tags": []
   },
   "outputs": [
    {
     "data": {
      "text/plain": [
       "0     1\n",
       "1     2\n",
       "2     0\n",
       "3     0\n",
       "4     0\n",
       "     ..\n",
       "95    2\n",
       "96    0\n",
       "97    2\n",
       "98    0\n",
       "99    2\n",
       "Name: shop_profile, Length: 100, dtype: int64"
      ]
     },
     "execution_count": 28,
     "metadata": {},
     "output_type": "execute_result"
    }
   ],
   "source": [
    "y"
   ]
  },
  {
   "cell_type": "code",
   "execution_count": 29,
   "id": "6874dfb7",
   "metadata": {
    "execution": {
     "iopub.execute_input": "2023-04-27T05:22:43.508919Z",
     "iopub.status.busy": "2023-04-27T05:22:43.508425Z",
     "iopub.status.idle": "2023-04-27T05:22:43.520124Z",
     "shell.execute_reply": "2023-04-27T05:22:43.519047Z"
    },
    "papermill": {
     "duration": 0.037793,
     "end_time": "2023-04-27T05:22:43.522569",
     "exception": false,
     "start_time": "2023-04-27T05:22:43.484776",
     "status": "completed"
    },
    "tags": []
   },
   "outputs": [
    {
     "data": {
      "text/html": [
       "<div>\n",
       "<style scoped>\n",
       "    .dataframe tbody tr th:only-of-type {\n",
       "        vertical-align: middle;\n",
       "    }\n",
       "\n",
       "    .dataframe tbody tr th {\n",
       "        vertical-align: top;\n",
       "    }\n",
       "\n",
       "    .dataframe thead th {\n",
       "        text-align: right;\n",
       "    }\n",
       "</style>\n",
       "<table border=\"1\" class=\"dataframe\">\n",
       "  <thead>\n",
       "    <tr style=\"text-align: right;\">\n",
       "      <th></th>\n",
       "      <th>shop_area_sq_ft</th>\n",
       "      <th>total_customers</th>\n",
       "    </tr>\n",
       "  </thead>\n",
       "  <tbody>\n",
       "    <tr>\n",
       "      <th>0</th>\n",
       "      <td>528</td>\n",
       "      <td>928</td>\n",
       "    </tr>\n",
       "    <tr>\n",
       "      <th>1</th>\n",
       "      <td>676</td>\n",
       "      <td>2498</td>\n",
       "    </tr>\n",
       "    <tr>\n",
       "      <th>2</th>\n",
       "      <td>676</td>\n",
       "      <td>1900</td>\n",
       "    </tr>\n",
       "    <tr>\n",
       "      <th>3</th>\n",
       "      <td>676</td>\n",
       "      <td>2037</td>\n",
       "    </tr>\n",
       "    <tr>\n",
       "      <th>4</th>\n",
       "      <td>676</td>\n",
       "      <td>1841</td>\n",
       "    </tr>\n",
       "    <tr>\n",
       "      <th>...</th>\n",
       "      <td>...</td>\n",
       "      <td>...</td>\n",
       "    </tr>\n",
       "    <tr>\n",
       "      <th>95</th>\n",
       "      <td>606</td>\n",
       "      <td>2281</td>\n",
       "    </tr>\n",
       "    <tr>\n",
       "      <th>96</th>\n",
       "      <td>336</td>\n",
       "      <td>1263</td>\n",
       "    </tr>\n",
       "    <tr>\n",
       "      <th>97</th>\n",
       "      <td>705</td>\n",
       "      <td>1493</td>\n",
       "    </tr>\n",
       "    <tr>\n",
       "      <th>98</th>\n",
       "      <td>516</td>\n",
       "      <td>1744</td>\n",
       "    </tr>\n",
       "    <tr>\n",
       "      <th>99</th>\n",
       "      <td>691</td>\n",
       "      <td>2695</td>\n",
       "    </tr>\n",
       "  </tbody>\n",
       "</table>\n",
       "<p>100 rows × 2 columns</p>\n",
       "</div>"
      ],
      "text/plain": [
       "    shop_area_sq_ft  total_customers\n",
       "0               528              928\n",
       "1               676             2498\n",
       "2               676             1900\n",
       "3               676             2037\n",
       "4               676             1841\n",
       "..              ...              ...\n",
       "95              606             2281\n",
       "96              336             1263\n",
       "97              705             1493\n",
       "98              516             1744\n",
       "99              691             2695\n",
       "\n",
       "[100 rows x 2 columns]"
      ]
     },
     "execution_count": 29,
     "metadata": {},
     "output_type": "execute_result"
    }
   ],
   "source": [
    "X"
   ]
  },
  {
   "cell_type": "markdown",
   "id": "7b37a19f",
   "metadata": {
    "papermill": {
     "duration": 0.021678,
     "end_time": "2023-04-27T05:22:43.566467",
     "exception": false,
     "start_time": "2023-04-27T05:22:43.544789",
     "status": "completed"
    },
    "tags": []
   },
   "source": [
    "## MI Scores"
   ]
  },
  {
   "cell_type": "code",
   "execution_count": 30,
   "id": "0df642b9",
   "metadata": {
    "execution": {
     "iopub.execute_input": "2023-04-27T05:22:43.614382Z",
     "iopub.status.busy": "2023-04-27T05:22:43.613915Z",
     "iopub.status.idle": "2023-04-27T05:22:43.960148Z",
     "shell.execute_reply": "2023-04-27T05:22:43.958471Z"
    },
    "papermill": {
     "duration": 0.374032,
     "end_time": "2023-04-27T05:22:43.962761",
     "exception": false,
     "start_time": "2023-04-27T05:22:43.588729",
     "status": "completed"
    },
    "tags": []
   },
   "outputs": [
    {
     "name": "stdout",
     "output_type": "stream",
     "text": [
      "shop_area_sq_ft: 0.06\n",
      "total_customers: 0.17\n"
     ]
    }
   ],
   "source": [
    "from sklearn.feature_selection import mutual_info_classif\n",
    "\n",
    "# X is a matrix of features, y is a vector of target variable\n",
    "mi_scores = mutual_info_classif(X, y)\n",
    "\n",
    "# Get the names of the features\n",
    "feature_names = list(X.columns)\n",
    "\n",
    "# Print the MI scores with the feature names\n",
    "for i, score in enumerate(mi_scores):\n",
    "    print(f\"{feature_names[i]}: {score:.2f}\")\n"
   ]
  },
  {
   "cell_type": "markdown",
   "id": "2f0c47fb",
   "metadata": {
    "papermill": {
     "duration": 0.022415,
     "end_time": "2023-04-27T05:22:44.008015",
     "exception": false,
     "start_time": "2023-04-27T05:22:43.985600",
     "status": "completed"
    },
    "tags": []
   },
   "source": [
    "### Train test split"
   ]
  },
  {
   "cell_type": "code",
   "execution_count": 31,
   "id": "3fee0aa0",
   "metadata": {
    "execution": {
     "iopub.execute_input": "2023-04-27T05:22:44.055244Z",
     "iopub.status.busy": "2023-04-27T05:22:44.054821Z",
     "iopub.status.idle": "2023-04-27T05:22:44.061832Z",
     "shell.execute_reply": "2023-04-27T05:22:44.060737Z"
    },
    "papermill": {
     "duration": 0.033051,
     "end_time": "2023-04-27T05:22:44.064070",
     "exception": false,
     "start_time": "2023-04-27T05:22:44.031019",
     "status": "completed"
    },
    "tags": []
   },
   "outputs": [],
   "source": [
    "from sklearn.model_selection import train_test_split\n",
    "train_X, val_X, train_y, val_y = train_test_split(X, y, random_state = 0)"
   ]
  },
  {
   "cell_type": "markdown",
   "id": "34bb3d14",
   "metadata": {
    "papermill": {
     "duration": 0.022686,
     "end_time": "2023-04-27T05:22:44.108974",
     "exception": false,
     "start_time": "2023-04-27T05:22:44.086288",
     "status": "completed"
    },
    "tags": []
   },
   "source": [
    "## Training the model"
   ]
  },
  {
   "cell_type": "code",
   "execution_count": 32,
   "id": "33439145",
   "metadata": {
    "execution": {
     "iopub.execute_input": "2023-04-27T05:22:44.155094Z",
     "iopub.status.busy": "2023-04-27T05:22:44.154650Z",
     "iopub.status.idle": "2023-04-27T05:22:44.168184Z",
     "shell.execute_reply": "2023-04-27T05:22:44.166767Z"
    },
    "papermill": {
     "duration": 0.039821,
     "end_time": "2023-04-27T05:22:44.170974",
     "exception": false,
     "start_time": "2023-04-27T05:22:44.131153",
     "status": "completed"
    },
    "tags": []
   },
   "outputs": [
    {
     "data": {
      "text/html": [
       "<div>\n",
       "<style scoped>\n",
       "    .dataframe tbody tr th:only-of-type {\n",
       "        vertical-align: middle;\n",
       "    }\n",
       "\n",
       "    .dataframe tbody tr th {\n",
       "        vertical-align: top;\n",
       "    }\n",
       "\n",
       "    .dataframe thead th {\n",
       "        text-align: right;\n",
       "    }\n",
       "</style>\n",
       "<table border=\"1\" class=\"dataframe\">\n",
       "  <thead>\n",
       "    <tr style=\"text-align: right;\">\n",
       "      <th></th>\n",
       "      <th>shop_area_sq_ft</th>\n",
       "      <th>total_customers</th>\n",
       "    </tr>\n",
       "  </thead>\n",
       "  <tbody>\n",
       "    <tr>\n",
       "      <th>48</th>\n",
       "      <td>720</td>\n",
       "      <td>1370</td>\n",
       "    </tr>\n",
       "    <tr>\n",
       "      <th>6</th>\n",
       "      <td>617</td>\n",
       "      <td>2496</td>\n",
       "    </tr>\n",
       "    <tr>\n",
       "      <th>99</th>\n",
       "      <td>691</td>\n",
       "      <td>2695</td>\n",
       "    </tr>\n",
       "    <tr>\n",
       "      <th>82</th>\n",
       "      <td>605</td>\n",
       "      <td>1894</td>\n",
       "    </tr>\n",
       "    <tr>\n",
       "      <th>76</th>\n",
       "      <td>617</td>\n",
       "      <td>2959</td>\n",
       "    </tr>\n",
       "    <tr>\n",
       "      <th>...</th>\n",
       "      <td>...</td>\n",
       "      <td>...</td>\n",
       "    </tr>\n",
       "    <tr>\n",
       "      <th>96</th>\n",
       "      <td>336</td>\n",
       "      <td>1263</td>\n",
       "    </tr>\n",
       "    <tr>\n",
       "      <th>67</th>\n",
       "      <td>520</td>\n",
       "      <td>2172</td>\n",
       "    </tr>\n",
       "    <tr>\n",
       "      <th>64</th>\n",
       "      <td>617</td>\n",
       "      <td>2474</td>\n",
       "    </tr>\n",
       "    <tr>\n",
       "      <th>47</th>\n",
       "      <td>617</td>\n",
       "      <td>1678</td>\n",
       "    </tr>\n",
       "    <tr>\n",
       "      <th>44</th>\n",
       "      <td>617</td>\n",
       "      <td>2417</td>\n",
       "    </tr>\n",
       "  </tbody>\n",
       "</table>\n",
       "<p>75 rows × 2 columns</p>\n",
       "</div>"
      ],
      "text/plain": [
       "    shop_area_sq_ft  total_customers\n",
       "48              720             1370\n",
       "6               617             2496\n",
       "99              691             2695\n",
       "82              605             1894\n",
       "76              617             2959\n",
       "..              ...              ...\n",
       "96              336             1263\n",
       "67              520             2172\n",
       "64              617             2474\n",
       "47              617             1678\n",
       "44              617             2417\n",
       "\n",
       "[75 rows x 2 columns]"
      ]
     },
     "execution_count": 32,
     "metadata": {},
     "output_type": "execute_result"
    }
   ],
   "source": [
    "train_X"
   ]
  },
  {
   "cell_type": "code",
   "execution_count": 33,
   "id": "6db684e7",
   "metadata": {
    "execution": {
     "iopub.execute_input": "2023-04-27T05:22:44.217330Z",
     "iopub.status.busy": "2023-04-27T05:22:44.216881Z",
     "iopub.status.idle": "2023-04-27T05:22:44.226480Z",
     "shell.execute_reply": "2023-04-27T05:22:44.225063Z"
    },
    "papermill": {
     "duration": 0.03599,
     "end_time": "2023-04-27T05:22:44.229188",
     "exception": false,
     "start_time": "2023-04-27T05:22:44.193198",
     "status": "completed"
    },
    "tags": []
   },
   "outputs": [
    {
     "data": {
      "text/plain": [
       "48    1\n",
       "6     1\n",
       "99    2\n",
       "82    1\n",
       "76    2\n",
       "     ..\n",
       "96    0\n",
       "67    0\n",
       "64    2\n",
       "47    1\n",
       "44    1\n",
       "Name: shop_profile, Length: 75, dtype: int64"
      ]
     },
     "execution_count": 33,
     "metadata": {},
     "output_type": "execute_result"
    }
   ],
   "source": [
    "train_y"
   ]
  },
  {
   "cell_type": "code",
   "execution_count": 34,
   "id": "27d2f05c",
   "metadata": {
    "execution": {
     "iopub.execute_input": "2023-04-27T05:22:44.276808Z",
     "iopub.status.busy": "2023-04-27T05:22:44.276360Z",
     "iopub.status.idle": "2023-04-27T05:22:44.288050Z",
     "shell.execute_reply": "2023-04-27T05:22:44.286765Z"
    },
    "papermill": {
     "duration": 0.038542,
     "end_time": "2023-04-27T05:22:44.290658",
     "exception": false,
     "start_time": "2023-04-27T05:22:44.252116",
     "status": "completed"
    },
    "tags": []
   },
   "outputs": [
    {
     "data": {
      "text/html": [
       "<div>\n",
       "<style scoped>\n",
       "    .dataframe tbody tr th:only-of-type {\n",
       "        vertical-align: middle;\n",
       "    }\n",
       "\n",
       "    .dataframe tbody tr th {\n",
       "        vertical-align: top;\n",
       "    }\n",
       "\n",
       "    .dataframe thead th {\n",
       "        text-align: right;\n",
       "    }\n",
       "</style>\n",
       "<table border=\"1\" class=\"dataframe\">\n",
       "  <thead>\n",
       "    <tr style=\"text-align: right;\">\n",
       "      <th></th>\n",
       "      <th>shop_area_sq_ft</th>\n",
       "      <th>total_customers</th>\n",
       "    </tr>\n",
       "  </thead>\n",
       "  <tbody>\n",
       "    <tr>\n",
       "      <th>26</th>\n",
       "      <td>594</td>\n",
       "      <td>1920</td>\n",
       "    </tr>\n",
       "    <tr>\n",
       "      <th>86</th>\n",
       "      <td>441</td>\n",
       "      <td>1591</td>\n",
       "    </tr>\n",
       "    <tr>\n",
       "      <th>2</th>\n",
       "      <td>676</td>\n",
       "      <td>1900</td>\n",
       "    </tr>\n",
       "    <tr>\n",
       "      <th>55</th>\n",
       "      <td>661</td>\n",
       "      <td>3164</td>\n",
       "    </tr>\n",
       "    <tr>\n",
       "      <th>75</th>\n",
       "      <td>549</td>\n",
       "      <td>3007</td>\n",
       "    </tr>\n",
       "    <tr>\n",
       "      <th>93</th>\n",
       "      <td>555</td>\n",
       "      <td>2336</td>\n",
       "    </tr>\n",
       "    <tr>\n",
       "      <th>16</th>\n",
       "      <td>495</td>\n",
       "      <td>3081</td>\n",
       "    </tr>\n",
       "    <tr>\n",
       "      <th>73</th>\n",
       "      <td>541</td>\n",
       "      <td>1603</td>\n",
       "    </tr>\n",
       "    <tr>\n",
       "      <th>54</th>\n",
       "      <td>617</td>\n",
       "      <td>2362</td>\n",
       "    </tr>\n",
       "    <tr>\n",
       "      <th>95</th>\n",
       "      <td>606</td>\n",
       "      <td>2281</td>\n",
       "    </tr>\n",
       "    <tr>\n",
       "      <th>53</th>\n",
       "      <td>709</td>\n",
       "      <td>2671</td>\n",
       "    </tr>\n",
       "    <tr>\n",
       "      <th>92</th>\n",
       "      <td>565</td>\n",
       "      <td>2075</td>\n",
       "    </tr>\n",
       "    <tr>\n",
       "      <th>78</th>\n",
       "      <td>422</td>\n",
       "      <td>2073</td>\n",
       "    </tr>\n",
       "    <tr>\n",
       "      <th>13</th>\n",
       "      <td>537</td>\n",
       "      <td>1492</td>\n",
       "    </tr>\n",
       "    <tr>\n",
       "      <th>7</th>\n",
       "      <td>423</td>\n",
       "      <td>1328</td>\n",
       "    </tr>\n",
       "    <tr>\n",
       "      <th>30</th>\n",
       "      <td>1077</td>\n",
       "      <td>3091</td>\n",
       "    </tr>\n",
       "    <tr>\n",
       "      <th>22</th>\n",
       "      <td>709</td>\n",
       "      <td>2661</td>\n",
       "    </tr>\n",
       "    <tr>\n",
       "      <th>24</th>\n",
       "      <td>517</td>\n",
       "      <td>1204</td>\n",
       "    </tr>\n",
       "    <tr>\n",
       "      <th>33</th>\n",
       "      <td>441</td>\n",
       "      <td>1641</td>\n",
       "    </tr>\n",
       "    <tr>\n",
       "      <th>8</th>\n",
       "      <td>676</td>\n",
       "      <td>2055</td>\n",
       "    </tr>\n",
       "    <tr>\n",
       "      <th>43</th>\n",
       "      <td>706</td>\n",
       "      <td>1368</td>\n",
       "    </tr>\n",
       "    <tr>\n",
       "      <th>62</th>\n",
       "      <td>810</td>\n",
       "      <td>2064</td>\n",
       "    </tr>\n",
       "    <tr>\n",
       "      <th>3</th>\n",
       "      <td>676</td>\n",
       "      <td>2037</td>\n",
       "    </tr>\n",
       "    <tr>\n",
       "      <th>71</th>\n",
       "      <td>617</td>\n",
       "      <td>2435</td>\n",
       "    </tr>\n",
       "    <tr>\n",
       "      <th>45</th>\n",
       "      <td>617</td>\n",
       "      <td>2046</td>\n",
       "    </tr>\n",
       "  </tbody>\n",
       "</table>\n",
       "</div>"
      ],
      "text/plain": [
       "    shop_area_sq_ft  total_customers\n",
       "26              594             1920\n",
       "86              441             1591\n",
       "2               676             1900\n",
       "55              661             3164\n",
       "75              549             3007\n",
       "93              555             2336\n",
       "16              495             3081\n",
       "73              541             1603\n",
       "54              617             2362\n",
       "95              606             2281\n",
       "53              709             2671\n",
       "92              565             2075\n",
       "78              422             2073\n",
       "13              537             1492\n",
       "7               423             1328\n",
       "30             1077             3091\n",
       "22              709             2661\n",
       "24              517             1204\n",
       "33              441             1641\n",
       "8               676             2055\n",
       "43              706             1368\n",
       "62              810             2064\n",
       "3               676             2037\n",
       "71              617             2435\n",
       "45              617             2046"
      ]
     },
     "execution_count": 34,
     "metadata": {},
     "output_type": "execute_result"
    }
   ],
   "source": [
    "val_X"
   ]
  },
  {
   "cell_type": "code",
   "execution_count": 35,
   "id": "832fbf71",
   "metadata": {
    "execution": {
     "iopub.execute_input": "2023-04-27T05:22:44.338128Z",
     "iopub.status.busy": "2023-04-27T05:22:44.337711Z",
     "iopub.status.idle": "2023-04-27T05:22:44.346884Z",
     "shell.execute_reply": "2023-04-27T05:22:44.345395Z"
    },
    "papermill": {
     "duration": 0.036191,
     "end_time": "2023-04-27T05:22:44.349625",
     "exception": false,
     "start_time": "2023-04-27T05:22:44.313434",
     "status": "completed"
    },
    "tags": []
   },
   "outputs": [
    {
     "data": {
      "text/plain": [
       "26    1\n",
       "86    1\n",
       "2     0\n",
       "55    2\n",
       "75    2\n",
       "93    2\n",
       "16    2\n",
       "73    1\n",
       "54    1\n",
       "95    2\n",
       "53    2\n",
       "92    0\n",
       "78    1\n",
       "13    1\n",
       "7     1\n",
       "30    2\n",
       "22    2\n",
       "24    0\n",
       "33    0\n",
       "8     0\n",
       "43    1\n",
       "62    2\n",
       "3     0\n",
       "71    1\n",
       "45    0\n",
       "Name: shop_profile, dtype: int64"
      ]
     },
     "execution_count": 35,
     "metadata": {},
     "output_type": "execute_result"
    }
   ],
   "source": [
    "val_y"
   ]
  },
  {
   "cell_type": "markdown",
   "id": "a8824790",
   "metadata": {
    "papermill": {
     "duration": 0.023606,
     "end_time": "2023-04-27T05:22:44.397014",
     "exception": false,
     "start_time": "2023-04-27T05:22:44.373408",
     "status": "completed"
    },
    "tags": []
   },
   "source": [
    "### Training model"
   ]
  },
  {
   "cell_type": "code",
   "execution_count": 36,
   "id": "fec7b5a8",
   "metadata": {
    "execution": {
     "iopub.execute_input": "2023-04-27T05:22:44.445690Z",
     "iopub.status.busy": "2023-04-27T05:22:44.445228Z",
     "iopub.status.idle": "2023-04-27T05:22:44.939011Z",
     "shell.execute_reply": "2023-04-27T05:22:44.937464Z"
    },
    "papermill": {
     "duration": 0.521294,
     "end_time": "2023-04-27T05:22:44.942008",
     "exception": false,
     "start_time": "2023-04-27T05:22:44.420714",
     "status": "completed"
    },
    "tags": []
   },
   "outputs": [],
   "source": [
    "from sklearn.neighbors import KNeighborsClassifier\n",
    "from xgboost import XGBClassifier\n",
    "from sklearn.ensemble import RandomForestClassifier"
   ]
  },
  {
   "cell_type": "code",
   "execution_count": 37,
   "id": "84a388ac",
   "metadata": {
    "execution": {
     "iopub.execute_input": "2023-04-27T05:22:44.991412Z",
     "iopub.status.busy": "2023-04-27T05:22:44.990590Z",
     "iopub.status.idle": "2023-04-27T05:22:45.352742Z",
     "shell.execute_reply": "2023-04-27T05:22:45.351478Z"
    },
    "papermill": {
     "duration": 0.389663,
     "end_time": "2023-04-27T05:22:45.355897",
     "exception": false,
     "start_time": "2023-04-27T05:22:44.966234",
     "status": "completed"
    },
    "tags": []
   },
   "outputs": [
    {
     "data": {
      "text/plain": [
       "XGBClassifier(base_score=0.5, booster='gbtree', callbacks=None,\n",
       "              colsample_bylevel=1, colsample_bynode=1, colsample_bytree=1,\n",
       "              early_stopping_rounds=None, enable_categorical=False,\n",
       "              eval_metric=None, gamma=0, gpu_id=-1, grow_policy='depthwise',\n",
       "              importance_type=None, interaction_constraints='',\n",
       "              learning_rate=0.300000012, max_bin=256, max_cat_to_onehot=4,\n",
       "              max_delta_step=0, max_depth=6, max_leaves=0, min_child_weight=1,\n",
       "              missing=nan, monotone_constraints='()', n_estimators=100,\n",
       "              n_jobs=0, num_parallel_tree=1, objective='multi:softprob',\n",
       "              predictor='auto', random_state=0, reg_alpha=0, ...)"
      ]
     },
     "execution_count": 37,
     "metadata": {},
     "output_type": "execute_result"
    }
   ],
   "source": [
    "# Define the model with default hyperparameters\n",
    "model = XGBClassifier()\n",
    "# model = KNeighborsClassifier(n_neighbors= 25)\n",
    "# model = RandomForestClassifier(n_estimators=100,random_state=1)\n",
    "\n",
    "# Fit the model to the training data\n",
    "model.fit(train_X, train_y)"
   ]
  },
  {
   "cell_type": "markdown",
   "id": "85656a90",
   "metadata": {
    "papermill": {
     "duration": 0.022855,
     "end_time": "2023-04-27T05:22:45.404492",
     "exception": false,
     "start_time": "2023-04-27T05:22:45.381637",
     "status": "completed"
    },
    "tags": []
   },
   "source": [
    "## Making predictions"
   ]
  },
  {
   "cell_type": "code",
   "execution_count": 38,
   "id": "6b7beebc",
   "metadata": {
    "execution": {
     "iopub.execute_input": "2023-04-27T05:22:45.453424Z",
     "iopub.status.busy": "2023-04-27T05:22:45.452873Z",
     "iopub.status.idle": "2023-04-27T05:22:45.465922Z",
     "shell.execute_reply": "2023-04-27T05:22:45.464910Z"
    },
    "papermill": {
     "duration": 0.040434,
     "end_time": "2023-04-27T05:22:45.469075",
     "exception": false,
     "start_time": "2023-04-27T05:22:45.428641",
     "status": "completed"
    },
    "tags": []
   },
   "outputs": [],
   "source": [
    "# Make predictions on the test data\n",
    "y_pred = model.predict(val_X)"
   ]
  },
  {
   "cell_type": "markdown",
   "id": "e789409e",
   "metadata": {
    "papermill": {
     "duration": 0.022539,
     "end_time": "2023-04-27T05:22:45.516493",
     "exception": false,
     "start_time": "2023-04-27T05:22:45.493954",
     "status": "completed"
    },
    "tags": []
   },
   "source": [
    "## F1 Score"
   ]
  },
  {
   "cell_type": "code",
   "execution_count": 39,
   "id": "ad1d2a71",
   "metadata": {
    "execution": {
     "iopub.execute_input": "2023-04-27T05:22:45.565367Z",
     "iopub.status.busy": "2023-04-27T05:22:45.564095Z",
     "iopub.status.idle": "2023-04-27T05:22:45.574105Z",
     "shell.execute_reply": "2023-04-27T05:22:45.572543Z"
    },
    "papermill": {
     "duration": 0.037283,
     "end_time": "2023-04-27T05:22:45.576723",
     "exception": false,
     "start_time": "2023-04-27T05:22:45.539440",
     "status": "completed"
    },
    "tags": []
   },
   "outputs": [
    {
     "name": "stdout",
     "output_type": "stream",
     "text": [
      "F1 score: 0.56\n"
     ]
    }
   ],
   "source": [
    "from sklearn.metrics import f1_score\n",
    "\n",
    "# Calculate the F1 score\n",
    "f1 = f1_score(val_y, y_pred,average='micro')\n",
    "\n",
    "# Print the result\n",
    "print(\"F1 score:\", f1)"
   ]
  },
  {
   "cell_type": "markdown",
   "id": "3a8a5834",
   "metadata": {
    "papermill": {
     "duration": 0.02331,
     "end_time": "2023-04-27T05:22:45.623696",
     "exception": false,
     "start_time": "2023-04-27T05:22:45.600386",
     "status": "completed"
    },
    "tags": []
   },
   "source": [
    "## For submissions Train using full X and y sets"
   ]
  },
  {
   "cell_type": "code",
   "execution_count": 40,
   "id": "f79fb79a",
   "metadata": {
    "execution": {
     "iopub.execute_input": "2023-04-27T05:22:45.672537Z",
     "iopub.status.busy": "2023-04-27T05:22:45.671597Z",
     "iopub.status.idle": "2023-04-27T05:22:46.006376Z",
     "shell.execute_reply": "2023-04-27T05:22:46.005386Z"
    },
    "papermill": {
     "duration": 0.362825,
     "end_time": "2023-04-27T05:22:46.009513",
     "exception": false,
     "start_time": "2023-04-27T05:22:45.646688",
     "status": "completed"
    },
    "tags": []
   },
   "outputs": [
    {
     "data": {
      "text/plain": [
       "XGBClassifier(base_score=0.5, booster='gbtree', callbacks=None,\n",
       "              colsample_bylevel=1, colsample_bynode=1, colsample_bytree=1,\n",
       "              early_stopping_rounds=None, enable_categorical=False,\n",
       "              eval_metric=None, gamma=0, gpu_id=-1, grow_policy='depthwise',\n",
       "              importance_type=None, interaction_constraints='',\n",
       "              learning_rate=0.300000012, max_bin=256, max_cat_to_onehot=4,\n",
       "              max_delta_step=0, max_depth=6, max_leaves=0, min_child_weight=1,\n",
       "              missing=nan, monotone_constraints='()', n_estimators=100,\n",
       "              n_jobs=0, num_parallel_tree=1, objective='multi:softprob',\n",
       "              predictor='auto', random_state=0, reg_alpha=0, ...)"
      ]
     },
     "execution_count": 40,
     "metadata": {},
     "output_type": "execute_result"
    }
   ],
   "source": [
    "# Define the model with default hyperparameters\n",
    "FinalModel = XGBClassifier()\n",
    "# FinalModel = KNeighborsClassifier(n_neighbors=3)\n",
    "# FinalModel = RandomForestClassifier(n_estimators=100,random_state=1)\n",
    "\n",
    "# Fit the model to the training data\n",
    "FinalModel.fit(train_X, train_y)"
   ]
  },
  {
   "cell_type": "code",
   "execution_count": 41,
   "id": "d3aa6e51",
   "metadata": {
    "execution": {
     "iopub.execute_input": "2023-04-27T05:22:46.060345Z",
     "iopub.status.busy": "2023-04-27T05:22:46.059065Z",
     "iopub.status.idle": "2023-04-27T05:22:46.073818Z",
     "shell.execute_reply": "2023-04-27T05:22:46.071821Z"
    },
    "papermill": {
     "duration": 0.043442,
     "end_time": "2023-04-27T05:22:46.077095",
     "exception": false,
     "start_time": "2023-04-27T05:22:46.033653",
     "status": "completed"
    },
    "tags": []
   },
   "outputs": [
    {
     "data": {
      "text/html": [
       "<div>\n",
       "<style scoped>\n",
       "    .dataframe tbody tr th:only-of-type {\n",
       "        vertical-align: middle;\n",
       "    }\n",
       "\n",
       "    .dataframe tbody tr th {\n",
       "        vertical-align: top;\n",
       "    }\n",
       "\n",
       "    .dataframe thead th {\n",
       "        text-align: right;\n",
       "    }\n",
       "</style>\n",
       "<table border=\"1\" class=\"dataframe\">\n",
       "  <thead>\n",
       "    <tr style=\"text-align: right;\">\n",
       "      <th></th>\n",
       "      <th>shop_area_sq_ft</th>\n",
       "      <th>total_customers</th>\n",
       "    </tr>\n",
       "  </thead>\n",
       "  <tbody>\n",
       "    <tr>\n",
       "      <th>100</th>\n",
       "      <td>545</td>\n",
       "      <td>1736</td>\n",
       "    </tr>\n",
       "    <tr>\n",
       "      <th>101</th>\n",
       "      <td>676</td>\n",
       "      <td>1641</td>\n",
       "    </tr>\n",
       "    <tr>\n",
       "      <th>102</th>\n",
       "      <td>617</td>\n",
       "      <td>2227</td>\n",
       "    </tr>\n",
       "    <tr>\n",
       "      <th>103</th>\n",
       "      <td>310</td>\n",
       "      <td>1669</td>\n",
       "    </tr>\n",
       "    <tr>\n",
       "      <th>104</th>\n",
       "      <td>715</td>\n",
       "      <td>1552</td>\n",
       "    </tr>\n",
       "    <tr>\n",
       "      <th>105</th>\n",
       "      <td>530</td>\n",
       "      <td>1637</td>\n",
       "    </tr>\n",
       "    <tr>\n",
       "      <th>106</th>\n",
       "      <td>411</td>\n",
       "      <td>1781</td>\n",
       "    </tr>\n",
       "    <tr>\n",
       "      <th>107</th>\n",
       "      <td>597</td>\n",
       "      <td>2052</td>\n",
       "    </tr>\n",
       "    <tr>\n",
       "      <th>108</th>\n",
       "      <td>676</td>\n",
       "      <td>2497</td>\n",
       "    </tr>\n",
       "    <tr>\n",
       "      <th>109</th>\n",
       "      <td>617</td>\n",
       "      <td>2247</td>\n",
       "    </tr>\n",
       "    <tr>\n",
       "      <th>110</th>\n",
       "      <td>774</td>\n",
       "      <td>1985</td>\n",
       "    </tr>\n",
       "    <tr>\n",
       "      <th>111</th>\n",
       "      <td>676</td>\n",
       "      <td>1992</td>\n",
       "    </tr>\n",
       "    <tr>\n",
       "      <th>112</th>\n",
       "      <td>554</td>\n",
       "      <td>1268</td>\n",
       "    </tr>\n",
       "    <tr>\n",
       "      <th>113</th>\n",
       "      <td>617</td>\n",
       "      <td>2738</td>\n",
       "    </tr>\n",
       "    <tr>\n",
       "      <th>114</th>\n",
       "      <td>588</td>\n",
       "      <td>921</td>\n",
       "    </tr>\n",
       "    <tr>\n",
       "      <th>115</th>\n",
       "      <td>676</td>\n",
       "      <td>2077</td>\n",
       "    </tr>\n",
       "    <tr>\n",
       "      <th>116</th>\n",
       "      <td>411</td>\n",
       "      <td>1922</td>\n",
       "    </tr>\n",
       "    <tr>\n",
       "      <th>117</th>\n",
       "      <td>637</td>\n",
       "      <td>2577</td>\n",
       "    </tr>\n",
       "    <tr>\n",
       "      <th>118</th>\n",
       "      <td>513</td>\n",
       "      <td>2480</td>\n",
       "    </tr>\n",
       "    <tr>\n",
       "      <th>119</th>\n",
       "      <td>527</td>\n",
       "      <td>1083</td>\n",
       "    </tr>\n",
       "    <tr>\n",
       "      <th>120</th>\n",
       "      <td>411</td>\n",
       "      <td>1778</td>\n",
       "    </tr>\n",
       "    <tr>\n",
       "      <th>121</th>\n",
       "      <td>699</td>\n",
       "      <td>1746</td>\n",
       "    </tr>\n",
       "    <tr>\n",
       "      <th>122</th>\n",
       "      <td>597</td>\n",
       "      <td>2832</td>\n",
       "    </tr>\n",
       "    <tr>\n",
       "      <th>123</th>\n",
       "      <td>676</td>\n",
       "      <td>1423</td>\n",
       "    </tr>\n",
       "  </tbody>\n",
       "</table>\n",
       "</div>"
      ],
      "text/plain": [
       "     shop_area_sq_ft  total_customers\n",
       "100              545             1736\n",
       "101              676             1641\n",
       "102              617             2227\n",
       "103              310             1669\n",
       "104              715             1552\n",
       "105              530             1637\n",
       "106              411             1781\n",
       "107              597             2052\n",
       "108              676             2497\n",
       "109              617             2247\n",
       "110              774             1985\n",
       "111              676             1992\n",
       "112              554             1268\n",
       "113              617             2738\n",
       "114              588              921\n",
       "115              676             2077\n",
       "116              411             1922\n",
       "117              637             2577\n",
       "118              513             2480\n",
       "119              527             1083\n",
       "120              411             1778\n",
       "121              699             1746\n",
       "122              597             2832\n",
       "123              676             1423"
      ]
     },
     "execution_count": 41,
     "metadata": {},
     "output_type": "execute_result"
    }
   ],
   "source": [
    "test_shops = test_shops.drop('shop_id', axis=1)\n",
    "test_shops"
   ]
  },
  {
   "cell_type": "code",
   "execution_count": 42,
   "id": "7b014ba2",
   "metadata": {
    "execution": {
     "iopub.execute_input": "2023-04-27T05:22:46.128353Z",
     "iopub.status.busy": "2023-04-27T05:22:46.127488Z",
     "iopub.status.idle": "2023-04-27T05:22:46.138562Z",
     "shell.execute_reply": "2023-04-27T05:22:46.137544Z"
    },
    "papermill": {
     "duration": 0.039908,
     "end_time": "2023-04-27T05:22:46.141672",
     "exception": false,
     "start_time": "2023-04-27T05:22:46.101764",
     "status": "completed"
    },
    "tags": []
   },
   "outputs": [],
   "source": [
    "FinalPred = FinalModel.predict(test_shops)"
   ]
  },
  {
   "cell_type": "code",
   "execution_count": 43,
   "id": "701110d8",
   "metadata": {
    "execution": {
     "iopub.execute_input": "2023-04-27T05:22:46.193467Z",
     "iopub.status.busy": "2023-04-27T05:22:46.193045Z",
     "iopub.status.idle": "2023-04-27T05:22:46.200707Z",
     "shell.execute_reply": "2023-04-27T05:22:46.199353Z"
    },
    "papermill": {
     "duration": 0.036409,
     "end_time": "2023-04-27T05:22:46.203358",
     "exception": false,
     "start_time": "2023-04-27T05:22:46.166949",
     "status": "completed"
    },
    "tags": []
   },
   "outputs": [
    {
     "data": {
      "text/plain": [
       "24"
      ]
     },
     "execution_count": 43,
     "metadata": {},
     "output_type": "execute_result"
    }
   ],
   "source": [
    "len(FinalPred)"
   ]
  },
  {
   "cell_type": "markdown",
   "id": "47eb1e1a",
   "metadata": {
    "papermill": {
     "duration": 0.023285,
     "end_time": "2023-04-27T05:22:46.251022",
     "exception": false,
     "start_time": "2023-04-27T05:22:46.227737",
     "status": "completed"
    },
    "tags": []
   },
   "source": [
    "## Combining predictions with shop_id"
   ]
  },
  {
   "cell_type": "code",
   "execution_count": 44,
   "id": "4a6cce08",
   "metadata": {
    "execution": {
     "iopub.execute_input": "2023-04-27T05:22:46.305426Z",
     "iopub.status.busy": "2023-04-27T05:22:46.304358Z",
     "iopub.status.idle": "2023-04-27T05:22:46.311048Z",
     "shell.execute_reply": "2023-04-27T05:22:46.309957Z"
    },
    "papermill": {
     "duration": 0.036765,
     "end_time": "2023-04-27T05:22:46.313677",
     "exception": false,
     "start_time": "2023-04-27T05:22:46.276912",
     "status": "completed"
    },
    "tags": []
   },
   "outputs": [],
   "source": [
    "# Create a dictionary mapping the old values to the new values\n",
    "mapping = {0: 'Low', 1: 'Moderate', 2: 'High'}\n",
    "\n",
    "# Map the values in the 'shop_profile' column using the dictionary\n",
    "testdata[\"shop_profile\"] = FinalPred"
   ]
  },
  {
   "cell_type": "code",
   "execution_count": 45,
   "id": "99c2e621",
   "metadata": {
    "execution": {
     "iopub.execute_input": "2023-04-27T05:22:46.367362Z",
     "iopub.status.busy": "2023-04-27T05:22:46.366096Z",
     "iopub.status.idle": "2023-04-27T05:22:46.378856Z",
     "shell.execute_reply": "2023-04-27T05:22:46.377264Z"
    },
    "papermill": {
     "duration": 0.044721,
     "end_time": "2023-04-27T05:22:46.382301",
     "exception": false,
     "start_time": "2023-04-27T05:22:46.337580",
     "status": "completed"
    },
    "tags": []
   },
   "outputs": [
    {
     "data": {
      "text/html": [
       "<div>\n",
       "<style scoped>\n",
       "    .dataframe tbody tr th:only-of-type {\n",
       "        vertical-align: middle;\n",
       "    }\n",
       "\n",
       "    .dataframe tbody tr th {\n",
       "        vertical-align: top;\n",
       "    }\n",
       "\n",
       "    .dataframe thead th {\n",
       "        text-align: right;\n",
       "    }\n",
       "</style>\n",
       "<table border=\"1\" class=\"dataframe\">\n",
       "  <thead>\n",
       "    <tr style=\"text-align: right;\">\n",
       "      <th></th>\n",
       "      <th>shop_id</th>\n",
       "      <th>shop_profile</th>\n",
       "    </tr>\n",
       "  </thead>\n",
       "  <tbody>\n",
       "    <tr>\n",
       "      <th>0</th>\n",
       "      <td>SHOP046</td>\n",
       "      <td>0</td>\n",
       "    </tr>\n",
       "    <tr>\n",
       "      <th>1</th>\n",
       "      <td>SHOP024</td>\n",
       "      <td>0</td>\n",
       "    </tr>\n",
       "    <tr>\n",
       "      <th>2</th>\n",
       "      <td>SHOP023</td>\n",
       "      <td>0</td>\n",
       "    </tr>\n",
       "    <tr>\n",
       "      <th>3</th>\n",
       "      <td>SHOP097</td>\n",
       "      <td>1</td>\n",
       "    </tr>\n",
       "    <tr>\n",
       "      <th>4</th>\n",
       "      <td>SHOP044</td>\n",
       "      <td>1</td>\n",
       "    </tr>\n",
       "    <tr>\n",
       "      <th>5</th>\n",
       "      <td>SHOP030</td>\n",
       "      <td>0</td>\n",
       "    </tr>\n",
       "    <tr>\n",
       "      <th>6</th>\n",
       "      <td>SHOP038</td>\n",
       "      <td>0</td>\n",
       "    </tr>\n",
       "    <tr>\n",
       "      <th>7</th>\n",
       "      <td>SHOP029</td>\n",
       "      <td>1</td>\n",
       "    </tr>\n",
       "    <tr>\n",
       "      <th>8</th>\n",
       "      <td>SHOP096</td>\n",
       "      <td>2</td>\n",
       "    </tr>\n",
       "    <tr>\n",
       "      <th>9</th>\n",
       "      <td>SHOP092</td>\n",
       "      <td>0</td>\n",
       "    </tr>\n",
       "    <tr>\n",
       "      <th>10</th>\n",
       "      <td>SHOP081</td>\n",
       "      <td>2</td>\n",
       "    </tr>\n",
       "    <tr>\n",
       "      <th>11</th>\n",
       "      <td>SHOP076</td>\n",
       "      <td>0</td>\n",
       "    </tr>\n",
       "    <tr>\n",
       "      <th>12</th>\n",
       "      <td>SHOP080</td>\n",
       "      <td>0</td>\n",
       "    </tr>\n",
       "    <tr>\n",
       "      <th>13</th>\n",
       "      <td>SHOP074</td>\n",
       "      <td>2</td>\n",
       "    </tr>\n",
       "    <tr>\n",
       "      <th>14</th>\n",
       "      <td>SHOP107</td>\n",
       "      <td>0</td>\n",
       "    </tr>\n",
       "    <tr>\n",
       "      <th>15</th>\n",
       "      <td>SHOP108</td>\n",
       "      <td>1</td>\n",
       "    </tr>\n",
       "    <tr>\n",
       "      <th>16</th>\n",
       "      <td>SHOP019</td>\n",
       "      <td>0</td>\n",
       "    </tr>\n",
       "    <tr>\n",
       "      <th>17</th>\n",
       "      <td>SHOP002</td>\n",
       "      <td>2</td>\n",
       "    </tr>\n",
       "    <tr>\n",
       "      <th>18</th>\n",
       "      <td>SHOP114</td>\n",
       "      <td>2</td>\n",
       "    </tr>\n",
       "    <tr>\n",
       "      <th>19</th>\n",
       "      <td>SHOP087</td>\n",
       "      <td>1</td>\n",
       "    </tr>\n",
       "    <tr>\n",
       "      <th>20</th>\n",
       "      <td>SHOP050</td>\n",
       "      <td>0</td>\n",
       "    </tr>\n",
       "    <tr>\n",
       "      <th>21</th>\n",
       "      <td>SHOP061</td>\n",
       "      <td>0</td>\n",
       "    </tr>\n",
       "    <tr>\n",
       "      <th>22</th>\n",
       "      <td>SHOP056</td>\n",
       "      <td>2</td>\n",
       "    </tr>\n",
       "    <tr>\n",
       "      <th>23</th>\n",
       "      <td>SHOP070</td>\n",
       "      <td>0</td>\n",
       "    </tr>\n",
       "  </tbody>\n",
       "</table>\n",
       "</div>"
      ],
      "text/plain": [
       "    shop_id  shop_profile\n",
       "0   SHOP046             0\n",
       "1   SHOP024             0\n",
       "2   SHOP023             0\n",
       "3   SHOP097             1\n",
       "4   SHOP044             1\n",
       "5   SHOP030             0\n",
       "6   SHOP038             0\n",
       "7   SHOP029             1\n",
       "8   SHOP096             2\n",
       "9   SHOP092             0\n",
       "10  SHOP081             2\n",
       "11  SHOP076             0\n",
       "12  SHOP080             0\n",
       "13  SHOP074             2\n",
       "14  SHOP107             0\n",
       "15  SHOP108             1\n",
       "16  SHOP019             0\n",
       "17  SHOP002             2\n",
       "18  SHOP114             2\n",
       "19  SHOP087             1\n",
       "20  SHOP050             0\n",
       "21  SHOP061             0\n",
       "22  SHOP056             2\n",
       "23  SHOP070             0"
      ]
     },
     "execution_count": 45,
     "metadata": {},
     "output_type": "execute_result"
    }
   ],
   "source": [
    "testdata"
   ]
  },
  {
   "cell_type": "code",
   "execution_count": 46,
   "id": "1ac1bac5",
   "metadata": {
    "execution": {
     "iopub.execute_input": "2023-04-27T05:22:46.433060Z",
     "iopub.status.busy": "2023-04-27T05:22:46.432591Z",
     "iopub.status.idle": "2023-04-27T05:22:46.440755Z",
     "shell.execute_reply": "2023-04-27T05:22:46.439098Z"
    },
    "papermill": {
     "duration": 0.036971,
     "end_time": "2023-04-27T05:22:46.443331",
     "exception": false,
     "start_time": "2023-04-27T05:22:46.406360",
     "status": "completed"
    },
    "tags": []
   },
   "outputs": [],
   "source": [
    "# Define a dictionary to map values to labels\n",
    "label_map = {0: 'Low', 1: 'Moderate', 2: 'High'}\n",
    "\n",
    "# Replace the values in the shop_profile column with labels\n",
    "testdata['shop_profile'] = testdata['shop_profile'].replace(label_map)"
   ]
  },
  {
   "cell_type": "code",
   "execution_count": 47,
   "id": "564ac521",
   "metadata": {
    "execution": {
     "iopub.execute_input": "2023-04-27T05:22:46.494456Z",
     "iopub.status.busy": "2023-04-27T05:22:46.493190Z",
     "iopub.status.idle": "2023-04-27T05:22:46.506091Z",
     "shell.execute_reply": "2023-04-27T05:22:46.504625Z"
    },
    "papermill": {
     "duration": 0.04141,
     "end_time": "2023-04-27T05:22:46.508660",
     "exception": false,
     "start_time": "2023-04-27T05:22:46.467250",
     "status": "completed"
    },
    "tags": []
   },
   "outputs": [
    {
     "name": "stdout",
     "output_type": "stream",
     "text": [
      "Done!!\n"
     ]
    }
   ],
   "source": [
    "## Write to CSV\n",
    "testdata.to_csv('output.csv', index=False)\n",
    "print(\"Done!!\")"
   ]
  }
 ],
 "metadata": {
  "kernelspec": {
   "display_name": "Python 3",
   "language": "python",
   "name": "python3"
  },
  "language_info": {
   "codemirror_mode": {
    "name": "ipython",
    "version": 3
   },
   "file_extension": ".py",
   "mimetype": "text/x-python",
   "name": "python",
   "nbconvert_exporter": "python",
   "pygments_lexer": "ipython3",
   "version": "3.7.12"
  },
  "papermill": {
   "default_parameters": {},
   "duration": 26.706896,
   "end_time": "2023-04-27T05:22:47.556368",
   "environment_variables": {},
   "exception": null,
   "input_path": "__notebook__.ipynb",
   "output_path": "__notebook__.ipynb",
   "parameters": {},
   "start_time": "2023-04-27T05:22:20.849472",
   "version": "2.4.0"
  }
 },
 "nbformat": 4,
 "nbformat_minor": 5
}
