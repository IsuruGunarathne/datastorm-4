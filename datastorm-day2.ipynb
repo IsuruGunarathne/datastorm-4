{
 "cells": [
  {
   "cell_type": "markdown",
   "id": "cbb982cf",
   "metadata": {
    "papermill": {
     "duration": 0.015905,
     "end_time": "2023-04-28T08:50:28.848800",
     "exception": false,
     "start_time": "2023-04-28T08:50:28.832895",
     "status": "completed"
    },
    "tags": []
   },
   "source": [
    "# Store Profile Classifier"
   ]
  },
  {
   "cell_type": "code",
   "execution_count": 1,
   "id": "f25c2542",
   "metadata": {
    "_cell_guid": "b1076dfc-b9ad-4769-8c92-a6c4dae69d19",
    "_uuid": "8f2839f25d086af736a60e9eeb907d3b93b6e0e5",
    "execution": {
     "iopub.execute_input": "2023-04-28T08:50:28.880609Z",
     "iopub.status.busy": "2023-04-28T08:50:28.880039Z",
     "iopub.status.idle": "2023-04-28T08:50:30.069655Z",
     "shell.execute_reply": "2023-04-28T08:50:30.068399Z"
    },
    "papermill": {
     "duration": 1.209282,
     "end_time": "2023-04-28T08:50:30.072678",
     "exception": false,
     "start_time": "2023-04-28T08:50:28.863396",
     "status": "completed"
    },
    "tags": []
   },
   "outputs": [],
   "source": [
    "import pandas as pd\n",
    "import numpy as np\n",
    "import seaborn as sns"
   ]
  },
  {
   "cell_type": "code",
   "execution_count": 2,
   "id": "f6effc2d",
   "metadata": {
    "execution": {
     "iopub.execute_input": "2023-04-28T08:50:30.103820Z",
     "iopub.status.busy": "2023-04-28T08:50:30.103368Z",
     "iopub.status.idle": "2023-04-28T08:50:31.280670Z",
     "shell.execute_reply": "2023-04-28T08:50:31.279131Z"
    },
    "papermill": {
     "duration": 1.196421,
     "end_time": "2023-04-28T08:50:31.283847",
     "exception": false,
     "start_time": "2023-04-28T08:50:30.087426",
     "status": "completed"
    },
    "tags": []
   },
   "outputs": [],
   "source": [
    "transactions = pd.read_csv(\"/kaggle/input/dataset/Historical-transaction-data.csv\")\n",
    "storedata = pd.read_csv(\"/kaggle/input/dataset/Store-info.csv\")\n",
    "testdata = pd.read_csv(\"/kaggle/input/dataset/Testing-data.csv\")"
   ]
  },
  {
   "cell_type": "code",
   "execution_count": 3,
   "id": "1d96f2da",
   "metadata": {
    "execution": {
     "iopub.execute_input": "2023-04-28T08:50:31.317750Z",
     "iopub.status.busy": "2023-04-28T08:50:31.316322Z",
     "iopub.status.idle": "2023-04-28T08:50:31.348556Z",
     "shell.execute_reply": "2023-04-28T08:50:31.347222Z"
    },
    "papermill": {
     "duration": 0.051052,
     "end_time": "2023-04-28T08:50:31.351385",
     "exception": false,
     "start_time": "2023-04-28T08:50:31.300333",
     "status": "completed"
    },
    "tags": []
   },
   "outputs": [
    {
     "data": {
      "text/html": [
       "<div>\n",
       "<style scoped>\n",
       "    .dataframe tbody tr th:only-of-type {\n",
       "        vertical-align: middle;\n",
       "    }\n",
       "\n",
       "    .dataframe tbody tr th {\n",
       "        vertical-align: top;\n",
       "    }\n",
       "\n",
       "    .dataframe thead th {\n",
       "        text-align: right;\n",
       "    }\n",
       "</style>\n",
       "<table border=\"1\" class=\"dataframe\">\n",
       "  <thead>\n",
       "    <tr style=\"text-align: right;\">\n",
       "      <th></th>\n",
       "      <th>item_description</th>\n",
       "      <th>transaction_date</th>\n",
       "      <th>invoice_id</th>\n",
       "      <th>customer_id</th>\n",
       "      <th>shop_id</th>\n",
       "      <th>item_price</th>\n",
       "      <th>quantity_sold</th>\n",
       "    </tr>\n",
       "  </thead>\n",
       "  <tbody>\n",
       "    <tr>\n",
       "      <th>0</th>\n",
       "      <td>ORANGE BARLEY 1.5L</td>\n",
       "      <td>2021-12-11T00:00:00.000Z</td>\n",
       "      <td>147.0</td>\n",
       "      <td>BGXA</td>\n",
       "      <td>SHOP008</td>\n",
       "      <td>220</td>\n",
       "      <td>2</td>\n",
       "    </tr>\n",
       "    <tr>\n",
       "      <th>1</th>\n",
       "      <td>GINGER BEER 1.5L</td>\n",
       "      <td>2021-10-17T00:00:00.000Z</td>\n",
       "      <td>371.0</td>\n",
       "      <td>IA25</td>\n",
       "      <td>SHOP112</td>\n",
       "      <td>220</td>\n",
       "      <td>2</td>\n",
       "    </tr>\n",
       "    <tr>\n",
       "      <th>2</th>\n",
       "      <td>TONIC PET 500ML</td>\n",
       "      <td>2021-12-13T00:00:00.000Z</td>\n",
       "      <td>484.0</td>\n",
       "      <td>VN7V</td>\n",
       "      <td>SHOP008</td>\n",
       "      <td>160</td>\n",
       "      <td>2</td>\n",
       "    </tr>\n",
       "    <tr>\n",
       "      <th>3</th>\n",
       "      <td>CREAM SODA 1L</td>\n",
       "      <td>2021-12-13T00:00:00.000Z</td>\n",
       "      <td>484.0</td>\n",
       "      <td>VN7V</td>\n",
       "      <td>SHOP008</td>\n",
       "      <td>150</td>\n",
       "      <td>2</td>\n",
       "    </tr>\n",
       "    <tr>\n",
       "      <th>4</th>\n",
       "      <td>STRAWBERRY MILK 180ML</td>\n",
       "      <td>2021-10-23T00:00:00.000Z</td>\n",
       "      <td>1310.0</td>\n",
       "      <td>7S00</td>\n",
       "      <td>SHOP112</td>\n",
       "      <td>210</td>\n",
       "      <td>5</td>\n",
       "    </tr>\n",
       "  </tbody>\n",
       "</table>\n",
       "</div>"
      ],
      "text/plain": [
       "        item_description          transaction_date  invoice_id customer_id  \\\n",
       "0     ORANGE BARLEY 1.5L  2021-12-11T00:00:00.000Z       147.0        BGXA   \n",
       "1       GINGER BEER 1.5L  2021-10-17T00:00:00.000Z       371.0        IA25   \n",
       "2        TONIC PET 500ML  2021-12-13T00:00:00.000Z       484.0        VN7V   \n",
       "3          CREAM SODA 1L  2021-12-13T00:00:00.000Z       484.0        VN7V   \n",
       "4  STRAWBERRY MILK 180ML  2021-10-23T00:00:00.000Z      1310.0        7S00   \n",
       "\n",
       "   shop_id  item_price  quantity_sold  \n",
       "0  SHOP008         220              2  \n",
       "1  SHOP112         220              2  \n",
       "2  SHOP008         160              2  \n",
       "3  SHOP008         150              2  \n",
       "4  SHOP112         210              5  "
      ]
     },
     "execution_count": 3,
     "metadata": {},
     "output_type": "execute_result"
    }
   ],
   "source": [
    "transactions.head()"
   ]
  },
  {
   "cell_type": "code",
   "execution_count": 4,
   "id": "8e24dea1",
   "metadata": {
    "execution": {
     "iopub.execute_input": "2023-04-28T08:50:31.383442Z",
     "iopub.status.busy": "2023-04-28T08:50:31.382681Z",
     "iopub.status.idle": "2023-04-28T08:50:31.427403Z",
     "shell.execute_reply": "2023-04-28T08:50:31.426110Z"
    },
    "papermill": {
     "duration": 0.063503,
     "end_time": "2023-04-28T08:50:31.429876",
     "exception": false,
     "start_time": "2023-04-28T08:50:31.366373",
     "status": "completed"
    },
    "tags": []
   },
   "outputs": [
    {
     "name": "stdout",
     "output_type": "stream",
     "text": [
      "124\n"
     ]
    }
   ],
   "source": [
    "unique_shops = transactions['shop_id'].nunique()\n",
    "print(unique_shops)"
   ]
  },
  {
   "cell_type": "markdown",
   "id": "9bbd9504",
   "metadata": {
    "papermill": {
     "duration": 0.015351,
     "end_time": "2023-04-28T08:50:31.461402",
     "exception": false,
     "start_time": "2023-04-28T08:50:31.446051",
     "status": "completed"
    },
    "tags": []
   },
   "source": [
    "Basically there are 124 shops in total, we'll create a dataset from the transaction data"
   ]
  },
  {
   "cell_type": "code",
   "execution_count": 5,
   "id": "a5b79db9",
   "metadata": {
    "execution": {
     "iopub.execute_input": "2023-04-28T08:50:31.493591Z",
     "iopub.status.busy": "2023-04-28T08:50:31.493126Z",
     "iopub.status.idle": "2023-04-28T08:50:31.511815Z",
     "shell.execute_reply": "2023-04-28T08:50:31.510569Z"
    },
    "papermill": {
     "duration": 0.03825,
     "end_time": "2023-04-28T08:50:31.514648",
     "exception": false,
     "start_time": "2023-04-28T08:50:31.476398",
     "status": "completed"
    },
    "tags": []
   },
   "outputs": [
    {
     "data": {
      "text/html": [
       "<div>\n",
       "<style scoped>\n",
       "    .dataframe tbody tr th:only-of-type {\n",
       "        vertical-align: middle;\n",
       "    }\n",
       "\n",
       "    .dataframe tbody tr th {\n",
       "        vertical-align: top;\n",
       "    }\n",
       "\n",
       "    .dataframe thead th {\n",
       "        text-align: right;\n",
       "    }\n",
       "</style>\n",
       "<table border=\"1\" class=\"dataframe\">\n",
       "  <thead>\n",
       "    <tr style=\"text-align: right;\">\n",
       "      <th></th>\n",
       "      <th>shop_id</th>\n",
       "      <th>shop_area_sq_ft</th>\n",
       "      <th>shop_profile</th>\n",
       "    </tr>\n",
       "  </thead>\n",
       "  <tbody>\n",
       "    <tr>\n",
       "      <th>0</th>\n",
       "      <td>SHOP047</td>\n",
       "      <td>528</td>\n",
       "      <td>Moderate</td>\n",
       "    </tr>\n",
       "    <tr>\n",
       "      <th>1</th>\n",
       "      <td>SHOP009</td>\n",
       "      <td>676</td>\n",
       "      <td>High</td>\n",
       "    </tr>\n",
       "    <tr>\n",
       "      <th>2</th>\n",
       "      <td>SHOP083</td>\n",
       "      <td>676</td>\n",
       "      <td>Low</td>\n",
       "    </tr>\n",
       "    <tr>\n",
       "      <th>3</th>\n",
       "      <td>SHOP117</td>\n",
       "      <td>676</td>\n",
       "      <td>Low</td>\n",
       "    </tr>\n",
       "    <tr>\n",
       "      <th>4</th>\n",
       "      <td>SHOP042</td>\n",
       "      <td>676</td>\n",
       "      <td>Low</td>\n",
       "    </tr>\n",
       "    <tr>\n",
       "      <th>...</th>\n",
       "      <td>...</td>\n",
       "      <td>...</td>\n",
       "      <td>...</td>\n",
       "    </tr>\n",
       "    <tr>\n",
       "      <th>119</th>\n",
       "      <td>SHOP087</td>\n",
       "      <td>527</td>\n",
       "      <td>NaN</td>\n",
       "    </tr>\n",
       "    <tr>\n",
       "      <th>120</th>\n",
       "      <td>SHOP050</td>\n",
       "      <td>411</td>\n",
       "      <td>NaN</td>\n",
       "    </tr>\n",
       "    <tr>\n",
       "      <th>121</th>\n",
       "      <td>SHOP061</td>\n",
       "      <td>699</td>\n",
       "      <td>NaN</td>\n",
       "    </tr>\n",
       "    <tr>\n",
       "      <th>122</th>\n",
       "      <td>SHOP056</td>\n",
       "      <td>597</td>\n",
       "      <td>NaN</td>\n",
       "    </tr>\n",
       "    <tr>\n",
       "      <th>123</th>\n",
       "      <td>SHOP070</td>\n",
       "      <td>676</td>\n",
       "      <td>NaN</td>\n",
       "    </tr>\n",
       "  </tbody>\n",
       "</table>\n",
       "<p>124 rows × 3 columns</p>\n",
       "</div>"
      ],
      "text/plain": [
       "     shop_id  shop_area_sq_ft shop_profile\n",
       "0    SHOP047              528     Moderate\n",
       "1    SHOP009              676         High\n",
       "2    SHOP083              676          Low\n",
       "3    SHOP117              676          Low\n",
       "4    SHOP042              676          Low\n",
       "..       ...              ...          ...\n",
       "119  SHOP087              527          NaN\n",
       "120  SHOP050              411          NaN\n",
       "121  SHOP061              699          NaN\n",
       "122  SHOP056              597          NaN\n",
       "123  SHOP070              676          NaN\n",
       "\n",
       "[124 rows x 3 columns]"
      ]
     },
     "execution_count": 5,
     "metadata": {},
     "output_type": "execute_result"
    }
   ],
   "source": [
    "storedata"
   ]
  },
  {
   "cell_type": "markdown",
   "id": "288faea3",
   "metadata": {
    "papermill": {
     "duration": 0.014981,
     "end_time": "2023-04-28T08:50:31.545686",
     "exception": false,
     "start_time": "2023-04-28T08:50:31.530705",
     "status": "completed"
    },
    "tags": []
   },
   "source": [
    "# Planned Features\n",
    "### Implemented\n",
    "- Total Sales volume (total_vol)\n",
    "- Total number of unique customers (total_customers)\n",
    "- Largest volume by date? Largest volume in a single day (single_day_max_vol) ?\n",
    "- Smallest volume by date? (single_day_max_vol)\n",
    "- Sales volume per square foot (vol_per_sq_ft)\n",
    "- Total Number of unique items (total_unique_items)\n",
    "- Total transactions (n_transactions)\n",
    "- Number of recurring customers (customer_id_repeating and customer_id_unique)\n",
    "- Number of customers who visited only once (customer_id_single)\n",
    "\n",
    "### Best Features so far\n",
    "\n",
    "- shop_area_sq_ft, total_vol, total_customers = 0.6666\n",
    "- single_day_min_vol, customer_id_single, shop_area_sq_ft = 0.5\n",
    "- random forest = 0.416\n",
    "- single_day_min_vol, customer_id_single = 0.375\n",
    "\n",
    "### Target variable is shop_profile"
   ]
  },
  {
   "cell_type": "markdown",
   "id": "9b215cdb",
   "metadata": {
    "papermill": {
     "duration": 0.015052,
     "end_time": "2023-04-28T08:50:31.576032",
     "exception": false,
     "start_time": "2023-04-28T08:50:31.560980",
     "status": "completed"
    },
    "tags": []
   },
   "source": [
    "## Adding total_vol and vol_per_sq_ft"
   ]
  },
  {
   "cell_type": "code",
   "execution_count": 6,
   "id": "ec19aaf8",
   "metadata": {
    "execution": {
     "iopub.execute_input": "2023-04-28T08:50:31.609227Z",
     "iopub.status.busy": "2023-04-28T08:50:31.608220Z",
     "iopub.status.idle": "2023-04-28T08:50:31.802534Z",
     "shell.execute_reply": "2023-04-28T08:50:31.801292Z"
    },
    "papermill": {
     "duration": 0.213812,
     "end_time": "2023-04-28T08:50:31.805137",
     "exception": false,
     "start_time": "2023-04-28T08:50:31.591325",
     "status": "completed"
    },
    "tags": []
   },
   "outputs": [
    {
     "data": {
      "text/html": [
       "<div>\n",
       "<style scoped>\n",
       "    .dataframe tbody tr th:only-of-type {\n",
       "        vertical-align: middle;\n",
       "    }\n",
       "\n",
       "    .dataframe tbody tr th {\n",
       "        vertical-align: top;\n",
       "    }\n",
       "\n",
       "    .dataframe thead th {\n",
       "        text-align: right;\n",
       "    }\n",
       "</style>\n",
       "<table border=\"1\" class=\"dataframe\">\n",
       "  <thead>\n",
       "    <tr style=\"text-align: right;\">\n",
       "      <th></th>\n",
       "      <th>shop_id</th>\n",
       "      <th>shop_area_sq_ft</th>\n",
       "      <th>shop_profile</th>\n",
       "      <th>total_vol</th>\n",
       "      <th>vol_per_sq_ft</th>\n",
       "    </tr>\n",
       "  </thead>\n",
       "  <tbody>\n",
       "    <tr>\n",
       "      <th>0</th>\n",
       "      <td>SHOP047</td>\n",
       "      <td>528</td>\n",
       "      <td>Moderate</td>\n",
       "      <td>842960</td>\n",
       "      <td>1596.515152</td>\n",
       "    </tr>\n",
       "    <tr>\n",
       "      <th>1</th>\n",
       "      <td>SHOP009</td>\n",
       "      <td>676</td>\n",
       "      <td>High</td>\n",
       "      <td>1970870</td>\n",
       "      <td>2915.488166</td>\n",
       "    </tr>\n",
       "    <tr>\n",
       "      <th>2</th>\n",
       "      <td>SHOP083</td>\n",
       "      <td>676</td>\n",
       "      <td>Low</td>\n",
       "      <td>1691985</td>\n",
       "      <td>2502.936391</td>\n",
       "    </tr>\n",
       "    <tr>\n",
       "      <th>3</th>\n",
       "      <td>SHOP117</td>\n",
       "      <td>676</td>\n",
       "      <td>Low</td>\n",
       "      <td>2325980</td>\n",
       "      <td>3440.798817</td>\n",
       "    </tr>\n",
       "    <tr>\n",
       "      <th>4</th>\n",
       "      <td>SHOP042</td>\n",
       "      <td>676</td>\n",
       "      <td>Low</td>\n",
       "      <td>1340215</td>\n",
       "      <td>1982.566568</td>\n",
       "    </tr>\n",
       "    <tr>\n",
       "      <th>...</th>\n",
       "      <td>...</td>\n",
       "      <td>...</td>\n",
       "      <td>...</td>\n",
       "      <td>...</td>\n",
       "      <td>...</td>\n",
       "    </tr>\n",
       "    <tr>\n",
       "      <th>119</th>\n",
       "      <td>SHOP087</td>\n",
       "      <td>527</td>\n",
       "      <td>NaN</td>\n",
       "      <td>1128935</td>\n",
       "      <td>2142.191651</td>\n",
       "    </tr>\n",
       "    <tr>\n",
       "      <th>120</th>\n",
       "      <td>SHOP050</td>\n",
       "      <td>411</td>\n",
       "      <td>NaN</td>\n",
       "      <td>2399125</td>\n",
       "      <td>5837.287105</td>\n",
       "    </tr>\n",
       "    <tr>\n",
       "      <th>121</th>\n",
       "      <td>SHOP061</td>\n",
       "      <td>699</td>\n",
       "      <td>NaN</td>\n",
       "      <td>2110800</td>\n",
       "      <td>3019.742489</td>\n",
       "    </tr>\n",
       "    <tr>\n",
       "      <th>122</th>\n",
       "      <td>SHOP056</td>\n",
       "      <td>597</td>\n",
       "      <td>NaN</td>\n",
       "      <td>3023805</td>\n",
       "      <td>5065.000000</td>\n",
       "    </tr>\n",
       "    <tr>\n",
       "      <th>123</th>\n",
       "      <td>SHOP070</td>\n",
       "      <td>676</td>\n",
       "      <td>NaN</td>\n",
       "      <td>1325070</td>\n",
       "      <td>1960.162722</td>\n",
       "    </tr>\n",
       "  </tbody>\n",
       "</table>\n",
       "<p>124 rows × 5 columns</p>\n",
       "</div>"
      ],
      "text/plain": [
       "     shop_id  shop_area_sq_ft shop_profile  total_vol  vol_per_sq_ft\n",
       "0    SHOP047              528     Moderate     842960    1596.515152\n",
       "1    SHOP009              676         High    1970870    2915.488166\n",
       "2    SHOP083              676          Low    1691985    2502.936391\n",
       "3    SHOP117              676          Low    2325980    3440.798817\n",
       "4    SHOP042              676          Low    1340215    1982.566568\n",
       "..       ...              ...          ...        ...            ...\n",
       "119  SHOP087              527          NaN    1128935    2142.191651\n",
       "120  SHOP050              411          NaN    2399125    5837.287105\n",
       "121  SHOP061              699          NaN    2110800    3019.742489\n",
       "122  SHOP056              597          NaN    3023805    5065.000000\n",
       "123  SHOP070              676          NaN    1325070    1960.162722\n",
       "\n",
       "[124 rows x 5 columns]"
      ]
     },
     "execution_count": 6,
     "metadata": {},
     "output_type": "execute_result"
    }
   ],
   "source": [
    "# Compute the total volume of transactions for each store_id in the dataset dataframe\n",
    "total_vol_by_store = transactions.groupby('shop_id').apply(lambda x: (x['item_price'] * x['quantity_sold']).sum())\n",
    "\n",
    "total_vol_by_store = total_vol_by_store.rename('total_vol')\n",
    "\n",
    "# Merge the total_vol_by_store series with the storedata dataframe on the 'store_id' column\n",
    "storedata = pd.merge(storedata, total_vol_by_store, on='shop_id', how='left')\n",
    "storedata[\"vol_per_sq_ft\"] = storedata[\"total_vol\"] / storedata[\"shop_area_sq_ft\"]\n",
    "storedata"
   ]
  },
  {
   "cell_type": "markdown",
   "id": "e586085b",
   "metadata": {
    "papermill": {
     "duration": 0.015172,
     "end_time": "2023-04-28T08:50:31.835875",
     "exception": false,
     "start_time": "2023-04-28T08:50:31.820703",
     "status": "completed"
    },
    "tags": []
   },
   "source": [
    "## Adding total_customers"
   ]
  },
  {
   "cell_type": "code",
   "execution_count": 7,
   "id": "fd378dba",
   "metadata": {
    "execution": {
     "iopub.execute_input": "2023-04-28T08:50:31.868923Z",
     "iopub.status.busy": "2023-04-28T08:50:31.868484Z",
     "iopub.status.idle": "2023-04-28T08:50:32.083360Z",
     "shell.execute_reply": "2023-04-28T08:50:32.081972Z"
    },
    "papermill": {
     "duration": 0.234589,
     "end_time": "2023-04-28T08:50:32.086190",
     "exception": false,
     "start_time": "2023-04-28T08:50:31.851601",
     "status": "completed"
    },
    "tags": []
   },
   "outputs": [],
   "source": [
    "# group the transactions dataframe by shop_id and count the number of unique customer_ids\n",
    "unique_customers = transactions.groupby('shop_id')['customer_id'].nunique()\n",
    "\n",
    "# add a new column to the storedata dataframe with the counts of unique customers\n",
    "storedata['total_customers'] = storedata['shop_id'].map(unique_customers)"
   ]
  },
  {
   "cell_type": "code",
   "execution_count": 8,
   "id": "24e1b50b",
   "metadata": {
    "execution": {
     "iopub.execute_input": "2023-04-28T08:50:32.120178Z",
     "iopub.status.busy": "2023-04-28T08:50:32.118856Z",
     "iopub.status.idle": "2023-04-28T08:50:32.136610Z",
     "shell.execute_reply": "2023-04-28T08:50:32.135342Z"
    },
    "papermill": {
     "duration": 0.037568,
     "end_time": "2023-04-28T08:50:32.139388",
     "exception": false,
     "start_time": "2023-04-28T08:50:32.101820",
     "status": "completed"
    },
    "tags": []
   },
   "outputs": [
    {
     "data": {
      "text/html": [
       "<div>\n",
       "<style scoped>\n",
       "    .dataframe tbody tr th:only-of-type {\n",
       "        vertical-align: middle;\n",
       "    }\n",
       "\n",
       "    .dataframe tbody tr th {\n",
       "        vertical-align: top;\n",
       "    }\n",
       "\n",
       "    .dataframe thead th {\n",
       "        text-align: right;\n",
       "    }\n",
       "</style>\n",
       "<table border=\"1\" class=\"dataframe\">\n",
       "  <thead>\n",
       "    <tr style=\"text-align: right;\">\n",
       "      <th></th>\n",
       "      <th>shop_id</th>\n",
       "      <th>shop_area_sq_ft</th>\n",
       "      <th>shop_profile</th>\n",
       "      <th>total_vol</th>\n",
       "      <th>vol_per_sq_ft</th>\n",
       "      <th>total_customers</th>\n",
       "    </tr>\n",
       "  </thead>\n",
       "  <tbody>\n",
       "    <tr>\n",
       "      <th>0</th>\n",
       "      <td>SHOP047</td>\n",
       "      <td>528</td>\n",
       "      <td>Moderate</td>\n",
       "      <td>842960</td>\n",
       "      <td>1596.515152</td>\n",
       "      <td>928</td>\n",
       "    </tr>\n",
       "    <tr>\n",
       "      <th>1</th>\n",
       "      <td>SHOP009</td>\n",
       "      <td>676</td>\n",
       "      <td>High</td>\n",
       "      <td>1970870</td>\n",
       "      <td>2915.488166</td>\n",
       "      <td>2498</td>\n",
       "    </tr>\n",
       "    <tr>\n",
       "      <th>2</th>\n",
       "      <td>SHOP083</td>\n",
       "      <td>676</td>\n",
       "      <td>Low</td>\n",
       "      <td>1691985</td>\n",
       "      <td>2502.936391</td>\n",
       "      <td>1900</td>\n",
       "    </tr>\n",
       "    <tr>\n",
       "      <th>3</th>\n",
       "      <td>SHOP117</td>\n",
       "      <td>676</td>\n",
       "      <td>Low</td>\n",
       "      <td>2325980</td>\n",
       "      <td>3440.798817</td>\n",
       "      <td>2037</td>\n",
       "    </tr>\n",
       "    <tr>\n",
       "      <th>4</th>\n",
       "      <td>SHOP042</td>\n",
       "      <td>676</td>\n",
       "      <td>Low</td>\n",
       "      <td>1340215</td>\n",
       "      <td>1982.566568</td>\n",
       "      <td>1841</td>\n",
       "    </tr>\n",
       "    <tr>\n",
       "      <th>...</th>\n",
       "      <td>...</td>\n",
       "      <td>...</td>\n",
       "      <td>...</td>\n",
       "      <td>...</td>\n",
       "      <td>...</td>\n",
       "      <td>...</td>\n",
       "    </tr>\n",
       "    <tr>\n",
       "      <th>119</th>\n",
       "      <td>SHOP087</td>\n",
       "      <td>527</td>\n",
       "      <td>NaN</td>\n",
       "      <td>1128935</td>\n",
       "      <td>2142.191651</td>\n",
       "      <td>1083</td>\n",
       "    </tr>\n",
       "    <tr>\n",
       "      <th>120</th>\n",
       "      <td>SHOP050</td>\n",
       "      <td>411</td>\n",
       "      <td>NaN</td>\n",
       "      <td>2399125</td>\n",
       "      <td>5837.287105</td>\n",
       "      <td>1778</td>\n",
       "    </tr>\n",
       "    <tr>\n",
       "      <th>121</th>\n",
       "      <td>SHOP061</td>\n",
       "      <td>699</td>\n",
       "      <td>NaN</td>\n",
       "      <td>2110800</td>\n",
       "      <td>3019.742489</td>\n",
       "      <td>1746</td>\n",
       "    </tr>\n",
       "    <tr>\n",
       "      <th>122</th>\n",
       "      <td>SHOP056</td>\n",
       "      <td>597</td>\n",
       "      <td>NaN</td>\n",
       "      <td>3023805</td>\n",
       "      <td>5065.000000</td>\n",
       "      <td>2832</td>\n",
       "    </tr>\n",
       "    <tr>\n",
       "      <th>123</th>\n",
       "      <td>SHOP070</td>\n",
       "      <td>676</td>\n",
       "      <td>NaN</td>\n",
       "      <td>1325070</td>\n",
       "      <td>1960.162722</td>\n",
       "      <td>1423</td>\n",
       "    </tr>\n",
       "  </tbody>\n",
       "</table>\n",
       "<p>124 rows × 6 columns</p>\n",
       "</div>"
      ],
      "text/plain": [
       "     shop_id  shop_area_sq_ft shop_profile  total_vol  vol_per_sq_ft  \\\n",
       "0    SHOP047              528     Moderate     842960    1596.515152   \n",
       "1    SHOP009              676         High    1970870    2915.488166   \n",
       "2    SHOP083              676          Low    1691985    2502.936391   \n",
       "3    SHOP117              676          Low    2325980    3440.798817   \n",
       "4    SHOP042              676          Low    1340215    1982.566568   \n",
       "..       ...              ...          ...        ...            ...   \n",
       "119  SHOP087              527          NaN    1128935    2142.191651   \n",
       "120  SHOP050              411          NaN    2399125    5837.287105   \n",
       "121  SHOP061              699          NaN    2110800    3019.742489   \n",
       "122  SHOP056              597          NaN    3023805    5065.000000   \n",
       "123  SHOP070              676          NaN    1325070    1960.162722   \n",
       "\n",
       "     total_customers  \n",
       "0                928  \n",
       "1               2498  \n",
       "2               1900  \n",
       "3               2037  \n",
       "4               1841  \n",
       "..               ...  \n",
       "119             1083  \n",
       "120             1778  \n",
       "121             1746  \n",
       "122             2832  \n",
       "123             1423  \n",
       "\n",
       "[124 rows x 6 columns]"
      ]
     },
     "execution_count": 8,
     "metadata": {},
     "output_type": "execute_result"
    }
   ],
   "source": [
    "storedata"
   ]
  },
  {
   "cell_type": "markdown",
   "id": "c4172c9d",
   "metadata": {
    "papermill": {
     "duration": 0.015601,
     "end_time": "2023-04-28T08:50:32.170902",
     "exception": false,
     "start_time": "2023-04-28T08:50:32.155301",
     "status": "completed"
    },
    "tags": []
   },
   "source": [
    "## Adding total_unique_items"
   ]
  },
  {
   "cell_type": "code",
   "execution_count": 9,
   "id": "bfcbc937",
   "metadata": {
    "execution": {
     "iopub.execute_input": "2023-04-28T08:50:32.204128Z",
     "iopub.status.busy": "2023-04-28T08:50:32.203678Z",
     "iopub.status.idle": "2023-04-28T08:50:32.362818Z",
     "shell.execute_reply": "2023-04-28T08:50:32.361519Z"
    },
    "papermill": {
     "duration": 0.179155,
     "end_time": "2023-04-28T08:50:32.365805",
     "exception": false,
     "start_time": "2023-04-28T08:50:32.186650",
     "status": "completed"
    },
    "tags": []
   },
   "outputs": [],
   "source": [
    "# group the transactions dataframe by shop_id and count the number of unique item_descriptions\n",
    "unique_items = transactions.groupby('shop_id')['item_description'].nunique()\n",
    "\n",
    "# add a new column to the storedata dataframe with the counts of unique items\n",
    "storedata['total_unique_items'] = storedata['shop_id'].map(unique_items)"
   ]
  },
  {
   "cell_type": "markdown",
   "id": "6847ad26",
   "metadata": {
    "papermill": {
     "duration": 0.015609,
     "end_time": "2023-04-28T08:50:32.397206",
     "exception": false,
     "start_time": "2023-04-28T08:50:32.381597",
     "status": "completed"
    },
    "tags": []
   },
   "source": [
    "## Adding single_day_max_vol"
   ]
  },
  {
   "cell_type": "code",
   "execution_count": 10,
   "id": "04d2c3df",
   "metadata": {
    "execution": {
     "iopub.execute_input": "2023-04-28T08:50:32.430883Z",
     "iopub.status.busy": "2023-04-28T08:50:32.430454Z",
     "iopub.status.idle": "2023-04-28T08:50:32.558061Z",
     "shell.execute_reply": "2023-04-28T08:50:32.556779Z"
    },
    "papermill": {
     "duration": 0.147608,
     "end_time": "2023-04-28T08:50:32.560900",
     "exception": false,
     "start_time": "2023-04-28T08:50:32.413292",
     "status": "completed"
    },
    "tags": []
   },
   "outputs": [],
   "source": [
    "transactions['single_day_max_vol'] = transactions['item_price'] * transactions['quantity_sold']\n",
    "total_volume_per_day = transactions.groupby(['shop_id', 'transaction_date'])['single_day_max_vol'].sum().reset_index()\n",
    "highest_volume_per_shop = total_volume_per_day.groupby('shop_id')['single_day_max_vol'].max().reset_index()\n",
    "\n",
    "storedata = pd.merge(storedata, highest_volume_per_shop, on='shop_id')"
   ]
  },
  {
   "cell_type": "markdown",
   "id": "e0764818",
   "metadata": {
    "papermill": {
     "duration": 0.015431,
     "end_time": "2023-04-28T08:50:32.592200",
     "exception": false,
     "start_time": "2023-04-28T08:50:32.576769",
     "status": "completed"
    },
    "tags": []
   },
   "source": [
    "## Adding single_day_min_vol"
   ]
  },
  {
   "cell_type": "code",
   "execution_count": 11,
   "id": "0cf4e2f8",
   "metadata": {
    "execution": {
     "iopub.execute_input": "2023-04-28T08:50:32.625956Z",
     "iopub.status.busy": "2023-04-28T08:50:32.625077Z",
     "iopub.status.idle": "2023-04-28T08:50:32.762202Z",
     "shell.execute_reply": "2023-04-28T08:50:32.761085Z"
    },
    "papermill": {
     "duration": 0.157476,
     "end_time": "2023-04-28T08:50:32.765461",
     "exception": false,
     "start_time": "2023-04-28T08:50:32.607985",
     "status": "completed"
    },
    "tags": []
   },
   "outputs": [],
   "source": [
    "transactions['single_day_min_vol'] = transactions['item_price'] * transactions['quantity_sold']\n",
    "total_volume_per_day = transactions.groupby(['shop_id', 'transaction_date'])['single_day_min_vol'].sum().reset_index()\n",
    "highest_volume_per_shop = total_volume_per_day.groupby('shop_id')['single_day_min_vol'].min().reset_index()\n",
    "\n",
    "storedata = pd.merge(storedata, highest_volume_per_shop, on='shop_id')"
   ]
  },
  {
   "cell_type": "code",
   "execution_count": 12,
   "id": "6ffebe5b",
   "metadata": {
    "execution": {
     "iopub.execute_input": "2023-04-28T08:50:32.799257Z",
     "iopub.status.busy": "2023-04-28T08:50:32.798452Z",
     "iopub.status.idle": "2023-04-28T08:50:32.819449Z",
     "shell.execute_reply": "2023-04-28T08:50:32.817983Z"
    },
    "papermill": {
     "duration": 0.040941,
     "end_time": "2023-04-28T08:50:32.822329",
     "exception": false,
     "start_time": "2023-04-28T08:50:32.781388",
     "status": "completed"
    },
    "tags": []
   },
   "outputs": [
    {
     "data": {
      "text/html": [
       "<div>\n",
       "<style scoped>\n",
       "    .dataframe tbody tr th:only-of-type {\n",
       "        vertical-align: middle;\n",
       "    }\n",
       "\n",
       "    .dataframe tbody tr th {\n",
       "        vertical-align: top;\n",
       "    }\n",
       "\n",
       "    .dataframe thead th {\n",
       "        text-align: right;\n",
       "    }\n",
       "</style>\n",
       "<table border=\"1\" class=\"dataframe\">\n",
       "  <thead>\n",
       "    <tr style=\"text-align: right;\">\n",
       "      <th></th>\n",
       "      <th>shop_id</th>\n",
       "      <th>shop_area_sq_ft</th>\n",
       "      <th>shop_profile</th>\n",
       "      <th>total_vol</th>\n",
       "      <th>vol_per_sq_ft</th>\n",
       "      <th>total_customers</th>\n",
       "      <th>total_unique_items</th>\n",
       "      <th>single_day_max_vol</th>\n",
       "      <th>single_day_min_vol</th>\n",
       "    </tr>\n",
       "  </thead>\n",
       "  <tbody>\n",
       "    <tr>\n",
       "      <th>0</th>\n",
       "      <td>SHOP047</td>\n",
       "      <td>528</td>\n",
       "      <td>Moderate</td>\n",
       "      <td>842960</td>\n",
       "      <td>1596.515152</td>\n",
       "      <td>928</td>\n",
       "      <td>35</td>\n",
       "      <td>71305</td>\n",
       "      <td>2020</td>\n",
       "    </tr>\n",
       "    <tr>\n",
       "      <th>1</th>\n",
       "      <td>SHOP009</td>\n",
       "      <td>676</td>\n",
       "      <td>High</td>\n",
       "      <td>1970870</td>\n",
       "      <td>2915.488166</td>\n",
       "      <td>2498</td>\n",
       "      <td>35</td>\n",
       "      <td>85750</td>\n",
       "      <td>9230</td>\n",
       "    </tr>\n",
       "    <tr>\n",
       "      <th>2</th>\n",
       "      <td>SHOP083</td>\n",
       "      <td>676</td>\n",
       "      <td>Low</td>\n",
       "      <td>1691985</td>\n",
       "      <td>2502.936391</td>\n",
       "      <td>1900</td>\n",
       "      <td>36</td>\n",
       "      <td>70610</td>\n",
       "      <td>8225</td>\n",
       "    </tr>\n",
       "    <tr>\n",
       "      <th>3</th>\n",
       "      <td>SHOP117</td>\n",
       "      <td>676</td>\n",
       "      <td>Low</td>\n",
       "      <td>2325980</td>\n",
       "      <td>3440.798817</td>\n",
       "      <td>2037</td>\n",
       "      <td>35</td>\n",
       "      <td>82170</td>\n",
       "      <td>6390</td>\n",
       "    </tr>\n",
       "    <tr>\n",
       "      <th>4</th>\n",
       "      <td>SHOP042</td>\n",
       "      <td>676</td>\n",
       "      <td>Low</td>\n",
       "      <td>1340215</td>\n",
       "      <td>1982.566568</td>\n",
       "      <td>1841</td>\n",
       "      <td>35</td>\n",
       "      <td>69185</td>\n",
       "      <td>5265</td>\n",
       "    </tr>\n",
       "    <tr>\n",
       "      <th>...</th>\n",
       "      <td>...</td>\n",
       "      <td>...</td>\n",
       "      <td>...</td>\n",
       "      <td>...</td>\n",
       "      <td>...</td>\n",
       "      <td>...</td>\n",
       "      <td>...</td>\n",
       "      <td>...</td>\n",
       "      <td>...</td>\n",
       "    </tr>\n",
       "    <tr>\n",
       "      <th>119</th>\n",
       "      <td>SHOP087</td>\n",
       "      <td>527</td>\n",
       "      <td>NaN</td>\n",
       "      <td>1128935</td>\n",
       "      <td>2142.191651</td>\n",
       "      <td>1083</td>\n",
       "      <td>35</td>\n",
       "      <td>119750</td>\n",
       "      <td>2160</td>\n",
       "    </tr>\n",
       "    <tr>\n",
       "      <th>120</th>\n",
       "      <td>SHOP050</td>\n",
       "      <td>411</td>\n",
       "      <td>NaN</td>\n",
       "      <td>2399125</td>\n",
       "      <td>5837.287105</td>\n",
       "      <td>1778</td>\n",
       "      <td>31</td>\n",
       "      <td>157410</td>\n",
       "      <td>8015</td>\n",
       "    </tr>\n",
       "    <tr>\n",
       "      <th>121</th>\n",
       "      <td>SHOP061</td>\n",
       "      <td>699</td>\n",
       "      <td>NaN</td>\n",
       "      <td>2110800</td>\n",
       "      <td>3019.742489</td>\n",
       "      <td>1746</td>\n",
       "      <td>35</td>\n",
       "      <td>475215</td>\n",
       "      <td>6495</td>\n",
       "    </tr>\n",
       "    <tr>\n",
       "      <th>122</th>\n",
       "      <td>SHOP056</td>\n",
       "      <td>597</td>\n",
       "      <td>NaN</td>\n",
       "      <td>3023805</td>\n",
       "      <td>5065.000000</td>\n",
       "      <td>2832</td>\n",
       "      <td>35</td>\n",
       "      <td>162465</td>\n",
       "      <td>16780</td>\n",
       "    </tr>\n",
       "    <tr>\n",
       "      <th>123</th>\n",
       "      <td>SHOP070</td>\n",
       "      <td>676</td>\n",
       "      <td>NaN</td>\n",
       "      <td>1325070</td>\n",
       "      <td>1960.162722</td>\n",
       "      <td>1423</td>\n",
       "      <td>36</td>\n",
       "      <td>84500</td>\n",
       "      <td>5495</td>\n",
       "    </tr>\n",
       "  </tbody>\n",
       "</table>\n",
       "<p>124 rows × 9 columns</p>\n",
       "</div>"
      ],
      "text/plain": [
       "     shop_id  shop_area_sq_ft shop_profile  total_vol  vol_per_sq_ft  \\\n",
       "0    SHOP047              528     Moderate     842960    1596.515152   \n",
       "1    SHOP009              676         High    1970870    2915.488166   \n",
       "2    SHOP083              676          Low    1691985    2502.936391   \n",
       "3    SHOP117              676          Low    2325980    3440.798817   \n",
       "4    SHOP042              676          Low    1340215    1982.566568   \n",
       "..       ...              ...          ...        ...            ...   \n",
       "119  SHOP087              527          NaN    1128935    2142.191651   \n",
       "120  SHOP050              411          NaN    2399125    5837.287105   \n",
       "121  SHOP061              699          NaN    2110800    3019.742489   \n",
       "122  SHOP056              597          NaN    3023805    5065.000000   \n",
       "123  SHOP070              676          NaN    1325070    1960.162722   \n",
       "\n",
       "     total_customers  total_unique_items  single_day_max_vol  \\\n",
       "0                928                  35               71305   \n",
       "1               2498                  35               85750   \n",
       "2               1900                  36               70610   \n",
       "3               2037                  35               82170   \n",
       "4               1841                  35               69185   \n",
       "..               ...                 ...                 ...   \n",
       "119             1083                  35              119750   \n",
       "120             1778                  31              157410   \n",
       "121             1746                  35              475215   \n",
       "122             2832                  35              162465   \n",
       "123             1423                  36               84500   \n",
       "\n",
       "     single_day_min_vol  \n",
       "0                  2020  \n",
       "1                  9230  \n",
       "2                  8225  \n",
       "3                  6390  \n",
       "4                  5265  \n",
       "..                  ...  \n",
       "119                2160  \n",
       "120                8015  \n",
       "121                6495  \n",
       "122               16780  \n",
       "123                5495  \n",
       "\n",
       "[124 rows x 9 columns]"
      ]
     },
     "execution_count": 12,
     "metadata": {},
     "output_type": "execute_result"
    }
   ],
   "source": [
    "storedata"
   ]
  },
  {
   "cell_type": "markdown",
   "id": "91fd6256",
   "metadata": {
    "papermill": {
     "duration": 0.015642,
     "end_time": "2023-04-28T08:50:32.854054",
     "exception": false,
     "start_time": "2023-04-28T08:50:32.838412",
     "status": "completed"
    },
    "tags": []
   },
   "source": [
    "## Adding n_transactions"
   ]
  },
  {
   "cell_type": "code",
   "execution_count": 13,
   "id": "c9b7a688",
   "metadata": {
    "execution": {
     "iopub.execute_input": "2023-04-28T08:50:32.888103Z",
     "iopub.status.busy": "2023-04-28T08:50:32.887699Z",
     "iopub.status.idle": "2023-04-28T08:50:33.022999Z",
     "shell.execute_reply": "2023-04-28T08:50:33.021937Z"
    },
    "papermill": {
     "duration": 0.155772,
     "end_time": "2023-04-28T08:50:33.025908",
     "exception": false,
     "start_time": "2023-04-28T08:50:32.870136",
     "status": "completed"
    },
    "tags": []
   },
   "outputs": [],
   "source": [
    "# group transactions by shop_id and count the number of unique invoice_ids\n",
    "transaction_counts = transactions.groupby('shop_id')['invoice_id'].nunique()\n",
    "\n",
    "# add a new column to storedata with the transaction counts for each shop\n",
    "storedata['n_transactions'] = storedata['shop_id'].map(transaction_counts)"
   ]
  },
  {
   "cell_type": "code",
   "execution_count": 14,
   "id": "4c71aa49",
   "metadata": {
    "execution": {
     "iopub.execute_input": "2023-04-28T08:50:33.060397Z",
     "iopub.status.busy": "2023-04-28T08:50:33.059968Z",
     "iopub.status.idle": "2023-04-28T08:50:33.079167Z",
     "shell.execute_reply": "2023-04-28T08:50:33.077844Z"
    },
    "papermill": {
     "duration": 0.039692,
     "end_time": "2023-04-28T08:50:33.081690",
     "exception": false,
     "start_time": "2023-04-28T08:50:33.041998",
     "status": "completed"
    },
    "tags": []
   },
   "outputs": [
    {
     "data": {
      "text/html": [
       "<div>\n",
       "<style scoped>\n",
       "    .dataframe tbody tr th:only-of-type {\n",
       "        vertical-align: middle;\n",
       "    }\n",
       "\n",
       "    .dataframe tbody tr th {\n",
       "        vertical-align: top;\n",
       "    }\n",
       "\n",
       "    .dataframe thead th {\n",
       "        text-align: right;\n",
       "    }\n",
       "</style>\n",
       "<table border=\"1\" class=\"dataframe\">\n",
       "  <thead>\n",
       "    <tr style=\"text-align: right;\">\n",
       "      <th></th>\n",
       "      <th>shop_id</th>\n",
       "      <th>shop_area_sq_ft</th>\n",
       "      <th>shop_profile</th>\n",
       "      <th>total_vol</th>\n",
       "      <th>vol_per_sq_ft</th>\n",
       "      <th>total_customers</th>\n",
       "      <th>total_unique_items</th>\n",
       "      <th>single_day_max_vol</th>\n",
       "      <th>single_day_min_vol</th>\n",
       "      <th>n_transactions</th>\n",
       "    </tr>\n",
       "  </thead>\n",
       "  <tbody>\n",
       "    <tr>\n",
       "      <th>0</th>\n",
       "      <td>SHOP047</td>\n",
       "      <td>528</td>\n",
       "      <td>Moderate</td>\n",
       "      <td>842960</td>\n",
       "      <td>1596.515152</td>\n",
       "      <td>928</td>\n",
       "      <td>35</td>\n",
       "      <td>71305</td>\n",
       "      <td>2020</td>\n",
       "      <td>1302</td>\n",
       "    </tr>\n",
       "    <tr>\n",
       "      <th>1</th>\n",
       "      <td>SHOP009</td>\n",
       "      <td>676</td>\n",
       "      <td>High</td>\n",
       "      <td>1970870</td>\n",
       "      <td>2915.488166</td>\n",
       "      <td>2498</td>\n",
       "      <td>35</td>\n",
       "      <td>85750</td>\n",
       "      <td>9230</td>\n",
       "      <td>3493</td>\n",
       "    </tr>\n",
       "    <tr>\n",
       "      <th>2</th>\n",
       "      <td>SHOP083</td>\n",
       "      <td>676</td>\n",
       "      <td>Low</td>\n",
       "      <td>1691985</td>\n",
       "      <td>2502.936391</td>\n",
       "      <td>1900</td>\n",
       "      <td>36</td>\n",
       "      <td>70610</td>\n",
       "      <td>8225</td>\n",
       "      <td>2718</td>\n",
       "    </tr>\n",
       "    <tr>\n",
       "      <th>3</th>\n",
       "      <td>SHOP117</td>\n",
       "      <td>676</td>\n",
       "      <td>Low</td>\n",
       "      <td>2325980</td>\n",
       "      <td>3440.798817</td>\n",
       "      <td>2037</td>\n",
       "      <td>35</td>\n",
       "      <td>82170</td>\n",
       "      <td>6390</td>\n",
       "      <td>3158</td>\n",
       "    </tr>\n",
       "    <tr>\n",
       "      <th>4</th>\n",
       "      <td>SHOP042</td>\n",
       "      <td>676</td>\n",
       "      <td>Low</td>\n",
       "      <td>1340215</td>\n",
       "      <td>1982.566568</td>\n",
       "      <td>1841</td>\n",
       "      <td>35</td>\n",
       "      <td>69185</td>\n",
       "      <td>5265</td>\n",
       "      <td>2495</td>\n",
       "    </tr>\n",
       "    <tr>\n",
       "      <th>...</th>\n",
       "      <td>...</td>\n",
       "      <td>...</td>\n",
       "      <td>...</td>\n",
       "      <td>...</td>\n",
       "      <td>...</td>\n",
       "      <td>...</td>\n",
       "      <td>...</td>\n",
       "      <td>...</td>\n",
       "      <td>...</td>\n",
       "      <td>...</td>\n",
       "    </tr>\n",
       "    <tr>\n",
       "      <th>119</th>\n",
       "      <td>SHOP087</td>\n",
       "      <td>527</td>\n",
       "      <td>NaN</td>\n",
       "      <td>1128935</td>\n",
       "      <td>2142.191651</td>\n",
       "      <td>1083</td>\n",
       "      <td>35</td>\n",
       "      <td>119750</td>\n",
       "      <td>2160</td>\n",
       "      <td>1504</td>\n",
       "    </tr>\n",
       "    <tr>\n",
       "      <th>120</th>\n",
       "      <td>SHOP050</td>\n",
       "      <td>411</td>\n",
       "      <td>NaN</td>\n",
       "      <td>2399125</td>\n",
       "      <td>5837.287105</td>\n",
       "      <td>1778</td>\n",
       "      <td>31</td>\n",
       "      <td>157410</td>\n",
       "      <td>8015</td>\n",
       "      <td>3159</td>\n",
       "    </tr>\n",
       "    <tr>\n",
       "      <th>121</th>\n",
       "      <td>SHOP061</td>\n",
       "      <td>699</td>\n",
       "      <td>NaN</td>\n",
       "      <td>2110800</td>\n",
       "      <td>3019.742489</td>\n",
       "      <td>1746</td>\n",
       "      <td>35</td>\n",
       "      <td>475215</td>\n",
       "      <td>6495</td>\n",
       "      <td>2345</td>\n",
       "    </tr>\n",
       "    <tr>\n",
       "      <th>122</th>\n",
       "      <td>SHOP056</td>\n",
       "      <td>597</td>\n",
       "      <td>NaN</td>\n",
       "      <td>3023805</td>\n",
       "      <td>5065.000000</td>\n",
       "      <td>2832</td>\n",
       "      <td>35</td>\n",
       "      <td>162465</td>\n",
       "      <td>16780</td>\n",
       "      <td>4320</td>\n",
       "    </tr>\n",
       "    <tr>\n",
       "      <th>123</th>\n",
       "      <td>SHOP070</td>\n",
       "      <td>676</td>\n",
       "      <td>NaN</td>\n",
       "      <td>1325070</td>\n",
       "      <td>1960.162722</td>\n",
       "      <td>1423</td>\n",
       "      <td>36</td>\n",
       "      <td>84500</td>\n",
       "      <td>5495</td>\n",
       "      <td>2122</td>\n",
       "    </tr>\n",
       "  </tbody>\n",
       "</table>\n",
       "<p>124 rows × 10 columns</p>\n",
       "</div>"
      ],
      "text/plain": [
       "     shop_id  shop_area_sq_ft shop_profile  total_vol  vol_per_sq_ft  \\\n",
       "0    SHOP047              528     Moderate     842960    1596.515152   \n",
       "1    SHOP009              676         High    1970870    2915.488166   \n",
       "2    SHOP083              676          Low    1691985    2502.936391   \n",
       "3    SHOP117              676          Low    2325980    3440.798817   \n",
       "4    SHOP042              676          Low    1340215    1982.566568   \n",
       "..       ...              ...          ...        ...            ...   \n",
       "119  SHOP087              527          NaN    1128935    2142.191651   \n",
       "120  SHOP050              411          NaN    2399125    5837.287105   \n",
       "121  SHOP061              699          NaN    2110800    3019.742489   \n",
       "122  SHOP056              597          NaN    3023805    5065.000000   \n",
       "123  SHOP070              676          NaN    1325070    1960.162722   \n",
       "\n",
       "     total_customers  total_unique_items  single_day_max_vol  \\\n",
       "0                928                  35               71305   \n",
       "1               2498                  35               85750   \n",
       "2               1900                  36               70610   \n",
       "3               2037                  35               82170   \n",
       "4               1841                  35               69185   \n",
       "..               ...                 ...                 ...   \n",
       "119             1083                  35              119750   \n",
       "120             1778                  31              157410   \n",
       "121             1746                  35              475215   \n",
       "122             2832                  35              162465   \n",
       "123             1423                  36               84500   \n",
       "\n",
       "     single_day_min_vol  n_transactions  \n",
       "0                  2020            1302  \n",
       "1                  9230            3493  \n",
       "2                  8225            2718  \n",
       "3                  6390            3158  \n",
       "4                  5265            2495  \n",
       "..                  ...             ...  \n",
       "119                2160            1504  \n",
       "120                8015            3159  \n",
       "121                6495            2345  \n",
       "122               16780            4320  \n",
       "123                5495            2122  \n",
       "\n",
       "[124 rows x 10 columns]"
      ]
     },
     "execution_count": 14,
     "metadata": {},
     "output_type": "execute_result"
    }
   ],
   "source": [
    "storedata"
   ]
  },
  {
   "cell_type": "markdown",
   "id": "0c551b17",
   "metadata": {
    "papermill": {
     "duration": 0.016033,
     "end_time": "2023-04-28T08:50:33.114407",
     "exception": false,
     "start_time": "2023-04-28T08:50:33.098374",
     "status": "completed"
    },
    "tags": []
   },
   "source": [
    "## Adding customer_id_repeating, customer_id_unique and customer_id_single"
   ]
  },
  {
   "cell_type": "code",
   "execution_count": 15,
   "id": "8d8a8e85",
   "metadata": {
    "execution": {
     "iopub.execute_input": "2023-04-28T08:50:33.149804Z",
     "iopub.status.busy": "2023-04-28T08:50:33.149342Z",
     "iopub.status.idle": "2023-04-28T08:50:34.184040Z",
     "shell.execute_reply": "2023-04-28T08:50:34.182899Z"
    },
    "papermill": {
     "duration": 1.055805,
     "end_time": "2023-04-28T08:50:34.186907",
     "exception": false,
     "start_time": "2023-04-28T08:50:33.131102",
     "status": "completed"
    },
    "tags": []
   },
   "outputs": [],
   "source": [
    "# Get a dataframe with the number of unique customers who visited each shop\n",
    "unique_visits = transactions.groupby(['shop_id'])['customer_id'].nunique()\n",
    "\n",
    "# Get a dataframe with the number of customers who visited each shop more than once\n",
    "repeat_customers = transactions.groupby(['shop_id', 'customer_id']).size().reset_index(name='counts')\n",
    "repeat_customers = repeat_customers[repeat_customers['counts'] > 1].groupby('shop_id')['customer_id'].nunique()\n",
    "\n",
    "# Get a dataframe with the number of customers who visited each shop only once\n",
    "single_visits = transactions.groupby(['shop_id'])['customer_id'].nunique() - repeat_customers\n",
    "single_visits = single_visits.reset_index()\n",
    "single_visits = single_visits.rename(columns={'customer_id': 'customer_id_single'})\n",
    "\n",
    "# Merge the three dataframes on shop_id and add new columns to storedata\n",
    "storedata = storedata.merge(unique_visits, on='shop_id')\n",
    "storedata = storedata.merge(repeat_customers, on='shop_id',suffixes=('_unique', '_repeating'))\n",
    "storedata = storedata.merge(single_visits, on='shop_id')\n",
    "\n"
   ]
  },
  {
   "cell_type": "code",
   "execution_count": 16,
   "id": "86b16935",
   "metadata": {
    "execution": {
     "iopub.execute_input": "2023-04-28T08:50:34.224319Z",
     "iopub.status.busy": "2023-04-28T08:50:34.223873Z",
     "iopub.status.idle": "2023-04-28T08:50:34.245503Z",
     "shell.execute_reply": "2023-04-28T08:50:34.244320Z"
    },
    "papermill": {
     "duration": 0.043448,
     "end_time": "2023-04-28T08:50:34.248420",
     "exception": false,
     "start_time": "2023-04-28T08:50:34.204972",
     "status": "completed"
    },
    "tags": []
   },
   "outputs": [
    {
     "data": {
      "text/html": [
       "<div>\n",
       "<style scoped>\n",
       "    .dataframe tbody tr th:only-of-type {\n",
       "        vertical-align: middle;\n",
       "    }\n",
       "\n",
       "    .dataframe tbody tr th {\n",
       "        vertical-align: top;\n",
       "    }\n",
       "\n",
       "    .dataframe thead th {\n",
       "        text-align: right;\n",
       "    }\n",
       "</style>\n",
       "<table border=\"1\" class=\"dataframe\">\n",
       "  <thead>\n",
       "    <tr style=\"text-align: right;\">\n",
       "      <th></th>\n",
       "      <th>shop_id</th>\n",
       "      <th>shop_area_sq_ft</th>\n",
       "      <th>shop_profile</th>\n",
       "      <th>total_vol</th>\n",
       "      <th>vol_per_sq_ft</th>\n",
       "      <th>total_customers</th>\n",
       "      <th>total_unique_items</th>\n",
       "      <th>single_day_max_vol</th>\n",
       "      <th>single_day_min_vol</th>\n",
       "      <th>n_transactions</th>\n",
       "      <th>customer_id_unique</th>\n",
       "      <th>customer_id_repeating</th>\n",
       "      <th>customer_id_single</th>\n",
       "    </tr>\n",
       "  </thead>\n",
       "  <tbody>\n",
       "    <tr>\n",
       "      <th>0</th>\n",
       "      <td>SHOP047</td>\n",
       "      <td>528</td>\n",
       "      <td>Moderate</td>\n",
       "      <td>842960</td>\n",
       "      <td>1596.515152</td>\n",
       "      <td>928</td>\n",
       "      <td>35</td>\n",
       "      <td>71305</td>\n",
       "      <td>2020</td>\n",
       "      <td>1302</td>\n",
       "      <td>928</td>\n",
       "      <td>319</td>\n",
       "      <td>609</td>\n",
       "    </tr>\n",
       "    <tr>\n",
       "      <th>1</th>\n",
       "      <td>SHOP009</td>\n",
       "      <td>676</td>\n",
       "      <td>High</td>\n",
       "      <td>1970870</td>\n",
       "      <td>2915.488166</td>\n",
       "      <td>2498</td>\n",
       "      <td>35</td>\n",
       "      <td>85750</td>\n",
       "      <td>9230</td>\n",
       "      <td>3493</td>\n",
       "      <td>2498</td>\n",
       "      <td>902</td>\n",
       "      <td>1596</td>\n",
       "    </tr>\n",
       "    <tr>\n",
       "      <th>2</th>\n",
       "      <td>SHOP083</td>\n",
       "      <td>676</td>\n",
       "      <td>Low</td>\n",
       "      <td>1691985</td>\n",
       "      <td>2502.936391</td>\n",
       "      <td>1900</td>\n",
       "      <td>36</td>\n",
       "      <td>70610</td>\n",
       "      <td>8225</td>\n",
       "      <td>2718</td>\n",
       "      <td>1900</td>\n",
       "      <td>700</td>\n",
       "      <td>1200</td>\n",
       "    </tr>\n",
       "    <tr>\n",
       "      <th>3</th>\n",
       "      <td>SHOP117</td>\n",
       "      <td>676</td>\n",
       "      <td>Low</td>\n",
       "      <td>2325980</td>\n",
       "      <td>3440.798817</td>\n",
       "      <td>2037</td>\n",
       "      <td>35</td>\n",
       "      <td>82170</td>\n",
       "      <td>6390</td>\n",
       "      <td>3158</td>\n",
       "      <td>2037</td>\n",
       "      <td>841</td>\n",
       "      <td>1196</td>\n",
       "    </tr>\n",
       "    <tr>\n",
       "      <th>4</th>\n",
       "      <td>SHOP042</td>\n",
       "      <td>676</td>\n",
       "      <td>Low</td>\n",
       "      <td>1340215</td>\n",
       "      <td>1982.566568</td>\n",
       "      <td>1841</td>\n",
       "      <td>35</td>\n",
       "      <td>69185</td>\n",
       "      <td>5265</td>\n",
       "      <td>2495</td>\n",
       "      <td>1841</td>\n",
       "      <td>594</td>\n",
       "      <td>1247</td>\n",
       "    </tr>\n",
       "    <tr>\n",
       "      <th>...</th>\n",
       "      <td>...</td>\n",
       "      <td>...</td>\n",
       "      <td>...</td>\n",
       "      <td>...</td>\n",
       "      <td>...</td>\n",
       "      <td>...</td>\n",
       "      <td>...</td>\n",
       "      <td>...</td>\n",
       "      <td>...</td>\n",
       "      <td>...</td>\n",
       "      <td>...</td>\n",
       "      <td>...</td>\n",
       "      <td>...</td>\n",
       "    </tr>\n",
       "    <tr>\n",
       "      <th>119</th>\n",
       "      <td>SHOP087</td>\n",
       "      <td>527</td>\n",
       "      <td>NaN</td>\n",
       "      <td>1128935</td>\n",
       "      <td>2142.191651</td>\n",
       "      <td>1083</td>\n",
       "      <td>35</td>\n",
       "      <td>119750</td>\n",
       "      <td>2160</td>\n",
       "      <td>1504</td>\n",
       "      <td>1083</td>\n",
       "      <td>405</td>\n",
       "      <td>678</td>\n",
       "    </tr>\n",
       "    <tr>\n",
       "      <th>120</th>\n",
       "      <td>SHOP050</td>\n",
       "      <td>411</td>\n",
       "      <td>NaN</td>\n",
       "      <td>2399125</td>\n",
       "      <td>5837.287105</td>\n",
       "      <td>1778</td>\n",
       "      <td>31</td>\n",
       "      <td>157410</td>\n",
       "      <td>8015</td>\n",
       "      <td>3159</td>\n",
       "      <td>1778</td>\n",
       "      <td>822</td>\n",
       "      <td>956</td>\n",
       "    </tr>\n",
       "    <tr>\n",
       "      <th>121</th>\n",
       "      <td>SHOP061</td>\n",
       "      <td>699</td>\n",
       "      <td>NaN</td>\n",
       "      <td>2110800</td>\n",
       "      <td>3019.742489</td>\n",
       "      <td>1746</td>\n",
       "      <td>35</td>\n",
       "      <td>475215</td>\n",
       "      <td>6495</td>\n",
       "      <td>2345</td>\n",
       "      <td>1746</td>\n",
       "      <td>641</td>\n",
       "      <td>1105</td>\n",
       "    </tr>\n",
       "    <tr>\n",
       "      <th>122</th>\n",
       "      <td>SHOP056</td>\n",
       "      <td>597</td>\n",
       "      <td>NaN</td>\n",
       "      <td>3023805</td>\n",
       "      <td>5065.000000</td>\n",
       "      <td>2832</td>\n",
       "      <td>35</td>\n",
       "      <td>162465</td>\n",
       "      <td>16780</td>\n",
       "      <td>4320</td>\n",
       "      <td>2832</td>\n",
       "      <td>1125</td>\n",
       "      <td>1707</td>\n",
       "    </tr>\n",
       "    <tr>\n",
       "      <th>123</th>\n",
       "      <td>SHOP070</td>\n",
       "      <td>676</td>\n",
       "      <td>NaN</td>\n",
       "      <td>1325070</td>\n",
       "      <td>1960.162722</td>\n",
       "      <td>1423</td>\n",
       "      <td>36</td>\n",
       "      <td>84500</td>\n",
       "      <td>5495</td>\n",
       "      <td>2122</td>\n",
       "      <td>1423</td>\n",
       "      <td>563</td>\n",
       "      <td>860</td>\n",
       "    </tr>\n",
       "  </tbody>\n",
       "</table>\n",
       "<p>124 rows × 13 columns</p>\n",
       "</div>"
      ],
      "text/plain": [
       "     shop_id  shop_area_sq_ft shop_profile  total_vol  vol_per_sq_ft  \\\n",
       "0    SHOP047              528     Moderate     842960    1596.515152   \n",
       "1    SHOP009              676         High    1970870    2915.488166   \n",
       "2    SHOP083              676          Low    1691985    2502.936391   \n",
       "3    SHOP117              676          Low    2325980    3440.798817   \n",
       "4    SHOP042              676          Low    1340215    1982.566568   \n",
       "..       ...              ...          ...        ...            ...   \n",
       "119  SHOP087              527          NaN    1128935    2142.191651   \n",
       "120  SHOP050              411          NaN    2399125    5837.287105   \n",
       "121  SHOP061              699          NaN    2110800    3019.742489   \n",
       "122  SHOP056              597          NaN    3023805    5065.000000   \n",
       "123  SHOP070              676          NaN    1325070    1960.162722   \n",
       "\n",
       "     total_customers  total_unique_items  single_day_max_vol  \\\n",
       "0                928                  35               71305   \n",
       "1               2498                  35               85750   \n",
       "2               1900                  36               70610   \n",
       "3               2037                  35               82170   \n",
       "4               1841                  35               69185   \n",
       "..               ...                 ...                 ...   \n",
       "119             1083                  35              119750   \n",
       "120             1778                  31              157410   \n",
       "121             1746                  35              475215   \n",
       "122             2832                  35              162465   \n",
       "123             1423                  36               84500   \n",
       "\n",
       "     single_day_min_vol  n_transactions  customer_id_unique  \\\n",
       "0                  2020            1302                 928   \n",
       "1                  9230            3493                2498   \n",
       "2                  8225            2718                1900   \n",
       "3                  6390            3158                2037   \n",
       "4                  5265            2495                1841   \n",
       "..                  ...             ...                 ...   \n",
       "119                2160            1504                1083   \n",
       "120                8015            3159                1778   \n",
       "121                6495            2345                1746   \n",
       "122               16780            4320                2832   \n",
       "123                5495            2122                1423   \n",
       "\n",
       "     customer_id_repeating  customer_id_single  \n",
       "0                      319                 609  \n",
       "1                      902                1596  \n",
       "2                      700                1200  \n",
       "3                      841                1196  \n",
       "4                      594                1247  \n",
       "..                     ...                 ...  \n",
       "119                    405                 678  \n",
       "120                    822                 956  \n",
       "121                    641                1105  \n",
       "122                   1125                1707  \n",
       "123                    563                 860  \n",
       "\n",
       "[124 rows x 13 columns]"
      ]
     },
     "execution_count": 16,
     "metadata": {},
     "output_type": "execute_result"
    }
   ],
   "source": [
    "storedata"
   ]
  },
  {
   "cell_type": "markdown",
   "id": "094aeeb5",
   "metadata": {
    "papermill": {
     "duration": 0.016498,
     "end_time": "2023-04-28T08:50:34.281838",
     "exception": false,
     "start_time": "2023-04-28T08:50:34.265340",
     "status": "completed"
    },
    "tags": []
   },
   "source": [
    "## Checking Correlation"
   ]
  },
  {
   "cell_type": "code",
   "execution_count": 17,
   "id": "49d51e1a",
   "metadata": {
    "execution": {
     "iopub.execute_input": "2023-04-28T08:50:34.317758Z",
     "iopub.status.busy": "2023-04-28T08:50:34.316962Z",
     "iopub.status.idle": "2023-04-28T08:50:35.391100Z",
     "shell.execute_reply": "2023-04-28T08:50:35.389760Z"
    },
    "papermill": {
     "duration": 1.096778,
     "end_time": "2023-04-28T08:50:35.395400",
     "exception": false,
     "start_time": "2023-04-28T08:50:34.298622",
     "status": "completed"
    },
    "tags": []
   },
   "outputs": [
    {
     "data": {
      "text/plain": [
       "<AxesSubplot:>"
      ]
     },
     "execution_count": 17,
     "metadata": {},
     "output_type": "execute_result"
    },
    {
     "data": {
      "image/png": "[encoded data removed]",
      "text/plain": [
       "<Figure size 640x480 with 2 Axes>"
      ]
     },
     "metadata": {},
     "output_type": "display_data"
    }
   ],
   "source": [
    "# create a correlation matrix\n",
    "corr_matrix = storedata.corr()\n",
    "\n",
    "# create a heatmap of the correlation matrix\n",
    "sns.heatmap(corr_matrix, cmap=\"coolwarm\", annot=True)"
   ]
  },
  {
   "cell_type": "code",
   "execution_count": 18,
   "id": "05a315fd",
   "metadata": {
    "execution": {
     "iopub.execute_input": "2023-04-28T08:50:35.436589Z",
     "iopub.status.busy": "2023-04-28T08:50:35.435155Z",
     "iopub.status.idle": "2023-04-28T08:50:35.443904Z",
     "shell.execute_reply": "2023-04-28T08:50:35.442672Z"
    },
    "papermill": {
     "duration": 0.031793,
     "end_time": "2023-04-28T08:50:35.446468",
     "exception": false,
     "start_time": "2023-04-28T08:50:35.414675",
     "status": "completed"
    },
    "tags": []
   },
   "outputs": [
    {
     "data": {
      "text/plain": [
       "Index(['shop_id', 'shop_area_sq_ft', 'shop_profile', 'total_vol',\n",
       "       'vol_per_sq_ft', 'total_customers', 'total_unique_items',\n",
       "       'single_day_max_vol', 'single_day_min_vol', 'n_transactions',\n",
       "       'customer_id_unique', 'customer_id_repeating', 'customer_id_single'],\n",
       "      dtype='object')"
      ]
     },
     "execution_count": 18,
     "metadata": {},
     "output_type": "execute_result"
    }
   ],
   "source": [
    "storedata.columns"
   ]
  },
  {
   "cell_type": "markdown",
   "id": "15b4f767",
   "metadata": {
    "papermill": {
     "duration": 0.018597,
     "end_time": "2023-04-28T08:50:35.484212",
     "exception": false,
     "start_time": "2023-04-28T08:50:35.465615",
     "status": "completed"
    },
    "tags": []
   },
   "source": [
    "## Selected Features\n"
   ]
  },
  {
   "cell_type": "code",
   "execution_count": 19,
   "id": "677d6fa2",
   "metadata": {
    "execution": {
     "iopub.execute_input": "2023-04-28T08:50:35.525158Z",
     "iopub.status.busy": "2023-04-28T08:50:35.523850Z",
     "iopub.status.idle": "2023-04-28T08:50:35.535770Z",
     "shell.execute_reply": "2023-04-28T08:50:35.534772Z"
    },
    "papermill": {
     "duration": 0.035088,
     "end_time": "2023-04-28T08:50:35.538449",
     "exception": false,
     "start_time": "2023-04-28T08:50:35.503361",
     "status": "completed"
    },
    "tags": []
   },
   "outputs": [],
   "source": [
    "all = ['shop_area_sq_ft', 'total_vol',\n",
    "       'vol_per_sq_ft', 'total_customers', 'total_unique_items',\n",
    "       'single_day_max_vol', 'single_day_min_vol', 'n_transactions',\n",
    "       'customer_id_unique', 'customer_id_repeating', 'customer_id_single']\n",
    "\n",
    "keep_all =  []\n",
    "\n",
    "Two_best_MI = ['shop_area_sq_ft', 'total_vol',\n",
    "       'vol_per_sq_ft', 'total_customers', 'total_unique_items',\n",
    "       'single_day_max_vol', 'n_transactions',\n",
    "       'customer_id_unique', 'customer_id_repeating']\n",
    "\n",
    "Two_best_MI_and_area = ['total_vol',\n",
    "       'vol_per_sq_ft', 'total_customers', 'total_unique_items',\n",
    "       'single_day_max_vol', 'n_transactions',\n",
    "       'customer_id_unique', 'customer_id_repeating']\n",
    "\n",
    "First_sub = ['vol_per_sq_ft', 'total_unique_items',\n",
    "       'single_day_max_vol', 'single_day_min_vol', 'n_transactions',\n",
    "       'customer_id_unique', 'customer_id_repeating', 'customer_id_single']\n",
    "\n",
    "First_sub_without_area = ['shop_area_sq_ft','vol_per_sq_ft', 'total_unique_items',\n",
    "       'single_day_max_vol', 'single_day_min_vol', 'n_transactions',\n",
    "       'customer_id_unique', 'customer_id_repeating', 'customer_id_single']\n",
    "\n",
    "Combine_best_two_subs = ['vol_per_sq_ft', 'total_unique_items',\n",
    "       'single_day_max_vol', 'n_transactions','total_customers',\n",
    "       'customer_id_unique', 'customer_id_repeating']\n",
    "\n",
    "Area_and_customers = ['vol_per_sq_ft', 'total_vol', 'total_unique_items',\n",
    "       'single_day_max_vol', 'single_day_min_vol', 'n_transactions',\n",
    "       'customer_id_unique', 'customer_id_repeating', 'customer_id_single']\n",
    "\n",
    "Area_and_volume = ['vol_per_sq_ft', 'total_customers', 'total_unique_items',\n",
    "       'single_day_max_vol', 'single_day_min_vol', 'n_transactions',\n",
    "       'customer_id_unique', 'customer_id_repeating', 'customer_id_single']\n",
    "\n",
    "storedata = storedata.drop(Area_and_volume,axis = 1)"
   ]
  },
  {
   "cell_type": "code",
   "execution_count": 20,
   "id": "e6fa06a5",
   "metadata": {
    "execution": {
     "iopub.execute_input": "2023-04-28T08:50:35.578883Z",
     "iopub.status.busy": "2023-04-28T08:50:35.577835Z",
     "iopub.status.idle": "2023-04-28T08:50:35.825613Z",
     "shell.execute_reply": "2023-04-28T08:50:35.824390Z"
    },
    "papermill": {
     "duration": 0.270788,
     "end_time": "2023-04-28T08:50:35.828181",
     "exception": false,
     "start_time": "2023-04-28T08:50:35.557393",
     "status": "completed"
    },
    "tags": []
   },
   "outputs": [
    {
     "data": {
      "text/plain": [
       "<AxesSubplot:>"
      ]
     },
     "execution_count": 20,
     "metadata": {},
     "output_type": "execute_result"
    },
    {
     "data": {
      "image/png": "[encoded data removed]",
      "text/plain": [
       "<Figure size 640x480 with 2 Axes>"
      ]
     },
     "metadata": {},
     "output_type": "display_data"
    }
   ],
   "source": [
    "# create a correlation matrix\n",
    "corr_matrix = storedata.corr()\n",
    "\n",
    "# create a heatmap of the correlation matrix\n",
    "sns.heatmap(corr_matrix, cmap=\"coolwarm\", annot=True)"
   ]
  },
  {
   "cell_type": "markdown",
   "id": "f93ea1c8",
   "metadata": {
    "papermill": {
     "duration": 0.019588,
     "end_time": "2023-04-28T08:50:35.867393",
     "exception": false,
     "start_time": "2023-04-28T08:50:35.847805",
     "status": "completed"
    },
    "tags": []
   },
   "source": [
    "## Train test split (basically removing the testing data specified)"
   ]
  },
  {
   "cell_type": "code",
   "execution_count": 21,
   "id": "0008065a",
   "metadata": {
    "execution": {
     "iopub.execute_input": "2023-04-28T08:50:35.908827Z",
     "iopub.status.busy": "2023-04-28T08:50:35.908379Z",
     "iopub.status.idle": "2023-04-28T08:50:35.918333Z",
     "shell.execute_reply": "2023-04-28T08:50:35.917275Z"
    },
    "papermill": {
     "duration": 0.033567,
     "end_time": "2023-04-28T08:50:35.920517",
     "exception": false,
     "start_time": "2023-04-28T08:50:35.886950",
     "status": "completed"
    },
    "tags": []
   },
   "outputs": [],
   "source": [
    "# Create a boolean mask for filtering shopdata\n",
    "mask = storedata['shop_id'].isin(testdata['shop_id'])\n",
    "\n",
    "# Create two separate dataframes\n",
    "test_shops = storedata[mask]\n",
    "train_shops = storedata[~mask]"
   ]
  },
  {
   "cell_type": "code",
   "execution_count": 22,
   "id": "64a48cf3",
   "metadata": {
    "execution": {
     "iopub.execute_input": "2023-04-28T08:50:35.962727Z",
     "iopub.status.busy": "2023-04-28T08:50:35.962218Z",
     "iopub.status.idle": "2023-04-28T08:50:35.976616Z",
     "shell.execute_reply": "2023-04-28T08:50:35.975349Z"
    },
    "papermill": {
     "duration": 0.0388,
     "end_time": "2023-04-28T08:50:35.979065",
     "exception": false,
     "start_time": "2023-04-28T08:50:35.940265",
     "status": "completed"
    },
    "tags": []
   },
   "outputs": [
    {
     "data": {
      "text/html": [
       "<div>\n",
       "<style scoped>\n",
       "    .dataframe tbody tr th:only-of-type {\n",
       "        vertical-align: middle;\n",
       "    }\n",
       "\n",
       "    .dataframe tbody tr th {\n",
       "        vertical-align: top;\n",
       "    }\n",
       "\n",
       "    .dataframe thead th {\n",
       "        text-align: right;\n",
       "    }\n",
       "</style>\n",
       "<table border=\"1\" class=\"dataframe\">\n",
       "  <thead>\n",
       "    <tr style=\"text-align: right;\">\n",
       "      <th></th>\n",
       "      <th>shop_id</th>\n",
       "      <th>shop_area_sq_ft</th>\n",
       "      <th>total_vol</th>\n",
       "    </tr>\n",
       "  </thead>\n",
       "  <tbody>\n",
       "    <tr>\n",
       "      <th>100</th>\n",
       "      <td>SHOP046</td>\n",
       "      <td>545</td>\n",
       "      <td>2607865</td>\n",
       "    </tr>\n",
       "    <tr>\n",
       "      <th>101</th>\n",
       "      <td>SHOP024</td>\n",
       "      <td>676</td>\n",
       "      <td>1308795</td>\n",
       "    </tr>\n",
       "    <tr>\n",
       "      <th>102</th>\n",
       "      <td>SHOP023</td>\n",
       "      <td>617</td>\n",
       "      <td>2570425</td>\n",
       "    </tr>\n",
       "    <tr>\n",
       "      <th>103</th>\n",
       "      <td>SHOP097</td>\n",
       "      <td>310</td>\n",
       "      <td>2642380</td>\n",
       "    </tr>\n",
       "    <tr>\n",
       "      <th>104</th>\n",
       "      <td>SHOP044</td>\n",
       "      <td>715</td>\n",
       "      <td>1310440</td>\n",
       "    </tr>\n",
       "    <tr>\n",
       "      <th>105</th>\n",
       "      <td>SHOP030</td>\n",
       "      <td>530</td>\n",
       "      <td>2862995</td>\n",
       "    </tr>\n",
       "    <tr>\n",
       "      <th>106</th>\n",
       "      <td>SHOP038</td>\n",
       "      <td>411</td>\n",
       "      <td>1444025</td>\n",
       "    </tr>\n",
       "    <tr>\n",
       "      <th>107</th>\n",
       "      <td>SHOP029</td>\n",
       "      <td>597</td>\n",
       "      <td>1973805</td>\n",
       "    </tr>\n",
       "    <tr>\n",
       "      <th>108</th>\n",
       "      <td>SHOP096</td>\n",
       "      <td>676</td>\n",
       "      <td>2600915</td>\n",
       "    </tr>\n",
       "    <tr>\n",
       "      <th>109</th>\n",
       "      <td>SHOP092</td>\n",
       "      <td>617</td>\n",
       "      <td>1961240</td>\n",
       "    </tr>\n",
       "    <tr>\n",
       "      <th>110</th>\n",
       "      <td>SHOP081</td>\n",
       "      <td>774</td>\n",
       "      <td>2067720</td>\n",
       "    </tr>\n",
       "    <tr>\n",
       "      <th>111</th>\n",
       "      <td>SHOP076</td>\n",
       "      <td>676</td>\n",
       "      <td>2276575</td>\n",
       "    </tr>\n",
       "    <tr>\n",
       "      <th>112</th>\n",
       "      <td>SHOP080</td>\n",
       "      <td>554</td>\n",
       "      <td>1322790</td>\n",
       "    </tr>\n",
       "    <tr>\n",
       "      <th>113</th>\n",
       "      <td>SHOP074</td>\n",
       "      <td>617</td>\n",
       "      <td>2608740</td>\n",
       "    </tr>\n",
       "    <tr>\n",
       "      <th>114</th>\n",
       "      <td>SHOP107</td>\n",
       "      <td>588</td>\n",
       "      <td>2565235</td>\n",
       "    </tr>\n",
       "    <tr>\n",
       "      <th>115</th>\n",
       "      <td>SHOP108</td>\n",
       "      <td>676</td>\n",
       "      <td>2100715</td>\n",
       "    </tr>\n",
       "    <tr>\n",
       "      <th>116</th>\n",
       "      <td>SHOP019</td>\n",
       "      <td>411</td>\n",
       "      <td>2200580</td>\n",
       "    </tr>\n",
       "    <tr>\n",
       "      <th>117</th>\n",
       "      <td>SHOP002</td>\n",
       "      <td>637</td>\n",
       "      <td>3084455</td>\n",
       "    </tr>\n",
       "    <tr>\n",
       "      <th>118</th>\n",
       "      <td>SHOP114</td>\n",
       "      <td>513</td>\n",
       "      <td>2131345</td>\n",
       "    </tr>\n",
       "    <tr>\n",
       "      <th>119</th>\n",
       "      <td>SHOP087</td>\n",
       "      <td>527</td>\n",
       "      <td>1128935</td>\n",
       "    </tr>\n",
       "    <tr>\n",
       "      <th>120</th>\n",
       "      <td>SHOP050</td>\n",
       "      <td>411</td>\n",
       "      <td>2399125</td>\n",
       "    </tr>\n",
       "    <tr>\n",
       "      <th>121</th>\n",
       "      <td>SHOP061</td>\n",
       "      <td>699</td>\n",
       "      <td>2110800</td>\n",
       "    </tr>\n",
       "    <tr>\n",
       "      <th>122</th>\n",
       "      <td>SHOP056</td>\n",
       "      <td>597</td>\n",
       "      <td>3023805</td>\n",
       "    </tr>\n",
       "    <tr>\n",
       "      <th>123</th>\n",
       "      <td>SHOP070</td>\n",
       "      <td>676</td>\n",
       "      <td>1325070</td>\n",
       "    </tr>\n",
       "  </tbody>\n",
       "</table>\n",
       "</div>"
      ],
      "text/plain": [
       "     shop_id  shop_area_sq_ft  total_vol\n",
       "100  SHOP046              545    2607865\n",
       "101  SHOP024              676    1308795\n",
       "102  SHOP023              617    2570425\n",
       "103  SHOP097              310    2642380\n",
       "104  SHOP044              715    1310440\n",
       "105  SHOP030              530    2862995\n",
       "106  SHOP038              411    1444025\n",
       "107  SHOP029              597    1973805\n",
       "108  SHOP096              676    2600915\n",
       "109  SHOP092              617    1961240\n",
       "110  SHOP081              774    2067720\n",
       "111  SHOP076              676    2276575\n",
       "112  SHOP080              554    1322790\n",
       "113  SHOP074              617    2608740\n",
       "114  SHOP107              588    2565235\n",
       "115  SHOP108              676    2100715\n",
       "116  SHOP019              411    2200580\n",
       "117  SHOP002              637    3084455\n",
       "118  SHOP114              513    2131345\n",
       "119  SHOP087              527    1128935\n",
       "120  SHOP050              411    2399125\n",
       "121  SHOP061              699    2110800\n",
       "122  SHOP056              597    3023805\n",
       "123  SHOP070              676    1325070"
      ]
     },
     "execution_count": 22,
     "metadata": {},
     "output_type": "execute_result"
    }
   ],
   "source": [
    "test_shops = test_shops.drop('shop_profile', axis=1)\n",
    "test_shops"
   ]
  },
  {
   "cell_type": "code",
   "execution_count": 23,
   "id": "ae8d4301",
   "metadata": {
    "execution": {
     "iopub.execute_input": "2023-04-28T08:50:36.021001Z",
     "iopub.status.busy": "2023-04-28T08:50:36.020514Z",
     "iopub.status.idle": "2023-04-28T08:50:36.036454Z",
     "shell.execute_reply": "2023-04-28T08:50:36.035547Z"
    },
    "papermill": {
     "duration": 0.039599,
     "end_time": "2023-04-28T08:50:36.038545",
     "exception": false,
     "start_time": "2023-04-28T08:50:35.998946",
     "status": "completed"
    },
    "tags": []
   },
   "outputs": [
    {
     "data": {
      "text/html": [
       "<div>\n",
       "<style scoped>\n",
       "    .dataframe tbody tr th:only-of-type {\n",
       "        vertical-align: middle;\n",
       "    }\n",
       "\n",
       "    .dataframe tbody tr th {\n",
       "        vertical-align: top;\n",
       "    }\n",
       "\n",
       "    .dataframe thead th {\n",
       "        text-align: right;\n",
       "    }\n",
       "</style>\n",
       "<table border=\"1\" class=\"dataframe\">\n",
       "  <thead>\n",
       "    <tr style=\"text-align: right;\">\n",
       "      <th></th>\n",
       "      <th>shop_id</th>\n",
       "      <th>shop_area_sq_ft</th>\n",
       "      <th>shop_profile</th>\n",
       "      <th>total_vol</th>\n",
       "    </tr>\n",
       "  </thead>\n",
       "  <tbody>\n",
       "    <tr>\n",
       "      <th>0</th>\n",
       "      <td>SHOP047</td>\n",
       "      <td>528</td>\n",
       "      <td>Moderate</td>\n",
       "      <td>842960</td>\n",
       "    </tr>\n",
       "    <tr>\n",
       "      <th>1</th>\n",
       "      <td>SHOP009</td>\n",
       "      <td>676</td>\n",
       "      <td>High</td>\n",
       "      <td>1970870</td>\n",
       "    </tr>\n",
       "    <tr>\n",
       "      <th>2</th>\n",
       "      <td>SHOP083</td>\n",
       "      <td>676</td>\n",
       "      <td>Low</td>\n",
       "      <td>1691985</td>\n",
       "    </tr>\n",
       "    <tr>\n",
       "      <th>3</th>\n",
       "      <td>SHOP117</td>\n",
       "      <td>676</td>\n",
       "      <td>Low</td>\n",
       "      <td>2325980</td>\n",
       "    </tr>\n",
       "    <tr>\n",
       "      <th>4</th>\n",
       "      <td>SHOP042</td>\n",
       "      <td>676</td>\n",
       "      <td>Low</td>\n",
       "      <td>1340215</td>\n",
       "    </tr>\n",
       "    <tr>\n",
       "      <th>...</th>\n",
       "      <td>...</td>\n",
       "      <td>...</td>\n",
       "      <td>...</td>\n",
       "      <td>...</td>\n",
       "    </tr>\n",
       "    <tr>\n",
       "      <th>95</th>\n",
       "      <td>SHOP124</td>\n",
       "      <td>606</td>\n",
       "      <td>High</td>\n",
       "      <td>2967190</td>\n",
       "    </tr>\n",
       "    <tr>\n",
       "      <th>96</th>\n",
       "      <td>SHOP012</td>\n",
       "      <td>336</td>\n",
       "      <td>Low</td>\n",
       "      <td>1169405</td>\n",
       "    </tr>\n",
       "    <tr>\n",
       "      <th>97</th>\n",
       "      <td>SHOP093</td>\n",
       "      <td>705</td>\n",
       "      <td>High</td>\n",
       "      <td>1726515</td>\n",
       "    </tr>\n",
       "    <tr>\n",
       "      <th>98</th>\n",
       "      <td>SHOP004</td>\n",
       "      <td>516</td>\n",
       "      <td>Low</td>\n",
       "      <td>1571700</td>\n",
       "    </tr>\n",
       "    <tr>\n",
       "      <th>99</th>\n",
       "      <td>SHOP101</td>\n",
       "      <td>691</td>\n",
       "      <td>High</td>\n",
       "      <td>2465930</td>\n",
       "    </tr>\n",
       "  </tbody>\n",
       "</table>\n",
       "<p>100 rows × 4 columns</p>\n",
       "</div>"
      ],
      "text/plain": [
       "    shop_id  shop_area_sq_ft shop_profile  total_vol\n",
       "0   SHOP047              528     Moderate     842960\n",
       "1   SHOP009              676         High    1970870\n",
       "2   SHOP083              676          Low    1691985\n",
       "3   SHOP117              676          Low    2325980\n",
       "4   SHOP042              676          Low    1340215\n",
       "..      ...              ...          ...        ...\n",
       "95  SHOP124              606         High    2967190\n",
       "96  SHOP012              336          Low    1169405\n",
       "97  SHOP093              705         High    1726515\n",
       "98  SHOP004              516          Low    1571700\n",
       "99  SHOP101              691         High    2465930\n",
       "\n",
       "[100 rows x 4 columns]"
      ]
     },
     "execution_count": 23,
     "metadata": {},
     "output_type": "execute_result"
    }
   ],
   "source": [
    "train_shops"
   ]
  },
  {
   "cell_type": "markdown",
   "id": "0512eb2f",
   "metadata": {
    "papermill": {
     "duration": 0.019775,
     "end_time": "2023-04-28T08:50:36.078473",
     "exception": false,
     "start_time": "2023-04-28T08:50:36.058698",
     "status": "completed"
    },
    "tags": []
   },
   "source": [
    "## Encoding the target variable \n",
    "\n",
    "### Ordinal encoding\n",
    "0 = Low\n",
    "1 = Moderate\n",
    "2 = High"
   ]
  },
  {
   "cell_type": "code",
   "execution_count": 24,
   "id": "f3020a25",
   "metadata": {
    "execution": {
     "iopub.execute_input": "2023-04-28T08:50:36.120905Z",
     "iopub.status.busy": "2023-04-28T08:50:36.120496Z",
     "iopub.status.idle": "2023-04-28T08:50:36.288212Z",
     "shell.execute_reply": "2023-04-28T08:50:36.286857Z"
    },
    "papermill": {
     "duration": 0.192576,
     "end_time": "2023-04-28T08:50:36.291310",
     "exception": false,
     "start_time": "2023-04-28T08:50:36.098734",
     "status": "completed"
    },
    "tags": []
   },
   "outputs": [],
   "source": [
    "from sklearn.preprocessing import LabelEncoder\n",
    "pd.options.mode.chained_assignment = None  # default='warn'\n",
    "\n",
    "# Define the mapping of labels to integer codes\n",
    "label_mapping = {\n",
    "    'Low': 0,\n",
    "    'Moderate': 1,\n",
    "    'High': 2\n",
    "}\n",
    "\n",
    "# Create an instance of the LabelEncoder\n",
    "encoder = LabelEncoder()\n",
    "\n",
    "# Fit the encoder to the shop_profile column in train_shops\n",
    "train_shops['shop_profile'] = encoder.fit_transform(train_shops['shop_profile'].map(label_mapping))\n"
   ]
  },
  {
   "cell_type": "code",
   "execution_count": 25,
   "id": "ab3d4a51",
   "metadata": {
    "execution": {
     "iopub.execute_input": "2023-04-28T08:50:36.334234Z",
     "iopub.status.busy": "2023-04-28T08:50:36.333802Z",
     "iopub.status.idle": "2023-04-28T08:50:36.347785Z",
     "shell.execute_reply": "2023-04-28T08:50:36.346896Z"
    },
    "papermill": {
     "duration": 0.038031,
     "end_time": "2023-04-28T08:50:36.350056",
     "exception": false,
     "start_time": "2023-04-28T08:50:36.312025",
     "status": "completed"
    },
    "tags": []
   },
   "outputs": [
    {
     "data": {
      "text/html": [
       "<div>\n",
       "<style scoped>\n",
       "    .dataframe tbody tr th:only-of-type {\n",
       "        vertical-align: middle;\n",
       "    }\n",
       "\n",
       "    .dataframe tbody tr th {\n",
       "        vertical-align: top;\n",
       "    }\n",
       "\n",
       "    .dataframe thead th {\n",
       "        text-align: right;\n",
       "    }\n",
       "</style>\n",
       "<table border=\"1\" class=\"dataframe\">\n",
       "  <thead>\n",
       "    <tr style=\"text-align: right;\">\n",
       "      <th></th>\n",
       "      <th>shop_id</th>\n",
       "      <th>shop_area_sq_ft</th>\n",
       "      <th>shop_profile</th>\n",
       "      <th>total_vol</th>\n",
       "    </tr>\n",
       "  </thead>\n",
       "  <tbody>\n",
       "    <tr>\n",
       "      <th>0</th>\n",
       "      <td>SHOP047</td>\n",
       "      <td>528</td>\n",
       "      <td>1</td>\n",
       "      <td>842960</td>\n",
       "    </tr>\n",
       "    <tr>\n",
       "      <th>1</th>\n",
       "      <td>SHOP009</td>\n",
       "      <td>676</td>\n",
       "      <td>2</td>\n",
       "      <td>1970870</td>\n",
       "    </tr>\n",
       "    <tr>\n",
       "      <th>2</th>\n",
       "      <td>SHOP083</td>\n",
       "      <td>676</td>\n",
       "      <td>0</td>\n",
       "      <td>1691985</td>\n",
       "    </tr>\n",
       "    <tr>\n",
       "      <th>3</th>\n",
       "      <td>SHOP117</td>\n",
       "      <td>676</td>\n",
       "      <td>0</td>\n",
       "      <td>2325980</td>\n",
       "    </tr>\n",
       "    <tr>\n",
       "      <th>4</th>\n",
       "      <td>SHOP042</td>\n",
       "      <td>676</td>\n",
       "      <td>0</td>\n",
       "      <td>1340215</td>\n",
       "    </tr>\n",
       "    <tr>\n",
       "      <th>...</th>\n",
       "      <td>...</td>\n",
       "      <td>...</td>\n",
       "      <td>...</td>\n",
       "      <td>...</td>\n",
       "    </tr>\n",
       "    <tr>\n",
       "      <th>95</th>\n",
       "      <td>SHOP124</td>\n",
       "      <td>606</td>\n",
       "      <td>2</td>\n",
       "      <td>2967190</td>\n",
       "    </tr>\n",
       "    <tr>\n",
       "      <th>96</th>\n",
       "      <td>SHOP012</td>\n",
       "      <td>336</td>\n",
       "      <td>0</td>\n",
       "      <td>1169405</td>\n",
       "    </tr>\n",
       "    <tr>\n",
       "      <th>97</th>\n",
       "      <td>SHOP093</td>\n",
       "      <td>705</td>\n",
       "      <td>2</td>\n",
       "      <td>1726515</td>\n",
       "    </tr>\n",
       "    <tr>\n",
       "      <th>98</th>\n",
       "      <td>SHOP004</td>\n",
       "      <td>516</td>\n",
       "      <td>0</td>\n",
       "      <td>1571700</td>\n",
       "    </tr>\n",
       "    <tr>\n",
       "      <th>99</th>\n",
       "      <td>SHOP101</td>\n",
       "      <td>691</td>\n",
       "      <td>2</td>\n",
       "      <td>2465930</td>\n",
       "    </tr>\n",
       "  </tbody>\n",
       "</table>\n",
       "<p>100 rows × 4 columns</p>\n",
       "</div>"
      ],
      "text/plain": [
       "    shop_id  shop_area_sq_ft  shop_profile  total_vol\n",
       "0   SHOP047              528             1     842960\n",
       "1   SHOP009              676             2    1970870\n",
       "2   SHOP083              676             0    1691985\n",
       "3   SHOP117              676             0    2325980\n",
       "4   SHOP042              676             0    1340215\n",
       "..      ...              ...           ...        ...\n",
       "95  SHOP124              606             2    2967190\n",
       "96  SHOP012              336             0    1169405\n",
       "97  SHOP093              705             2    1726515\n",
       "98  SHOP004              516             0    1571700\n",
       "99  SHOP101              691             2    2465930\n",
       "\n",
       "[100 rows x 4 columns]"
      ]
     },
     "execution_count": 25,
     "metadata": {},
     "output_type": "execute_result"
    }
   ],
   "source": [
    "train_shops"
   ]
  },
  {
   "cell_type": "code",
   "execution_count": 26,
   "id": "37dee97f",
   "metadata": {
    "execution": {
     "iopub.execute_input": "2023-04-28T08:50:36.392479Z",
     "iopub.status.busy": "2023-04-28T08:50:36.392001Z",
     "iopub.status.idle": "2023-04-28T08:50:37.795320Z",
     "shell.execute_reply": "2023-04-28T08:50:37.793983Z"
    },
    "papermill": {
     "duration": 1.428136,
     "end_time": "2023-04-28T08:50:37.798503",
     "exception": false,
     "start_time": "2023-04-28T08:50:36.370367",
     "status": "completed"
    },
    "tags": []
   },
   "outputs": [
    {
     "data": {
      "text/plain": [
       "<seaborn.axisgrid.PairGrid at 0x76f0301dcad0>"
      ]
     },
     "execution_count": 26,
     "metadata": {},
     "output_type": "execute_result"
    },
    {
     "data": {
      "image/png": "[encoded data removed]",
      "text/plain": [
       "<Figure size 595.486x500 with 6 Axes>"
      ]
     },
     "metadata": {},
     "output_type": "display_data"
    }
   ],
   "source": [
    "sns.pairplot(train_shops, hue='shop_profile')"
   ]
  },
  {
   "cell_type": "markdown",
   "id": "703155ed",
   "metadata": {
    "papermill": {
     "duration": 0.021726,
     "end_time": "2023-04-28T08:50:37.842762",
     "exception": false,
     "start_time": "2023-04-28T08:50:37.821036",
     "status": "completed"
    },
    "tags": []
   },
   "source": [
    "## Covariance\n"
   ]
  },
  {
   "cell_type": "code",
   "execution_count": 27,
   "id": "134d2169",
   "metadata": {
    "execution": {
     "iopub.execute_input": "2023-04-28T08:50:37.889732Z",
     "iopub.status.busy": "2023-04-28T08:50:37.888224Z",
     "iopub.status.idle": "2023-04-28T08:50:37.899195Z",
     "shell.execute_reply": "2023-04-28T08:50:37.897951Z"
    },
    "papermill": {
     "duration": 0.036741,
     "end_time": "2023-04-28T08:50:37.901633",
     "exception": false,
     "start_time": "2023-04-28T08:50:37.864892",
     "status": "completed"
    },
    "tags": []
   },
   "outputs": [
    {
     "name": "stdout",
     "output_type": "stream",
     "text": [
      "shop_area_sq_ft        30.479293\n",
      "shop_profile            0.674242\n",
      "total_vol          299874.252525\n",
      "Name: shop_profile, dtype: float64\n"
     ]
    }
   ],
   "source": [
    "# calculate the covariance between all columns and the target variable y\n",
    "cov_matrix = train_shops.cov()['shop_profile']\n",
    "\n",
    "# display the covariance values\n",
    "print(cov_matrix)"
   ]
  },
  {
   "cell_type": "markdown",
   "id": "017d5f6d",
   "metadata": {
    "papermill": {
     "duration": 0.02239,
     "end_time": "2023-04-28T08:50:37.946609",
     "exception": false,
     "start_time": "2023-04-28T08:50:37.924219",
     "status": "completed"
    },
    "tags": []
   },
   "source": [
    "## Spliting for crossvalidation"
   ]
  },
  {
   "cell_type": "code",
   "execution_count": 28,
   "id": "8b0655d1",
   "metadata": {
    "execution": {
     "iopub.execute_input": "2023-04-28T08:50:37.999383Z",
     "iopub.status.busy": "2023-04-28T08:50:37.998610Z",
     "iopub.status.idle": "2023-04-28T08:50:38.006688Z",
     "shell.execute_reply": "2023-04-28T08:50:38.005379Z"
    },
    "papermill": {
     "duration": 0.041298,
     "end_time": "2023-04-28T08:50:38.010476",
     "exception": false,
     "start_time": "2023-04-28T08:50:37.969178",
     "status": "completed"
    },
    "tags": []
   },
   "outputs": [],
   "source": [
    "y = train_shops['shop_profile']\n",
    "X = train_shops.drop('shop_profile', axis=1)\n",
    "X = X.drop('shop_id',axis = 1)"
   ]
  },
  {
   "cell_type": "code",
   "execution_count": 29,
   "id": "b7a499bc",
   "metadata": {
    "execution": {
     "iopub.execute_input": "2023-04-28T08:50:38.074964Z",
     "iopub.status.busy": "2023-04-28T08:50:38.074160Z",
     "iopub.status.idle": "2023-04-28T08:50:38.081771Z",
     "shell.execute_reply": "2023-04-28T08:50:38.080760Z"
    },
    "papermill": {
     "duration": 0.043532,
     "end_time": "2023-04-28T08:50:38.084469",
     "exception": false,
     "start_time": "2023-04-28T08:50:38.040937",
     "status": "completed"
    },
    "tags": []
   },
   "outputs": [
    {
     "data": {
      "text/plain": [
       "0     1\n",
       "1     2\n",
       "2     0\n",
       "3     0\n",
       "4     0\n",
       "     ..\n",
       "95    2\n",
       "96    0\n",
       "97    2\n",
       "98    0\n",
       "99    2\n",
       "Name: shop_profile, Length: 100, dtype: int64"
      ]
     },
     "execution_count": 29,
     "metadata": {},
     "output_type": "execute_result"
    }
   ],
   "source": [
    "y"
   ]
  },
  {
   "cell_type": "code",
   "execution_count": 30,
   "id": "c8761898",
   "metadata": {
    "execution": {
     "iopub.execute_input": "2023-04-28T08:50:38.133496Z",
     "iopub.status.busy": "2023-04-28T08:50:38.132480Z",
     "iopub.status.idle": "2023-04-28T08:50:38.146821Z",
     "shell.execute_reply": "2023-04-28T08:50:38.145595Z"
    },
    "papermill": {
     "duration": 0.040763,
     "end_time": "2023-04-28T08:50:38.149511",
     "exception": false,
     "start_time": "2023-04-28T08:50:38.108748",
     "status": "completed"
    },
    "tags": []
   },
   "outputs": [
    {
     "data": {
      "text/html": [
       "<div>\n",
       "<style scoped>\n",
       "    .dataframe tbody tr th:only-of-type {\n",
       "        vertical-align: middle;\n",
       "    }\n",
       "\n",
       "    .dataframe tbody tr th {\n",
       "        vertical-align: top;\n",
       "    }\n",
       "\n",
       "    .dataframe thead th {\n",
       "        text-align: right;\n",
       "    }\n",
       "</style>\n",
       "<table border=\"1\" class=\"dataframe\">\n",
       "  <thead>\n",
       "    <tr style=\"text-align: right;\">\n",
       "      <th></th>\n",
       "      <th>shop_area_sq_ft</th>\n",
       "      <th>total_vol</th>\n",
       "    </tr>\n",
       "  </thead>\n",
       "  <tbody>\n",
       "    <tr>\n",
       "      <th>0</th>\n",
       "      <td>528</td>\n",
       "      <td>842960</td>\n",
       "    </tr>\n",
       "    <tr>\n",
       "      <th>1</th>\n",
       "      <td>676</td>\n",
       "      <td>1970870</td>\n",
       "    </tr>\n",
       "    <tr>\n",
       "      <th>2</th>\n",
       "      <td>676</td>\n",
       "      <td>1691985</td>\n",
       "    </tr>\n",
       "    <tr>\n",
       "      <th>3</th>\n",
       "      <td>676</td>\n",
       "      <td>2325980</td>\n",
       "    </tr>\n",
       "    <tr>\n",
       "      <th>4</th>\n",
       "      <td>676</td>\n",
       "      <td>1340215</td>\n",
       "    </tr>\n",
       "    <tr>\n",
       "      <th>...</th>\n",
       "      <td>...</td>\n",
       "      <td>...</td>\n",
       "    </tr>\n",
       "    <tr>\n",
       "      <th>95</th>\n",
       "      <td>606</td>\n",
       "      <td>2967190</td>\n",
       "    </tr>\n",
       "    <tr>\n",
       "      <th>96</th>\n",
       "      <td>336</td>\n",
       "      <td>1169405</td>\n",
       "    </tr>\n",
       "    <tr>\n",
       "      <th>97</th>\n",
       "      <td>705</td>\n",
       "      <td>1726515</td>\n",
       "    </tr>\n",
       "    <tr>\n",
       "      <th>98</th>\n",
       "      <td>516</td>\n",
       "      <td>1571700</td>\n",
       "    </tr>\n",
       "    <tr>\n",
       "      <th>99</th>\n",
       "      <td>691</td>\n",
       "      <td>2465930</td>\n",
       "    </tr>\n",
       "  </tbody>\n",
       "</table>\n",
       "<p>100 rows × 2 columns</p>\n",
       "</div>"
      ],
      "text/plain": [
       "    shop_area_sq_ft  total_vol\n",
       "0               528     842960\n",
       "1               676    1970870\n",
       "2               676    1691985\n",
       "3               676    2325980\n",
       "4               676    1340215\n",
       "..              ...        ...\n",
       "95              606    2967190\n",
       "96              336    1169405\n",
       "97              705    1726515\n",
       "98              516    1571700\n",
       "99              691    2465930\n",
       "\n",
       "[100 rows x 2 columns]"
      ]
     },
     "execution_count": 30,
     "metadata": {},
     "output_type": "execute_result"
    }
   ],
   "source": [
    "X"
   ]
  },
  {
   "cell_type": "markdown",
   "id": "787cab36",
   "metadata": {
    "papermill": {
     "duration": 0.022381,
     "end_time": "2023-04-28T08:50:38.197167",
     "exception": false,
     "start_time": "2023-04-28T08:50:38.174786",
     "status": "completed"
    },
    "tags": []
   },
   "source": [
    "## MI Scores"
   ]
  },
  {
   "cell_type": "code",
   "execution_count": 31,
   "id": "b2e6f067",
   "metadata": {
    "execution": {
     "iopub.execute_input": "2023-04-28T08:50:38.244416Z",
     "iopub.status.busy": "2023-04-28T08:50:38.243640Z",
     "iopub.status.idle": "2023-04-28T08:50:38.548739Z",
     "shell.execute_reply": "2023-04-28T08:50:38.547298Z"
    },
    "papermill": {
     "duration": 0.33171,
     "end_time": "2023-04-28T08:50:38.551458",
     "exception": false,
     "start_time": "2023-04-28T08:50:38.219748",
     "status": "completed"
    },
    "tags": []
   },
   "outputs": [
    {
     "name": "stdout",
     "output_type": "stream",
     "text": [
      "shop_area_sq_ft: 0.08\n",
      "total_vol: 0.09\n"
     ]
    }
   ],
   "source": [
    "from sklearn.feature_selection import mutual_info_classif\n",
    "\n",
    "# X is a matrix of features, y is a vector of target variable\n",
    "mi_scores = mutual_info_classif(X, y)\n",
    "\n",
    "# Get the names of the features\n",
    "feature_names = list(X.columns)\n",
    "\n",
    "# Print the MI scores with the feature names\n",
    "for i, score in enumerate(mi_scores):\n",
    "    print(f\"{feature_names[i]}: {score:.2f}\")\n"
   ]
  },
  {
   "cell_type": "markdown",
   "id": "2b9be9e6",
   "metadata": {
    "papermill": {
     "duration": 0.022054,
     "end_time": "2023-04-28T08:50:38.595896",
     "exception": false,
     "start_time": "2023-04-28T08:50:38.573842",
     "status": "completed"
    },
    "tags": []
   },
   "source": [
    "### Train test split"
   ]
  },
  {
   "cell_type": "code",
   "execution_count": 32,
   "id": "cdc70908",
   "metadata": {
    "execution": {
     "iopub.execute_input": "2023-04-28T08:50:38.643667Z",
     "iopub.status.busy": "2023-04-28T08:50:38.642296Z",
     "iopub.status.idle": "2023-04-28T08:50:38.650599Z",
     "shell.execute_reply": "2023-04-28T08:50:38.649303Z"
    },
    "papermill": {
     "duration": 0.035313,
     "end_time": "2023-04-28T08:50:38.653397",
     "exception": false,
     "start_time": "2023-04-28T08:50:38.618084",
     "status": "completed"
    },
    "tags": []
   },
   "outputs": [],
   "source": [
    "from sklearn.model_selection import train_test_split\n",
    "train_X, val_X, train_y, val_y = train_test_split(X, y, random_state = 0)"
   ]
  },
  {
   "cell_type": "markdown",
   "id": "39a4161e",
   "metadata": {
    "papermill": {
     "duration": 0.022377,
     "end_time": "2023-04-28T08:50:38.699426",
     "exception": false,
     "start_time": "2023-04-28T08:50:38.677049",
     "status": "completed"
    },
    "tags": []
   },
   "source": [
    "## Training the model"
   ]
  },
  {
   "cell_type": "code",
   "execution_count": 33,
   "id": "95b74466",
   "metadata": {
    "execution": {
     "iopub.execute_input": "2023-04-28T08:50:38.746854Z",
     "iopub.status.busy": "2023-04-28T08:50:38.745915Z",
     "iopub.status.idle": "2023-04-28T08:50:38.758638Z",
     "shell.execute_reply": "2023-04-28T08:50:38.757455Z"
    },
    "papermill": {
     "duration": 0.039668,
     "end_time": "2023-04-28T08:50:38.761160",
     "exception": false,
     "start_time": "2023-04-28T08:50:38.721492",
     "status": "completed"
    },
    "tags": []
   },
   "outputs": [
    {
     "data": {
      "text/html": [
       "<div>\n",
       "<style scoped>\n",
       "    .dataframe tbody tr th:only-of-type {\n",
       "        vertical-align: middle;\n",
       "    }\n",
       "\n",
       "    .dataframe tbody tr th {\n",
       "        vertical-align: top;\n",
       "    }\n",
       "\n",
       "    .dataframe thead th {\n",
       "        text-align: right;\n",
       "    }\n",
       "</style>\n",
       "<table border=\"1\" class=\"dataframe\">\n",
       "  <thead>\n",
       "    <tr style=\"text-align: right;\">\n",
       "      <th></th>\n",
       "      <th>shop_area_sq_ft</th>\n",
       "      <th>total_vol</th>\n",
       "    </tr>\n",
       "  </thead>\n",
       "  <tbody>\n",
       "    <tr>\n",
       "      <th>48</th>\n",
       "      <td>720</td>\n",
       "      <td>931695</td>\n",
       "    </tr>\n",
       "    <tr>\n",
       "      <th>6</th>\n",
       "      <td>617</td>\n",
       "      <td>2946220</td>\n",
       "    </tr>\n",
       "    <tr>\n",
       "      <th>99</th>\n",
       "      <td>691</td>\n",
       "      <td>2465930</td>\n",
       "    </tr>\n",
       "    <tr>\n",
       "      <th>82</th>\n",
       "      <td>605</td>\n",
       "      <td>1917850</td>\n",
       "    </tr>\n",
       "    <tr>\n",
       "      <th>76</th>\n",
       "      <td>617</td>\n",
       "      <td>3606120</td>\n",
       "    </tr>\n",
       "    <tr>\n",
       "      <th>...</th>\n",
       "      <td>...</td>\n",
       "      <td>...</td>\n",
       "    </tr>\n",
       "    <tr>\n",
       "      <th>96</th>\n",
       "      <td>336</td>\n",
       "      <td>1169405</td>\n",
       "    </tr>\n",
       "    <tr>\n",
       "      <th>67</th>\n",
       "      <td>520</td>\n",
       "      <td>2206435</td>\n",
       "    </tr>\n",
       "    <tr>\n",
       "      <th>64</th>\n",
       "      <td>617</td>\n",
       "      <td>2671250</td>\n",
       "    </tr>\n",
       "    <tr>\n",
       "      <th>47</th>\n",
       "      <td>617</td>\n",
       "      <td>1791290</td>\n",
       "    </tr>\n",
       "    <tr>\n",
       "      <th>44</th>\n",
       "      <td>617</td>\n",
       "      <td>2198800</td>\n",
       "    </tr>\n",
       "  </tbody>\n",
       "</table>\n",
       "<p>75 rows × 2 columns</p>\n",
       "</div>"
      ],
      "text/plain": [
       "    shop_area_sq_ft  total_vol\n",
       "48              720     931695\n",
       "6               617    2946220\n",
       "99              691    2465930\n",
       "82              605    1917850\n",
       "76              617    3606120\n",
       "..              ...        ...\n",
       "96              336    1169405\n",
       "67              520    2206435\n",
       "64              617    2671250\n",
       "47              617    1791290\n",
       "44              617    2198800\n",
       "\n",
       "[75 rows x 2 columns]"
      ]
     },
     "execution_count": 33,
     "metadata": {},
     "output_type": "execute_result"
    }
   ],
   "source": [
    "train_X"
   ]
  },
  {
   "cell_type": "code",
   "execution_count": 34,
   "id": "f093a48a",
   "metadata": {
    "execution": {
     "iopub.execute_input": "2023-04-28T08:50:38.808361Z",
     "iopub.status.busy": "2023-04-28T08:50:38.807496Z",
     "iopub.status.idle": "2023-04-28T08:50:38.816528Z",
     "shell.execute_reply": "2023-04-28T08:50:38.815293Z"
    },
    "papermill": {
     "duration": 0.035817,
     "end_time": "2023-04-28T08:50:38.819155",
     "exception": false,
     "start_time": "2023-04-28T08:50:38.783338",
     "status": "completed"
    },
    "tags": []
   },
   "outputs": [
    {
     "data": {
      "text/plain": [
       "48    1\n",
       "6     1\n",
       "99    2\n",
       "82    1\n",
       "76    2\n",
       "     ..\n",
       "96    0\n",
       "67    0\n",
       "64    2\n",
       "47    1\n",
       "44    1\n",
       "Name: shop_profile, Length: 75, dtype: int64"
      ]
     },
     "execution_count": 34,
     "metadata": {},
     "output_type": "execute_result"
    }
   ],
   "source": [
    "train_y"
   ]
  },
  {
   "cell_type": "code",
   "execution_count": 35,
   "id": "e14840e0",
   "metadata": {
    "execution": {
     "iopub.execute_input": "2023-04-28T08:50:38.868471Z",
     "iopub.status.busy": "2023-04-28T08:50:38.867583Z",
     "iopub.status.idle": "2023-04-28T08:50:38.879413Z",
     "shell.execute_reply": "2023-04-28T08:50:38.878221Z"
    },
    "papermill": {
     "duration": 0.040027,
     "end_time": "2023-04-28T08:50:38.881905",
     "exception": false,
     "start_time": "2023-04-28T08:50:38.841878",
     "status": "completed"
    },
    "tags": []
   },
   "outputs": [
    {
     "data": {
      "text/html": [
       "<div>\n",
       "<style scoped>\n",
       "    .dataframe tbody tr th:only-of-type {\n",
       "        vertical-align: middle;\n",
       "    }\n",
       "\n",
       "    .dataframe tbody tr th {\n",
       "        vertical-align: top;\n",
       "    }\n",
       "\n",
       "    .dataframe thead th {\n",
       "        text-align: right;\n",
       "    }\n",
       "</style>\n",
       "<table border=\"1\" class=\"dataframe\">\n",
       "  <thead>\n",
       "    <tr style=\"text-align: right;\">\n",
       "      <th></th>\n",
       "      <th>shop_area_sq_ft</th>\n",
       "      <th>total_vol</th>\n",
       "    </tr>\n",
       "  </thead>\n",
       "  <tbody>\n",
       "    <tr>\n",
       "      <th>26</th>\n",
       "      <td>594</td>\n",
       "      <td>1543645</td>\n",
       "    </tr>\n",
       "    <tr>\n",
       "      <th>86</th>\n",
       "      <td>441</td>\n",
       "      <td>1640080</td>\n",
       "    </tr>\n",
       "    <tr>\n",
       "      <th>2</th>\n",
       "      <td>676</td>\n",
       "      <td>1691985</td>\n",
       "    </tr>\n",
       "    <tr>\n",
       "      <th>55</th>\n",
       "      <td>661</td>\n",
       "      <td>2697370</td>\n",
       "    </tr>\n",
       "    <tr>\n",
       "      <th>75</th>\n",
       "      <td>549</td>\n",
       "      <td>2694095</td>\n",
       "    </tr>\n",
       "    <tr>\n",
       "      <th>93</th>\n",
       "      <td>555</td>\n",
       "      <td>3220950</td>\n",
       "    </tr>\n",
       "    <tr>\n",
       "      <th>16</th>\n",
       "      <td>495</td>\n",
       "      <td>2157105</td>\n",
       "    </tr>\n",
       "    <tr>\n",
       "      <th>73</th>\n",
       "      <td>541</td>\n",
       "      <td>1832065</td>\n",
       "    </tr>\n",
       "    <tr>\n",
       "      <th>54</th>\n",
       "      <td>617</td>\n",
       "      <td>2828540</td>\n",
       "    </tr>\n",
       "    <tr>\n",
       "      <th>95</th>\n",
       "      <td>606</td>\n",
       "      <td>2967190</td>\n",
       "    </tr>\n",
       "    <tr>\n",
       "      <th>53</th>\n",
       "      <td>709</td>\n",
       "      <td>2126605</td>\n",
       "    </tr>\n",
       "    <tr>\n",
       "      <th>92</th>\n",
       "      <td>565</td>\n",
       "      <td>1970175</td>\n",
       "    </tr>\n",
       "    <tr>\n",
       "      <th>78</th>\n",
       "      <td>422</td>\n",
       "      <td>2663785</td>\n",
       "    </tr>\n",
       "    <tr>\n",
       "      <th>13</th>\n",
       "      <td>537</td>\n",
       "      <td>1637380</td>\n",
       "    </tr>\n",
       "    <tr>\n",
       "      <th>7</th>\n",
       "      <td>423</td>\n",
       "      <td>1607630</td>\n",
       "    </tr>\n",
       "    <tr>\n",
       "      <th>30</th>\n",
       "      <td>1077</td>\n",
       "      <td>3734470</td>\n",
       "    </tr>\n",
       "    <tr>\n",
       "      <th>22</th>\n",
       "      <td>709</td>\n",
       "      <td>2057905</td>\n",
       "    </tr>\n",
       "    <tr>\n",
       "      <th>24</th>\n",
       "      <td>517</td>\n",
       "      <td>1272710</td>\n",
       "    </tr>\n",
       "    <tr>\n",
       "      <th>33</th>\n",
       "      <td>441</td>\n",
       "      <td>1727280</td>\n",
       "    </tr>\n",
       "    <tr>\n",
       "      <th>8</th>\n",
       "      <td>676</td>\n",
       "      <td>2525525</td>\n",
       "    </tr>\n",
       "    <tr>\n",
       "      <th>43</th>\n",
       "      <td>706</td>\n",
       "      <td>1707520</td>\n",
       "    </tr>\n",
       "    <tr>\n",
       "      <th>62</th>\n",
       "      <td>810</td>\n",
       "      <td>1922995</td>\n",
       "    </tr>\n",
       "    <tr>\n",
       "      <th>3</th>\n",
       "      <td>676</td>\n",
       "      <td>2325980</td>\n",
       "    </tr>\n",
       "    <tr>\n",
       "      <th>71</th>\n",
       "      <td>617</td>\n",
       "      <td>2988550</td>\n",
       "    </tr>\n",
       "    <tr>\n",
       "      <th>45</th>\n",
       "      <td>617</td>\n",
       "      <td>1785495</td>\n",
       "    </tr>\n",
       "  </tbody>\n",
       "</table>\n",
       "</div>"
      ],
      "text/plain": [
       "    shop_area_sq_ft  total_vol\n",
       "26              594    1543645\n",
       "86              441    1640080\n",
       "2               676    1691985\n",
       "55              661    2697370\n",
       "75              549    2694095\n",
       "93              555    3220950\n",
       "16              495    2157105\n",
       "73              541    1832065\n",
       "54              617    2828540\n",
       "95              606    2967190\n",
       "53              709    2126605\n",
       "92              565    1970175\n",
       "78              422    2663785\n",
       "13              537    1637380\n",
       "7               423    1607630\n",
       "30             1077    3734470\n",
       "22              709    2057905\n",
       "24              517    1272710\n",
       "33              441    1727280\n",
       "8               676    2525525\n",
       "43              706    1707520\n",
       "62              810    1922995\n",
       "3               676    2325980\n",
       "71              617    2988550\n",
       "45              617    1785495"
      ]
     },
     "execution_count": 35,
     "metadata": {},
     "output_type": "execute_result"
    }
   ],
   "source": [
    "val_X"
   ]
  },
  {
   "cell_type": "code",
   "execution_count": 36,
   "id": "a602b1f5",
   "metadata": {
    "execution": {
     "iopub.execute_input": "2023-04-28T08:50:38.932670Z",
     "iopub.status.busy": "2023-04-28T08:50:38.932185Z",
     "iopub.status.idle": "2023-04-28T08:50:38.941430Z",
     "shell.execute_reply": "2023-04-28T08:50:38.939929Z"
    },
    "papermill": {
     "duration": 0.039115,
     "end_time": "2023-04-28T08:50:38.943955",
     "exception": false,
     "start_time": "2023-04-28T08:50:38.904840",
     "status": "completed"
    },
    "tags": []
   },
   "outputs": [
    {
     "data": {
      "text/plain": [
       "26    1\n",
       "86    1\n",
       "2     0\n",
       "55    2\n",
       "75    2\n",
       "93    2\n",
       "16    2\n",
       "73    1\n",
       "54    1\n",
       "95    2\n",
       "53    2\n",
       "92    0\n",
       "78    1\n",
       "13    1\n",
       "7     1\n",
       "30    2\n",
       "22    2\n",
       "24    0\n",
       "33    0\n",
       "8     0\n",
       "43    1\n",
       "62    2\n",
       "3     0\n",
       "71    1\n",
       "45    0\n",
       "Name: shop_profile, dtype: int64"
      ]
     },
     "execution_count": 36,
     "metadata": {},
     "output_type": "execute_result"
    }
   ],
   "source": [
    "val_y"
   ]
  },
  {
   "cell_type": "markdown",
   "id": "71cd86ed",
   "metadata": {
    "papermill": {
     "duration": 0.024386,
     "end_time": "2023-04-28T08:50:38.992425",
     "exception": false,
     "start_time": "2023-04-28T08:50:38.968039",
     "status": "completed"
    },
    "tags": []
   },
   "source": [
    "### Training model"
   ]
  },
  {
   "cell_type": "code",
   "execution_count": 37,
   "id": "d044e1c6",
   "metadata": {
    "execution": {
     "iopub.execute_input": "2023-04-28T08:50:39.042712Z",
     "iopub.status.busy": "2023-04-28T08:50:39.041691Z",
     "iopub.status.idle": "2023-04-28T08:50:39.445107Z",
     "shell.execute_reply": "2023-04-28T08:50:39.443609Z"
    },
    "papermill": {
     "duration": 0.431959,
     "end_time": "2023-04-28T08:50:39.448156",
     "exception": false,
     "start_time": "2023-04-28T08:50:39.016197",
     "status": "completed"
    },
    "tags": []
   },
   "outputs": [],
   "source": [
    "from sklearn.neighbors import KNeighborsClassifier\n",
    "from xgboost import XGBClassifier\n",
    "from sklearn.ensemble import RandomForestClassifier"
   ]
  },
  {
   "cell_type": "code",
   "execution_count": 38,
   "id": "aedd1ba9",
   "metadata": {
    "execution": {
     "iopub.execute_input": "2023-04-28T08:50:39.501756Z",
     "iopub.status.busy": "2023-04-28T08:50:39.501300Z",
     "iopub.status.idle": "2023-04-28T08:50:39.941998Z",
     "shell.execute_reply": "2023-04-28T08:50:39.940559Z"
    },
    "papermill": {
     "duration": 0.47181,
     "end_time": "2023-04-28T08:50:39.944908",
     "exception": false,
     "start_time": "2023-04-28T08:50:39.473098",
     "status": "completed"
    },
    "tags": []
   },
   "outputs": [
    {
     "data": {
      "text/plain": [
       "XGBClassifier(base_score=0.5, booster='gbtree', callbacks=None,\n",
       "              colsample_bylevel=1, colsample_bynode=1, colsample_bytree=1,\n",
       "              early_stopping_rounds=None, enable_categorical=False,\n",
       "              eval_metric=None, gamma=0, gpu_id=-1, grow_policy='depthwise',\n",
       "              importance_type=None, interaction_constraints='',\n",
       "              learning_rate=0.300000012, max_bin=256, max_cat_to_onehot=4,\n",
       "              max_delta_step=0, max_depth=6, max_leaves=0, min_child_weight=1,\n",
       "              missing=nan, monotone_constraints='()', n_estimators=100,\n",
       "              n_jobs=0, num_parallel_tree=1, objective='multi:softprob',\n",
       "              predictor='auto', random_state=0, reg_alpha=0, ...)"
      ]
     },
     "execution_count": 38,
     "metadata": {},
     "output_type": "execute_result"
    }
   ],
   "source": [
    "# Define the model with default hyperparameters\n",
    "model = XGBClassifier()\n",
    "# model = KNeighborsClassifier(n_neighbors= 25)\n",
    "# model = RandomForestClassifier(n_estimators=100,random_state=1)\n",
    "\n",
    "# Fit the model to the training data\n",
    "model.fit(train_X, train_y)"
   ]
  },
  {
   "cell_type": "markdown",
   "id": "12abc660",
   "metadata": {
    "papermill": {
     "duration": 0.024072,
     "end_time": "2023-04-28T08:50:39.993407",
     "exception": false,
     "start_time": "2023-04-28T08:50:39.969335",
     "status": "completed"
    },
    "tags": []
   },
   "source": [
    "## Making predictions"
   ]
  },
  {
   "cell_type": "code",
   "execution_count": 39,
   "id": "8c1522dc",
   "metadata": {
    "execution": {
     "iopub.execute_input": "2023-04-28T08:50:40.043467Z",
     "iopub.status.busy": "2023-04-28T08:50:40.042619Z",
     "iopub.status.idle": "2023-04-28T08:50:40.058654Z",
     "shell.execute_reply": "2023-04-28T08:50:40.057495Z"
    },
    "papermill": {
     "duration": 0.044197,
     "end_time": "2023-04-28T08:50:40.061597",
     "exception": false,
     "start_time": "2023-04-28T08:50:40.017400",
     "status": "completed"
    },
    "tags": []
   },
   "outputs": [],
   "source": [
    "# Make predictions on the test data\n",
    "y_pred = model.predict(val_X)"
   ]
  },
  {
   "cell_type": "markdown",
   "id": "83b10683",
   "metadata": {
    "papermill": {
     "duration": 0.022941,
     "end_time": "2023-04-28T08:50:40.108564",
     "exception": false,
     "start_time": "2023-04-28T08:50:40.085623",
     "status": "completed"
    },
    "tags": []
   },
   "source": [
    "## F1 Score"
   ]
  },
  {
   "cell_type": "code",
   "execution_count": 40,
   "id": "d8d38413",
   "metadata": {
    "execution": {
     "iopub.execute_input": "2023-04-28T08:50:40.157298Z",
     "iopub.status.busy": "2023-04-28T08:50:40.156442Z",
     "iopub.status.idle": "2023-04-28T08:50:40.164910Z",
     "shell.execute_reply": "2023-04-28T08:50:40.163507Z"
    },
    "papermill": {
     "duration": 0.035574,
     "end_time": "2023-04-28T08:50:40.167534",
     "exception": false,
     "start_time": "2023-04-28T08:50:40.131960",
     "status": "completed"
    },
    "tags": []
   },
   "outputs": [
    {
     "name": "stdout",
     "output_type": "stream",
     "text": [
      "F1 score: 0.28\n"
     ]
    }
   ],
   "source": [
    "from sklearn.metrics import f1_score\n",
    "\n",
    "# Calculate the F1 score\n",
    "f1 = f1_score(val_y, y_pred,average='micro')\n",
    "\n",
    "# Print the result\n",
    "print(\"F1 score:\", f1)"
   ]
  },
  {
   "cell_type": "markdown",
   "id": "537e1150",
   "metadata": {
    "papermill": {
     "duration": 0.022969,
     "end_time": "2023-04-28T08:50:40.213791",
     "exception": false,
     "start_time": "2023-04-28T08:50:40.190822",
     "status": "completed"
    },
    "tags": []
   },
   "source": [
    "## For submissions Train using full X and y sets"
   ]
  },
  {
   "cell_type": "code",
   "execution_count": 41,
   "id": "058dfbd1",
   "metadata": {
    "execution": {
     "iopub.execute_input": "2023-04-28T08:50:40.263112Z",
     "iopub.status.busy": "2023-04-28T08:50:40.261581Z",
     "iopub.status.idle": "2023-04-28T08:50:40.586999Z",
     "shell.execute_reply": "2023-04-28T08:50:40.585962Z"
    },
    "papermill": {
     "duration": 0.352478,
     "end_time": "2023-04-28T08:50:40.589442",
     "exception": false,
     "start_time": "2023-04-28T08:50:40.236964",
     "status": "completed"
    },
    "tags": []
   },
   "outputs": [
    {
     "data": {
      "text/plain": [
       "XGBClassifier(base_score=0.5, booster='gbtree', callbacks=None,\n",
       "              colsample_bylevel=1, colsample_bynode=1, colsample_bytree=1,\n",
       "              early_stopping_rounds=None, enable_categorical=False,\n",
       "              eval_metric=None, gamma=0, gpu_id=-1, grow_policy='depthwise',\n",
       "              importance_type=None, interaction_constraints='',\n",
       "              learning_rate=0.300000012, max_bin=256, max_cat_to_onehot=4,\n",
       "              max_delta_step=0, max_depth=6, max_leaves=0, min_child_weight=1,\n",
       "              missing=nan, monotone_constraints='()', n_estimators=100,\n",
       "              n_jobs=0, num_parallel_tree=1, objective='multi:softprob',\n",
       "              predictor='auto', random_state=0, reg_alpha=0, ...)"
      ]
     },
     "execution_count": 41,
     "metadata": {},
     "output_type": "execute_result"
    }
   ],
   "source": [
    "# Define the model with default hyperparameters\n",
    "FinalModel = XGBClassifier()\n",
    "# FinalModel = KNeighborsClassifier(n_neighbors=3)\n",
    "# FinalModel = RandomForestClassifier(n_estimators=100,random_state=1)\n",
    "\n",
    "# Fit the model to the training data\n",
    "FinalModel.fit(train_X, train_y)"
   ]
  },
  {
   "cell_type": "code",
   "execution_count": 42,
   "id": "cb7230e3",
   "metadata": {
    "execution": {
     "iopub.execute_input": "2023-04-28T08:50:40.638932Z",
     "iopub.status.busy": "2023-04-28T08:50:40.638071Z",
     "iopub.status.idle": "2023-04-28T08:50:40.650957Z",
     "shell.execute_reply": "2023-04-28T08:50:40.649671Z"
    },
    "papermill": {
     "duration": 0.040679,
     "end_time": "2023-04-28T08:50:40.653783",
     "exception": false,
     "start_time": "2023-04-28T08:50:40.613104",
     "status": "completed"
    },
    "tags": []
   },
   "outputs": [
    {
     "data": {
      "text/html": [
       "<div>\n",
       "<style scoped>\n",
       "    .dataframe tbody tr th:only-of-type {\n",
       "        vertical-align: middle;\n",
       "    }\n",
       "\n",
       "    .dataframe tbody tr th {\n",
       "        vertical-align: top;\n",
       "    }\n",
       "\n",
       "    .dataframe thead th {\n",
       "        text-align: right;\n",
       "    }\n",
       "</style>\n",
       "<table border=\"1\" class=\"dataframe\">\n",
       "  <thead>\n",
       "    <tr style=\"text-align: right;\">\n",
       "      <th></th>\n",
       "      <th>shop_area_sq_ft</th>\n",
       "      <th>total_vol</th>\n",
       "    </tr>\n",
       "  </thead>\n",
       "  <tbody>\n",
       "    <tr>\n",
       "      <th>100</th>\n",
       "      <td>545</td>\n",
       "      <td>2607865</td>\n",
       "    </tr>\n",
       "    <tr>\n",
       "      <th>101</th>\n",
       "      <td>676</td>\n",
       "      <td>1308795</td>\n",
       "    </tr>\n",
       "    <tr>\n",
       "      <th>102</th>\n",
       "      <td>617</td>\n",
       "      <td>2570425</td>\n",
       "    </tr>\n",
       "    <tr>\n",
       "      <th>103</th>\n",
       "      <td>310</td>\n",
       "      <td>2642380</td>\n",
       "    </tr>\n",
       "    <tr>\n",
       "      <th>104</th>\n",
       "      <td>715</td>\n",
       "      <td>1310440</td>\n",
       "    </tr>\n",
       "    <tr>\n",
       "      <th>105</th>\n",
       "      <td>530</td>\n",
       "      <td>2862995</td>\n",
       "    </tr>\n",
       "    <tr>\n",
       "      <th>106</th>\n",
       "      <td>411</td>\n",
       "      <td>1444025</td>\n",
       "    </tr>\n",
       "    <tr>\n",
       "      <th>107</th>\n",
       "      <td>597</td>\n",
       "      <td>1973805</td>\n",
       "    </tr>\n",
       "    <tr>\n",
       "      <th>108</th>\n",
       "      <td>676</td>\n",
       "      <td>2600915</td>\n",
       "    </tr>\n",
       "    <tr>\n",
       "      <th>109</th>\n",
       "      <td>617</td>\n",
       "      <td>1961240</td>\n",
       "    </tr>\n",
       "    <tr>\n",
       "      <th>110</th>\n",
       "      <td>774</td>\n",
       "      <td>2067720</td>\n",
       "    </tr>\n",
       "    <tr>\n",
       "      <th>111</th>\n",
       "      <td>676</td>\n",
       "      <td>2276575</td>\n",
       "    </tr>\n",
       "    <tr>\n",
       "      <th>112</th>\n",
       "      <td>554</td>\n",
       "      <td>1322790</td>\n",
       "    </tr>\n",
       "    <tr>\n",
       "      <th>113</th>\n",
       "      <td>617</td>\n",
       "      <td>2608740</td>\n",
       "    </tr>\n",
       "    <tr>\n",
       "      <th>114</th>\n",
       "      <td>588</td>\n",
       "      <td>2565235</td>\n",
       "    </tr>\n",
       "    <tr>\n",
       "      <th>115</th>\n",
       "      <td>676</td>\n",
       "      <td>2100715</td>\n",
       "    </tr>\n",
       "    <tr>\n",
       "      <th>116</th>\n",
       "      <td>411</td>\n",
       "      <td>2200580</td>\n",
       "    </tr>\n",
       "    <tr>\n",
       "      <th>117</th>\n",
       "      <td>637</td>\n",
       "      <td>3084455</td>\n",
       "    </tr>\n",
       "    <tr>\n",
       "      <th>118</th>\n",
       "      <td>513</td>\n",
       "      <td>2131345</td>\n",
       "    </tr>\n",
       "    <tr>\n",
       "      <th>119</th>\n",
       "      <td>527</td>\n",
       "      <td>1128935</td>\n",
       "    </tr>\n",
       "    <tr>\n",
       "      <th>120</th>\n",
       "      <td>411</td>\n",
       "      <td>2399125</td>\n",
       "    </tr>\n",
       "    <tr>\n",
       "      <th>121</th>\n",
       "      <td>699</td>\n",
       "      <td>2110800</td>\n",
       "    </tr>\n",
       "    <tr>\n",
       "      <th>122</th>\n",
       "      <td>597</td>\n",
       "      <td>3023805</td>\n",
       "    </tr>\n",
       "    <tr>\n",
       "      <th>123</th>\n",
       "      <td>676</td>\n",
       "      <td>1325070</td>\n",
       "    </tr>\n",
       "  </tbody>\n",
       "</table>\n",
       "</div>"
      ],
      "text/plain": [
       "     shop_area_sq_ft  total_vol\n",
       "100              545    2607865\n",
       "101              676    1308795\n",
       "102              617    2570425\n",
       "103              310    2642380\n",
       "104              715    1310440\n",
       "105              530    2862995\n",
       "106              411    1444025\n",
       "107              597    1973805\n",
       "108              676    2600915\n",
       "109              617    1961240\n",
       "110              774    2067720\n",
       "111              676    2276575\n",
       "112              554    1322790\n",
       "113              617    2608740\n",
       "114              588    2565235\n",
       "115              676    2100715\n",
       "116              411    2200580\n",
       "117              637    3084455\n",
       "118              513    2131345\n",
       "119              527    1128935\n",
       "120              411    2399125\n",
       "121              699    2110800\n",
       "122              597    3023805\n",
       "123              676    1325070"
      ]
     },
     "execution_count": 42,
     "metadata": {},
     "output_type": "execute_result"
    }
   ],
   "source": [
    "test_shops = test_shops.drop('shop_id', axis=1)\n",
    "test_shops"
   ]
  },
  {
   "cell_type": "code",
   "execution_count": 43,
   "id": "e1cfcd45",
   "metadata": {
    "execution": {
     "iopub.execute_input": "2023-04-28T08:50:40.704093Z",
     "iopub.status.busy": "2023-04-28T08:50:40.703615Z",
     "iopub.status.idle": "2023-04-28T08:50:40.714735Z",
     "shell.execute_reply": "2023-04-28T08:50:40.713691Z"
    },
    "papermill": {
     "duration": 0.039403,
     "end_time": "2023-04-28T08:50:40.717755",
     "exception": false,
     "start_time": "2023-04-28T08:50:40.678352",
     "status": "completed"
    },
    "tags": []
   },
   "outputs": [],
   "source": [
    "FinalPred = FinalModel.predict(test_shops)"
   ]
  },
  {
   "cell_type": "code",
   "execution_count": 44,
   "id": "a0321619",
   "metadata": {
    "execution": {
     "iopub.execute_input": "2023-04-28T08:50:40.768424Z",
     "iopub.status.busy": "2023-04-28T08:50:40.767981Z",
     "iopub.status.idle": "2023-04-28T08:50:40.775099Z",
     "shell.execute_reply": "2023-04-28T08:50:40.774063Z"
    },
    "papermill": {
     "duration": 0.035434,
     "end_time": "2023-04-28T08:50:40.777745",
     "exception": false,
     "start_time": "2023-04-28T08:50:40.742311",
     "status": "completed"
    },
    "tags": []
   },
   "outputs": [
    {
     "data": {
      "text/plain": [
       "24"
      ]
     },
     "execution_count": 44,
     "metadata": {},
     "output_type": "execute_result"
    }
   ],
   "source": [
    "len(FinalPred)"
   ]
  },
  {
   "cell_type": "markdown",
   "id": "39cd0b83",
   "metadata": {
    "papermill": {
     "duration": 0.023366,
     "end_time": "2023-04-28T08:50:40.824967",
     "exception": false,
     "start_time": "2023-04-28T08:50:40.801601",
     "status": "completed"
    },
    "tags": []
   },
   "source": [
    "## Combining predictions with shop_id"
   ]
  },
  {
   "cell_type": "code",
   "execution_count": 45,
   "id": "4404645c",
   "metadata": {
    "execution": {
     "iopub.execute_input": "2023-04-28T08:50:40.875130Z",
     "iopub.status.busy": "2023-04-28T08:50:40.874682Z",
     "iopub.status.idle": "2023-04-28T08:50:40.880237Z",
     "shell.execute_reply": "2023-04-28T08:50:40.879313Z"
    },
    "papermill": {
     "duration": 0.032972,
     "end_time": "2023-04-28T08:50:40.882535",
     "exception": false,
     "start_time": "2023-04-28T08:50:40.849563",
     "status": "completed"
    },
    "tags": []
   },
   "outputs": [],
   "source": [
    "# Create a dictionary mapping the old values to the new values\n",
    "mapping = {0: 'Low', 1: 'Moderate', 2: 'High'}\n",
    "\n",
    "# Map the values in the 'shop_profile' column using the dictionary\n",
    "testdata[\"shop_profile\"] = FinalPred"
   ]
  },
  {
   "cell_type": "code",
   "execution_count": 46,
   "id": "718b61c5",
   "metadata": {
    "execution": {
     "iopub.execute_input": "2023-04-28T08:50:40.933728Z",
     "iopub.status.busy": "2023-04-28T08:50:40.932796Z",
     "iopub.status.idle": "2023-04-28T08:50:40.943777Z",
     "shell.execute_reply": "2023-04-28T08:50:40.942816Z"
    },
    "papermill": {
     "duration": 0.039963,
     "end_time": "2023-04-28T08:50:40.946490",
     "exception": false,
     "start_time": "2023-04-28T08:50:40.906527",
     "status": "completed"
    },
    "tags": []
   },
   "outputs": [
    {
     "data": {
      "text/html": [
       "<div>\n",
       "<style scoped>\n",
       "    .dataframe tbody tr th:only-of-type {\n",
       "        vertical-align: middle;\n",
       "    }\n",
       "\n",
       "    .dataframe tbody tr th {\n",
       "        vertical-align: top;\n",
       "    }\n",
       "\n",
       "    .dataframe thead th {\n",
       "        text-align: right;\n",
       "    }\n",
       "</style>\n",
       "<table border=\"1\" class=\"dataframe\">\n",
       "  <thead>\n",
       "    <tr style=\"text-align: right;\">\n",
       "      <th></th>\n",
       "      <th>shop_id</th>\n",
       "      <th>shop_profile</th>\n",
       "    </tr>\n",
       "  </thead>\n",
       "  <tbody>\n",
       "    <tr>\n",
       "      <th>0</th>\n",
       "      <td>SHOP046</td>\n",
       "      <td>2</td>\n",
       "    </tr>\n",
       "    <tr>\n",
       "      <th>1</th>\n",
       "      <td>SHOP024</td>\n",
       "      <td>0</td>\n",
       "    </tr>\n",
       "    <tr>\n",
       "      <th>2</th>\n",
       "      <td>SHOP023</td>\n",
       "      <td>2</td>\n",
       "    </tr>\n",
       "    <tr>\n",
       "      <th>3</th>\n",
       "      <td>SHOP097</td>\n",
       "      <td>2</td>\n",
       "    </tr>\n",
       "    <tr>\n",
       "      <th>4</th>\n",
       "      <td>SHOP044</td>\n",
       "      <td>1</td>\n",
       "    </tr>\n",
       "    <tr>\n",
       "      <th>5</th>\n",
       "      <td>SHOP030</td>\n",
       "      <td>0</td>\n",
       "    </tr>\n",
       "    <tr>\n",
       "      <th>6</th>\n",
       "      <td>SHOP038</td>\n",
       "      <td>0</td>\n",
       "    </tr>\n",
       "    <tr>\n",
       "      <th>7</th>\n",
       "      <td>SHOP029</td>\n",
       "      <td>1</td>\n",
       "    </tr>\n",
       "    <tr>\n",
       "      <th>8</th>\n",
       "      <td>SHOP096</td>\n",
       "      <td>2</td>\n",
       "    </tr>\n",
       "    <tr>\n",
       "      <th>9</th>\n",
       "      <td>SHOP092</td>\n",
       "      <td>1</td>\n",
       "    </tr>\n",
       "    <tr>\n",
       "      <th>10</th>\n",
       "      <td>SHOP081</td>\n",
       "      <td>2</td>\n",
       "    </tr>\n",
       "    <tr>\n",
       "      <th>11</th>\n",
       "      <td>SHOP076</td>\n",
       "      <td>2</td>\n",
       "    </tr>\n",
       "    <tr>\n",
       "      <th>12</th>\n",
       "      <td>SHOP080</td>\n",
       "      <td>0</td>\n",
       "    </tr>\n",
       "    <tr>\n",
       "      <th>13</th>\n",
       "      <td>SHOP074</td>\n",
       "      <td>2</td>\n",
       "    </tr>\n",
       "    <tr>\n",
       "      <th>14</th>\n",
       "      <td>SHOP107</td>\n",
       "      <td>2</td>\n",
       "    </tr>\n",
       "    <tr>\n",
       "      <th>15</th>\n",
       "      <td>SHOP108</td>\n",
       "      <td>0</td>\n",
       "    </tr>\n",
       "    <tr>\n",
       "      <th>16</th>\n",
       "      <td>SHOP019</td>\n",
       "      <td>1</td>\n",
       "    </tr>\n",
       "    <tr>\n",
       "      <th>17</th>\n",
       "      <td>SHOP002</td>\n",
       "      <td>1</td>\n",
       "    </tr>\n",
       "    <tr>\n",
       "      <th>18</th>\n",
       "      <td>SHOP114</td>\n",
       "      <td>0</td>\n",
       "    </tr>\n",
       "    <tr>\n",
       "      <th>19</th>\n",
       "      <td>SHOP087</td>\n",
       "      <td>1</td>\n",
       "    </tr>\n",
       "    <tr>\n",
       "      <th>20</th>\n",
       "      <td>SHOP050</td>\n",
       "      <td>0</td>\n",
       "    </tr>\n",
       "    <tr>\n",
       "      <th>21</th>\n",
       "      <td>SHOP061</td>\n",
       "      <td>0</td>\n",
       "    </tr>\n",
       "    <tr>\n",
       "      <th>22</th>\n",
       "      <td>SHOP056</td>\n",
       "      <td>1</td>\n",
       "    </tr>\n",
       "    <tr>\n",
       "      <th>23</th>\n",
       "      <td>SHOP070</td>\n",
       "      <td>0</td>\n",
       "    </tr>\n",
       "  </tbody>\n",
       "</table>\n",
       "</div>"
      ],
      "text/plain": [
       "    shop_id  shop_profile\n",
       "0   SHOP046             2\n",
       "1   SHOP024             0\n",
       "2   SHOP023             2\n",
       "3   SHOP097             2\n",
       "4   SHOP044             1\n",
       "5   SHOP030             0\n",
       "6   SHOP038             0\n",
       "7   SHOP029             1\n",
       "8   SHOP096             2\n",
       "9   SHOP092             1\n",
       "10  SHOP081             2\n",
       "11  SHOP076             2\n",
       "12  SHOP080             0\n",
       "13  SHOP074             2\n",
       "14  SHOP107             2\n",
       "15  SHOP108             0\n",
       "16  SHOP019             1\n",
       "17  SHOP002             1\n",
       "18  SHOP114             0\n",
       "19  SHOP087             1\n",
       "20  SHOP050             0\n",
       "21  SHOP061             0\n",
       "22  SHOP056             1\n",
       "23  SHOP070             0"
      ]
     },
     "execution_count": 46,
     "metadata": {},
     "output_type": "execute_result"
    }
   ],
   "source": [
    "testdata"
   ]
  },
  {
   "cell_type": "code",
   "execution_count": 47,
   "id": "924b6b97",
   "metadata": {
    "execution": {
     "iopub.execute_input": "2023-04-28T08:50:40.998190Z",
     "iopub.status.busy": "2023-04-28T08:50:40.997285Z",
     "iopub.status.idle": "2023-04-28T08:50:41.004534Z",
     "shell.execute_reply": "2023-04-28T08:50:41.003347Z"
    },
    "papermill": {
     "duration": 0.036212,
     "end_time": "2023-04-28T08:50:41.007109",
     "exception": false,
     "start_time": "2023-04-28T08:50:40.970897",
     "status": "completed"
    },
    "tags": []
   },
   "outputs": [],
   "source": [
    "# Define a dictionary to map values to labels\n",
    "label_map = {0: 'Low', 1: 'Moderate', 2: 'High'}\n",
    "\n",
    "# Replace the values in the shop_profile column with labels\n",
    "testdata['shop_profile'] = testdata['shop_profile'].replace(label_map)"
   ]
  },
  {
   "cell_type": "code",
   "execution_count": 48,
   "id": "027de901",
   "metadata": {
    "execution": {
     "iopub.execute_input": "2023-04-28T08:50:41.058650Z",
     "iopub.status.busy": "2023-04-28T08:50:41.057919Z",
     "iopub.status.idle": "2023-04-28T08:50:41.070751Z",
     "shell.execute_reply": "2023-04-28T08:50:41.069289Z"
    },
    "papermill": {
     "duration": 0.042295,
     "end_time": "2023-04-28T08:50:41.073668",
     "exception": false,
     "start_time": "2023-04-28T08:50:41.031373",
     "status": "completed"
    },
    "tags": []
   },
   "outputs": [
    {
     "name": "stdout",
     "output_type": "stream",
     "text": [
      "Done!!\n"
     ]
    }
   ],
   "source": [
    "## Write to CSV\n",
    "testdata.to_csv('output.csv', index=False)\n",
    "print(\"Done!!\")"
   ]
  }
 ],
 "metadata": {
  "kernelspec": {
   "display_name": "Python 3",
   "language": "python",
   "name": "python3"
  },
  "language_info": {
   "codemirror_mode": {
    "name": "ipython",
    "version": 3
   },
   "file_extension": ".py",
   "mimetype": "text/x-python",
   "name": "python",
   "nbconvert_exporter": "python",
   "pygments_lexer": "ipython3",
   "version": "3.7.12"
  },
  "papermill": {
   "default_parameters": {},
   "duration": 23.748951,
   "end_time": "2023-04-28T08:50:41.922828",
   "environment_variables": {},
   "exception": null,
   "input_path": "__notebook__.ipynb",
   "output_path": "__notebook__.ipynb",
   "parameters": {},
   "start_time": "2023-04-28T08:50:18.173877",
   "version": "2.4.0"
  }
 },
 "nbformat": 4,
 "nbformat_minor": 5
}
