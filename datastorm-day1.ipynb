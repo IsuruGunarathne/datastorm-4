{
 "cells": [
  {
   "cell_type": "code",
   "execution_count": 1,
   "id": "4d0cdb77",
   "metadata": {
    "_cell_guid": "b1076dfc-b9ad-4769-8c92-a6c4dae69d19",
    "_uuid": "8f2839f25d086af736a60e9eeb907d3b93b6e0e5",
    "execution": {
     "iopub.execute_input": "2023-04-25T15:46:23.728216Z",
     "iopub.status.busy": "2023-04-25T15:46:23.727746Z",
     "iopub.status.idle": "2023-04-25T15:46:24.897825Z",
     "shell.execute_reply": "2023-04-25T15:46:24.896663Z"
    },
    "papermill": {
     "duration": 1.184451,
     "end_time": "2023-04-25T15:46:24.900475",
     "exception": false,
     "start_time": "2023-04-25T15:46:23.716024",
     "status": "completed"
    },
    "tags": []
   },
   "outputs": [],
   "source": [
    "import pandas as pd\n",
    "import numpy as np\n",
    "import seaborn as sns"
   ]
  },
  {
   "cell_type": "code",
   "execution_count": 2,
   "id": "a5c2e3ec",
   "metadata": {
    "execution": {
     "iopub.execute_input": "2023-04-25T15:46:24.920625Z",
     "iopub.status.busy": "2023-04-25T15:46:24.920233Z",
     "iopub.status.idle": "2023-04-25T15:46:25.854402Z",
     "shell.execute_reply": "2023-04-25T15:46:25.852927Z"
    },
    "papermill": {
     "duration": 0.94711,
     "end_time": "2023-04-25T15:46:25.856931",
     "exception": false,
     "start_time": "2023-04-25T15:46:24.909821",
     "status": "completed"
    },
    "tags": []
   },
   "outputs": [],
   "source": [
    "transactions = pd.read_csv(\"/kaggle/input/dataset/Historical-transaction-data.csv\")\n",
    "storedata = pd.read_csv(\"/kaggle/input/dataset/Store-info.csv\")\n",
    "testdata = pd.read_csv(\"/kaggle/input/dataset/Testing-data.csv\")"
   ]
  },
  {
   "cell_type": "code",
   "execution_count": 3,
   "id": "9c1f5a39",
   "metadata": {
    "execution": {
     "iopub.execute_input": "2023-04-25T15:46:25.877690Z",
     "iopub.status.busy": "2023-04-25T15:46:25.877113Z",
     "iopub.status.idle": "2023-04-25T15:46:25.906726Z",
     "shell.execute_reply": "2023-04-25T15:46:25.905593Z"
    },
    "papermill": {
     "duration": 0.042792,
     "end_time": "2023-04-25T15:46:25.909170",
     "exception": false,
     "start_time": "2023-04-25T15:46:25.866378",
     "status": "completed"
    },
    "tags": []
   },
   "outputs": [
    {
     "data": {
      "text/html": [
       "<div>\n",
       "<style scoped>\n",
       "    .dataframe tbody tr th:only-of-type {\n",
       "        vertical-align: middle;\n",
       "    }\n",
       "\n",
       "    .dataframe tbody tr th {\n",
       "        vertical-align: top;\n",
       "    }\n",
       "\n",
       "    .dataframe thead th {\n",
       "        text-align: right;\n",
       "    }\n",
       "</style>\n",
       "<table border=\"1\" class=\"dataframe\">\n",
       "  <thead>\n",
       "    <tr style=\"text-align: right;\">\n",
       "      <th></th>\n",
       "      <th>item_description</th>\n",
       "      <th>transaction_date</th>\n",
       "      <th>invoice_id</th>\n",
       "      <th>customer_id</th>\n",
       "      <th>shop_id</th>\n",
       "      <th>item_price</th>\n",
       "      <th>quantity_sold</th>\n",
       "    </tr>\n",
       "  </thead>\n",
       "  <tbody>\n",
       "    <tr>\n",
       "      <th>0</th>\n",
       "      <td>ORANGE BARLEY 1.5L</td>\n",
       "      <td>2021-12-11T00:00:00.000Z</td>\n",
       "      <td>147.0</td>\n",
       "      <td>BGXA</td>\n",
       "      <td>SHOP008</td>\n",
       "      <td>220</td>\n",
       "      <td>2</td>\n",
       "    </tr>\n",
       "    <tr>\n",
       "      <th>1</th>\n",
       "      <td>GINGER BEER 1.5L</td>\n",
       "      <td>2021-10-17T00:00:00.000Z</td>\n",
       "      <td>371.0</td>\n",
       "      <td>IA25</td>\n",
       "      <td>SHOP112</td>\n",
       "      <td>220</td>\n",
       "      <td>2</td>\n",
       "    </tr>\n",
       "    <tr>\n",
       "      <th>2</th>\n",
       "      <td>TONIC PET 500ML</td>\n",
       "      <td>2021-12-13T00:00:00.000Z</td>\n",
       "      <td>484.0</td>\n",
       "      <td>VN7V</td>\n",
       "      <td>SHOP008</td>\n",
       "      <td>160</td>\n",
       "      <td>2</td>\n",
       "    </tr>\n",
       "    <tr>\n",
       "      <th>3</th>\n",
       "      <td>CREAM SODA 1L</td>\n",
       "      <td>2021-12-13T00:00:00.000Z</td>\n",
       "      <td>484.0</td>\n",
       "      <td>VN7V</td>\n",
       "      <td>SHOP008</td>\n",
       "      <td>150</td>\n",
       "      <td>2</td>\n",
       "    </tr>\n",
       "    <tr>\n",
       "      <th>4</th>\n",
       "      <td>STRAWBERRY MILK 180ML</td>\n",
       "      <td>2021-10-23T00:00:00.000Z</td>\n",
       "      <td>1310.0</td>\n",
       "      <td>7S00</td>\n",
       "      <td>SHOP112</td>\n",
       "      <td>210</td>\n",
       "      <td>5</td>\n",
       "    </tr>\n",
       "  </tbody>\n",
       "</table>\n",
       "</div>"
      ],
      "text/plain": [
       "        item_description          transaction_date  invoice_id customer_id  \\\n",
       "0     ORANGE BARLEY 1.5L  2021-12-11T00:00:00.000Z       147.0        BGXA   \n",
       "1       GINGER BEER 1.5L  2021-10-17T00:00:00.000Z       371.0        IA25   \n",
       "2        TONIC PET 500ML  2021-12-13T00:00:00.000Z       484.0        VN7V   \n",
       "3          CREAM SODA 1L  2021-12-13T00:00:00.000Z       484.0        VN7V   \n",
       "4  STRAWBERRY MILK 180ML  2021-10-23T00:00:00.000Z      1310.0        7S00   \n",
       "\n",
       "   shop_id  item_price  quantity_sold  \n",
       "0  SHOP008         220              2  \n",
       "1  SHOP112         220              2  \n",
       "2  SHOP008         160              2  \n",
       "3  SHOP008         150              2  \n",
       "4  SHOP112         210              5  "
      ]
     },
     "execution_count": 3,
     "metadata": {},
     "output_type": "execute_result"
    }
   ],
   "source": [
    "transactions.head()"
   ]
  },
  {
   "cell_type": "code",
   "execution_count": 4,
   "id": "4ea20881",
   "metadata": {
    "execution": {
     "iopub.execute_input": "2023-04-25T15:46:25.930683Z",
     "iopub.status.busy": "2023-04-25T15:46:25.930332Z",
     "iopub.status.idle": "2023-04-25T15:46:25.972857Z",
     "shell.execute_reply": "2023-04-25T15:46:25.970933Z"
    },
    "papermill": {
     "duration": 0.056659,
     "end_time": "2023-04-25T15:46:25.975405",
     "exception": false,
     "start_time": "2023-04-25T15:46:25.918746",
     "status": "completed"
    },
    "tags": []
   },
   "outputs": [
    {
     "name": "stdout",
     "output_type": "stream",
     "text": [
      "124\n"
     ]
    }
   ],
   "source": [
    "unique_shops = transactions['shop_id'].nunique()\n",
    "print(unique_shops)"
   ]
  },
  {
   "cell_type": "markdown",
   "id": "047900f6",
   "metadata": {
    "papermill": {
     "duration": 0.009304,
     "end_time": "2023-04-25T15:46:25.994488",
     "exception": false,
     "start_time": "2023-04-25T15:46:25.985184",
     "status": "completed"
    },
    "tags": []
   },
   "source": [
    "Basically there are 124 shops in total, we'll create a dataset from the transaction data"
   ]
  },
  {
   "cell_type": "code",
   "execution_count": 5,
   "id": "584e9155",
   "metadata": {
    "execution": {
     "iopub.execute_input": "2023-04-25T15:46:26.015805Z",
     "iopub.status.busy": "2023-04-25T15:46:26.015072Z",
     "iopub.status.idle": "2023-04-25T15:46:26.031600Z",
     "shell.execute_reply": "2023-04-25T15:46:26.030136Z"
    },
    "papermill": {
     "duration": 0.030086,
     "end_time": "2023-04-25T15:46:26.034302",
     "exception": false,
     "start_time": "2023-04-25T15:46:26.004216",
     "status": "completed"
    },
    "tags": []
   },
   "outputs": [
    {
     "data": {
      "text/html": [
       "<div>\n",
       "<style scoped>\n",
       "    .dataframe tbody tr th:only-of-type {\n",
       "        vertical-align: middle;\n",
       "    }\n",
       "\n",
       "    .dataframe tbody tr th {\n",
       "        vertical-align: top;\n",
       "    }\n",
       "\n",
       "    .dataframe thead th {\n",
       "        text-align: right;\n",
       "    }\n",
       "</style>\n",
       "<table border=\"1\" class=\"dataframe\">\n",
       "  <thead>\n",
       "    <tr style=\"text-align: right;\">\n",
       "      <th></th>\n",
       "      <th>shop_id</th>\n",
       "      <th>shop_area_sq_ft</th>\n",
       "      <th>shop_profile</th>\n",
       "    </tr>\n",
       "  </thead>\n",
       "  <tbody>\n",
       "    <tr>\n",
       "      <th>0</th>\n",
       "      <td>SHOP047</td>\n",
       "      <td>528</td>\n",
       "      <td>Moderate</td>\n",
       "    </tr>\n",
       "    <tr>\n",
       "      <th>1</th>\n",
       "      <td>SHOP009</td>\n",
       "      <td>676</td>\n",
       "      <td>High</td>\n",
       "    </tr>\n",
       "    <tr>\n",
       "      <th>2</th>\n",
       "      <td>SHOP083</td>\n",
       "      <td>676</td>\n",
       "      <td>Low</td>\n",
       "    </tr>\n",
       "    <tr>\n",
       "      <th>3</th>\n",
       "      <td>SHOP117</td>\n",
       "      <td>676</td>\n",
       "      <td>Low</td>\n",
       "    </tr>\n",
       "    <tr>\n",
       "      <th>4</th>\n",
       "      <td>SHOP042</td>\n",
       "      <td>676</td>\n",
       "      <td>Low</td>\n",
       "    </tr>\n",
       "    <tr>\n",
       "      <th>...</th>\n",
       "      <td>...</td>\n",
       "      <td>...</td>\n",
       "      <td>...</td>\n",
       "    </tr>\n",
       "    <tr>\n",
       "      <th>119</th>\n",
       "      <td>SHOP087</td>\n",
       "      <td>527</td>\n",
       "      <td>NaN</td>\n",
       "    </tr>\n",
       "    <tr>\n",
       "      <th>120</th>\n",
       "      <td>SHOP050</td>\n",
       "      <td>411</td>\n",
       "      <td>NaN</td>\n",
       "    </tr>\n",
       "    <tr>\n",
       "      <th>121</th>\n",
       "      <td>SHOP061</td>\n",
       "      <td>699</td>\n",
       "      <td>NaN</td>\n",
       "    </tr>\n",
       "    <tr>\n",
       "      <th>122</th>\n",
       "      <td>SHOP056</td>\n",
       "      <td>597</td>\n",
       "      <td>NaN</td>\n",
       "    </tr>\n",
       "    <tr>\n",
       "      <th>123</th>\n",
       "      <td>SHOP070</td>\n",
       "      <td>676</td>\n",
       "      <td>NaN</td>\n",
       "    </tr>\n",
       "  </tbody>\n",
       "</table>\n",
       "<p>124 rows × 3 columns</p>\n",
       "</div>"
      ],
      "text/plain": [
       "     shop_id  shop_area_sq_ft shop_profile\n",
       "0    SHOP047              528     Moderate\n",
       "1    SHOP009              676         High\n",
       "2    SHOP083              676          Low\n",
       "3    SHOP117              676          Low\n",
       "4    SHOP042              676          Low\n",
       "..       ...              ...          ...\n",
       "119  SHOP087              527          NaN\n",
       "120  SHOP050              411          NaN\n",
       "121  SHOP061              699          NaN\n",
       "122  SHOP056              597          NaN\n",
       "123  SHOP070              676          NaN\n",
       "\n",
       "[124 rows x 3 columns]"
      ]
     },
     "execution_count": 5,
     "metadata": {},
     "output_type": "execute_result"
    }
   ],
   "source": [
    "storedata"
   ]
  },
  {
   "cell_type": "markdown",
   "id": "4550ab96",
   "metadata": {
    "papermill": {
     "duration": 0.009714,
     "end_time": "2023-04-25T15:46:26.054058",
     "exception": false,
     "start_time": "2023-04-25T15:46:26.044344",
     "status": "completed"
    },
    "tags": []
   },
   "source": [
    "# Planned Features\n",
    "### Implemented\n",
    "- Total Sales volume (total_vol)\n",
    "- Total number of unique customers (total_customers)\n",
    "\n",
    "### Not yet implemented\n",
    "- Largest volume by date? Largest volume in a single day (single_day_max_vol) ?\n",
    "- Smallest volume by date?\n",
    "\n",
    "### Target variable is shop_profile"
   ]
  },
  {
   "cell_type": "markdown",
   "id": "c0c83d42",
   "metadata": {
    "papermill": {
     "duration": 0.010526,
     "end_time": "2023-04-25T15:46:26.074492",
     "exception": false,
     "start_time": "2023-04-25T15:46:26.063966",
     "status": "completed"
    },
    "tags": []
   },
   "source": [
    "## Adding total_vol"
   ]
  },
  {
   "cell_type": "code",
   "execution_count": 6,
   "id": "b859d6b7",
   "metadata": {
    "execution": {
     "iopub.execute_input": "2023-04-25T15:46:26.096435Z",
     "iopub.status.busy": "2023-04-25T15:46:26.096095Z",
     "iopub.status.idle": "2023-04-25T15:46:26.247218Z",
     "shell.execute_reply": "2023-04-25T15:46:26.246168Z"
    },
    "papermill": {
     "duration": 0.164769,
     "end_time": "2023-04-25T15:46:26.249783",
     "exception": false,
     "start_time": "2023-04-25T15:46:26.085014",
     "status": "completed"
    },
    "tags": []
   },
   "outputs": [
    {
     "data": {
      "text/html": [
       "<div>\n",
       "<style scoped>\n",
       "    .dataframe tbody tr th:only-of-type {\n",
       "        vertical-align: middle;\n",
       "    }\n",
       "\n",
       "    .dataframe tbody tr th {\n",
       "        vertical-align: top;\n",
       "    }\n",
       "\n",
       "    .dataframe thead th {\n",
       "        text-align: right;\n",
       "    }\n",
       "</style>\n",
       "<table border=\"1\" class=\"dataframe\">\n",
       "  <thead>\n",
       "    <tr style=\"text-align: right;\">\n",
       "      <th></th>\n",
       "      <th>shop_id</th>\n",
       "      <th>shop_area_sq_ft</th>\n",
       "      <th>shop_profile</th>\n",
       "      <th>total_vol</th>\n",
       "    </tr>\n",
       "  </thead>\n",
       "  <tbody>\n",
       "    <tr>\n",
       "      <th>0</th>\n",
       "      <td>SHOP047</td>\n",
       "      <td>528</td>\n",
       "      <td>Moderate</td>\n",
       "      <td>842960</td>\n",
       "    </tr>\n",
       "    <tr>\n",
       "      <th>1</th>\n",
       "      <td>SHOP009</td>\n",
       "      <td>676</td>\n",
       "      <td>High</td>\n",
       "      <td>1970870</td>\n",
       "    </tr>\n",
       "    <tr>\n",
       "      <th>2</th>\n",
       "      <td>SHOP083</td>\n",
       "      <td>676</td>\n",
       "      <td>Low</td>\n",
       "      <td>1691985</td>\n",
       "    </tr>\n",
       "    <tr>\n",
       "      <th>3</th>\n",
       "      <td>SHOP117</td>\n",
       "      <td>676</td>\n",
       "      <td>Low</td>\n",
       "      <td>2325980</td>\n",
       "    </tr>\n",
       "    <tr>\n",
       "      <th>4</th>\n",
       "      <td>SHOP042</td>\n",
       "      <td>676</td>\n",
       "      <td>Low</td>\n",
       "      <td>1340215</td>\n",
       "    </tr>\n",
       "    <tr>\n",
       "      <th>...</th>\n",
       "      <td>...</td>\n",
       "      <td>...</td>\n",
       "      <td>...</td>\n",
       "      <td>...</td>\n",
       "    </tr>\n",
       "    <tr>\n",
       "      <th>119</th>\n",
       "      <td>SHOP087</td>\n",
       "      <td>527</td>\n",
       "      <td>NaN</td>\n",
       "      <td>1128935</td>\n",
       "    </tr>\n",
       "    <tr>\n",
       "      <th>120</th>\n",
       "      <td>SHOP050</td>\n",
       "      <td>411</td>\n",
       "      <td>NaN</td>\n",
       "      <td>2399125</td>\n",
       "    </tr>\n",
       "    <tr>\n",
       "      <th>121</th>\n",
       "      <td>SHOP061</td>\n",
       "      <td>699</td>\n",
       "      <td>NaN</td>\n",
       "      <td>2110800</td>\n",
       "    </tr>\n",
       "    <tr>\n",
       "      <th>122</th>\n",
       "      <td>SHOP056</td>\n",
       "      <td>597</td>\n",
       "      <td>NaN</td>\n",
       "      <td>3023805</td>\n",
       "    </tr>\n",
       "    <tr>\n",
       "      <th>123</th>\n",
       "      <td>SHOP070</td>\n",
       "      <td>676</td>\n",
       "      <td>NaN</td>\n",
       "      <td>1325070</td>\n",
       "    </tr>\n",
       "  </tbody>\n",
       "</table>\n",
       "<p>124 rows × 4 columns</p>\n",
       "</div>"
      ],
      "text/plain": [
       "     shop_id  shop_area_sq_ft shop_profile  total_vol\n",
       "0    SHOP047              528     Moderate     842960\n",
       "1    SHOP009              676         High    1970870\n",
       "2    SHOP083              676          Low    1691985\n",
       "3    SHOP117              676          Low    2325980\n",
       "4    SHOP042              676          Low    1340215\n",
       "..       ...              ...          ...        ...\n",
       "119  SHOP087              527          NaN    1128935\n",
       "120  SHOP050              411          NaN    2399125\n",
       "121  SHOP061              699          NaN    2110800\n",
       "122  SHOP056              597          NaN    3023805\n",
       "123  SHOP070              676          NaN    1325070\n",
       "\n",
       "[124 rows x 4 columns]"
      ]
     },
     "execution_count": 6,
     "metadata": {},
     "output_type": "execute_result"
    }
   ],
   "source": [
    "# Compute the total volume of transactions for each store_id in the dataset dataframe\n",
    "total_vol_by_store = transactions.groupby('shop_id').apply(lambda x: (x['item_price'] * x['quantity_sold']).sum())\n",
    "\n",
    "total_vol_by_store = total_vol_by_store.rename('total_vol')\n",
    "\n",
    "# Merge the total_vol_by_store series with the storedata dataframe on the 'store_id' column\n",
    "storedata = pd.merge(storedata, total_vol_by_store, on='shop_id', how='left')\n",
    "\n",
    "storedata"
   ]
  },
  {
   "cell_type": "markdown",
   "id": "cbdfd204",
   "metadata": {
    "papermill": {
     "duration": 0.009848,
     "end_time": "2023-04-25T15:46:26.269943",
     "exception": false,
     "start_time": "2023-04-25T15:46:26.260095",
     "status": "completed"
    },
    "tags": []
   },
   "source": [
    "## Adding total_customers"
   ]
  },
  {
   "cell_type": "code",
   "execution_count": 7,
   "id": "40793724",
   "metadata": {
    "execution": {
     "iopub.execute_input": "2023-04-25T15:46:26.292301Z",
     "iopub.status.busy": "2023-04-25T15:46:26.291908Z",
     "iopub.status.idle": "2023-04-25T15:46:26.459652Z",
     "shell.execute_reply": "2023-04-25T15:46:26.458491Z"
    },
    "papermill": {
     "duration": 0.182137,
     "end_time": "2023-04-25T15:46:26.462167",
     "exception": false,
     "start_time": "2023-04-25T15:46:26.280030",
     "status": "completed"
    },
    "tags": []
   },
   "outputs": [],
   "source": [
    "# group the transactions dataframe by shop_id and count the number of unique customer_ids\n",
    "unique_customers = transactions.groupby('shop_id')['customer_id'].nunique()\n",
    "\n",
    "# add a new column to the storedata dataframe with the counts of unique customers\n",
    "storedata['total_customers'] = storedata['shop_id'].map(unique_customers)"
   ]
  },
  {
   "cell_type": "code",
   "execution_count": 8,
   "id": "1b4c9b4f",
   "metadata": {
    "execution": {
     "iopub.execute_input": "2023-04-25T15:46:26.484226Z",
     "iopub.status.busy": "2023-04-25T15:46:26.483814Z",
     "iopub.status.idle": "2023-04-25T15:46:26.499225Z",
     "shell.execute_reply": "2023-04-25T15:46:26.498201Z"
    },
    "papermill": {
     "duration": 0.028925,
     "end_time": "2023-04-25T15:46:26.501204",
     "exception": false,
     "start_time": "2023-04-25T15:46:26.472279",
     "status": "completed"
    },
    "tags": []
   },
   "outputs": [
    {
     "data": {
      "text/html": [
       "<div>\n",
       "<style scoped>\n",
       "    .dataframe tbody tr th:only-of-type {\n",
       "        vertical-align: middle;\n",
       "    }\n",
       "\n",
       "    .dataframe tbody tr th {\n",
       "        vertical-align: top;\n",
       "    }\n",
       "\n",
       "    .dataframe thead th {\n",
       "        text-align: right;\n",
       "    }\n",
       "</style>\n",
       "<table border=\"1\" class=\"dataframe\">\n",
       "  <thead>\n",
       "    <tr style=\"text-align: right;\">\n",
       "      <th></th>\n",
       "      <th>shop_id</th>\n",
       "      <th>shop_area_sq_ft</th>\n",
       "      <th>shop_profile</th>\n",
       "      <th>total_vol</th>\n",
       "      <th>total_customers</th>\n",
       "    </tr>\n",
       "  </thead>\n",
       "  <tbody>\n",
       "    <tr>\n",
       "      <th>0</th>\n",
       "      <td>SHOP047</td>\n",
       "      <td>528</td>\n",
       "      <td>Moderate</td>\n",
       "      <td>842960</td>\n",
       "      <td>928</td>\n",
       "    </tr>\n",
       "    <tr>\n",
       "      <th>1</th>\n",
       "      <td>SHOP009</td>\n",
       "      <td>676</td>\n",
       "      <td>High</td>\n",
       "      <td>1970870</td>\n",
       "      <td>2498</td>\n",
       "    </tr>\n",
       "    <tr>\n",
       "      <th>2</th>\n",
       "      <td>SHOP083</td>\n",
       "      <td>676</td>\n",
       "      <td>Low</td>\n",
       "      <td>1691985</td>\n",
       "      <td>1900</td>\n",
       "    </tr>\n",
       "    <tr>\n",
       "      <th>3</th>\n",
       "      <td>SHOP117</td>\n",
       "      <td>676</td>\n",
       "      <td>Low</td>\n",
       "      <td>2325980</td>\n",
       "      <td>2037</td>\n",
       "    </tr>\n",
       "    <tr>\n",
       "      <th>4</th>\n",
       "      <td>SHOP042</td>\n",
       "      <td>676</td>\n",
       "      <td>Low</td>\n",
       "      <td>1340215</td>\n",
       "      <td>1841</td>\n",
       "    </tr>\n",
       "    <tr>\n",
       "      <th>...</th>\n",
       "      <td>...</td>\n",
       "      <td>...</td>\n",
       "      <td>...</td>\n",
       "      <td>...</td>\n",
       "      <td>...</td>\n",
       "    </tr>\n",
       "    <tr>\n",
       "      <th>119</th>\n",
       "      <td>SHOP087</td>\n",
       "      <td>527</td>\n",
       "      <td>NaN</td>\n",
       "      <td>1128935</td>\n",
       "      <td>1083</td>\n",
       "    </tr>\n",
       "    <tr>\n",
       "      <th>120</th>\n",
       "      <td>SHOP050</td>\n",
       "      <td>411</td>\n",
       "      <td>NaN</td>\n",
       "      <td>2399125</td>\n",
       "      <td>1778</td>\n",
       "    </tr>\n",
       "    <tr>\n",
       "      <th>121</th>\n",
       "      <td>SHOP061</td>\n",
       "      <td>699</td>\n",
       "      <td>NaN</td>\n",
       "      <td>2110800</td>\n",
       "      <td>1746</td>\n",
       "    </tr>\n",
       "    <tr>\n",
       "      <th>122</th>\n",
       "      <td>SHOP056</td>\n",
       "      <td>597</td>\n",
       "      <td>NaN</td>\n",
       "      <td>3023805</td>\n",
       "      <td>2832</td>\n",
       "    </tr>\n",
       "    <tr>\n",
       "      <th>123</th>\n",
       "      <td>SHOP070</td>\n",
       "      <td>676</td>\n",
       "      <td>NaN</td>\n",
       "      <td>1325070</td>\n",
       "      <td>1423</td>\n",
       "    </tr>\n",
       "  </tbody>\n",
       "</table>\n",
       "<p>124 rows × 5 columns</p>\n",
       "</div>"
      ],
      "text/plain": [
       "     shop_id  shop_area_sq_ft shop_profile  total_vol  total_customers\n",
       "0    SHOP047              528     Moderate     842960              928\n",
       "1    SHOP009              676         High    1970870             2498\n",
       "2    SHOP083              676          Low    1691985             1900\n",
       "3    SHOP117              676          Low    2325980             2037\n",
       "4    SHOP042              676          Low    1340215             1841\n",
       "..       ...              ...          ...        ...              ...\n",
       "119  SHOP087              527          NaN    1128935             1083\n",
       "120  SHOP050              411          NaN    2399125             1778\n",
       "121  SHOP061              699          NaN    2110800             1746\n",
       "122  SHOP056              597          NaN    3023805             2832\n",
       "123  SHOP070              676          NaN    1325070             1423\n",
       "\n",
       "[124 rows x 5 columns]"
      ]
     },
     "execution_count": 8,
     "metadata": {},
     "output_type": "execute_result"
    }
   ],
   "source": [
    "storedata"
   ]
  },
  {
   "cell_type": "markdown",
   "id": "767b4d37",
   "metadata": {
    "papermill": {
     "duration": 0.009661,
     "end_time": "2023-04-25T15:46:26.521602",
     "exception": false,
     "start_time": "2023-04-25T15:46:26.511941",
     "status": "completed"
    },
    "tags": []
   },
   "source": [
    "## Checking Correlation"
   ]
  },
  {
   "cell_type": "code",
   "execution_count": 9,
   "id": "d8a12955",
   "metadata": {
    "execution": {
     "iopub.execute_input": "2023-04-25T15:46:26.544114Z",
     "iopub.status.busy": "2023-04-25T15:46:26.543158Z",
     "iopub.status.idle": "2023-04-25T15:46:26.775833Z",
     "shell.execute_reply": "2023-04-25T15:46:26.774851Z"
    },
    "papermill": {
     "duration": 0.246053,
     "end_time": "2023-04-25T15:46:26.777808",
     "exception": false,
     "start_time": "2023-04-25T15:46:26.531755",
     "status": "completed"
    },
    "tags": []
   },
   "outputs": [
    {
     "data": {
      "text/plain": [
       "<AxesSubplot:>"
      ]
     },
     "execution_count": 9,
     "metadata": {},
     "output_type": "execute_result"
    },
    {
     "data": {
      "image/png": "[encoded data removed]",
      "text/plain": [
       "<Figure size 640x480 with 2 Axes>"
      ]
     },
     "metadata": {},
     "output_type": "display_data"
    }
   ],
   "source": [
    "# create a correlation matrix\n",
    "corr_matrix = storedata.corr()\n",
    "\n",
    "# create a heatmap of the correlation matrix\n",
    "sns.heatmap(corr_matrix, cmap=\"coolwarm\", annot=True)"
   ]
  },
  {
   "cell_type": "markdown",
   "id": "bafd8a78",
   "metadata": {
    "papermill": {
     "duration": 0.010379,
     "end_time": "2023-04-25T15:46:26.799319",
     "exception": false,
     "start_time": "2023-04-25T15:46:26.788940",
     "status": "completed"
    },
    "tags": []
   },
   "source": [
    "## Train test split (basically removing the testing data specified)"
   ]
  },
  {
   "cell_type": "code",
   "execution_count": 10,
   "id": "03c9a146",
   "metadata": {
    "execution": {
     "iopub.execute_input": "2023-04-25T15:46:26.823407Z",
     "iopub.status.busy": "2023-04-25T15:46:26.823016Z",
     "iopub.status.idle": "2023-04-25T15:46:26.831643Z",
     "shell.execute_reply": "2023-04-25T15:46:26.830904Z"
    },
    "papermill": {
     "duration": 0.022797,
     "end_time": "2023-04-25T15:46:26.833583",
     "exception": false,
     "start_time": "2023-04-25T15:46:26.810786",
     "status": "completed"
    },
    "tags": []
   },
   "outputs": [],
   "source": [
    "# Create a boolean mask for filtering shopdata\n",
    "mask = storedata['shop_id'].isin(testdata['shop_id'])\n",
    "\n",
    "# Create two separate dataframes\n",
    "test_shops = storedata[mask]\n",
    "train_shops = storedata[~mask]"
   ]
  },
  {
   "cell_type": "code",
   "execution_count": 11,
   "id": "baabb5ae",
   "metadata": {
    "execution": {
     "iopub.execute_input": "2023-04-25T15:46:26.857734Z",
     "iopub.status.busy": "2023-04-25T15:46:26.857215Z",
     "iopub.status.idle": "2023-04-25T15:46:26.870859Z",
     "shell.execute_reply": "2023-04-25T15:46:26.869931Z"
    },
    "papermill": {
     "duration": 0.028595,
     "end_time": "2023-04-25T15:46:26.873046",
     "exception": false,
     "start_time": "2023-04-25T15:46:26.844451",
     "status": "completed"
    },
    "tags": []
   },
   "outputs": [
    {
     "data": {
      "text/html": [
       "<div>\n",
       "<style scoped>\n",
       "    .dataframe tbody tr th:only-of-type {\n",
       "        vertical-align: middle;\n",
       "    }\n",
       "\n",
       "    .dataframe tbody tr th {\n",
       "        vertical-align: top;\n",
       "    }\n",
       "\n",
       "    .dataframe thead th {\n",
       "        text-align: right;\n",
       "    }\n",
       "</style>\n",
       "<table border=\"1\" class=\"dataframe\">\n",
       "  <thead>\n",
       "    <tr style=\"text-align: right;\">\n",
       "      <th></th>\n",
       "      <th>shop_id</th>\n",
       "      <th>shop_area_sq_ft</th>\n",
       "      <th>total_vol</th>\n",
       "      <th>total_customers</th>\n",
       "    </tr>\n",
       "  </thead>\n",
       "  <tbody>\n",
       "    <tr>\n",
       "      <th>100</th>\n",
       "      <td>SHOP046</td>\n",
       "      <td>545</td>\n",
       "      <td>2607865</td>\n",
       "      <td>1736</td>\n",
       "    </tr>\n",
       "    <tr>\n",
       "      <th>101</th>\n",
       "      <td>SHOP024</td>\n",
       "      <td>676</td>\n",
       "      <td>1308795</td>\n",
       "      <td>1641</td>\n",
       "    </tr>\n",
       "    <tr>\n",
       "      <th>102</th>\n",
       "      <td>SHOP023</td>\n",
       "      <td>617</td>\n",
       "      <td>2570425</td>\n",
       "      <td>2227</td>\n",
       "    </tr>\n",
       "    <tr>\n",
       "      <th>103</th>\n",
       "      <td>SHOP097</td>\n",
       "      <td>310</td>\n",
       "      <td>2642380</td>\n",
       "      <td>1669</td>\n",
       "    </tr>\n",
       "    <tr>\n",
       "      <th>104</th>\n",
       "      <td>SHOP044</td>\n",
       "      <td>715</td>\n",
       "      <td>1310440</td>\n",
       "      <td>1552</td>\n",
       "    </tr>\n",
       "    <tr>\n",
       "      <th>105</th>\n",
       "      <td>SHOP030</td>\n",
       "      <td>530</td>\n",
       "      <td>2862995</td>\n",
       "      <td>1637</td>\n",
       "    </tr>\n",
       "    <tr>\n",
       "      <th>106</th>\n",
       "      <td>SHOP038</td>\n",
       "      <td>411</td>\n",
       "      <td>1444025</td>\n",
       "      <td>1781</td>\n",
       "    </tr>\n",
       "    <tr>\n",
       "      <th>107</th>\n",
       "      <td>SHOP029</td>\n",
       "      <td>597</td>\n",
       "      <td>1973805</td>\n",
       "      <td>2052</td>\n",
       "    </tr>\n",
       "    <tr>\n",
       "      <th>108</th>\n",
       "      <td>SHOP096</td>\n",
       "      <td>676</td>\n",
       "      <td>2600915</td>\n",
       "      <td>2497</td>\n",
       "    </tr>\n",
       "    <tr>\n",
       "      <th>109</th>\n",
       "      <td>SHOP092</td>\n",
       "      <td>617</td>\n",
       "      <td>1961240</td>\n",
       "      <td>2247</td>\n",
       "    </tr>\n",
       "    <tr>\n",
       "      <th>110</th>\n",
       "      <td>SHOP081</td>\n",
       "      <td>774</td>\n",
       "      <td>2067720</td>\n",
       "      <td>1985</td>\n",
       "    </tr>\n",
       "    <tr>\n",
       "      <th>111</th>\n",
       "      <td>SHOP076</td>\n",
       "      <td>676</td>\n",
       "      <td>2276575</td>\n",
       "      <td>1992</td>\n",
       "    </tr>\n",
       "    <tr>\n",
       "      <th>112</th>\n",
       "      <td>SHOP080</td>\n",
       "      <td>554</td>\n",
       "      <td>1322790</td>\n",
       "      <td>1268</td>\n",
       "    </tr>\n",
       "    <tr>\n",
       "      <th>113</th>\n",
       "      <td>SHOP074</td>\n",
       "      <td>617</td>\n",
       "      <td>2608740</td>\n",
       "      <td>2738</td>\n",
       "    </tr>\n",
       "    <tr>\n",
       "      <th>114</th>\n",
       "      <td>SHOP107</td>\n",
       "      <td>588</td>\n",
       "      <td>2565235</td>\n",
       "      <td>921</td>\n",
       "    </tr>\n",
       "    <tr>\n",
       "      <th>115</th>\n",
       "      <td>SHOP108</td>\n",
       "      <td>676</td>\n",
       "      <td>2100715</td>\n",
       "      <td>2077</td>\n",
       "    </tr>\n",
       "    <tr>\n",
       "      <th>116</th>\n",
       "      <td>SHOP019</td>\n",
       "      <td>411</td>\n",
       "      <td>2200580</td>\n",
       "      <td>1922</td>\n",
       "    </tr>\n",
       "    <tr>\n",
       "      <th>117</th>\n",
       "      <td>SHOP002</td>\n",
       "      <td>637</td>\n",
       "      <td>3084455</td>\n",
       "      <td>2577</td>\n",
       "    </tr>\n",
       "    <tr>\n",
       "      <th>118</th>\n",
       "      <td>SHOP114</td>\n",
       "      <td>513</td>\n",
       "      <td>2131345</td>\n",
       "      <td>2480</td>\n",
       "    </tr>\n",
       "    <tr>\n",
       "      <th>119</th>\n",
       "      <td>SHOP087</td>\n",
       "      <td>527</td>\n",
       "      <td>1128935</td>\n",
       "      <td>1083</td>\n",
       "    </tr>\n",
       "    <tr>\n",
       "      <th>120</th>\n",
       "      <td>SHOP050</td>\n",
       "      <td>411</td>\n",
       "      <td>2399125</td>\n",
       "      <td>1778</td>\n",
       "    </tr>\n",
       "    <tr>\n",
       "      <th>121</th>\n",
       "      <td>SHOP061</td>\n",
       "      <td>699</td>\n",
       "      <td>2110800</td>\n",
       "      <td>1746</td>\n",
       "    </tr>\n",
       "    <tr>\n",
       "      <th>122</th>\n",
       "      <td>SHOP056</td>\n",
       "      <td>597</td>\n",
       "      <td>3023805</td>\n",
       "      <td>2832</td>\n",
       "    </tr>\n",
       "    <tr>\n",
       "      <th>123</th>\n",
       "      <td>SHOP070</td>\n",
       "      <td>676</td>\n",
       "      <td>1325070</td>\n",
       "      <td>1423</td>\n",
       "    </tr>\n",
       "  </tbody>\n",
       "</table>\n",
       "</div>"
      ],
      "text/plain": [
       "     shop_id  shop_area_sq_ft  total_vol  total_customers\n",
       "100  SHOP046              545    2607865             1736\n",
       "101  SHOP024              676    1308795             1641\n",
       "102  SHOP023              617    2570425             2227\n",
       "103  SHOP097              310    2642380             1669\n",
       "104  SHOP044              715    1310440             1552\n",
       "105  SHOP030              530    2862995             1637\n",
       "106  SHOP038              411    1444025             1781\n",
       "107  SHOP029              597    1973805             2052\n",
       "108  SHOP096              676    2600915             2497\n",
       "109  SHOP092              617    1961240             2247\n",
       "110  SHOP081              774    2067720             1985\n",
       "111  SHOP076              676    2276575             1992\n",
       "112  SHOP080              554    1322790             1268\n",
       "113  SHOP074              617    2608740             2738\n",
       "114  SHOP107              588    2565235              921\n",
       "115  SHOP108              676    2100715             2077\n",
       "116  SHOP019              411    2200580             1922\n",
       "117  SHOP002              637    3084455             2577\n",
       "118  SHOP114              513    2131345             2480\n",
       "119  SHOP087              527    1128935             1083\n",
       "120  SHOP050              411    2399125             1778\n",
       "121  SHOP061              699    2110800             1746\n",
       "122  SHOP056              597    3023805             2832\n",
       "123  SHOP070              676    1325070             1423"
      ]
     },
     "execution_count": 11,
     "metadata": {},
     "output_type": "execute_result"
    }
   ],
   "source": [
    "test_shops = test_shops.drop('shop_profile', axis=1)\n",
    "test_shops"
   ]
  },
  {
   "cell_type": "code",
   "execution_count": 12,
   "id": "36517d61",
   "metadata": {
    "execution": {
     "iopub.execute_input": "2023-04-25T15:46:26.896544Z",
     "iopub.status.busy": "2023-04-25T15:46:26.895965Z",
     "iopub.status.idle": "2023-04-25T15:46:26.908130Z",
     "shell.execute_reply": "2023-04-25T15:46:26.906977Z"
    },
    "papermill": {
     "duration": 0.026075,
     "end_time": "2023-04-25T15:46:26.910177",
     "exception": false,
     "start_time": "2023-04-25T15:46:26.884102",
     "status": "completed"
    },
    "tags": []
   },
   "outputs": [
    {
     "data": {
      "text/html": [
       "<div>\n",
       "<style scoped>\n",
       "    .dataframe tbody tr th:only-of-type {\n",
       "        vertical-align: middle;\n",
       "    }\n",
       "\n",
       "    .dataframe tbody tr th {\n",
       "        vertical-align: top;\n",
       "    }\n",
       "\n",
       "    .dataframe thead th {\n",
       "        text-align: right;\n",
       "    }\n",
       "</style>\n",
       "<table border=\"1\" class=\"dataframe\">\n",
       "  <thead>\n",
       "    <tr style=\"text-align: right;\">\n",
       "      <th></th>\n",
       "      <th>shop_id</th>\n",
       "      <th>shop_area_sq_ft</th>\n",
       "      <th>shop_profile</th>\n",
       "      <th>total_vol</th>\n",
       "      <th>total_customers</th>\n",
       "    </tr>\n",
       "  </thead>\n",
       "  <tbody>\n",
       "    <tr>\n",
       "      <th>0</th>\n",
       "      <td>SHOP047</td>\n",
       "      <td>528</td>\n",
       "      <td>Moderate</td>\n",
       "      <td>842960</td>\n",
       "      <td>928</td>\n",
       "    </tr>\n",
       "    <tr>\n",
       "      <th>1</th>\n",
       "      <td>SHOP009</td>\n",
       "      <td>676</td>\n",
       "      <td>High</td>\n",
       "      <td>1970870</td>\n",
       "      <td>2498</td>\n",
       "    </tr>\n",
       "    <tr>\n",
       "      <th>2</th>\n",
       "      <td>SHOP083</td>\n",
       "      <td>676</td>\n",
       "      <td>Low</td>\n",
       "      <td>1691985</td>\n",
       "      <td>1900</td>\n",
       "    </tr>\n",
       "    <tr>\n",
       "      <th>3</th>\n",
       "      <td>SHOP117</td>\n",
       "      <td>676</td>\n",
       "      <td>Low</td>\n",
       "      <td>2325980</td>\n",
       "      <td>2037</td>\n",
       "    </tr>\n",
       "    <tr>\n",
       "      <th>4</th>\n",
       "      <td>SHOP042</td>\n",
       "      <td>676</td>\n",
       "      <td>Low</td>\n",
       "      <td>1340215</td>\n",
       "      <td>1841</td>\n",
       "    </tr>\n",
       "    <tr>\n",
       "      <th>...</th>\n",
       "      <td>...</td>\n",
       "      <td>...</td>\n",
       "      <td>...</td>\n",
       "      <td>...</td>\n",
       "      <td>...</td>\n",
       "    </tr>\n",
       "    <tr>\n",
       "      <th>95</th>\n",
       "      <td>SHOP124</td>\n",
       "      <td>606</td>\n",
       "      <td>High</td>\n",
       "      <td>2967190</td>\n",
       "      <td>2281</td>\n",
       "    </tr>\n",
       "    <tr>\n",
       "      <th>96</th>\n",
       "      <td>SHOP012</td>\n",
       "      <td>336</td>\n",
       "      <td>Low</td>\n",
       "      <td>1169405</td>\n",
       "      <td>1263</td>\n",
       "    </tr>\n",
       "    <tr>\n",
       "      <th>97</th>\n",
       "      <td>SHOP093</td>\n",
       "      <td>705</td>\n",
       "      <td>High</td>\n",
       "      <td>1726515</td>\n",
       "      <td>1493</td>\n",
       "    </tr>\n",
       "    <tr>\n",
       "      <th>98</th>\n",
       "      <td>SHOP004</td>\n",
       "      <td>516</td>\n",
       "      <td>Low</td>\n",
       "      <td>1571700</td>\n",
       "      <td>1744</td>\n",
       "    </tr>\n",
       "    <tr>\n",
       "      <th>99</th>\n",
       "      <td>SHOP101</td>\n",
       "      <td>691</td>\n",
       "      <td>High</td>\n",
       "      <td>2465930</td>\n",
       "      <td>2695</td>\n",
       "    </tr>\n",
       "  </tbody>\n",
       "</table>\n",
       "<p>100 rows × 5 columns</p>\n",
       "</div>"
      ],
      "text/plain": [
       "    shop_id  shop_area_sq_ft shop_profile  total_vol  total_customers\n",
       "0   SHOP047              528     Moderate     842960              928\n",
       "1   SHOP009              676         High    1970870             2498\n",
       "2   SHOP083              676          Low    1691985             1900\n",
       "3   SHOP117              676          Low    2325980             2037\n",
       "4   SHOP042              676          Low    1340215             1841\n",
       "..      ...              ...          ...        ...              ...\n",
       "95  SHOP124              606         High    2967190             2281\n",
       "96  SHOP012              336          Low    1169405             1263\n",
       "97  SHOP093              705         High    1726515             1493\n",
       "98  SHOP004              516          Low    1571700             1744\n",
       "99  SHOP101              691         High    2465930             2695\n",
       "\n",
       "[100 rows x 5 columns]"
      ]
     },
     "execution_count": 12,
     "metadata": {},
     "output_type": "execute_result"
    }
   ],
   "source": [
    "train_shops"
   ]
  },
  {
   "cell_type": "markdown",
   "id": "626bfde6",
   "metadata": {
    "papermill": {
     "duration": 0.010813,
     "end_time": "2023-04-25T15:46:26.931974",
     "exception": false,
     "start_time": "2023-04-25T15:46:26.921161",
     "status": "completed"
    },
    "tags": []
   },
   "source": [
    "## Encoding the target variable \n",
    "\n",
    "### Ordinal encoding\n",
    "0 = Low\n",
    "1 = Moderate\n",
    "2 = High"
   ]
  },
  {
   "cell_type": "code",
   "execution_count": 13,
   "id": "c5e323b1",
   "metadata": {
    "execution": {
     "iopub.execute_input": "2023-04-25T15:46:26.956092Z",
     "iopub.status.busy": "2023-04-25T15:46:26.955216Z",
     "iopub.status.idle": "2023-04-25T15:46:27.119193Z",
     "shell.execute_reply": "2023-04-25T15:46:27.118375Z"
    },
    "papermill": {
     "duration": 0.178589,
     "end_time": "2023-04-25T15:46:27.121424",
     "exception": false,
     "start_time": "2023-04-25T15:46:26.942835",
     "status": "completed"
    },
    "tags": []
   },
   "outputs": [],
   "source": [
    "from sklearn.preprocessing import LabelEncoder\n",
    "pd.options.mode.chained_assignment = None  # default='warn'\n",
    "\n",
    "# Define the mapping of labels to integer codes\n",
    "label_mapping = {\n",
    "    'Low': 0,\n",
    "    'Moderate': 1,\n",
    "    'High': 2\n",
    "}\n",
    "\n",
    "# Create an instance of the LabelEncoder\n",
    "encoder = LabelEncoder()\n",
    "\n",
    "# Fit the encoder to the shop_profile column in train_shops\n",
    "train_shops['shop_profile'] = encoder.fit_transform(train_shops['shop_profile'].map(label_mapping))\n"
   ]
  },
  {
   "cell_type": "code",
   "execution_count": 14,
   "id": "8192cf20",
   "metadata": {
    "execution": {
     "iopub.execute_input": "2023-04-25T15:46:27.145150Z",
     "iopub.status.busy": "2023-04-25T15:46:27.144739Z",
     "iopub.status.idle": "2023-04-25T15:46:27.157750Z",
     "shell.execute_reply": "2023-04-25T15:46:27.156453Z"
    },
    "papermill": {
     "duration": 0.027356,
     "end_time": "2023-04-25T15:46:27.159845",
     "exception": false,
     "start_time": "2023-04-25T15:46:27.132489",
     "status": "completed"
    },
    "tags": []
   },
   "outputs": [
    {
     "data": {
      "text/html": [
       "<div>\n",
       "<style scoped>\n",
       "    .dataframe tbody tr th:only-of-type {\n",
       "        vertical-align: middle;\n",
       "    }\n",
       "\n",
       "    .dataframe tbody tr th {\n",
       "        vertical-align: top;\n",
       "    }\n",
       "\n",
       "    .dataframe thead th {\n",
       "        text-align: right;\n",
       "    }\n",
       "</style>\n",
       "<table border=\"1\" class=\"dataframe\">\n",
       "  <thead>\n",
       "    <tr style=\"text-align: right;\">\n",
       "      <th></th>\n",
       "      <th>shop_id</th>\n",
       "      <th>shop_area_sq_ft</th>\n",
       "      <th>shop_profile</th>\n",
       "      <th>total_vol</th>\n",
       "      <th>total_customers</th>\n",
       "    </tr>\n",
       "  </thead>\n",
       "  <tbody>\n",
       "    <tr>\n",
       "      <th>0</th>\n",
       "      <td>SHOP047</td>\n",
       "      <td>528</td>\n",
       "      <td>1</td>\n",
       "      <td>842960</td>\n",
       "      <td>928</td>\n",
       "    </tr>\n",
       "    <tr>\n",
       "      <th>1</th>\n",
       "      <td>SHOP009</td>\n",
       "      <td>676</td>\n",
       "      <td>2</td>\n",
       "      <td>1970870</td>\n",
       "      <td>2498</td>\n",
       "    </tr>\n",
       "    <tr>\n",
       "      <th>2</th>\n",
       "      <td>SHOP083</td>\n",
       "      <td>676</td>\n",
       "      <td>0</td>\n",
       "      <td>1691985</td>\n",
       "      <td>1900</td>\n",
       "    </tr>\n",
       "    <tr>\n",
       "      <th>3</th>\n",
       "      <td>SHOP117</td>\n",
       "      <td>676</td>\n",
       "      <td>0</td>\n",
       "      <td>2325980</td>\n",
       "      <td>2037</td>\n",
       "    </tr>\n",
       "    <tr>\n",
       "      <th>4</th>\n",
       "      <td>SHOP042</td>\n",
       "      <td>676</td>\n",
       "      <td>0</td>\n",
       "      <td>1340215</td>\n",
       "      <td>1841</td>\n",
       "    </tr>\n",
       "    <tr>\n",
       "      <th>...</th>\n",
       "      <td>...</td>\n",
       "      <td>...</td>\n",
       "      <td>...</td>\n",
       "      <td>...</td>\n",
       "      <td>...</td>\n",
       "    </tr>\n",
       "    <tr>\n",
       "      <th>95</th>\n",
       "      <td>SHOP124</td>\n",
       "      <td>606</td>\n",
       "      <td>2</td>\n",
       "      <td>2967190</td>\n",
       "      <td>2281</td>\n",
       "    </tr>\n",
       "    <tr>\n",
       "      <th>96</th>\n",
       "      <td>SHOP012</td>\n",
       "      <td>336</td>\n",
       "      <td>0</td>\n",
       "      <td>1169405</td>\n",
       "      <td>1263</td>\n",
       "    </tr>\n",
       "    <tr>\n",
       "      <th>97</th>\n",
       "      <td>SHOP093</td>\n",
       "      <td>705</td>\n",
       "      <td>2</td>\n",
       "      <td>1726515</td>\n",
       "      <td>1493</td>\n",
       "    </tr>\n",
       "    <tr>\n",
       "      <th>98</th>\n",
       "      <td>SHOP004</td>\n",
       "      <td>516</td>\n",
       "      <td>0</td>\n",
       "      <td>1571700</td>\n",
       "      <td>1744</td>\n",
       "    </tr>\n",
       "    <tr>\n",
       "      <th>99</th>\n",
       "      <td>SHOP101</td>\n",
       "      <td>691</td>\n",
       "      <td>2</td>\n",
       "      <td>2465930</td>\n",
       "      <td>2695</td>\n",
       "    </tr>\n",
       "  </tbody>\n",
       "</table>\n",
       "<p>100 rows × 5 columns</p>\n",
       "</div>"
      ],
      "text/plain": [
       "    shop_id  shop_area_sq_ft  shop_profile  total_vol  total_customers\n",
       "0   SHOP047              528             1     842960              928\n",
       "1   SHOP009              676             2    1970870             2498\n",
       "2   SHOP083              676             0    1691985             1900\n",
       "3   SHOP117              676             0    2325980             2037\n",
       "4   SHOP042              676             0    1340215             1841\n",
       "..      ...              ...           ...        ...              ...\n",
       "95  SHOP124              606             2    2967190             2281\n",
       "96  SHOP012              336             0    1169405             1263\n",
       "97  SHOP093              705             2    1726515             1493\n",
       "98  SHOP004              516             0    1571700             1744\n",
       "99  SHOP101              691             2    2465930             2695\n",
       "\n",
       "[100 rows x 5 columns]"
      ]
     },
     "execution_count": 14,
     "metadata": {},
     "output_type": "execute_result"
    }
   ],
   "source": [
    "train_shops"
   ]
  },
  {
   "cell_type": "code",
   "execution_count": 15,
   "id": "bee0d358",
   "metadata": {
    "execution": {
     "iopub.execute_input": "2023-04-25T15:46:27.185113Z",
     "iopub.status.busy": "2023-04-25T15:46:27.184154Z",
     "iopub.status.idle": "2023-04-25T15:46:29.303255Z",
     "shell.execute_reply": "2023-04-25T15:46:29.302464Z"
    },
    "papermill": {
     "duration": 2.134141,
     "end_time": "2023-04-25T15:46:29.305622",
     "exception": false,
     "start_time": "2023-04-25T15:46:27.171481",
     "status": "completed"
    },
    "tags": []
   },
   "outputs": [
    {
     "data": {
      "text/plain": [
       "<seaborn.axisgrid.PairGrid at 0x72ffcf2da110>"
      ]
     },
     "execution_count": 15,
     "metadata": {},
     "output_type": "execute_result"
    },
    {
     "data": {
      "image/png": "[encoded data removed]",
      "text/plain": [
       "<Figure size 845.486x750 with 12 Axes>"
      ]
     },
     "metadata": {},
     "output_type": "display_data"
    }
   ],
   "source": [
    "sns.pairplot(train_shops, hue='shop_profile')"
   ]
  },
  {
   "cell_type": "markdown",
   "id": "1aaf31b1",
   "metadata": {
    "papermill": {
     "duration": 0.013014,
     "end_time": "2023-04-25T15:46:29.332177",
     "exception": false,
     "start_time": "2023-04-25T15:46:29.319163",
     "status": "completed"
    },
    "tags": []
   },
   "source": [
    "## Spliting for crossvalidation"
   ]
  },
  {
   "cell_type": "code",
   "execution_count": 16,
   "id": "e6314949",
   "metadata": {
    "execution": {
     "iopub.execute_input": "2023-04-25T15:46:29.360931Z",
     "iopub.status.busy": "2023-04-25T15:46:29.360517Z",
     "iopub.status.idle": "2023-04-25T15:46:29.367650Z",
     "shell.execute_reply": "2023-04-25T15:46:29.366083Z"
    },
    "papermill": {
     "duration": 0.024788,
     "end_time": "2023-04-25T15:46:29.370267",
     "exception": false,
     "start_time": "2023-04-25T15:46:29.345479",
     "status": "completed"
    },
    "tags": []
   },
   "outputs": [],
   "source": [
    "y = train_shops['shop_profile']\n",
    "X = train_shops.drop('shop_profile', axis=1)\n",
    "X = X.drop('shop_id',axis = 1)"
   ]
  },
  {
   "cell_type": "code",
   "execution_count": 17,
   "id": "98149b85",
   "metadata": {
    "execution": {
     "iopub.execute_input": "2023-04-25T15:46:29.399902Z",
     "iopub.status.busy": "2023-04-25T15:46:29.399079Z",
     "iopub.status.idle": "2023-04-25T15:46:29.406596Z",
     "shell.execute_reply": "2023-04-25T15:46:29.405484Z"
    },
    "papermill": {
     "duration": 0.024484,
     "end_time": "2023-04-25T15:46:29.408613",
     "exception": false,
     "start_time": "2023-04-25T15:46:29.384129",
     "status": "completed"
    },
    "tags": []
   },
   "outputs": [
    {
     "data": {
      "text/plain": [
       "0     1\n",
       "1     2\n",
       "2     0\n",
       "3     0\n",
       "4     0\n",
       "     ..\n",
       "95    2\n",
       "96    0\n",
       "97    2\n",
       "98    0\n",
       "99    2\n",
       "Name: shop_profile, Length: 100, dtype: int64"
      ]
     },
     "execution_count": 17,
     "metadata": {},
     "output_type": "execute_result"
    }
   ],
   "source": [
    "y"
   ]
  },
  {
   "cell_type": "code",
   "execution_count": 18,
   "id": "db06bd1a",
   "metadata": {
    "execution": {
     "iopub.execute_input": "2023-04-25T15:46:29.437947Z",
     "iopub.status.busy": "2023-04-25T15:46:29.437352Z",
     "iopub.status.idle": "2023-04-25T15:46:29.446768Z",
     "shell.execute_reply": "2023-04-25T15:46:29.446048Z"
    },
    "papermill": {
     "duration": 0.02647,
     "end_time": "2023-04-25T15:46:29.448730",
     "exception": false,
     "start_time": "2023-04-25T15:46:29.422260",
     "status": "completed"
    },
    "tags": []
   },
   "outputs": [
    {
     "data": {
      "text/html": [
       "<div>\n",
       "<style scoped>\n",
       "    .dataframe tbody tr th:only-of-type {\n",
       "        vertical-align: middle;\n",
       "    }\n",
       "\n",
       "    .dataframe tbody tr th {\n",
       "        vertical-align: top;\n",
       "    }\n",
       "\n",
       "    .dataframe thead th {\n",
       "        text-align: right;\n",
       "    }\n",
       "</style>\n",
       "<table border=\"1\" class=\"dataframe\">\n",
       "  <thead>\n",
       "    <tr style=\"text-align: right;\">\n",
       "      <th></th>\n",
       "      <th>shop_area_sq_ft</th>\n",
       "      <th>total_vol</th>\n",
       "      <th>total_customers</th>\n",
       "    </tr>\n",
       "  </thead>\n",
       "  <tbody>\n",
       "    <tr>\n",
       "      <th>0</th>\n",
       "      <td>528</td>\n",
       "      <td>842960</td>\n",
       "      <td>928</td>\n",
       "    </tr>\n",
       "    <tr>\n",
       "      <th>1</th>\n",
       "      <td>676</td>\n",
       "      <td>1970870</td>\n",
       "      <td>2498</td>\n",
       "    </tr>\n",
       "    <tr>\n",
       "      <th>2</th>\n",
       "      <td>676</td>\n",
       "      <td>1691985</td>\n",
       "      <td>1900</td>\n",
       "    </tr>\n",
       "    <tr>\n",
       "      <th>3</th>\n",
       "      <td>676</td>\n",
       "      <td>2325980</td>\n",
       "      <td>2037</td>\n",
       "    </tr>\n",
       "    <tr>\n",
       "      <th>4</th>\n",
       "      <td>676</td>\n",
       "      <td>1340215</td>\n",
       "      <td>1841</td>\n",
       "    </tr>\n",
       "    <tr>\n",
       "      <th>...</th>\n",
       "      <td>...</td>\n",
       "      <td>...</td>\n",
       "      <td>...</td>\n",
       "    </tr>\n",
       "    <tr>\n",
       "      <th>95</th>\n",
       "      <td>606</td>\n",
       "      <td>2967190</td>\n",
       "      <td>2281</td>\n",
       "    </tr>\n",
       "    <tr>\n",
       "      <th>96</th>\n",
       "      <td>336</td>\n",
       "      <td>1169405</td>\n",
       "      <td>1263</td>\n",
       "    </tr>\n",
       "    <tr>\n",
       "      <th>97</th>\n",
       "      <td>705</td>\n",
       "      <td>1726515</td>\n",
       "      <td>1493</td>\n",
       "    </tr>\n",
       "    <tr>\n",
       "      <th>98</th>\n",
       "      <td>516</td>\n",
       "      <td>1571700</td>\n",
       "      <td>1744</td>\n",
       "    </tr>\n",
       "    <tr>\n",
       "      <th>99</th>\n",
       "      <td>691</td>\n",
       "      <td>2465930</td>\n",
       "      <td>2695</td>\n",
       "    </tr>\n",
       "  </tbody>\n",
       "</table>\n",
       "<p>100 rows × 3 columns</p>\n",
       "</div>"
      ],
      "text/plain": [
       "    shop_area_sq_ft  total_vol  total_customers\n",
       "0               528     842960              928\n",
       "1               676    1970870             2498\n",
       "2               676    1691985             1900\n",
       "3               676    2325980             2037\n",
       "4               676    1340215             1841\n",
       "..              ...        ...              ...\n",
       "95              606    2967190             2281\n",
       "96              336    1169405             1263\n",
       "97              705    1726515             1493\n",
       "98              516    1571700             1744\n",
       "99              691    2465930             2695\n",
       "\n",
       "[100 rows x 3 columns]"
      ]
     },
     "execution_count": 18,
     "metadata": {},
     "output_type": "execute_result"
    }
   ],
   "source": [
    "X"
   ]
  },
  {
   "cell_type": "markdown",
   "id": "f4756aeb",
   "metadata": {
    "papermill": {
     "duration": 0.013315,
     "end_time": "2023-04-25T15:46:29.475862",
     "exception": false,
     "start_time": "2023-04-25T15:46:29.462547",
     "status": "completed"
    },
    "tags": []
   },
   "source": [
    "### Train test split"
   ]
  },
  {
   "cell_type": "code",
   "execution_count": 19,
   "id": "2f328b36",
   "metadata": {
    "execution": {
     "iopub.execute_input": "2023-04-25T15:46:29.505650Z",
     "iopub.status.busy": "2023-04-25T15:46:29.505021Z",
     "iopub.status.idle": "2023-04-25T15:46:29.577009Z",
     "shell.execute_reply": "2023-04-25T15:46:29.575928Z"
    },
    "papermill": {
     "duration": 0.090378,
     "end_time": "2023-04-25T15:46:29.580074",
     "exception": false,
     "start_time": "2023-04-25T15:46:29.489696",
     "status": "completed"
    },
    "tags": []
   },
   "outputs": [],
   "source": [
    "from sklearn.model_selection import train_test_split\n",
    "train_X, val_X, train_y, val_y = train_test_split(X, y, random_state = 0)"
   ]
  },
  {
   "cell_type": "markdown",
   "id": "21f98dcb",
   "metadata": {
    "papermill": {
     "duration": 0.013506,
     "end_time": "2023-04-25T15:46:29.607581",
     "exception": false,
     "start_time": "2023-04-25T15:46:29.594075",
     "status": "completed"
    },
    "tags": []
   },
   "source": [
    "## Training the model"
   ]
  },
  {
   "cell_type": "code",
   "execution_count": 20,
   "id": "9d70e393",
   "metadata": {
    "execution": {
     "iopub.execute_input": "2023-04-25T15:46:29.636629Z",
     "iopub.status.busy": "2023-04-25T15:46:29.636276Z",
     "iopub.status.idle": "2023-04-25T15:46:29.647817Z",
     "shell.execute_reply": "2023-04-25T15:46:29.646667Z"
    },
    "papermill": {
     "duration": 0.028606,
     "end_time": "2023-04-25T15:46:29.649998",
     "exception": false,
     "start_time": "2023-04-25T15:46:29.621392",
     "status": "completed"
    },
    "tags": []
   },
   "outputs": [
    {
     "data": {
      "text/html": [
       "<div>\n",
       "<style scoped>\n",
       "    .dataframe tbody tr th:only-of-type {\n",
       "        vertical-align: middle;\n",
       "    }\n",
       "\n",
       "    .dataframe tbody tr th {\n",
       "        vertical-align: top;\n",
       "    }\n",
       "\n",
       "    .dataframe thead th {\n",
       "        text-align: right;\n",
       "    }\n",
       "</style>\n",
       "<table border=\"1\" class=\"dataframe\">\n",
       "  <thead>\n",
       "    <tr style=\"text-align: right;\">\n",
       "      <th></th>\n",
       "      <th>shop_area_sq_ft</th>\n",
       "      <th>total_vol</th>\n",
       "      <th>total_customers</th>\n",
       "    </tr>\n",
       "  </thead>\n",
       "  <tbody>\n",
       "    <tr>\n",
       "      <th>48</th>\n",
       "      <td>720</td>\n",
       "      <td>931695</td>\n",
       "      <td>1370</td>\n",
       "    </tr>\n",
       "    <tr>\n",
       "      <th>6</th>\n",
       "      <td>617</td>\n",
       "      <td>2946220</td>\n",
       "      <td>2496</td>\n",
       "    </tr>\n",
       "    <tr>\n",
       "      <th>99</th>\n",
       "      <td>691</td>\n",
       "      <td>2465930</td>\n",
       "      <td>2695</td>\n",
       "    </tr>\n",
       "    <tr>\n",
       "      <th>82</th>\n",
       "      <td>605</td>\n",
       "      <td>1917850</td>\n",
       "      <td>1894</td>\n",
       "    </tr>\n",
       "    <tr>\n",
       "      <th>76</th>\n",
       "      <td>617</td>\n",
       "      <td>3606120</td>\n",
       "      <td>2959</td>\n",
       "    </tr>\n",
       "    <tr>\n",
       "      <th>...</th>\n",
       "      <td>...</td>\n",
       "      <td>...</td>\n",
       "      <td>...</td>\n",
       "    </tr>\n",
       "    <tr>\n",
       "      <th>96</th>\n",
       "      <td>336</td>\n",
       "      <td>1169405</td>\n",
       "      <td>1263</td>\n",
       "    </tr>\n",
       "    <tr>\n",
       "      <th>67</th>\n",
       "      <td>520</td>\n",
       "      <td>2206435</td>\n",
       "      <td>2172</td>\n",
       "    </tr>\n",
       "    <tr>\n",
       "      <th>64</th>\n",
       "      <td>617</td>\n",
       "      <td>2671250</td>\n",
       "      <td>2474</td>\n",
       "    </tr>\n",
       "    <tr>\n",
       "      <th>47</th>\n",
       "      <td>617</td>\n",
       "      <td>1791290</td>\n",
       "      <td>1678</td>\n",
       "    </tr>\n",
       "    <tr>\n",
       "      <th>44</th>\n",
       "      <td>617</td>\n",
       "      <td>2198800</td>\n",
       "      <td>2417</td>\n",
       "    </tr>\n",
       "  </tbody>\n",
       "</table>\n",
       "<p>75 rows × 3 columns</p>\n",
       "</div>"
      ],
      "text/plain": [
       "    shop_area_sq_ft  total_vol  total_customers\n",
       "48              720     931695             1370\n",
       "6               617    2946220             2496\n",
       "99              691    2465930             2695\n",
       "82              605    1917850             1894\n",
       "76              617    3606120             2959\n",
       "..              ...        ...              ...\n",
       "96              336    1169405             1263\n",
       "67              520    2206435             2172\n",
       "64              617    2671250             2474\n",
       "47              617    1791290             1678\n",
       "44              617    2198800             2417\n",
       "\n",
       "[75 rows x 3 columns]"
      ]
     },
     "execution_count": 20,
     "metadata": {},
     "output_type": "execute_result"
    }
   ],
   "source": [
    "train_X"
   ]
  },
  {
   "cell_type": "code",
   "execution_count": 21,
   "id": "4c9202fc",
   "metadata": {
    "execution": {
     "iopub.execute_input": "2023-04-25T15:46:29.680320Z",
     "iopub.status.busy": "2023-04-25T15:46:29.679968Z",
     "iopub.status.idle": "2023-04-25T15:46:29.688268Z",
     "shell.execute_reply": "2023-04-25T15:46:29.687249Z"
    },
    "papermill": {
     "duration": 0.025371,
     "end_time": "2023-04-25T15:46:29.690314",
     "exception": false,
     "start_time": "2023-04-25T15:46:29.664943",
     "status": "completed"
    },
    "tags": []
   },
   "outputs": [
    {
     "data": {
      "text/plain": [
       "48    1\n",
       "6     1\n",
       "99    2\n",
       "82    1\n",
       "76    2\n",
       "     ..\n",
       "96    0\n",
       "67    0\n",
       "64    2\n",
       "47    1\n",
       "44    1\n",
       "Name: shop_profile, Length: 75, dtype: int64"
      ]
     },
     "execution_count": 21,
     "metadata": {},
     "output_type": "execute_result"
    }
   ],
   "source": [
    "train_y"
   ]
  },
  {
   "cell_type": "code",
   "execution_count": 22,
   "id": "c6ca8c63",
   "metadata": {
    "execution": {
     "iopub.execute_input": "2023-04-25T15:46:29.720279Z",
     "iopub.status.busy": "2023-04-25T15:46:29.719639Z",
     "iopub.status.idle": "2023-04-25T15:46:29.730829Z",
     "shell.execute_reply": "2023-04-25T15:46:29.729359Z"
    },
    "papermill": {
     "duration": 0.029113,
     "end_time": "2023-04-25T15:46:29.733503",
     "exception": false,
     "start_time": "2023-04-25T15:46:29.704390",
     "status": "completed"
    },
    "tags": []
   },
   "outputs": [
    {
     "data": {
      "text/html": [
       "<div>\n",
       "<style scoped>\n",
       "    .dataframe tbody tr th:only-of-type {\n",
       "        vertical-align: middle;\n",
       "    }\n",
       "\n",
       "    .dataframe tbody tr th {\n",
       "        vertical-align: top;\n",
       "    }\n",
       "\n",
       "    .dataframe thead th {\n",
       "        text-align: right;\n",
       "    }\n",
       "</style>\n",
       "<table border=\"1\" class=\"dataframe\">\n",
       "  <thead>\n",
       "    <tr style=\"text-align: right;\">\n",
       "      <th></th>\n",
       "      <th>shop_area_sq_ft</th>\n",
       "      <th>total_vol</th>\n",
       "      <th>total_customers</th>\n",
       "    </tr>\n",
       "  </thead>\n",
       "  <tbody>\n",
       "    <tr>\n",
       "      <th>26</th>\n",
       "      <td>594</td>\n",
       "      <td>1543645</td>\n",
       "      <td>1920</td>\n",
       "    </tr>\n",
       "    <tr>\n",
       "      <th>86</th>\n",
       "      <td>441</td>\n",
       "      <td>1640080</td>\n",
       "      <td>1591</td>\n",
       "    </tr>\n",
       "    <tr>\n",
       "      <th>2</th>\n",
       "      <td>676</td>\n",
       "      <td>1691985</td>\n",
       "      <td>1900</td>\n",
       "    </tr>\n",
       "    <tr>\n",
       "      <th>55</th>\n",
       "      <td>661</td>\n",
       "      <td>2697370</td>\n",
       "      <td>3164</td>\n",
       "    </tr>\n",
       "    <tr>\n",
       "      <th>75</th>\n",
       "      <td>549</td>\n",
       "      <td>2694095</td>\n",
       "      <td>3007</td>\n",
       "    </tr>\n",
       "    <tr>\n",
       "      <th>93</th>\n",
       "      <td>555</td>\n",
       "      <td>3220950</td>\n",
       "      <td>2336</td>\n",
       "    </tr>\n",
       "    <tr>\n",
       "      <th>16</th>\n",
       "      <td>495</td>\n",
       "      <td>2157105</td>\n",
       "      <td>3081</td>\n",
       "    </tr>\n",
       "    <tr>\n",
       "      <th>73</th>\n",
       "      <td>541</td>\n",
       "      <td>1832065</td>\n",
       "      <td>1603</td>\n",
       "    </tr>\n",
       "    <tr>\n",
       "      <th>54</th>\n",
       "      <td>617</td>\n",
       "      <td>2828540</td>\n",
       "      <td>2362</td>\n",
       "    </tr>\n",
       "    <tr>\n",
       "      <th>95</th>\n",
       "      <td>606</td>\n",
       "      <td>2967190</td>\n",
       "      <td>2281</td>\n",
       "    </tr>\n",
       "    <tr>\n",
       "      <th>53</th>\n",
       "      <td>709</td>\n",
       "      <td>2126605</td>\n",
       "      <td>2671</td>\n",
       "    </tr>\n",
       "    <tr>\n",
       "      <th>92</th>\n",
       "      <td>565</td>\n",
       "      <td>1970175</td>\n",
       "      <td>2075</td>\n",
       "    </tr>\n",
       "    <tr>\n",
       "      <th>78</th>\n",
       "      <td>422</td>\n",
       "      <td>2663785</td>\n",
       "      <td>2073</td>\n",
       "    </tr>\n",
       "    <tr>\n",
       "      <th>13</th>\n",
       "      <td>537</td>\n",
       "      <td>1637380</td>\n",
       "      <td>1492</td>\n",
       "    </tr>\n",
       "    <tr>\n",
       "      <th>7</th>\n",
       "      <td>423</td>\n",
       "      <td>1607630</td>\n",
       "      <td>1328</td>\n",
       "    </tr>\n",
       "    <tr>\n",
       "      <th>30</th>\n",
       "      <td>1077</td>\n",
       "      <td>3734470</td>\n",
       "      <td>3091</td>\n",
       "    </tr>\n",
       "    <tr>\n",
       "      <th>22</th>\n",
       "      <td>709</td>\n",
       "      <td>2057905</td>\n",
       "      <td>2661</td>\n",
       "    </tr>\n",
       "    <tr>\n",
       "      <th>24</th>\n",
       "      <td>517</td>\n",
       "      <td>1272710</td>\n",
       "      <td>1204</td>\n",
       "    </tr>\n",
       "    <tr>\n",
       "      <th>33</th>\n",
       "      <td>441</td>\n",
       "      <td>1727280</td>\n",
       "      <td>1641</td>\n",
       "    </tr>\n",
       "    <tr>\n",
       "      <th>8</th>\n",
       "      <td>676</td>\n",
       "      <td>2525525</td>\n",
       "      <td>2055</td>\n",
       "    </tr>\n",
       "    <tr>\n",
       "      <th>43</th>\n",
       "      <td>706</td>\n",
       "      <td>1707520</td>\n",
       "      <td>1368</td>\n",
       "    </tr>\n",
       "    <tr>\n",
       "      <th>62</th>\n",
       "      <td>810</td>\n",
       "      <td>1922995</td>\n",
       "      <td>2064</td>\n",
       "    </tr>\n",
       "    <tr>\n",
       "      <th>3</th>\n",
       "      <td>676</td>\n",
       "      <td>2325980</td>\n",
       "      <td>2037</td>\n",
       "    </tr>\n",
       "    <tr>\n",
       "      <th>71</th>\n",
       "      <td>617</td>\n",
       "      <td>2988550</td>\n",
       "      <td>2435</td>\n",
       "    </tr>\n",
       "    <tr>\n",
       "      <th>45</th>\n",
       "      <td>617</td>\n",
       "      <td>1785495</td>\n",
       "      <td>2046</td>\n",
       "    </tr>\n",
       "  </tbody>\n",
       "</table>\n",
       "</div>"
      ],
      "text/plain": [
       "    shop_area_sq_ft  total_vol  total_customers\n",
       "26              594    1543645             1920\n",
       "86              441    1640080             1591\n",
       "2               676    1691985             1900\n",
       "55              661    2697370             3164\n",
       "75              549    2694095             3007\n",
       "93              555    3220950             2336\n",
       "16              495    2157105             3081\n",
       "73              541    1832065             1603\n",
       "54              617    2828540             2362\n",
       "95              606    2967190             2281\n",
       "53              709    2126605             2671\n",
       "92              565    1970175             2075\n",
       "78              422    2663785             2073\n",
       "13              537    1637380             1492\n",
       "7               423    1607630             1328\n",
       "30             1077    3734470             3091\n",
       "22              709    2057905             2661\n",
       "24              517    1272710             1204\n",
       "33              441    1727280             1641\n",
       "8               676    2525525             2055\n",
       "43              706    1707520             1368\n",
       "62              810    1922995             2064\n",
       "3               676    2325980             2037\n",
       "71              617    2988550             2435\n",
       "45              617    1785495             2046"
      ]
     },
     "execution_count": 22,
     "metadata": {},
     "output_type": "execute_result"
    }
   ],
   "source": [
    "val_X"
   ]
  },
  {
   "cell_type": "code",
   "execution_count": 23,
   "id": "2c9b0698",
   "metadata": {
    "execution": {
     "iopub.execute_input": "2023-04-25T15:46:29.764258Z",
     "iopub.status.busy": "2023-04-25T15:46:29.763861Z",
     "iopub.status.idle": "2023-04-25T15:46:29.772177Z",
     "shell.execute_reply": "2023-04-25T15:46:29.771149Z"
    },
    "papermill": {
     "duration": 0.026727,
     "end_time": "2023-04-25T15:46:29.774742",
     "exception": false,
     "start_time": "2023-04-25T15:46:29.748015",
     "status": "completed"
    },
    "tags": []
   },
   "outputs": [
    {
     "data": {
      "text/plain": [
       "26    1\n",
       "86    1\n",
       "2     0\n",
       "55    2\n",
       "75    2\n",
       "93    2\n",
       "16    2\n",
       "73    1\n",
       "54    1\n",
       "95    2\n",
       "53    2\n",
       "92    0\n",
       "78    1\n",
       "13    1\n",
       "7     1\n",
       "30    2\n",
       "22    2\n",
       "24    0\n",
       "33    0\n",
       "8     0\n",
       "43    1\n",
       "62    2\n",
       "3     0\n",
       "71    1\n",
       "45    0\n",
       "Name: shop_profile, dtype: int64"
      ]
     },
     "execution_count": 23,
     "metadata": {},
     "output_type": "execute_result"
    }
   ],
   "source": [
    "val_y"
   ]
  },
  {
   "cell_type": "markdown",
   "id": "413bb6a8",
   "metadata": {
    "papermill": {
     "duration": 0.014675,
     "end_time": "2023-04-25T15:46:29.803812",
     "exception": false,
     "start_time": "2023-04-25T15:46:29.789137",
     "status": "completed"
    },
    "tags": []
   },
   "source": [
    "### Training model"
   ]
  },
  {
   "cell_type": "code",
   "execution_count": 24,
   "id": "ddd25d37",
   "metadata": {
    "execution": {
     "iopub.execute_input": "2023-04-25T15:46:29.833014Z",
     "iopub.status.busy": "2023-04-25T15:46:29.832650Z",
     "iopub.status.idle": "2023-04-25T15:46:30.397642Z",
     "shell.execute_reply": "2023-04-25T15:46:30.396191Z"
    },
    "papermill": {
     "duration": 0.582548,
     "end_time": "2023-04-25T15:46:30.400341",
     "exception": false,
     "start_time": "2023-04-25T15:46:29.817793",
     "status": "completed"
    },
    "tags": []
   },
   "outputs": [],
   "source": [
    "from sklearn.neighbors import KNeighborsClassifier\n",
    "from xgboost import XGBClassifier\n",
    "from sklearn.ensemble import RandomForestClassifier"
   ]
  },
  {
   "cell_type": "code",
   "execution_count": 25,
   "id": "e26e3e45",
   "metadata": {
    "execution": {
     "iopub.execute_input": "2023-04-25T15:46:30.431103Z",
     "iopub.status.busy": "2023-04-25T15:46:30.430724Z",
     "iopub.status.idle": "2023-04-25T15:46:30.553641Z",
     "shell.execute_reply": "2023-04-25T15:46:30.552411Z"
    },
    "papermill": {
     "duration": 0.140961,
     "end_time": "2023-04-25T15:46:30.555783",
     "exception": false,
     "start_time": "2023-04-25T15:46:30.414822",
     "status": "completed"
    },
    "tags": []
   },
   "outputs": [
    {
     "data": {
      "text/plain": [
       "RandomForestClassifier(random_state=1)"
      ]
     },
     "execution_count": 25,
     "metadata": {},
     "output_type": "execute_result"
    }
   ],
   "source": [
    "# Define the model with default hyperparameters\n",
    "# model = XGBClassifier()\n",
    "# model = KNeighborsClassifier(n_neighbors= 25)\n",
    "model = RandomForestClassifier(n_estimators=100,random_state=1)\n",
    "\n",
    "# Fit the model to the training data\n",
    "model.fit(train_X, train_y)"
   ]
  },
  {
   "cell_type": "markdown",
   "id": "11e752e2",
   "metadata": {
    "papermill": {
     "duration": 0.013799,
     "end_time": "2023-04-25T15:46:30.583955",
     "exception": false,
     "start_time": "2023-04-25T15:46:30.570156",
     "status": "completed"
    },
    "tags": []
   },
   "source": [
    "## Making predictions"
   ]
  },
  {
   "cell_type": "code",
   "execution_count": 26,
   "id": "e3702a77",
   "metadata": {
    "execution": {
     "iopub.execute_input": "2023-04-25T15:46:30.613397Z",
     "iopub.status.busy": "2023-04-25T15:46:30.612788Z",
     "iopub.status.idle": "2023-04-25T15:46:30.627613Z",
     "shell.execute_reply": "2023-04-25T15:46:30.626923Z"
    },
    "papermill": {
     "duration": 0.031747,
     "end_time": "2023-04-25T15:46:30.629498",
     "exception": false,
     "start_time": "2023-04-25T15:46:30.597751",
     "status": "completed"
    },
    "tags": []
   },
   "outputs": [],
   "source": [
    "# Make predictions on the test data\n",
    "y_pred = model.predict(val_X)"
   ]
  },
  {
   "cell_type": "markdown",
   "id": "ba685fb0",
   "metadata": {
    "papermill": {
     "duration": 0.013866,
     "end_time": "2023-04-25T15:46:30.658067",
     "exception": false,
     "start_time": "2023-04-25T15:46:30.644201",
     "status": "completed"
    },
    "tags": []
   },
   "source": [
    "## F1 Score"
   ]
  },
  {
   "cell_type": "code",
   "execution_count": 27,
   "id": "e7872d22",
   "metadata": {
    "execution": {
     "iopub.execute_input": "2023-04-25T15:46:30.688522Z",
     "iopub.status.busy": "2023-04-25T15:46:30.687904Z",
     "iopub.status.idle": "2023-04-25T15:46:30.694639Z",
     "shell.execute_reply": "2023-04-25T15:46:30.693593Z"
    },
    "papermill": {
     "duration": 0.024861,
     "end_time": "2023-04-25T15:46:30.697139",
     "exception": false,
     "start_time": "2023-04-25T15:46:30.672278",
     "status": "completed"
    },
    "tags": []
   },
   "outputs": [
    {
     "name": "stdout",
     "output_type": "stream",
     "text": [
      "F1 score: 0.52\n"
     ]
    }
   ],
   "source": [
    "from sklearn.metrics import f1_score\n",
    "\n",
    "# Calculate the F1 score\n",
    "f1 = f1_score(val_y, y_pred,average='micro')\n",
    "\n",
    "# Print the result\n",
    "print(\"F1 score:\", f1)"
   ]
  },
  {
   "cell_type": "markdown",
   "id": "9a2d4402",
   "metadata": {
    "papermill": {
     "duration": 0.013718,
     "end_time": "2023-04-25T15:46:30.725200",
     "exception": false,
     "start_time": "2023-04-25T15:46:30.711482",
     "status": "completed"
    },
    "tags": []
   },
   "source": [
    "## For submissions Train using full X and y sets"
   ]
  },
  {
   "cell_type": "code",
   "execution_count": 28,
   "id": "fe81a17f",
   "metadata": {
    "execution": {
     "iopub.execute_input": "2023-04-25T15:46:30.755575Z",
     "iopub.status.busy": "2023-04-25T15:46:30.754739Z",
     "iopub.status.idle": "2023-04-25T15:46:30.872680Z",
     "shell.execute_reply": "2023-04-25T15:46:30.871501Z"
    },
    "papermill": {
     "duration": 0.135112,
     "end_time": "2023-04-25T15:46:30.874583",
     "exception": false,
     "start_time": "2023-04-25T15:46:30.739471",
     "status": "completed"
    },
    "tags": []
   },
   "outputs": [
    {
     "data": {
      "text/plain": [
       "RandomForestClassifier(random_state=1)"
      ]
     },
     "execution_count": 28,
     "metadata": {},
     "output_type": "execute_result"
    }
   ],
   "source": [
    "# Define the model with default hyperparameters\n",
    "# FinalModel = XGBClassifier()\n",
    "# FinalModel = KNeighborsClassifier(n_neighbors=3)\n",
    "FinalModel = RandomForestClassifier(n_estimators=100,random_state=1)\n",
    "\n",
    "# Fit the model to the training data\n",
    "FinalModel.fit(train_X, train_y)"
   ]
  },
  {
   "cell_type": "code",
   "execution_count": 29,
   "id": "daa9a915",
   "metadata": {
    "execution": {
     "iopub.execute_input": "2023-04-25T15:46:30.905897Z",
     "iopub.status.busy": "2023-04-25T15:46:30.904589Z",
     "iopub.status.idle": "2023-04-25T15:46:30.915284Z",
     "shell.execute_reply": "2023-04-25T15:46:30.914369Z"
    },
    "papermill": {
     "duration": 0.02831,
     "end_time": "2023-04-25T15:46:30.917273",
     "exception": false,
     "start_time": "2023-04-25T15:46:30.888963",
     "status": "completed"
    },
    "tags": []
   },
   "outputs": [
    {
     "data": {
      "text/html": [
       "<div>\n",
       "<style scoped>\n",
       "    .dataframe tbody tr th:only-of-type {\n",
       "        vertical-align: middle;\n",
       "    }\n",
       "\n",
       "    .dataframe tbody tr th {\n",
       "        vertical-align: top;\n",
       "    }\n",
       "\n",
       "    .dataframe thead th {\n",
       "        text-align: right;\n",
       "    }\n",
       "</style>\n",
       "<table border=\"1\" class=\"dataframe\">\n",
       "  <thead>\n",
       "    <tr style=\"text-align: right;\">\n",
       "      <th></th>\n",
       "      <th>shop_area_sq_ft</th>\n",
       "      <th>total_vol</th>\n",
       "      <th>total_customers</th>\n",
       "    </tr>\n",
       "  </thead>\n",
       "  <tbody>\n",
       "    <tr>\n",
       "      <th>100</th>\n",
       "      <td>545</td>\n",
       "      <td>2607865</td>\n",
       "      <td>1736</td>\n",
       "    </tr>\n",
       "    <tr>\n",
       "      <th>101</th>\n",
       "      <td>676</td>\n",
       "      <td>1308795</td>\n",
       "      <td>1641</td>\n",
       "    </tr>\n",
       "    <tr>\n",
       "      <th>102</th>\n",
       "      <td>617</td>\n",
       "      <td>2570425</td>\n",
       "      <td>2227</td>\n",
       "    </tr>\n",
       "    <tr>\n",
       "      <th>103</th>\n",
       "      <td>310</td>\n",
       "      <td>2642380</td>\n",
       "      <td>1669</td>\n",
       "    </tr>\n",
       "    <tr>\n",
       "      <th>104</th>\n",
       "      <td>715</td>\n",
       "      <td>1310440</td>\n",
       "      <td>1552</td>\n",
       "    </tr>\n",
       "    <tr>\n",
       "      <th>105</th>\n",
       "      <td>530</td>\n",
       "      <td>2862995</td>\n",
       "      <td>1637</td>\n",
       "    </tr>\n",
       "    <tr>\n",
       "      <th>106</th>\n",
       "      <td>411</td>\n",
       "      <td>1444025</td>\n",
       "      <td>1781</td>\n",
       "    </tr>\n",
       "    <tr>\n",
       "      <th>107</th>\n",
       "      <td>597</td>\n",
       "      <td>1973805</td>\n",
       "      <td>2052</td>\n",
       "    </tr>\n",
       "    <tr>\n",
       "      <th>108</th>\n",
       "      <td>676</td>\n",
       "      <td>2600915</td>\n",
       "      <td>2497</td>\n",
       "    </tr>\n",
       "    <tr>\n",
       "      <th>109</th>\n",
       "      <td>617</td>\n",
       "      <td>1961240</td>\n",
       "      <td>2247</td>\n",
       "    </tr>\n",
       "    <tr>\n",
       "      <th>110</th>\n",
       "      <td>774</td>\n",
       "      <td>2067720</td>\n",
       "      <td>1985</td>\n",
       "    </tr>\n",
       "    <tr>\n",
       "      <th>111</th>\n",
       "      <td>676</td>\n",
       "      <td>2276575</td>\n",
       "      <td>1992</td>\n",
       "    </tr>\n",
       "    <tr>\n",
       "      <th>112</th>\n",
       "      <td>554</td>\n",
       "      <td>1322790</td>\n",
       "      <td>1268</td>\n",
       "    </tr>\n",
       "    <tr>\n",
       "      <th>113</th>\n",
       "      <td>617</td>\n",
       "      <td>2608740</td>\n",
       "      <td>2738</td>\n",
       "    </tr>\n",
       "    <tr>\n",
       "      <th>114</th>\n",
       "      <td>588</td>\n",
       "      <td>2565235</td>\n",
       "      <td>921</td>\n",
       "    </tr>\n",
       "    <tr>\n",
       "      <th>115</th>\n",
       "      <td>676</td>\n",
       "      <td>2100715</td>\n",
       "      <td>2077</td>\n",
       "    </tr>\n",
       "    <tr>\n",
       "      <th>116</th>\n",
       "      <td>411</td>\n",
       "      <td>2200580</td>\n",
       "      <td>1922</td>\n",
       "    </tr>\n",
       "    <tr>\n",
       "      <th>117</th>\n",
       "      <td>637</td>\n",
       "      <td>3084455</td>\n",
       "      <td>2577</td>\n",
       "    </tr>\n",
       "    <tr>\n",
       "      <th>118</th>\n",
       "      <td>513</td>\n",
       "      <td>2131345</td>\n",
       "      <td>2480</td>\n",
       "    </tr>\n",
       "    <tr>\n",
       "      <th>119</th>\n",
       "      <td>527</td>\n",
       "      <td>1128935</td>\n",
       "      <td>1083</td>\n",
       "    </tr>\n",
       "    <tr>\n",
       "      <th>120</th>\n",
       "      <td>411</td>\n",
       "      <td>2399125</td>\n",
       "      <td>1778</td>\n",
       "    </tr>\n",
       "    <tr>\n",
       "      <th>121</th>\n",
       "      <td>699</td>\n",
       "      <td>2110800</td>\n",
       "      <td>1746</td>\n",
       "    </tr>\n",
       "    <tr>\n",
       "      <th>122</th>\n",
       "      <td>597</td>\n",
       "      <td>3023805</td>\n",
       "      <td>2832</td>\n",
       "    </tr>\n",
       "    <tr>\n",
       "      <th>123</th>\n",
       "      <td>676</td>\n",
       "      <td>1325070</td>\n",
       "      <td>1423</td>\n",
       "    </tr>\n",
       "  </tbody>\n",
       "</table>\n",
       "</div>"
      ],
      "text/plain": [
       "     shop_area_sq_ft  total_vol  total_customers\n",
       "100              545    2607865             1736\n",
       "101              676    1308795             1641\n",
       "102              617    2570425             2227\n",
       "103              310    2642380             1669\n",
       "104              715    1310440             1552\n",
       "105              530    2862995             1637\n",
       "106              411    1444025             1781\n",
       "107              597    1973805             2052\n",
       "108              676    2600915             2497\n",
       "109              617    1961240             2247\n",
       "110              774    2067720             1985\n",
       "111              676    2276575             1992\n",
       "112              554    1322790             1268\n",
       "113              617    2608740             2738\n",
       "114              588    2565235              921\n",
       "115              676    2100715             2077\n",
       "116              411    2200580             1922\n",
       "117              637    3084455             2577\n",
       "118              513    2131345             2480\n",
       "119              527    1128935             1083\n",
       "120              411    2399125             1778\n",
       "121              699    2110800             1746\n",
       "122              597    3023805             2832\n",
       "123              676    1325070             1423"
      ]
     },
     "execution_count": 29,
     "metadata": {},
     "output_type": "execute_result"
    }
   ],
   "source": [
    "test_shops = test_shops.drop('shop_id', axis=1)\n",
    "test_shops"
   ]
  },
  {
   "cell_type": "code",
   "execution_count": 30,
   "id": "99dffb16",
   "metadata": {
    "execution": {
     "iopub.execute_input": "2023-04-25T15:46:30.948690Z",
     "iopub.status.busy": "2023-04-25T15:46:30.947743Z",
     "iopub.status.idle": "2023-04-25T15:46:30.963832Z",
     "shell.execute_reply": "2023-04-25T15:46:30.963130Z"
    },
    "papermill": {
     "duration": 0.034333,
     "end_time": "2023-04-25T15:46:30.966281",
     "exception": false,
     "start_time": "2023-04-25T15:46:30.931948",
     "status": "completed"
    },
    "tags": []
   },
   "outputs": [],
   "source": [
    "FinalPred = FinalModel.predict(test_shops)"
   ]
  },
  {
   "cell_type": "code",
   "execution_count": 31,
   "id": "f2263efc",
   "metadata": {
    "execution": {
     "iopub.execute_input": "2023-04-25T15:46:30.999184Z",
     "iopub.status.busy": "2023-04-25T15:46:30.997577Z",
     "iopub.status.idle": "2023-04-25T15:46:31.004530Z",
     "shell.execute_reply": "2023-04-25T15:46:31.003490Z"
    },
    "papermill": {
     "duration": 0.02508,
     "end_time": "2023-04-25T15:46:31.006445",
     "exception": false,
     "start_time": "2023-04-25T15:46:30.981365",
     "status": "completed"
    },
    "tags": []
   },
   "outputs": [
    {
     "data": {
      "text/plain": [
       "24"
      ]
     },
     "execution_count": 31,
     "metadata": {},
     "output_type": "execute_result"
    }
   ],
   "source": [
    "len(FinalPred)"
   ]
  },
  {
   "cell_type": "markdown",
   "id": "0d5d6ba6",
   "metadata": {
    "papermill": {
     "duration": 0.014895,
     "end_time": "2023-04-25T15:46:31.036713",
     "exception": false,
     "start_time": "2023-04-25T15:46:31.021818",
     "status": "completed"
    },
    "tags": []
   },
   "source": [
    "## Combining predictions with shop_id"
   ]
  },
  {
   "cell_type": "code",
   "execution_count": 32,
   "id": "7844cac7",
   "metadata": {
    "execution": {
     "iopub.execute_input": "2023-04-25T15:46:31.068732Z",
     "iopub.status.busy": "2023-04-25T15:46:31.068397Z",
     "iopub.status.idle": "2023-04-25T15:46:31.073604Z",
     "shell.execute_reply": "2023-04-25T15:46:31.072431Z"
    },
    "papermill": {
     "duration": 0.024494,
     "end_time": "2023-04-25T15:46:31.076287",
     "exception": false,
     "start_time": "2023-04-25T15:46:31.051793",
     "status": "completed"
    },
    "tags": []
   },
   "outputs": [],
   "source": [
    "# Create a dictionary mapping the old values to the new values\n",
    "mapping = {0: 'Low', 1: 'Moderate', 2: 'High'}\n",
    "\n",
    "# Map the values in the 'shop_profile' column using the dictionary\n",
    "testdata[\"shop_profile\"] = FinalPred"
   ]
  },
  {
   "cell_type": "code",
   "execution_count": 33,
   "id": "04271b52",
   "metadata": {
    "execution": {
     "iopub.execute_input": "2023-04-25T15:46:31.107933Z",
     "iopub.status.busy": "2023-04-25T15:46:31.107533Z",
     "iopub.status.idle": "2023-04-25T15:46:31.117491Z",
     "shell.execute_reply": "2023-04-25T15:46:31.116686Z"
    },
    "papermill": {
     "duration": 0.028177,
     "end_time": "2023-04-25T15:46:31.119538",
     "exception": false,
     "start_time": "2023-04-25T15:46:31.091361",
     "status": "completed"
    },
    "tags": []
   },
   "outputs": [
    {
     "data": {
      "text/html": [
       "<div>\n",
       "<style scoped>\n",
       "    .dataframe tbody tr th:only-of-type {\n",
       "        vertical-align: middle;\n",
       "    }\n",
       "\n",
       "    .dataframe tbody tr th {\n",
       "        vertical-align: top;\n",
       "    }\n",
       "\n",
       "    .dataframe thead th {\n",
       "        text-align: right;\n",
       "    }\n",
       "</style>\n",
       "<table border=\"1\" class=\"dataframe\">\n",
       "  <thead>\n",
       "    <tr style=\"text-align: right;\">\n",
       "      <th></th>\n",
       "      <th>shop_id</th>\n",
       "      <th>shop_profile</th>\n",
       "    </tr>\n",
       "  </thead>\n",
       "  <tbody>\n",
       "    <tr>\n",
       "      <th>0</th>\n",
       "      <td>SHOP046</td>\n",
       "      <td>0</td>\n",
       "    </tr>\n",
       "    <tr>\n",
       "      <th>1</th>\n",
       "      <td>SHOP024</td>\n",
       "      <td>0</td>\n",
       "    </tr>\n",
       "    <tr>\n",
       "      <th>2</th>\n",
       "      <td>SHOP023</td>\n",
       "      <td>0</td>\n",
       "    </tr>\n",
       "    <tr>\n",
       "      <th>3</th>\n",
       "      <td>SHOP097</td>\n",
       "      <td>1</td>\n",
       "    </tr>\n",
       "    <tr>\n",
       "      <th>4</th>\n",
       "      <td>SHOP044</td>\n",
       "      <td>1</td>\n",
       "    </tr>\n",
       "    <tr>\n",
       "      <th>5</th>\n",
       "      <td>SHOP030</td>\n",
       "      <td>1</td>\n",
       "    </tr>\n",
       "    <tr>\n",
       "      <th>6</th>\n",
       "      <td>SHOP038</td>\n",
       "      <td>0</td>\n",
       "    </tr>\n",
       "    <tr>\n",
       "      <th>7</th>\n",
       "      <td>SHOP029</td>\n",
       "      <td>0</td>\n",
       "    </tr>\n",
       "    <tr>\n",
       "      <th>8</th>\n",
       "      <td>SHOP096</td>\n",
       "      <td>2</td>\n",
       "    </tr>\n",
       "    <tr>\n",
       "      <th>9</th>\n",
       "      <td>SHOP092</td>\n",
       "      <td>0</td>\n",
       "    </tr>\n",
       "    <tr>\n",
       "      <th>10</th>\n",
       "      <td>SHOP081</td>\n",
       "      <td>2</td>\n",
       "    </tr>\n",
       "    <tr>\n",
       "      <th>11</th>\n",
       "      <td>SHOP076</td>\n",
       "      <td>1</td>\n",
       "    </tr>\n",
       "    <tr>\n",
       "      <th>12</th>\n",
       "      <td>SHOP080</td>\n",
       "      <td>0</td>\n",
       "    </tr>\n",
       "    <tr>\n",
       "      <th>13</th>\n",
       "      <td>SHOP074</td>\n",
       "      <td>2</td>\n",
       "    </tr>\n",
       "    <tr>\n",
       "      <th>14</th>\n",
       "      <td>SHOP107</td>\n",
       "      <td>0</td>\n",
       "    </tr>\n",
       "    <tr>\n",
       "      <th>15</th>\n",
       "      <td>SHOP108</td>\n",
       "      <td>0</td>\n",
       "    </tr>\n",
       "    <tr>\n",
       "      <th>16</th>\n",
       "      <td>SHOP019</td>\n",
       "      <td>1</td>\n",
       "    </tr>\n",
       "    <tr>\n",
       "      <th>17</th>\n",
       "      <td>SHOP002</td>\n",
       "      <td>1</td>\n",
       "    </tr>\n",
       "    <tr>\n",
       "      <th>18</th>\n",
       "      <td>SHOP114</td>\n",
       "      <td>0</td>\n",
       "    </tr>\n",
       "    <tr>\n",
       "      <th>19</th>\n",
       "      <td>SHOP087</td>\n",
       "      <td>1</td>\n",
       "    </tr>\n",
       "    <tr>\n",
       "      <th>20</th>\n",
       "      <td>SHOP050</td>\n",
       "      <td>0</td>\n",
       "    </tr>\n",
       "    <tr>\n",
       "      <th>21</th>\n",
       "      <td>SHOP061</td>\n",
       "      <td>1</td>\n",
       "    </tr>\n",
       "    <tr>\n",
       "      <th>22</th>\n",
       "      <td>SHOP056</td>\n",
       "      <td>0</td>\n",
       "    </tr>\n",
       "    <tr>\n",
       "      <th>23</th>\n",
       "      <td>SHOP070</td>\n",
       "      <td>0</td>\n",
       "    </tr>\n",
       "  </tbody>\n",
       "</table>\n",
       "</div>"
      ],
      "text/plain": [
       "    shop_id  shop_profile\n",
       "0   SHOP046             0\n",
       "1   SHOP024             0\n",
       "2   SHOP023             0\n",
       "3   SHOP097             1\n",
       "4   SHOP044             1\n",
       "5   SHOP030             1\n",
       "6   SHOP038             0\n",
       "7   SHOP029             0\n",
       "8   SHOP096             2\n",
       "9   SHOP092             0\n",
       "10  SHOP081             2\n",
       "11  SHOP076             1\n",
       "12  SHOP080             0\n",
       "13  SHOP074             2\n",
       "14  SHOP107             0\n",
       "15  SHOP108             0\n",
       "16  SHOP019             1\n",
       "17  SHOP002             1\n",
       "18  SHOP114             0\n",
       "19  SHOP087             1\n",
       "20  SHOP050             0\n",
       "21  SHOP061             1\n",
       "22  SHOP056             0\n",
       "23  SHOP070             0"
      ]
     },
     "execution_count": 33,
     "metadata": {},
     "output_type": "execute_result"
    }
   ],
   "source": [
    "testdata"
   ]
  },
  {
   "cell_type": "code",
   "execution_count": 34,
   "id": "fe0f5d3b",
   "metadata": {
    "execution": {
     "iopub.execute_input": "2023-04-25T15:46:31.152341Z",
     "iopub.status.busy": "2023-04-25T15:46:31.151457Z",
     "iopub.status.idle": "2023-04-25T15:46:31.157423Z",
     "shell.execute_reply": "2023-04-25T15:46:31.156405Z"
    },
    "papermill": {
     "duration": 0.025068,
     "end_time": "2023-04-25T15:46:31.159333",
     "exception": false,
     "start_time": "2023-04-25T15:46:31.134265",
     "status": "completed"
    },
    "tags": []
   },
   "outputs": [],
   "source": [
    "# Define a dictionary to map values to labels\n",
    "label_map = {0: 'Low', 1: 'Moderate', 2: 'High'}\n",
    "\n",
    "# Replace the values in the shop_profile column with labels\n",
    "testdata['shop_profile'] = testdata['shop_profile'].replace(label_map)"
   ]
  },
  {
   "cell_type": "code",
   "execution_count": 35,
   "id": "5a033261",
   "metadata": {
    "execution": {
     "iopub.execute_input": "2023-04-25T15:46:31.191824Z",
     "iopub.status.busy": "2023-04-25T15:46:31.190961Z",
     "iopub.status.idle": "2023-04-25T15:46:31.201111Z",
     "shell.execute_reply": "2023-04-25T15:46:31.200040Z"
    },
    "papermill": {
     "duration": 0.029527,
     "end_time": "2023-04-25T15:46:31.203916",
     "exception": false,
     "start_time": "2023-04-25T15:46:31.174389",
     "status": "completed"
    },
    "tags": []
   },
   "outputs": [],
   "source": [
    "## Write to CSV\n",
    "testdata.to_csv('output.csv', index=False)"
   ]
  }
 ],
 "metadata": {
  "kernelspec": {
   "display_name": "Python 3",
   "language": "python",
   "name": "python3"
  },
  "language_info": {
   "codemirror_mode": {
    "name": "ipython",
    "version": 3
   },
   "file_extension": ".py",
   "mimetype": "text/x-python",
   "name": "python",
   "nbconvert_exporter": "python",
   "pygments_lexer": "ipython3",
   "version": "3.7.12"
  },
  "papermill": {
   "default_parameters": {},
   "duration": 17.309878,
   "end_time": "2023-04-25T15:46:32.042782",
   "environment_variables": {},
   "exception": null,
   "input_path": "__notebook__.ipynb",
   "output_path": "__notebook__.ipynb",
   "parameters": {},
   "start_time": "2023-04-25T15:46:14.732904",
   "version": "2.4.0"
  }
 },
 "nbformat": 4,
 "nbformat_minor": 5
}
