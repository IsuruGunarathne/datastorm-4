{
 "cells": [
  {
   "cell_type": "markdown",
   "id": "6e97d09a",
   "metadata": {
    "papermill": {
     "duration": 0.016025,
     "end_time": "2023-04-27T04:40:46.373539",
     "exception": false,
     "start_time": "2023-04-27T04:40:46.357514",
     "status": "completed"
    },
    "tags": []
   },
   "source": [
    "# Store Profile Classifier"
   ]
  },
  {
   "cell_type": "code",
   "execution_count": 1,
   "id": "c6b3b23b",
   "metadata": {
    "_cell_guid": "b1076dfc-b9ad-4769-8c92-a6c4dae69d19",
    "_uuid": "8f2839f25d086af736a60e9eeb907d3b93b6e0e5",
    "execution": {
     "iopub.execute_input": "2023-04-27T04:40:46.404726Z",
     "iopub.status.busy": "2023-04-27T04:40:46.404318Z",
     "iopub.status.idle": "2023-04-27T04:40:47.644141Z",
     "shell.execute_reply": "2023-04-27T04:40:47.642892Z"
    },
    "papermill": {
     "duration": 1.258891,
     "end_time": "2023-04-27T04:40:47.647159",
     "exception": false,
     "start_time": "2023-04-27T04:40:46.388268",
     "status": "completed"
    },
    "tags": []
   },
   "outputs": [],
   "source": [
    "import pandas as pd\n",
    "import numpy as np\n",
    "import seaborn as sns"
   ]
  },
  {
   "cell_type": "code",
   "execution_count": 2,
   "id": "9863a585",
   "metadata": {
    "execution": {
     "iopub.execute_input": "2023-04-27T04:40:47.680113Z",
     "iopub.status.busy": "2023-04-27T04:40:47.679065Z",
     "iopub.status.idle": "2023-04-27T04:40:48.825583Z",
     "shell.execute_reply": "2023-04-27T04:40:48.824420Z"
    },
    "papermill": {
     "duration": 1.166079,
     "end_time": "2023-04-27T04:40:48.828777",
     "exception": false,
     "start_time": "2023-04-27T04:40:47.662698",
     "status": "completed"
    },
    "tags": []
   },
   "outputs": [],
   "source": [
    "transactions = pd.read_csv(\"/kaggle/input/dataset/Historical-transaction-data.csv\")\n",
    "storedata = pd.read_csv(\"/kaggle/input/dataset/Store-info.csv\")\n",
    "testdata = pd.read_csv(\"/kaggle/input/dataset/Testing-data.csv\")"
   ]
  },
  {
   "cell_type": "code",
   "execution_count": 3,
   "id": "6667317c",
   "metadata": {
    "execution": {
     "iopub.execute_input": "2023-04-27T04:40:48.862957Z",
     "iopub.status.busy": "2023-04-27T04:40:48.862556Z",
     "iopub.status.idle": "2023-04-27T04:40:48.892054Z",
     "shell.execute_reply": "2023-04-27T04:40:48.891018Z"
    },
    "papermill": {
     "duration": 0.049558,
     "end_time": "2023-04-27T04:40:48.896174",
     "exception": false,
     "start_time": "2023-04-27T04:40:48.846616",
     "status": "completed"
    },
    "tags": []
   },
   "outputs": [
    {
     "data": {
      "text/html": [
       "<div>\n",
       "<style scoped>\n",
       "    .dataframe tbody tr th:only-of-type {\n",
       "        vertical-align: middle;\n",
       "    }\n",
       "\n",
       "    .dataframe tbody tr th {\n",
       "        vertical-align: top;\n",
       "    }\n",
       "\n",
       "    .dataframe thead th {\n",
       "        text-align: right;\n",
       "    }\n",
       "</style>\n",
       "<table border=\"1\" class=\"dataframe\">\n",
       "  <thead>\n",
       "    <tr style=\"text-align: right;\">\n",
       "      <th></th>\n",
       "      <th>item_description</th>\n",
       "      <th>transaction_date</th>\n",
       "      <th>invoice_id</th>\n",
       "      <th>customer_id</th>\n",
       "      <th>shop_id</th>\n",
       "      <th>item_price</th>\n",
       "      <th>quantity_sold</th>\n",
       "    </tr>\n",
       "  </thead>\n",
       "  <tbody>\n",
       "    <tr>\n",
       "      <th>0</th>\n",
       "      <td>ORANGE BARLEY 1.5L</td>\n",
       "      <td>2021-12-11T00:00:00.000Z</td>\n",
       "      <td>147.0</td>\n",
       "      <td>BGXA</td>\n",
       "      <td>SHOP008</td>\n",
       "      <td>220</td>\n",
       "      <td>2</td>\n",
       "    </tr>\n",
       "    <tr>\n",
       "      <th>1</th>\n",
       "      <td>GINGER BEER 1.5L</td>\n",
       "      <td>2021-10-17T00:00:00.000Z</td>\n",
       "      <td>371.0</td>\n",
       "      <td>IA25</td>\n",
       "      <td>SHOP112</td>\n",
       "      <td>220</td>\n",
       "      <td>2</td>\n",
       "    </tr>\n",
       "    <tr>\n",
       "      <th>2</th>\n",
       "      <td>TONIC PET 500ML</td>\n",
       "      <td>2021-12-13T00:00:00.000Z</td>\n",
       "      <td>484.0</td>\n",
       "      <td>VN7V</td>\n",
       "      <td>SHOP008</td>\n",
       "      <td>160</td>\n",
       "      <td>2</td>\n",
       "    </tr>\n",
       "    <tr>\n",
       "      <th>3</th>\n",
       "      <td>CREAM SODA 1L</td>\n",
       "      <td>2021-12-13T00:00:00.000Z</td>\n",
       "      <td>484.0</td>\n",
       "      <td>VN7V</td>\n",
       "      <td>SHOP008</td>\n",
       "      <td>150</td>\n",
       "      <td>2</td>\n",
       "    </tr>\n",
       "    <tr>\n",
       "      <th>4</th>\n",
       "      <td>STRAWBERRY MILK 180ML</td>\n",
       "      <td>2021-10-23T00:00:00.000Z</td>\n",
       "      <td>1310.0</td>\n",
       "      <td>7S00</td>\n",
       "      <td>SHOP112</td>\n",
       "      <td>210</td>\n",
       "      <td>5</td>\n",
       "    </tr>\n",
       "  </tbody>\n",
       "</table>\n",
       "</div>"
      ],
      "text/plain": [
       "        item_description          transaction_date  invoice_id customer_id  \\\n",
       "0     ORANGE BARLEY 1.5L  2021-12-11T00:00:00.000Z       147.0        BGXA   \n",
       "1       GINGER BEER 1.5L  2021-10-17T00:00:00.000Z       371.0        IA25   \n",
       "2        TONIC PET 500ML  2021-12-13T00:00:00.000Z       484.0        VN7V   \n",
       "3          CREAM SODA 1L  2021-12-13T00:00:00.000Z       484.0        VN7V   \n",
       "4  STRAWBERRY MILK 180ML  2021-10-23T00:00:00.000Z      1310.0        7S00   \n",
       "\n",
       "   shop_id  item_price  quantity_sold  \n",
       "0  SHOP008         220              2  \n",
       "1  SHOP112         220              2  \n",
       "2  SHOP008         160              2  \n",
       "3  SHOP008         150              2  \n",
       "4  SHOP112         210              5  "
      ]
     },
     "execution_count": 3,
     "metadata": {},
     "output_type": "execute_result"
    }
   ],
   "source": [
    "transactions.head()"
   ]
  },
  {
   "cell_type": "markdown",
   "id": "06786ab6",
   "metadata": {
    "papermill": {
     "duration": 0.014811,
     "end_time": "2023-04-27T04:40:48.926006",
     "exception": false,
     "start_time": "2023-04-27T04:40:48.911195",
     "status": "completed"
    },
    "tags": []
   },
   "source": [
    "## Drop null values in transactions\n",
    "\n",
    "## Decided not to drop since we're not using these columns anyway"
   ]
  },
  {
   "cell_type": "code",
   "execution_count": 4,
   "id": "da57c53f",
   "metadata": {
    "execution": {
     "iopub.execute_input": "2023-04-27T04:40:48.957739Z",
     "iopub.status.busy": "2023-04-27T04:40:48.956940Z",
     "iopub.status.idle": "2023-04-27T04:40:49.064818Z",
     "shell.execute_reply": "2023-04-27T04:40:49.063574Z"
    },
    "papermill": {
     "duration": 0.126374,
     "end_time": "2023-04-27T04:40:49.067218",
     "exception": false,
     "start_time": "2023-04-27T04:40:48.940844",
     "status": "completed"
    },
    "tags": []
   },
   "outputs": [
    {
     "data": {
      "text/plain": [
       "item_description    35928\n",
       "transaction_date        0\n",
       "invoice_id           6320\n",
       "customer_id             0\n",
       "shop_id                 0\n",
       "item_price              0\n",
       "quantity_sold           0\n",
       "dtype: int64"
      ]
     },
     "execution_count": 4,
     "metadata": {},
     "output_type": "execute_result"
    }
   ],
   "source": [
    "transactions.isnull().sum()"
   ]
  },
  {
   "cell_type": "code",
   "execution_count": 5,
   "id": "7e1de97c",
   "metadata": {
    "execution": {
     "iopub.execute_input": "2023-04-27T04:40:49.100702Z",
     "iopub.status.busy": "2023-04-27T04:40:49.100066Z",
     "iopub.status.idle": "2023-04-27T04:40:49.104373Z",
     "shell.execute_reply": "2023-04-27T04:40:49.103207Z"
    },
    "papermill": {
     "duration": 0.02399,
     "end_time": "2023-04-27T04:40:49.106768",
     "exception": false,
     "start_time": "2023-04-27T04:40:49.082778",
     "status": "completed"
    },
    "tags": []
   },
   "outputs": [],
   "source": [
    "# transactions = transactions.dropna()"
   ]
  },
  {
   "cell_type": "code",
   "execution_count": 6,
   "id": "2f365c20",
   "metadata": {
    "execution": {
     "iopub.execute_input": "2023-04-27T04:40:49.138860Z",
     "iopub.status.busy": "2023-04-27T04:40:49.138401Z",
     "iopub.status.idle": "2023-04-27T04:40:49.248201Z",
     "shell.execute_reply": "2023-04-27T04:40:49.246982Z"
    },
    "papermill": {
     "duration": 0.129121,
     "end_time": "2023-04-27T04:40:49.251062",
     "exception": false,
     "start_time": "2023-04-27T04:40:49.121941",
     "status": "completed"
    },
    "tags": []
   },
   "outputs": [
    {
     "data": {
      "text/plain": [
       "item_description    35928\n",
       "transaction_date        0\n",
       "invoice_id           6320\n",
       "customer_id             0\n",
       "shop_id                 0\n",
       "item_price              0\n",
       "quantity_sold           0\n",
       "dtype: int64"
      ]
     },
     "execution_count": 6,
     "metadata": {},
     "output_type": "execute_result"
    }
   ],
   "source": [
    "transactions.isnull().sum()"
   ]
  },
  {
   "cell_type": "code",
   "execution_count": 7,
   "id": "1f203e6c",
   "metadata": {
    "execution": {
     "iopub.execute_input": "2023-04-27T04:40:49.284005Z",
     "iopub.status.busy": "2023-04-27T04:40:49.282693Z",
     "iopub.status.idle": "2023-04-27T04:40:49.327363Z",
     "shell.execute_reply": "2023-04-27T04:40:49.326461Z"
    },
    "papermill": {
     "duration": 0.064083,
     "end_time": "2023-04-27T04:40:49.330253",
     "exception": false,
     "start_time": "2023-04-27T04:40:49.266170",
     "status": "completed"
    },
    "tags": []
   },
   "outputs": [
    {
     "name": "stdout",
     "output_type": "stream",
     "text": [
      "124\n"
     ]
    }
   ],
   "source": [
    "unique_shops = transactions['shop_id'].nunique()\n",
    "print(unique_shops)"
   ]
  },
  {
   "cell_type": "markdown",
   "id": "a8aede10",
   "metadata": {
    "papermill": {
     "duration": 0.014873,
     "end_time": "2023-04-27T04:40:49.360331",
     "exception": false,
     "start_time": "2023-04-27T04:40:49.345458",
     "status": "completed"
    },
    "tags": []
   },
   "source": [
    "Basically there are 124 shops in total, we'll create a dataset from the transaction data"
   ]
  },
  {
   "cell_type": "code",
   "execution_count": 8,
   "id": "dfcc6ec1",
   "metadata": {
    "execution": {
     "iopub.execute_input": "2023-04-27T04:40:49.393662Z",
     "iopub.status.busy": "2023-04-27T04:40:49.392786Z",
     "iopub.status.idle": "2023-04-27T04:40:49.411169Z",
     "shell.execute_reply": "2023-04-27T04:40:49.409700Z"
    },
    "papermill": {
     "duration": 0.038184,
     "end_time": "2023-04-27T04:40:49.413840",
     "exception": false,
     "start_time": "2023-04-27T04:40:49.375656",
     "status": "completed"
    },
    "tags": []
   },
   "outputs": [
    {
     "data": {
      "text/html": [
       "<div>\n",
       "<style scoped>\n",
       "    .dataframe tbody tr th:only-of-type {\n",
       "        vertical-align: middle;\n",
       "    }\n",
       "\n",
       "    .dataframe tbody tr th {\n",
       "        vertical-align: top;\n",
       "    }\n",
       "\n",
       "    .dataframe thead th {\n",
       "        text-align: right;\n",
       "    }\n",
       "</style>\n",
       "<table border=\"1\" class=\"dataframe\">\n",
       "  <thead>\n",
       "    <tr style=\"text-align: right;\">\n",
       "      <th></th>\n",
       "      <th>shop_id</th>\n",
       "      <th>shop_area_sq_ft</th>\n",
       "      <th>shop_profile</th>\n",
       "    </tr>\n",
       "  </thead>\n",
       "  <tbody>\n",
       "    <tr>\n",
       "      <th>0</th>\n",
       "      <td>SHOP047</td>\n",
       "      <td>528</td>\n",
       "      <td>Moderate</td>\n",
       "    </tr>\n",
       "    <tr>\n",
       "      <th>1</th>\n",
       "      <td>SHOP009</td>\n",
       "      <td>676</td>\n",
       "      <td>High</td>\n",
       "    </tr>\n",
       "    <tr>\n",
       "      <th>2</th>\n",
       "      <td>SHOP083</td>\n",
       "      <td>676</td>\n",
       "      <td>Low</td>\n",
       "    </tr>\n",
       "    <tr>\n",
       "      <th>3</th>\n",
       "      <td>SHOP117</td>\n",
       "      <td>676</td>\n",
       "      <td>Low</td>\n",
       "    </tr>\n",
       "    <tr>\n",
       "      <th>4</th>\n",
       "      <td>SHOP042</td>\n",
       "      <td>676</td>\n",
       "      <td>Low</td>\n",
       "    </tr>\n",
       "    <tr>\n",
       "      <th>...</th>\n",
       "      <td>...</td>\n",
       "      <td>...</td>\n",
       "      <td>...</td>\n",
       "    </tr>\n",
       "    <tr>\n",
       "      <th>119</th>\n",
       "      <td>SHOP087</td>\n",
       "      <td>527</td>\n",
       "      <td>NaN</td>\n",
       "    </tr>\n",
       "    <tr>\n",
       "      <th>120</th>\n",
       "      <td>SHOP050</td>\n",
       "      <td>411</td>\n",
       "      <td>NaN</td>\n",
       "    </tr>\n",
       "    <tr>\n",
       "      <th>121</th>\n",
       "      <td>SHOP061</td>\n",
       "      <td>699</td>\n",
       "      <td>NaN</td>\n",
       "    </tr>\n",
       "    <tr>\n",
       "      <th>122</th>\n",
       "      <td>SHOP056</td>\n",
       "      <td>597</td>\n",
       "      <td>NaN</td>\n",
       "    </tr>\n",
       "    <tr>\n",
       "      <th>123</th>\n",
       "      <td>SHOP070</td>\n",
       "      <td>676</td>\n",
       "      <td>NaN</td>\n",
       "    </tr>\n",
       "  </tbody>\n",
       "</table>\n",
       "<p>124 rows × 3 columns</p>\n",
       "</div>"
      ],
      "text/plain": [
       "     shop_id  shop_area_sq_ft shop_profile\n",
       "0    SHOP047              528     Moderate\n",
       "1    SHOP009              676         High\n",
       "2    SHOP083              676          Low\n",
       "3    SHOP117              676          Low\n",
       "4    SHOP042              676          Low\n",
       "..       ...              ...          ...\n",
       "119  SHOP087              527          NaN\n",
       "120  SHOP050              411          NaN\n",
       "121  SHOP061              699          NaN\n",
       "122  SHOP056              597          NaN\n",
       "123  SHOP070              676          NaN\n",
       "\n",
       "[124 rows x 3 columns]"
      ]
     },
     "execution_count": 8,
     "metadata": {},
     "output_type": "execute_result"
    }
   ],
   "source": [
    "storedata"
   ]
  },
  {
   "cell_type": "markdown",
   "id": "1916e72c",
   "metadata": {
    "papermill": {
     "duration": 0.015169,
     "end_time": "2023-04-27T04:40:49.444562",
     "exception": false,
     "start_time": "2023-04-27T04:40:49.429393",
     "status": "completed"
    },
    "tags": []
   },
   "source": [
    "# Planned Features\n",
    "### Implemented\n",
    "- Total Sales volume (total_vol)\n",
    "- Total number of unique customers (total_customers)\n",
    "- Largest volume by date? Largest volume in a single day (single_day_max_vol) ?\n",
    "- Smallest volume by date? (single_day_max_vol)\n",
    "- Sales volume per square foot (vol_per_sq_ft)\n",
    "- Total Number of unique items (total_unique_items)\n",
    "- Total transactions (n_transactions)\n",
    "- Number of recurring customers (customer_id_repeating and customer_id_unique)\n",
    "- Number of customers who visited only once (customer_id_single)\n",
    "\n",
    "### Not yet implemented\n",
    "\n",
    "### Target variable is shop_profile"
   ]
  },
  {
   "cell_type": "markdown",
   "id": "4e446cb7",
   "metadata": {
    "papermill": {
     "duration": 0.015515,
     "end_time": "2023-04-27T04:40:49.475669",
     "exception": false,
     "start_time": "2023-04-27T04:40:49.460154",
     "status": "completed"
    },
    "tags": []
   },
   "source": [
    "## Adding total_vol and vol_per_sq_ft"
   ]
  },
  {
   "cell_type": "code",
   "execution_count": 9,
   "id": "e468f791",
   "metadata": {
    "execution": {
     "iopub.execute_input": "2023-04-27T04:40:49.508411Z",
     "iopub.status.busy": "2023-04-27T04:40:49.508012Z",
     "iopub.status.idle": "2023-04-27T04:40:49.720512Z",
     "shell.execute_reply": "2023-04-27T04:40:49.719619Z"
    },
    "papermill": {
     "duration": 0.231667,
     "end_time": "2023-04-27T04:40:49.722892",
     "exception": false,
     "start_time": "2023-04-27T04:40:49.491225",
     "status": "completed"
    },
    "tags": []
   },
   "outputs": [
    {
     "data": {
      "text/html": [
       "<div>\n",
       "<style scoped>\n",
       "    .dataframe tbody tr th:only-of-type {\n",
       "        vertical-align: middle;\n",
       "    }\n",
       "\n",
       "    .dataframe tbody tr th {\n",
       "        vertical-align: top;\n",
       "    }\n",
       "\n",
       "    .dataframe thead th {\n",
       "        text-align: right;\n",
       "    }\n",
       "</style>\n",
       "<table border=\"1\" class=\"dataframe\">\n",
       "  <thead>\n",
       "    <tr style=\"text-align: right;\">\n",
       "      <th></th>\n",
       "      <th>shop_id</th>\n",
       "      <th>shop_area_sq_ft</th>\n",
       "      <th>shop_profile</th>\n",
       "      <th>total_vol</th>\n",
       "      <th>vol_per_sq_ft</th>\n",
       "    </tr>\n",
       "  </thead>\n",
       "  <tbody>\n",
       "    <tr>\n",
       "      <th>0</th>\n",
       "      <td>SHOP047</td>\n",
       "      <td>528</td>\n",
       "      <td>Moderate</td>\n",
       "      <td>842960</td>\n",
       "      <td>1596.515152</td>\n",
       "    </tr>\n",
       "    <tr>\n",
       "      <th>1</th>\n",
       "      <td>SHOP009</td>\n",
       "      <td>676</td>\n",
       "      <td>High</td>\n",
       "      <td>1970870</td>\n",
       "      <td>2915.488166</td>\n",
       "    </tr>\n",
       "    <tr>\n",
       "      <th>2</th>\n",
       "      <td>SHOP083</td>\n",
       "      <td>676</td>\n",
       "      <td>Low</td>\n",
       "      <td>1691985</td>\n",
       "      <td>2502.936391</td>\n",
       "    </tr>\n",
       "    <tr>\n",
       "      <th>3</th>\n",
       "      <td>SHOP117</td>\n",
       "      <td>676</td>\n",
       "      <td>Low</td>\n",
       "      <td>2325980</td>\n",
       "      <td>3440.798817</td>\n",
       "    </tr>\n",
       "    <tr>\n",
       "      <th>4</th>\n",
       "      <td>SHOP042</td>\n",
       "      <td>676</td>\n",
       "      <td>Low</td>\n",
       "      <td>1340215</td>\n",
       "      <td>1982.566568</td>\n",
       "    </tr>\n",
       "    <tr>\n",
       "      <th>...</th>\n",
       "      <td>...</td>\n",
       "      <td>...</td>\n",
       "      <td>...</td>\n",
       "      <td>...</td>\n",
       "      <td>...</td>\n",
       "    </tr>\n",
       "    <tr>\n",
       "      <th>119</th>\n",
       "      <td>SHOP087</td>\n",
       "      <td>527</td>\n",
       "      <td>NaN</td>\n",
       "      <td>1128935</td>\n",
       "      <td>2142.191651</td>\n",
       "    </tr>\n",
       "    <tr>\n",
       "      <th>120</th>\n",
       "      <td>SHOP050</td>\n",
       "      <td>411</td>\n",
       "      <td>NaN</td>\n",
       "      <td>2399125</td>\n",
       "      <td>5837.287105</td>\n",
       "    </tr>\n",
       "    <tr>\n",
       "      <th>121</th>\n",
       "      <td>SHOP061</td>\n",
       "      <td>699</td>\n",
       "      <td>NaN</td>\n",
       "      <td>2110800</td>\n",
       "      <td>3019.742489</td>\n",
       "    </tr>\n",
       "    <tr>\n",
       "      <th>122</th>\n",
       "      <td>SHOP056</td>\n",
       "      <td>597</td>\n",
       "      <td>NaN</td>\n",
       "      <td>3023805</td>\n",
       "      <td>5065.000000</td>\n",
       "    </tr>\n",
       "    <tr>\n",
       "      <th>123</th>\n",
       "      <td>SHOP070</td>\n",
       "      <td>676</td>\n",
       "      <td>NaN</td>\n",
       "      <td>1325070</td>\n",
       "      <td>1960.162722</td>\n",
       "    </tr>\n",
       "  </tbody>\n",
       "</table>\n",
       "<p>124 rows × 5 columns</p>\n",
       "</div>"
      ],
      "text/plain": [
       "     shop_id  shop_area_sq_ft shop_profile  total_vol  vol_per_sq_ft\n",
       "0    SHOP047              528     Moderate     842960    1596.515152\n",
       "1    SHOP009              676         High    1970870    2915.488166\n",
       "2    SHOP083              676          Low    1691985    2502.936391\n",
       "3    SHOP117              676          Low    2325980    3440.798817\n",
       "4    SHOP042              676          Low    1340215    1982.566568\n",
       "..       ...              ...          ...        ...            ...\n",
       "119  SHOP087              527          NaN    1128935    2142.191651\n",
       "120  SHOP050              411          NaN    2399125    5837.287105\n",
       "121  SHOP061              699          NaN    2110800    3019.742489\n",
       "122  SHOP056              597          NaN    3023805    5065.000000\n",
       "123  SHOP070              676          NaN    1325070    1960.162722\n",
       "\n",
       "[124 rows x 5 columns]"
      ]
     },
     "execution_count": 9,
     "metadata": {},
     "output_type": "execute_result"
    }
   ],
   "source": [
    "# Compute the total volume of transactions for each store_id in the dataset dataframe\n",
    "total_vol_by_store = transactions.groupby('shop_id').apply(lambda x: (x['item_price'] * x['quantity_sold']).sum())\n",
    "\n",
    "total_vol_by_store = total_vol_by_store.rename('total_vol')\n",
    "\n",
    "# Merge the total_vol_by_store series with the storedata dataframe on the 'store_id' column\n",
    "storedata = pd.merge(storedata, total_vol_by_store, on='shop_id', how='left')\n",
    "storedata[\"vol_per_sq_ft\"] = storedata[\"total_vol\"] / storedata[\"shop_area_sq_ft\"]\n",
    "storedata"
   ]
  },
  {
   "cell_type": "markdown",
   "id": "51af9f44",
   "metadata": {
    "papermill": {
     "duration": 0.015623,
     "end_time": "2023-04-27T04:40:49.755287",
     "exception": false,
     "start_time": "2023-04-27T04:40:49.739664",
     "status": "completed"
    },
    "tags": []
   },
   "source": [
    "## Adding total_customers"
   ]
  },
  {
   "cell_type": "code",
   "execution_count": 10,
   "id": "00006426",
   "metadata": {
    "execution": {
     "iopub.execute_input": "2023-04-27T04:40:49.790244Z",
     "iopub.status.busy": "2023-04-27T04:40:49.789769Z",
     "iopub.status.idle": "2023-04-27T04:40:50.002567Z",
     "shell.execute_reply": "2023-04-27T04:40:50.001217Z"
    },
    "papermill": {
     "duration": 0.234281,
     "end_time": "2023-04-27T04:40:50.005550",
     "exception": false,
     "start_time": "2023-04-27T04:40:49.771269",
     "status": "completed"
    },
    "tags": []
   },
   "outputs": [],
   "source": [
    "# group the transactions dataframe by shop_id and count the number of unique customer_ids\n",
    "unique_customers = transactions.groupby('shop_id')['customer_id'].nunique()\n",
    "\n",
    "# add a new column to the storedata dataframe with the counts of unique customers\n",
    "storedata['total_customers'] = storedata['shop_id'].map(unique_customers)"
   ]
  },
  {
   "cell_type": "code",
   "execution_count": 11,
   "id": "111bd753",
   "metadata": {
    "execution": {
     "iopub.execute_input": "2023-04-27T04:40:50.040937Z",
     "iopub.status.busy": "2023-04-27T04:40:50.039895Z",
     "iopub.status.idle": "2023-04-27T04:40:50.056844Z",
     "shell.execute_reply": "2023-04-27T04:40:50.055468Z"
    },
    "papermill": {
     "duration": 0.037647,
     "end_time": "2023-04-27T04:40:50.059562",
     "exception": false,
     "start_time": "2023-04-27T04:40:50.021915",
     "status": "completed"
    },
    "tags": []
   },
   "outputs": [
    {
     "data": {
      "text/html": [
       "<div>\n",
       "<style scoped>\n",
       "    .dataframe tbody tr th:only-of-type {\n",
       "        vertical-align: middle;\n",
       "    }\n",
       "\n",
       "    .dataframe tbody tr th {\n",
       "        vertical-align: top;\n",
       "    }\n",
       "\n",
       "    .dataframe thead th {\n",
       "        text-align: right;\n",
       "    }\n",
       "</style>\n",
       "<table border=\"1\" class=\"dataframe\">\n",
       "  <thead>\n",
       "    <tr style=\"text-align: right;\">\n",
       "      <th></th>\n",
       "      <th>shop_id</th>\n",
       "      <th>shop_area_sq_ft</th>\n",
       "      <th>shop_profile</th>\n",
       "      <th>total_vol</th>\n",
       "      <th>vol_per_sq_ft</th>\n",
       "      <th>total_customers</th>\n",
       "    </tr>\n",
       "  </thead>\n",
       "  <tbody>\n",
       "    <tr>\n",
       "      <th>0</th>\n",
       "      <td>SHOP047</td>\n",
       "      <td>528</td>\n",
       "      <td>Moderate</td>\n",
       "      <td>842960</td>\n",
       "      <td>1596.515152</td>\n",
       "      <td>928</td>\n",
       "    </tr>\n",
       "    <tr>\n",
       "      <th>1</th>\n",
       "      <td>SHOP009</td>\n",
       "      <td>676</td>\n",
       "      <td>High</td>\n",
       "      <td>1970870</td>\n",
       "      <td>2915.488166</td>\n",
       "      <td>2498</td>\n",
       "    </tr>\n",
       "    <tr>\n",
       "      <th>2</th>\n",
       "      <td>SHOP083</td>\n",
       "      <td>676</td>\n",
       "      <td>Low</td>\n",
       "      <td>1691985</td>\n",
       "      <td>2502.936391</td>\n",
       "      <td>1900</td>\n",
       "    </tr>\n",
       "    <tr>\n",
       "      <th>3</th>\n",
       "      <td>SHOP117</td>\n",
       "      <td>676</td>\n",
       "      <td>Low</td>\n",
       "      <td>2325980</td>\n",
       "      <td>3440.798817</td>\n",
       "      <td>2037</td>\n",
       "    </tr>\n",
       "    <tr>\n",
       "      <th>4</th>\n",
       "      <td>SHOP042</td>\n",
       "      <td>676</td>\n",
       "      <td>Low</td>\n",
       "      <td>1340215</td>\n",
       "      <td>1982.566568</td>\n",
       "      <td>1841</td>\n",
       "    </tr>\n",
       "    <tr>\n",
       "      <th>...</th>\n",
       "      <td>...</td>\n",
       "      <td>...</td>\n",
       "      <td>...</td>\n",
       "      <td>...</td>\n",
       "      <td>...</td>\n",
       "      <td>...</td>\n",
       "    </tr>\n",
       "    <tr>\n",
       "      <th>119</th>\n",
       "      <td>SHOP087</td>\n",
       "      <td>527</td>\n",
       "      <td>NaN</td>\n",
       "      <td>1128935</td>\n",
       "      <td>2142.191651</td>\n",
       "      <td>1083</td>\n",
       "    </tr>\n",
       "    <tr>\n",
       "      <th>120</th>\n",
       "      <td>SHOP050</td>\n",
       "      <td>411</td>\n",
       "      <td>NaN</td>\n",
       "      <td>2399125</td>\n",
       "      <td>5837.287105</td>\n",
       "      <td>1778</td>\n",
       "    </tr>\n",
       "    <tr>\n",
       "      <th>121</th>\n",
       "      <td>SHOP061</td>\n",
       "      <td>699</td>\n",
       "      <td>NaN</td>\n",
       "      <td>2110800</td>\n",
       "      <td>3019.742489</td>\n",
       "      <td>1746</td>\n",
       "    </tr>\n",
       "    <tr>\n",
       "      <th>122</th>\n",
       "      <td>SHOP056</td>\n",
       "      <td>597</td>\n",
       "      <td>NaN</td>\n",
       "      <td>3023805</td>\n",
       "      <td>5065.000000</td>\n",
       "      <td>2832</td>\n",
       "    </tr>\n",
       "    <tr>\n",
       "      <th>123</th>\n",
       "      <td>SHOP070</td>\n",
       "      <td>676</td>\n",
       "      <td>NaN</td>\n",
       "      <td>1325070</td>\n",
       "      <td>1960.162722</td>\n",
       "      <td>1423</td>\n",
       "    </tr>\n",
       "  </tbody>\n",
       "</table>\n",
       "<p>124 rows × 6 columns</p>\n",
       "</div>"
      ],
      "text/plain": [
       "     shop_id  shop_area_sq_ft shop_profile  total_vol  vol_per_sq_ft  \\\n",
       "0    SHOP047              528     Moderate     842960    1596.515152   \n",
       "1    SHOP009              676         High    1970870    2915.488166   \n",
       "2    SHOP083              676          Low    1691985    2502.936391   \n",
       "3    SHOP117              676          Low    2325980    3440.798817   \n",
       "4    SHOP042              676          Low    1340215    1982.566568   \n",
       "..       ...              ...          ...        ...            ...   \n",
       "119  SHOP087              527          NaN    1128935    2142.191651   \n",
       "120  SHOP050              411          NaN    2399125    5837.287105   \n",
       "121  SHOP061              699          NaN    2110800    3019.742489   \n",
       "122  SHOP056              597          NaN    3023805    5065.000000   \n",
       "123  SHOP070              676          NaN    1325070    1960.162722   \n",
       "\n",
       "     total_customers  \n",
       "0                928  \n",
       "1               2498  \n",
       "2               1900  \n",
       "3               2037  \n",
       "4               1841  \n",
       "..               ...  \n",
       "119             1083  \n",
       "120             1778  \n",
       "121             1746  \n",
       "122             2832  \n",
       "123             1423  \n",
       "\n",
       "[124 rows x 6 columns]"
      ]
     },
     "execution_count": 11,
     "metadata": {},
     "output_type": "execute_result"
    }
   ],
   "source": [
    "storedata"
   ]
  },
  {
   "cell_type": "markdown",
   "id": "75e1b0a6",
   "metadata": {
    "papermill": {
     "duration": 0.01585,
     "end_time": "2023-04-27T04:40:50.091594",
     "exception": false,
     "start_time": "2023-04-27T04:40:50.075744",
     "status": "completed"
    },
    "tags": []
   },
   "source": [
    "## Adding total_unique_items"
   ]
  },
  {
   "cell_type": "code",
   "execution_count": 12,
   "id": "03492425",
   "metadata": {
    "execution": {
     "iopub.execute_input": "2023-04-27T04:40:50.126651Z",
     "iopub.status.busy": "2023-04-27T04:40:50.125971Z",
     "iopub.status.idle": "2023-04-27T04:40:50.286551Z",
     "shell.execute_reply": "2023-04-27T04:40:50.285123Z"
    },
    "papermill": {
     "duration": 0.181106,
     "end_time": "2023-04-27T04:40:50.289343",
     "exception": false,
     "start_time": "2023-04-27T04:40:50.108237",
     "status": "completed"
    },
    "tags": []
   },
   "outputs": [],
   "source": [
    "# group the transactions dataframe by shop_id and count the number of unique item_descriptions\n",
    "unique_items = transactions.groupby('shop_id')['item_description'].nunique()\n",
    "\n",
    "# add a new column to the storedata dataframe with the counts of unique items\n",
    "storedata['total_unique_items'] = storedata['shop_id'].map(unique_items)"
   ]
  },
  {
   "cell_type": "markdown",
   "id": "23c36082",
   "metadata": {
    "papermill": {
     "duration": 0.015808,
     "end_time": "2023-04-27T04:40:50.321764",
     "exception": false,
     "start_time": "2023-04-27T04:40:50.305956",
     "status": "completed"
    },
    "tags": []
   },
   "source": [
    "## Adding single_day_max_vol"
   ]
  },
  {
   "cell_type": "code",
   "execution_count": 13,
   "id": "b9359a0c",
   "metadata": {
    "execution": {
     "iopub.execute_input": "2023-04-27T04:40:50.356832Z",
     "iopub.status.busy": "2023-04-27T04:40:50.355675Z",
     "iopub.status.idle": "2023-04-27T04:40:50.485538Z",
     "shell.execute_reply": "2023-04-27T04:40:50.484289Z"
    },
    "papermill": {
     "duration": 0.150699,
     "end_time": "2023-04-27T04:40:50.488621",
     "exception": false,
     "start_time": "2023-04-27T04:40:50.337922",
     "status": "completed"
    },
    "tags": []
   },
   "outputs": [],
   "source": [
    "transactions['single_day_max_vol'] = transactions['item_price'] * transactions['quantity_sold']\n",
    "total_volume_per_day = transactions.groupby(['shop_id', 'transaction_date'])['single_day_max_vol'].sum().reset_index()\n",
    "highest_volume_per_shop = total_volume_per_day.groupby('shop_id')['single_day_max_vol'].max().reset_index()\n",
    "\n",
    "storedata = pd.merge(storedata, highest_volume_per_shop, on='shop_id')"
   ]
  },
  {
   "cell_type": "markdown",
   "id": "eb258403",
   "metadata": {
    "papermill": {
     "duration": 0.015596,
     "end_time": "2023-04-27T04:40:50.520137",
     "exception": false,
     "start_time": "2023-04-27T04:40:50.504541",
     "status": "completed"
    },
    "tags": []
   },
   "source": [
    "## Adding single_day_min_vol"
   ]
  },
  {
   "cell_type": "code",
   "execution_count": 14,
   "id": "e25a18ee",
   "metadata": {
    "execution": {
     "iopub.execute_input": "2023-04-27T04:40:50.554423Z",
     "iopub.status.busy": "2023-04-27T04:40:50.553303Z",
     "iopub.status.idle": "2023-04-27T04:40:50.691442Z",
     "shell.execute_reply": "2023-04-27T04:40:50.690533Z"
    },
    "papermill": {
     "duration": 0.158131,
     "end_time": "2023-04-27T04:40:50.694152",
     "exception": false,
     "start_time": "2023-04-27T04:40:50.536021",
     "status": "completed"
    },
    "tags": []
   },
   "outputs": [],
   "source": [
    "transactions['single_day_min_vol'] = transactions['item_price'] * transactions['quantity_sold']\n",
    "total_volume_per_day = transactions.groupby(['shop_id', 'transaction_date'])['single_day_min_vol'].sum().reset_index()\n",
    "highest_volume_per_shop = total_volume_per_day.groupby('shop_id')['single_day_min_vol'].min().reset_index()\n",
    "\n",
    "storedata = pd.merge(storedata, highest_volume_per_shop, on='shop_id')"
   ]
  },
  {
   "cell_type": "code",
   "execution_count": 15,
   "id": "455f9b95",
   "metadata": {
    "execution": {
     "iopub.execute_input": "2023-04-27T04:40:50.729304Z",
     "iopub.status.busy": "2023-04-27T04:40:50.728294Z",
     "iopub.status.idle": "2023-04-27T04:40:50.747386Z",
     "shell.execute_reply": "2023-04-27T04:40:50.746062Z"
    },
    "papermill": {
     "duration": 0.039181,
     "end_time": "2023-04-27T04:40:50.749862",
     "exception": false,
     "start_time": "2023-04-27T04:40:50.710681",
     "status": "completed"
    },
    "tags": []
   },
   "outputs": [
    {
     "data": {
      "text/html": [
       "<div>\n",
       "<style scoped>\n",
       "    .dataframe tbody tr th:only-of-type {\n",
       "        vertical-align: middle;\n",
       "    }\n",
       "\n",
       "    .dataframe tbody tr th {\n",
       "        vertical-align: top;\n",
       "    }\n",
       "\n",
       "    .dataframe thead th {\n",
       "        text-align: right;\n",
       "    }\n",
       "</style>\n",
       "<table border=\"1\" class=\"dataframe\">\n",
       "  <thead>\n",
       "    <tr style=\"text-align: right;\">\n",
       "      <th></th>\n",
       "      <th>shop_id</th>\n",
       "      <th>shop_area_sq_ft</th>\n",
       "      <th>shop_profile</th>\n",
       "      <th>total_vol</th>\n",
       "      <th>vol_per_sq_ft</th>\n",
       "      <th>total_customers</th>\n",
       "      <th>total_unique_items</th>\n",
       "      <th>single_day_max_vol</th>\n",
       "      <th>single_day_min_vol</th>\n",
       "    </tr>\n",
       "  </thead>\n",
       "  <tbody>\n",
       "    <tr>\n",
       "      <th>0</th>\n",
       "      <td>SHOP047</td>\n",
       "      <td>528</td>\n",
       "      <td>Moderate</td>\n",
       "      <td>842960</td>\n",
       "      <td>1596.515152</td>\n",
       "      <td>928</td>\n",
       "      <td>35</td>\n",
       "      <td>71305</td>\n",
       "      <td>2020</td>\n",
       "    </tr>\n",
       "    <tr>\n",
       "      <th>1</th>\n",
       "      <td>SHOP009</td>\n",
       "      <td>676</td>\n",
       "      <td>High</td>\n",
       "      <td>1970870</td>\n",
       "      <td>2915.488166</td>\n",
       "      <td>2498</td>\n",
       "      <td>35</td>\n",
       "      <td>85750</td>\n",
       "      <td>9230</td>\n",
       "    </tr>\n",
       "    <tr>\n",
       "      <th>2</th>\n",
       "      <td>SHOP083</td>\n",
       "      <td>676</td>\n",
       "      <td>Low</td>\n",
       "      <td>1691985</td>\n",
       "      <td>2502.936391</td>\n",
       "      <td>1900</td>\n",
       "      <td>36</td>\n",
       "      <td>70610</td>\n",
       "      <td>8225</td>\n",
       "    </tr>\n",
       "    <tr>\n",
       "      <th>3</th>\n",
       "      <td>SHOP117</td>\n",
       "      <td>676</td>\n",
       "      <td>Low</td>\n",
       "      <td>2325980</td>\n",
       "      <td>3440.798817</td>\n",
       "      <td>2037</td>\n",
       "      <td>35</td>\n",
       "      <td>82170</td>\n",
       "      <td>6390</td>\n",
       "    </tr>\n",
       "    <tr>\n",
       "      <th>4</th>\n",
       "      <td>SHOP042</td>\n",
       "      <td>676</td>\n",
       "      <td>Low</td>\n",
       "      <td>1340215</td>\n",
       "      <td>1982.566568</td>\n",
       "      <td>1841</td>\n",
       "      <td>35</td>\n",
       "      <td>69185</td>\n",
       "      <td>5265</td>\n",
       "    </tr>\n",
       "    <tr>\n",
       "      <th>...</th>\n",
       "      <td>...</td>\n",
       "      <td>...</td>\n",
       "      <td>...</td>\n",
       "      <td>...</td>\n",
       "      <td>...</td>\n",
       "      <td>...</td>\n",
       "      <td>...</td>\n",
       "      <td>...</td>\n",
       "      <td>...</td>\n",
       "    </tr>\n",
       "    <tr>\n",
       "      <th>119</th>\n",
       "      <td>SHOP087</td>\n",
       "      <td>527</td>\n",
       "      <td>NaN</td>\n",
       "      <td>1128935</td>\n",
       "      <td>2142.191651</td>\n",
       "      <td>1083</td>\n",
       "      <td>35</td>\n",
       "      <td>119750</td>\n",
       "      <td>2160</td>\n",
       "    </tr>\n",
       "    <tr>\n",
       "      <th>120</th>\n",
       "      <td>SHOP050</td>\n",
       "      <td>411</td>\n",
       "      <td>NaN</td>\n",
       "      <td>2399125</td>\n",
       "      <td>5837.287105</td>\n",
       "      <td>1778</td>\n",
       "      <td>31</td>\n",
       "      <td>157410</td>\n",
       "      <td>8015</td>\n",
       "    </tr>\n",
       "    <tr>\n",
       "      <th>121</th>\n",
       "      <td>SHOP061</td>\n",
       "      <td>699</td>\n",
       "      <td>NaN</td>\n",
       "      <td>2110800</td>\n",
       "      <td>3019.742489</td>\n",
       "      <td>1746</td>\n",
       "      <td>35</td>\n",
       "      <td>475215</td>\n",
       "      <td>6495</td>\n",
       "    </tr>\n",
       "    <tr>\n",
       "      <th>122</th>\n",
       "      <td>SHOP056</td>\n",
       "      <td>597</td>\n",
       "      <td>NaN</td>\n",
       "      <td>3023805</td>\n",
       "      <td>5065.000000</td>\n",
       "      <td>2832</td>\n",
       "      <td>35</td>\n",
       "      <td>162465</td>\n",
       "      <td>16780</td>\n",
       "    </tr>\n",
       "    <tr>\n",
       "      <th>123</th>\n",
       "      <td>SHOP070</td>\n",
       "      <td>676</td>\n",
       "      <td>NaN</td>\n",
       "      <td>1325070</td>\n",
       "      <td>1960.162722</td>\n",
       "      <td>1423</td>\n",
       "      <td>36</td>\n",
       "      <td>84500</td>\n",
       "      <td>5495</td>\n",
       "    </tr>\n",
       "  </tbody>\n",
       "</table>\n",
       "<p>124 rows × 9 columns</p>\n",
       "</div>"
      ],
      "text/plain": [
       "     shop_id  shop_area_sq_ft shop_profile  total_vol  vol_per_sq_ft  \\\n",
       "0    SHOP047              528     Moderate     842960    1596.515152   \n",
       "1    SHOP009              676         High    1970870    2915.488166   \n",
       "2    SHOP083              676          Low    1691985    2502.936391   \n",
       "3    SHOP117              676          Low    2325980    3440.798817   \n",
       "4    SHOP042              676          Low    1340215    1982.566568   \n",
       "..       ...              ...          ...        ...            ...   \n",
       "119  SHOP087              527          NaN    1128935    2142.191651   \n",
       "120  SHOP050              411          NaN    2399125    5837.287105   \n",
       "121  SHOP061              699          NaN    2110800    3019.742489   \n",
       "122  SHOP056              597          NaN    3023805    5065.000000   \n",
       "123  SHOP070              676          NaN    1325070    1960.162722   \n",
       "\n",
       "     total_customers  total_unique_items  single_day_max_vol  \\\n",
       "0                928                  35               71305   \n",
       "1               2498                  35               85750   \n",
       "2               1900                  36               70610   \n",
       "3               2037                  35               82170   \n",
       "4               1841                  35               69185   \n",
       "..               ...                 ...                 ...   \n",
       "119             1083                  35              119750   \n",
       "120             1778                  31              157410   \n",
       "121             1746                  35              475215   \n",
       "122             2832                  35              162465   \n",
       "123             1423                  36               84500   \n",
       "\n",
       "     single_day_min_vol  \n",
       "0                  2020  \n",
       "1                  9230  \n",
       "2                  8225  \n",
       "3                  6390  \n",
       "4                  5265  \n",
       "..                  ...  \n",
       "119                2160  \n",
       "120                8015  \n",
       "121                6495  \n",
       "122               16780  \n",
       "123                5495  \n",
       "\n",
       "[124 rows x 9 columns]"
      ]
     },
     "execution_count": 15,
     "metadata": {},
     "output_type": "execute_result"
    }
   ],
   "source": [
    "storedata"
   ]
  },
  {
   "cell_type": "markdown",
   "id": "d287da93",
   "metadata": {
    "papermill": {
     "duration": 0.015933,
     "end_time": "2023-04-27T04:40:50.782023",
     "exception": false,
     "start_time": "2023-04-27T04:40:50.766090",
     "status": "completed"
    },
    "tags": []
   },
   "source": [
    "## Adding n_transactions"
   ]
  },
  {
   "cell_type": "code",
   "execution_count": 16,
   "id": "e02906dc",
   "metadata": {
    "execution": {
     "iopub.execute_input": "2023-04-27T04:40:50.816756Z",
     "iopub.status.busy": "2023-04-27T04:40:50.815952Z",
     "iopub.status.idle": "2023-04-27T04:40:50.948676Z",
     "shell.execute_reply": "2023-04-27T04:40:50.947223Z"
    },
    "papermill": {
     "duration": 0.153699,
     "end_time": "2023-04-27T04:40:50.951945",
     "exception": false,
     "start_time": "2023-04-27T04:40:50.798246",
     "status": "completed"
    },
    "tags": []
   },
   "outputs": [],
   "source": [
    "# group transactions by shop_id and count the number of unique invoice_ids\n",
    "transaction_counts = transactions.groupby('shop_id')['invoice_id'].nunique()\n",
    "\n",
    "# add a new column to storedata with the transaction counts for each shop\n",
    "storedata['n_transactions'] = storedata['shop_id'].map(transaction_counts)"
   ]
  },
  {
   "cell_type": "code",
   "execution_count": 17,
   "id": "629e580d",
   "metadata": {
    "execution": {
     "iopub.execute_input": "2023-04-27T04:40:50.987980Z",
     "iopub.status.busy": "2023-04-27T04:40:50.986781Z",
     "iopub.status.idle": "2023-04-27T04:40:51.006572Z",
     "shell.execute_reply": "2023-04-27T04:40:51.005333Z"
    },
    "papermill": {
     "duration": 0.040375,
     "end_time": "2023-04-27T04:40:51.009424",
     "exception": false,
     "start_time": "2023-04-27T04:40:50.969049",
     "status": "completed"
    },
    "tags": []
   },
   "outputs": [
    {
     "data": {
      "text/html": [
       "<div>\n",
       "<style scoped>\n",
       "    .dataframe tbody tr th:only-of-type {\n",
       "        vertical-align: middle;\n",
       "    }\n",
       "\n",
       "    .dataframe tbody tr th {\n",
       "        vertical-align: top;\n",
       "    }\n",
       "\n",
       "    .dataframe thead th {\n",
       "        text-align: right;\n",
       "    }\n",
       "</style>\n",
       "<table border=\"1\" class=\"dataframe\">\n",
       "  <thead>\n",
       "    <tr style=\"text-align: right;\">\n",
       "      <th></th>\n",
       "      <th>shop_id</th>\n",
       "      <th>shop_area_sq_ft</th>\n",
       "      <th>shop_profile</th>\n",
       "      <th>total_vol</th>\n",
       "      <th>vol_per_sq_ft</th>\n",
       "      <th>total_customers</th>\n",
       "      <th>total_unique_items</th>\n",
       "      <th>single_day_max_vol</th>\n",
       "      <th>single_day_min_vol</th>\n",
       "      <th>n_transactions</th>\n",
       "    </tr>\n",
       "  </thead>\n",
       "  <tbody>\n",
       "    <tr>\n",
       "      <th>0</th>\n",
       "      <td>SHOP047</td>\n",
       "      <td>528</td>\n",
       "      <td>Moderate</td>\n",
       "      <td>842960</td>\n",
       "      <td>1596.515152</td>\n",
       "      <td>928</td>\n",
       "      <td>35</td>\n",
       "      <td>71305</td>\n",
       "      <td>2020</td>\n",
       "      <td>1302</td>\n",
       "    </tr>\n",
       "    <tr>\n",
       "      <th>1</th>\n",
       "      <td>SHOP009</td>\n",
       "      <td>676</td>\n",
       "      <td>High</td>\n",
       "      <td>1970870</td>\n",
       "      <td>2915.488166</td>\n",
       "      <td>2498</td>\n",
       "      <td>35</td>\n",
       "      <td>85750</td>\n",
       "      <td>9230</td>\n",
       "      <td>3493</td>\n",
       "    </tr>\n",
       "    <tr>\n",
       "      <th>2</th>\n",
       "      <td>SHOP083</td>\n",
       "      <td>676</td>\n",
       "      <td>Low</td>\n",
       "      <td>1691985</td>\n",
       "      <td>2502.936391</td>\n",
       "      <td>1900</td>\n",
       "      <td>36</td>\n",
       "      <td>70610</td>\n",
       "      <td>8225</td>\n",
       "      <td>2718</td>\n",
       "    </tr>\n",
       "    <tr>\n",
       "      <th>3</th>\n",
       "      <td>SHOP117</td>\n",
       "      <td>676</td>\n",
       "      <td>Low</td>\n",
       "      <td>2325980</td>\n",
       "      <td>3440.798817</td>\n",
       "      <td>2037</td>\n",
       "      <td>35</td>\n",
       "      <td>82170</td>\n",
       "      <td>6390</td>\n",
       "      <td>3158</td>\n",
       "    </tr>\n",
       "    <tr>\n",
       "      <th>4</th>\n",
       "      <td>SHOP042</td>\n",
       "      <td>676</td>\n",
       "      <td>Low</td>\n",
       "      <td>1340215</td>\n",
       "      <td>1982.566568</td>\n",
       "      <td>1841</td>\n",
       "      <td>35</td>\n",
       "      <td>69185</td>\n",
       "      <td>5265</td>\n",
       "      <td>2495</td>\n",
       "    </tr>\n",
       "    <tr>\n",
       "      <th>...</th>\n",
       "      <td>...</td>\n",
       "      <td>...</td>\n",
       "      <td>...</td>\n",
       "      <td>...</td>\n",
       "      <td>...</td>\n",
       "      <td>...</td>\n",
       "      <td>...</td>\n",
       "      <td>...</td>\n",
       "      <td>...</td>\n",
       "      <td>...</td>\n",
       "    </tr>\n",
       "    <tr>\n",
       "      <th>119</th>\n",
       "      <td>SHOP087</td>\n",
       "      <td>527</td>\n",
       "      <td>NaN</td>\n",
       "      <td>1128935</td>\n",
       "      <td>2142.191651</td>\n",
       "      <td>1083</td>\n",
       "      <td>35</td>\n",
       "      <td>119750</td>\n",
       "      <td>2160</td>\n",
       "      <td>1504</td>\n",
       "    </tr>\n",
       "    <tr>\n",
       "      <th>120</th>\n",
       "      <td>SHOP050</td>\n",
       "      <td>411</td>\n",
       "      <td>NaN</td>\n",
       "      <td>2399125</td>\n",
       "      <td>5837.287105</td>\n",
       "      <td>1778</td>\n",
       "      <td>31</td>\n",
       "      <td>157410</td>\n",
       "      <td>8015</td>\n",
       "      <td>3159</td>\n",
       "    </tr>\n",
       "    <tr>\n",
       "      <th>121</th>\n",
       "      <td>SHOP061</td>\n",
       "      <td>699</td>\n",
       "      <td>NaN</td>\n",
       "      <td>2110800</td>\n",
       "      <td>3019.742489</td>\n",
       "      <td>1746</td>\n",
       "      <td>35</td>\n",
       "      <td>475215</td>\n",
       "      <td>6495</td>\n",
       "      <td>2345</td>\n",
       "    </tr>\n",
       "    <tr>\n",
       "      <th>122</th>\n",
       "      <td>SHOP056</td>\n",
       "      <td>597</td>\n",
       "      <td>NaN</td>\n",
       "      <td>3023805</td>\n",
       "      <td>5065.000000</td>\n",
       "      <td>2832</td>\n",
       "      <td>35</td>\n",
       "      <td>162465</td>\n",
       "      <td>16780</td>\n",
       "      <td>4320</td>\n",
       "    </tr>\n",
       "    <tr>\n",
       "      <th>123</th>\n",
       "      <td>SHOP070</td>\n",
       "      <td>676</td>\n",
       "      <td>NaN</td>\n",
       "      <td>1325070</td>\n",
       "      <td>1960.162722</td>\n",
       "      <td>1423</td>\n",
       "      <td>36</td>\n",
       "      <td>84500</td>\n",
       "      <td>5495</td>\n",
       "      <td>2122</td>\n",
       "    </tr>\n",
       "  </tbody>\n",
       "</table>\n",
       "<p>124 rows × 10 columns</p>\n",
       "</div>"
      ],
      "text/plain": [
       "     shop_id  shop_area_sq_ft shop_profile  total_vol  vol_per_sq_ft  \\\n",
       "0    SHOP047              528     Moderate     842960    1596.515152   \n",
       "1    SHOP009              676         High    1970870    2915.488166   \n",
       "2    SHOP083              676          Low    1691985    2502.936391   \n",
       "3    SHOP117              676          Low    2325980    3440.798817   \n",
       "4    SHOP042              676          Low    1340215    1982.566568   \n",
       "..       ...              ...          ...        ...            ...   \n",
       "119  SHOP087              527          NaN    1128935    2142.191651   \n",
       "120  SHOP050              411          NaN    2399125    5837.287105   \n",
       "121  SHOP061              699          NaN    2110800    3019.742489   \n",
       "122  SHOP056              597          NaN    3023805    5065.000000   \n",
       "123  SHOP070              676          NaN    1325070    1960.162722   \n",
       "\n",
       "     total_customers  total_unique_items  single_day_max_vol  \\\n",
       "0                928                  35               71305   \n",
       "1               2498                  35               85750   \n",
       "2               1900                  36               70610   \n",
       "3               2037                  35               82170   \n",
       "4               1841                  35               69185   \n",
       "..               ...                 ...                 ...   \n",
       "119             1083                  35              119750   \n",
       "120             1778                  31              157410   \n",
       "121             1746                  35              475215   \n",
       "122             2832                  35              162465   \n",
       "123             1423                  36               84500   \n",
       "\n",
       "     single_day_min_vol  n_transactions  \n",
       "0                  2020            1302  \n",
       "1                  9230            3493  \n",
       "2                  8225            2718  \n",
       "3                  6390            3158  \n",
       "4                  5265            2495  \n",
       "..                  ...             ...  \n",
       "119                2160            1504  \n",
       "120                8015            3159  \n",
       "121                6495            2345  \n",
       "122               16780            4320  \n",
       "123                5495            2122  \n",
       "\n",
       "[124 rows x 10 columns]"
      ]
     },
     "execution_count": 17,
     "metadata": {},
     "output_type": "execute_result"
    }
   ],
   "source": [
    "storedata"
   ]
  },
  {
   "cell_type": "markdown",
   "id": "2dea3f67",
   "metadata": {
    "papermill": {
     "duration": 0.017415,
     "end_time": "2023-04-27T04:40:51.043798",
     "exception": false,
     "start_time": "2023-04-27T04:40:51.026383",
     "status": "completed"
    },
    "tags": []
   },
   "source": [
    "## Adding customer_id_repeating, customer_id_unique and customer_id_single"
   ]
  },
  {
   "cell_type": "code",
   "execution_count": 18,
   "id": "06763ab5",
   "metadata": {
    "execution": {
     "iopub.execute_input": "2023-04-27T04:40:51.082048Z",
     "iopub.status.busy": "2023-04-27T04:40:51.081201Z",
     "iopub.status.idle": "2023-04-27T04:40:52.171559Z",
     "shell.execute_reply": "2023-04-27T04:40:52.170159Z"
    },
    "papermill": {
     "duration": 1.113252,
     "end_time": "2023-04-27T04:40:52.174787",
     "exception": false,
     "start_time": "2023-04-27T04:40:51.061535",
     "status": "completed"
    },
    "tags": []
   },
   "outputs": [],
   "source": [
    "# Get a dataframe with the number of unique customers who visited each shop\n",
    "unique_visits = transactions.groupby(['shop_id'])['customer_id'].nunique()\n",
    "\n",
    "# Get a dataframe with the number of customers who visited each shop more than once\n",
    "repeat_customers = transactions.groupby(['shop_id', 'customer_id']).size().reset_index(name='counts')\n",
    "repeat_customers = repeat_customers[repeat_customers['counts'] > 1].groupby('shop_id')['customer_id'].nunique()\n",
    "\n",
    "# Get a dataframe with the number of customers who visited each shop only once\n",
    "single_visits = transactions.groupby(['shop_id'])['customer_id'].nunique() - repeat_customers\n",
    "single_visits = single_visits.reset_index()\n",
    "single_visits = single_visits.rename(columns={'customer_id': 'customer_id_single'})\n",
    "\n",
    "# Merge the three dataframes on shop_id and add new columns to storedata\n",
    "storedata = storedata.merge(unique_visits, on='shop_id')\n",
    "storedata = storedata.merge(repeat_customers, on='shop_id',suffixes=('_unique', '_repeating'))\n",
    "storedata = storedata.merge(single_visits, on='shop_id')\n",
    "\n"
   ]
  },
  {
   "cell_type": "code",
   "execution_count": 19,
   "id": "48fc5a94",
   "metadata": {
    "execution": {
     "iopub.execute_input": "2023-04-27T04:40:52.211466Z",
     "iopub.status.busy": "2023-04-27T04:40:52.210642Z",
     "iopub.status.idle": "2023-04-27T04:40:52.232021Z",
     "shell.execute_reply": "2023-04-27T04:40:52.230764Z"
    },
    "papermill": {
     "duration": 0.043038,
     "end_time": "2023-04-27T04:40:52.234892",
     "exception": false,
     "start_time": "2023-04-27T04:40:52.191854",
     "status": "completed"
    },
    "tags": []
   },
   "outputs": [
    {
     "data": {
      "text/html": [
       "<div>\n",
       "<style scoped>\n",
       "    .dataframe tbody tr th:only-of-type {\n",
       "        vertical-align: middle;\n",
       "    }\n",
       "\n",
       "    .dataframe tbody tr th {\n",
       "        vertical-align: top;\n",
       "    }\n",
       "\n",
       "    .dataframe thead th {\n",
       "        text-align: right;\n",
       "    }\n",
       "</style>\n",
       "<table border=\"1\" class=\"dataframe\">\n",
       "  <thead>\n",
       "    <tr style=\"text-align: right;\">\n",
       "      <th></th>\n",
       "      <th>shop_id</th>\n",
       "      <th>shop_area_sq_ft</th>\n",
       "      <th>shop_profile</th>\n",
       "      <th>total_vol</th>\n",
       "      <th>vol_per_sq_ft</th>\n",
       "      <th>total_customers</th>\n",
       "      <th>total_unique_items</th>\n",
       "      <th>single_day_max_vol</th>\n",
       "      <th>single_day_min_vol</th>\n",
       "      <th>n_transactions</th>\n",
       "      <th>customer_id_unique</th>\n",
       "      <th>customer_id_repeating</th>\n",
       "      <th>customer_id_single</th>\n",
       "    </tr>\n",
       "  </thead>\n",
       "  <tbody>\n",
       "    <tr>\n",
       "      <th>0</th>\n",
       "      <td>SHOP047</td>\n",
       "      <td>528</td>\n",
       "      <td>Moderate</td>\n",
       "      <td>842960</td>\n",
       "      <td>1596.515152</td>\n",
       "      <td>928</td>\n",
       "      <td>35</td>\n",
       "      <td>71305</td>\n",
       "      <td>2020</td>\n",
       "      <td>1302</td>\n",
       "      <td>928</td>\n",
       "      <td>319</td>\n",
       "      <td>609</td>\n",
       "    </tr>\n",
       "    <tr>\n",
       "      <th>1</th>\n",
       "      <td>SHOP009</td>\n",
       "      <td>676</td>\n",
       "      <td>High</td>\n",
       "      <td>1970870</td>\n",
       "      <td>2915.488166</td>\n",
       "      <td>2498</td>\n",
       "      <td>35</td>\n",
       "      <td>85750</td>\n",
       "      <td>9230</td>\n",
       "      <td>3493</td>\n",
       "      <td>2498</td>\n",
       "      <td>902</td>\n",
       "      <td>1596</td>\n",
       "    </tr>\n",
       "    <tr>\n",
       "      <th>2</th>\n",
       "      <td>SHOP083</td>\n",
       "      <td>676</td>\n",
       "      <td>Low</td>\n",
       "      <td>1691985</td>\n",
       "      <td>2502.936391</td>\n",
       "      <td>1900</td>\n",
       "      <td>36</td>\n",
       "      <td>70610</td>\n",
       "      <td>8225</td>\n",
       "      <td>2718</td>\n",
       "      <td>1900</td>\n",
       "      <td>700</td>\n",
       "      <td>1200</td>\n",
       "    </tr>\n",
       "    <tr>\n",
       "      <th>3</th>\n",
       "      <td>SHOP117</td>\n",
       "      <td>676</td>\n",
       "      <td>Low</td>\n",
       "      <td>2325980</td>\n",
       "      <td>3440.798817</td>\n",
       "      <td>2037</td>\n",
       "      <td>35</td>\n",
       "      <td>82170</td>\n",
       "      <td>6390</td>\n",
       "      <td>3158</td>\n",
       "      <td>2037</td>\n",
       "      <td>841</td>\n",
       "      <td>1196</td>\n",
       "    </tr>\n",
       "    <tr>\n",
       "      <th>4</th>\n",
       "      <td>SHOP042</td>\n",
       "      <td>676</td>\n",
       "      <td>Low</td>\n",
       "      <td>1340215</td>\n",
       "      <td>1982.566568</td>\n",
       "      <td>1841</td>\n",
       "      <td>35</td>\n",
       "      <td>69185</td>\n",
       "      <td>5265</td>\n",
       "      <td>2495</td>\n",
       "      <td>1841</td>\n",
       "      <td>594</td>\n",
       "      <td>1247</td>\n",
       "    </tr>\n",
       "    <tr>\n",
       "      <th>...</th>\n",
       "      <td>...</td>\n",
       "      <td>...</td>\n",
       "      <td>...</td>\n",
       "      <td>...</td>\n",
       "      <td>...</td>\n",
       "      <td>...</td>\n",
       "      <td>...</td>\n",
       "      <td>...</td>\n",
       "      <td>...</td>\n",
       "      <td>...</td>\n",
       "      <td>...</td>\n",
       "      <td>...</td>\n",
       "      <td>...</td>\n",
       "    </tr>\n",
       "    <tr>\n",
       "      <th>119</th>\n",
       "      <td>SHOP087</td>\n",
       "      <td>527</td>\n",
       "      <td>NaN</td>\n",
       "      <td>1128935</td>\n",
       "      <td>2142.191651</td>\n",
       "      <td>1083</td>\n",
       "      <td>35</td>\n",
       "      <td>119750</td>\n",
       "      <td>2160</td>\n",
       "      <td>1504</td>\n",
       "      <td>1083</td>\n",
       "      <td>405</td>\n",
       "      <td>678</td>\n",
       "    </tr>\n",
       "    <tr>\n",
       "      <th>120</th>\n",
       "      <td>SHOP050</td>\n",
       "      <td>411</td>\n",
       "      <td>NaN</td>\n",
       "      <td>2399125</td>\n",
       "      <td>5837.287105</td>\n",
       "      <td>1778</td>\n",
       "      <td>31</td>\n",
       "      <td>157410</td>\n",
       "      <td>8015</td>\n",
       "      <td>3159</td>\n",
       "      <td>1778</td>\n",
       "      <td>822</td>\n",
       "      <td>956</td>\n",
       "    </tr>\n",
       "    <tr>\n",
       "      <th>121</th>\n",
       "      <td>SHOP061</td>\n",
       "      <td>699</td>\n",
       "      <td>NaN</td>\n",
       "      <td>2110800</td>\n",
       "      <td>3019.742489</td>\n",
       "      <td>1746</td>\n",
       "      <td>35</td>\n",
       "      <td>475215</td>\n",
       "      <td>6495</td>\n",
       "      <td>2345</td>\n",
       "      <td>1746</td>\n",
       "      <td>641</td>\n",
       "      <td>1105</td>\n",
       "    </tr>\n",
       "    <tr>\n",
       "      <th>122</th>\n",
       "      <td>SHOP056</td>\n",
       "      <td>597</td>\n",
       "      <td>NaN</td>\n",
       "      <td>3023805</td>\n",
       "      <td>5065.000000</td>\n",
       "      <td>2832</td>\n",
       "      <td>35</td>\n",
       "      <td>162465</td>\n",
       "      <td>16780</td>\n",
       "      <td>4320</td>\n",
       "      <td>2832</td>\n",
       "      <td>1125</td>\n",
       "      <td>1707</td>\n",
       "    </tr>\n",
       "    <tr>\n",
       "      <th>123</th>\n",
       "      <td>SHOP070</td>\n",
       "      <td>676</td>\n",
       "      <td>NaN</td>\n",
       "      <td>1325070</td>\n",
       "      <td>1960.162722</td>\n",
       "      <td>1423</td>\n",
       "      <td>36</td>\n",
       "      <td>84500</td>\n",
       "      <td>5495</td>\n",
       "      <td>2122</td>\n",
       "      <td>1423</td>\n",
       "      <td>563</td>\n",
       "      <td>860</td>\n",
       "    </tr>\n",
       "  </tbody>\n",
       "</table>\n",
       "<p>124 rows × 13 columns</p>\n",
       "</div>"
      ],
      "text/plain": [
       "     shop_id  shop_area_sq_ft shop_profile  total_vol  vol_per_sq_ft  \\\n",
       "0    SHOP047              528     Moderate     842960    1596.515152   \n",
       "1    SHOP009              676         High    1970870    2915.488166   \n",
       "2    SHOP083              676          Low    1691985    2502.936391   \n",
       "3    SHOP117              676          Low    2325980    3440.798817   \n",
       "4    SHOP042              676          Low    1340215    1982.566568   \n",
       "..       ...              ...          ...        ...            ...   \n",
       "119  SHOP087              527          NaN    1128935    2142.191651   \n",
       "120  SHOP050              411          NaN    2399125    5837.287105   \n",
       "121  SHOP061              699          NaN    2110800    3019.742489   \n",
       "122  SHOP056              597          NaN    3023805    5065.000000   \n",
       "123  SHOP070              676          NaN    1325070    1960.162722   \n",
       "\n",
       "     total_customers  total_unique_items  single_day_max_vol  \\\n",
       "0                928                  35               71305   \n",
       "1               2498                  35               85750   \n",
       "2               1900                  36               70610   \n",
       "3               2037                  35               82170   \n",
       "4               1841                  35               69185   \n",
       "..               ...                 ...                 ...   \n",
       "119             1083                  35              119750   \n",
       "120             1778                  31              157410   \n",
       "121             1746                  35              475215   \n",
       "122             2832                  35              162465   \n",
       "123             1423                  36               84500   \n",
       "\n",
       "     single_day_min_vol  n_transactions  customer_id_unique  \\\n",
       "0                  2020            1302                 928   \n",
       "1                  9230            3493                2498   \n",
       "2                  8225            2718                1900   \n",
       "3                  6390            3158                2037   \n",
       "4                  5265            2495                1841   \n",
       "..                  ...             ...                 ...   \n",
       "119                2160            1504                1083   \n",
       "120                8015            3159                1778   \n",
       "121                6495            2345                1746   \n",
       "122               16780            4320                2832   \n",
       "123                5495            2122                1423   \n",
       "\n",
       "     customer_id_repeating  customer_id_single  \n",
       "0                      319                 609  \n",
       "1                      902                1596  \n",
       "2                      700                1200  \n",
       "3                      841                1196  \n",
       "4                      594                1247  \n",
       "..                     ...                 ...  \n",
       "119                    405                 678  \n",
       "120                    822                 956  \n",
       "121                    641                1105  \n",
       "122                   1125                1707  \n",
       "123                    563                 860  \n",
       "\n",
       "[124 rows x 13 columns]"
      ]
     },
     "execution_count": 19,
     "metadata": {},
     "output_type": "execute_result"
    }
   ],
   "source": [
    "storedata"
   ]
  },
  {
   "cell_type": "markdown",
   "id": "1769d78e",
   "metadata": {
    "papermill": {
     "duration": 0.016983,
     "end_time": "2023-04-27T04:40:52.269491",
     "exception": false,
     "start_time": "2023-04-27T04:40:52.252508",
     "status": "completed"
    },
    "tags": []
   },
   "source": [
    "## Checking Correlation"
   ]
  },
  {
   "cell_type": "code",
   "execution_count": 20,
   "id": "04281459",
   "metadata": {
    "execution": {
     "iopub.execute_input": "2023-04-27T04:40:52.306877Z",
     "iopub.status.busy": "2023-04-27T04:40:52.306048Z",
     "iopub.status.idle": "2023-04-27T04:40:53.379587Z",
     "shell.execute_reply": "2023-04-27T04:40:53.378672Z"
    },
    "papermill": {
     "duration": 1.096079,
     "end_time": "2023-04-27T04:40:53.383269",
     "exception": false,
     "start_time": "2023-04-27T04:40:52.287190",
     "status": "completed"
    },
    "tags": []
   },
   "outputs": [
    {
     "data": {
      "text/plain": [
       "<AxesSubplot:>"
      ]
     },
     "execution_count": 20,
     "metadata": {},
     "output_type": "execute_result"
    },
    {
     "data": {
      "image/png": "[encoded data removed]",
      "text/plain": [
       "<Figure size 640x480 with 2 Axes>"
      ]
     },
     "metadata": {},
     "output_type": "display_data"
    }
   ],
   "source": [
    "# create a correlation matrix\n",
    "corr_matrix = storedata.corr()\n",
    "\n",
    "# create a heatmap of the correlation matrix\n",
    "sns.heatmap(corr_matrix, cmap=\"coolwarm\", annot=True)"
   ]
  },
  {
   "cell_type": "code",
   "execution_count": 21,
   "id": "bbc014b4",
   "metadata": {
    "execution": {
     "iopub.execute_input": "2023-04-27T04:40:53.424545Z",
     "iopub.status.busy": "2023-04-27T04:40:53.423284Z",
     "iopub.status.idle": "2023-04-27T04:40:53.431279Z",
     "shell.execute_reply": "2023-04-27T04:40:53.430020Z"
    },
    "papermill": {
     "duration": 0.031005,
     "end_time": "2023-04-27T04:40:53.433764",
     "exception": false,
     "start_time": "2023-04-27T04:40:53.402759",
     "status": "completed"
    },
    "tags": []
   },
   "outputs": [
    {
     "data": {
      "text/plain": [
       "Index(['shop_id', 'shop_area_sq_ft', 'shop_profile', 'total_vol',\n",
       "       'vol_per_sq_ft', 'total_customers', 'total_unique_items',\n",
       "       'single_day_max_vol', 'single_day_min_vol', 'n_transactions',\n",
       "       'customer_id_unique', 'customer_id_repeating', 'customer_id_single'],\n",
       "      dtype='object')"
      ]
     },
     "execution_count": 21,
     "metadata": {},
     "output_type": "execute_result"
    }
   ],
   "source": [
    "storedata.columns"
   ]
  },
  {
   "cell_type": "markdown",
   "id": "3feb3dce",
   "metadata": {
    "papermill": {
     "duration": 0.018944,
     "end_time": "2023-04-27T04:40:53.472246",
     "exception": false,
     "start_time": "2023-04-27T04:40:53.453302",
     "status": "completed"
    },
    "tags": []
   },
   "source": [
    "## Selected Features\n"
   ]
  },
  {
   "cell_type": "code",
   "execution_count": 22,
   "id": "c0a9fbd1",
   "metadata": {
    "execution": {
     "iopub.execute_input": "2023-04-27T04:40:53.513376Z",
     "iopub.status.busy": "2023-04-27T04:40:53.512702Z",
     "iopub.status.idle": "2023-04-27T04:40:53.521923Z",
     "shell.execute_reply": "2023-04-27T04:40:53.521027Z"
    },
    "papermill": {
     "duration": 0.032419,
     "end_time": "2023-04-27T04:40:53.524372",
     "exception": false,
     "start_time": "2023-04-27T04:40:53.491953",
     "status": "completed"
    },
    "tags": []
   },
   "outputs": [],
   "source": [
    "all = ['shop_area_sq_ft', 'total_vol',\n",
    "       'vol_per_sq_ft', 'total_customers', 'total_unique_items',\n",
    "       'single_day_max_vol', 'single_day_min_vol', 'n_transactions',\n",
    "       'customer_id_unique', 'customer_id_repeating', 'customer_id_single']\n",
    "\n",
    "keep_all =  []\n",
    "\n",
    "Two_best_MI = ['shop_area_sq_ft', 'total_vol',\n",
    "       'vol_per_sq_ft', 'total_customers', 'total_unique_items',\n",
    "       'single_day_max_vol', 'n_transactions',\n",
    "       'customer_id_unique', 'customer_id_repeating']\n",
    "\n",
    "Two_best_MI_and_area = ['total_vol',\n",
    "       'vol_per_sq_ft', 'total_customers', 'total_unique_items',\n",
    "       'single_day_max_vol', 'n_transactions',\n",
    "       'customer_id_unique', 'customer_id_repeating']\n",
    "\n",
    "First_sub = ['vol_per_sq_ft', 'total_unique_items',\n",
    "       'single_day_max_vol', 'single_day_min_vol', 'n_transactions',\n",
    "       'customer_id_unique', 'customer_id_repeating', 'customer_id_single']\n",
    "\n",
    "First_sub_without_area = ['shop_area_sq_ft','vol_per_sq_ft', 'total_unique_items',\n",
    "       'single_day_max_vol', 'single_day_min_vol', 'n_transactions',\n",
    "       'customer_id_unique', 'customer_id_repeating', 'customer_id_single']\n",
    "\n",
    "storedata = storedata.drop(Two_best_MI,axis = 1)"
   ]
  },
  {
   "cell_type": "code",
   "execution_count": 23,
   "id": "1c16d5ae",
   "metadata": {
    "execution": {
     "iopub.execute_input": "2023-04-27T04:40:53.565294Z",
     "iopub.status.busy": "2023-04-27T04:40:53.564589Z",
     "iopub.status.idle": "2023-04-27T04:40:53.834760Z",
     "shell.execute_reply": "2023-04-27T04:40:53.833856Z"
    },
    "papermill": {
     "duration": 0.293411,
     "end_time": "2023-04-27T04:40:53.837040",
     "exception": false,
     "start_time": "2023-04-27T04:40:53.543629",
     "status": "completed"
    },
    "tags": []
   },
   "outputs": [
    {
     "data": {
      "text/plain": [
       "<AxesSubplot:>"
      ]
     },
     "execution_count": 23,
     "metadata": {},
     "output_type": "execute_result"
    },
    {
     "data": {
      "image/png": "[encoded data removed]",
      "text/plain": [
       "<Figure size 640x480 with 2 Axes>"
      ]
     },
     "metadata": {},
     "output_type": "display_data"
    }
   ],
   "source": [
    "# create a correlation matrix\n",
    "corr_matrix = storedata.corr()\n",
    "\n",
    "# create a heatmap of the correlation matrix\n",
    "sns.heatmap(corr_matrix, cmap=\"coolwarm\", annot=True)"
   ]
  },
  {
   "cell_type": "markdown",
   "id": "35fc4fc3",
   "metadata": {
    "papermill": {
     "duration": 0.020595,
     "end_time": "2023-04-27T04:40:53.878198",
     "exception": false,
     "start_time": "2023-04-27T04:40:53.857603",
     "status": "completed"
    },
    "tags": []
   },
   "source": [
    "## Train test split (basically removing the testing data specified)"
   ]
  },
  {
   "cell_type": "code",
   "execution_count": 24,
   "id": "2eb45b31",
   "metadata": {
    "execution": {
     "iopub.execute_input": "2023-04-27T04:40:53.920971Z",
     "iopub.status.busy": "2023-04-27T04:40:53.920278Z",
     "iopub.status.idle": "2023-04-27T04:40:53.930221Z",
     "shell.execute_reply": "2023-04-27T04:40:53.929170Z"
    },
    "papermill": {
     "duration": 0.034446,
     "end_time": "2023-04-27T04:40:53.932743",
     "exception": false,
     "start_time": "2023-04-27T04:40:53.898297",
     "status": "completed"
    },
    "tags": []
   },
   "outputs": [],
   "source": [
    "# Create a boolean mask for filtering shopdata\n",
    "mask = storedata['shop_id'].isin(testdata['shop_id'])\n",
    "\n",
    "# Create two separate dataframes\n",
    "test_shops = storedata[mask]\n",
    "train_shops = storedata[~mask]"
   ]
  },
  {
   "cell_type": "code",
   "execution_count": 25,
   "id": "648d7cf2",
   "metadata": {
    "execution": {
     "iopub.execute_input": "2023-04-27T04:40:53.975375Z",
     "iopub.status.busy": "2023-04-27T04:40:53.974591Z",
     "iopub.status.idle": "2023-04-27T04:40:53.987902Z",
     "shell.execute_reply": "2023-04-27T04:40:53.986612Z"
    },
    "papermill": {
     "duration": 0.037595,
     "end_time": "2023-04-27T04:40:53.990394",
     "exception": false,
     "start_time": "2023-04-27T04:40:53.952799",
     "status": "completed"
    },
    "tags": []
   },
   "outputs": [
    {
     "data": {
      "text/html": [
       "<div>\n",
       "<style scoped>\n",
       "    .dataframe tbody tr th:only-of-type {\n",
       "        vertical-align: middle;\n",
       "    }\n",
       "\n",
       "    .dataframe tbody tr th {\n",
       "        vertical-align: top;\n",
       "    }\n",
       "\n",
       "    .dataframe thead th {\n",
       "        text-align: right;\n",
       "    }\n",
       "</style>\n",
       "<table border=\"1\" class=\"dataframe\">\n",
       "  <thead>\n",
       "    <tr style=\"text-align: right;\">\n",
       "      <th></th>\n",
       "      <th>shop_id</th>\n",
       "      <th>single_day_min_vol</th>\n",
       "      <th>customer_id_single</th>\n",
       "    </tr>\n",
       "  </thead>\n",
       "  <tbody>\n",
       "    <tr>\n",
       "      <th>100</th>\n",
       "      <td>SHOP046</td>\n",
       "      <td>9805</td>\n",
       "      <td>1053</td>\n",
       "    </tr>\n",
       "    <tr>\n",
       "      <th>101</th>\n",
       "      <td>SHOP024</td>\n",
       "      <td>6210</td>\n",
       "      <td>1063</td>\n",
       "    </tr>\n",
       "    <tr>\n",
       "      <th>102</th>\n",
       "      <td>SHOP023</td>\n",
       "      <td>11240</td>\n",
       "      <td>1435</td>\n",
       "    </tr>\n",
       "    <tr>\n",
       "      <th>103</th>\n",
       "      <td>SHOP097</td>\n",
       "      <td>9530</td>\n",
       "      <td>1038</td>\n",
       "    </tr>\n",
       "    <tr>\n",
       "      <th>104</th>\n",
       "      <td>SHOP044</td>\n",
       "      <td>5465</td>\n",
       "      <td>1041</td>\n",
       "    </tr>\n",
       "    <tr>\n",
       "      <th>105</th>\n",
       "      <td>SHOP030</td>\n",
       "      <td>5845</td>\n",
       "      <td>918</td>\n",
       "    </tr>\n",
       "    <tr>\n",
       "      <th>106</th>\n",
       "      <td>SHOP038</td>\n",
       "      <td>5045</td>\n",
       "      <td>1147</td>\n",
       "    </tr>\n",
       "    <tr>\n",
       "      <th>107</th>\n",
       "      <td>SHOP029</td>\n",
       "      <td>8220</td>\n",
       "      <td>1301</td>\n",
       "    </tr>\n",
       "    <tr>\n",
       "      <th>108</th>\n",
       "      <td>SHOP096</td>\n",
       "      <td>8605</td>\n",
       "      <td>1519</td>\n",
       "    </tr>\n",
       "    <tr>\n",
       "      <th>109</th>\n",
       "      <td>SHOP092</td>\n",
       "      <td>11600</td>\n",
       "      <td>1502</td>\n",
       "    </tr>\n",
       "    <tr>\n",
       "      <th>110</th>\n",
       "      <td>SHOP081</td>\n",
       "      <td>8590</td>\n",
       "      <td>1376</td>\n",
       "    </tr>\n",
       "    <tr>\n",
       "      <th>111</th>\n",
       "      <td>SHOP076</td>\n",
       "      <td>6320</td>\n",
       "      <td>1269</td>\n",
       "    </tr>\n",
       "    <tr>\n",
       "      <th>112</th>\n",
       "      <td>SHOP080</td>\n",
       "      <td>2130</td>\n",
       "      <td>838</td>\n",
       "    </tr>\n",
       "    <tr>\n",
       "      <th>113</th>\n",
       "      <td>SHOP074</td>\n",
       "      <td>15690</td>\n",
       "      <td>1681</td>\n",
       "    </tr>\n",
       "    <tr>\n",
       "      <th>114</th>\n",
       "      <td>SHOP107</td>\n",
       "      <td>4250</td>\n",
       "      <td>548</td>\n",
       "    </tr>\n",
       "    <tr>\n",
       "      <th>115</th>\n",
       "      <td>SHOP108</td>\n",
       "      <td>6760</td>\n",
       "      <td>1280</td>\n",
       "    </tr>\n",
       "    <tr>\n",
       "      <th>116</th>\n",
       "      <td>SHOP019</td>\n",
       "      <td>4630</td>\n",
       "      <td>1155</td>\n",
       "    </tr>\n",
       "    <tr>\n",
       "      <th>117</th>\n",
       "      <td>SHOP002</td>\n",
       "      <td>8665</td>\n",
       "      <td>1647</td>\n",
       "    </tr>\n",
       "    <tr>\n",
       "      <th>118</th>\n",
       "      <td>SHOP114</td>\n",
       "      <td>6060</td>\n",
       "      <td>1684</td>\n",
       "    </tr>\n",
       "    <tr>\n",
       "      <th>119</th>\n",
       "      <td>SHOP087</td>\n",
       "      <td>2160</td>\n",
       "      <td>678</td>\n",
       "    </tr>\n",
       "    <tr>\n",
       "      <th>120</th>\n",
       "      <td>SHOP050</td>\n",
       "      <td>8015</td>\n",
       "      <td>956</td>\n",
       "    </tr>\n",
       "    <tr>\n",
       "      <th>121</th>\n",
       "      <td>SHOP061</td>\n",
       "      <td>6495</td>\n",
       "      <td>1105</td>\n",
       "    </tr>\n",
       "    <tr>\n",
       "      <th>122</th>\n",
       "      <td>SHOP056</td>\n",
       "      <td>16780</td>\n",
       "      <td>1707</td>\n",
       "    </tr>\n",
       "    <tr>\n",
       "      <th>123</th>\n",
       "      <td>SHOP070</td>\n",
       "      <td>5495</td>\n",
       "      <td>860</td>\n",
       "    </tr>\n",
       "  </tbody>\n",
       "</table>\n",
       "</div>"
      ],
      "text/plain": [
       "     shop_id  single_day_min_vol  customer_id_single\n",
       "100  SHOP046                9805                1053\n",
       "101  SHOP024                6210                1063\n",
       "102  SHOP023               11240                1435\n",
       "103  SHOP097                9530                1038\n",
       "104  SHOP044                5465                1041\n",
       "105  SHOP030                5845                 918\n",
       "106  SHOP038                5045                1147\n",
       "107  SHOP029                8220                1301\n",
       "108  SHOP096                8605                1519\n",
       "109  SHOP092               11600                1502\n",
       "110  SHOP081                8590                1376\n",
       "111  SHOP076                6320                1269\n",
       "112  SHOP080                2130                 838\n",
       "113  SHOP074               15690                1681\n",
       "114  SHOP107                4250                 548\n",
       "115  SHOP108                6760                1280\n",
       "116  SHOP019                4630                1155\n",
       "117  SHOP002                8665                1647\n",
       "118  SHOP114                6060                1684\n",
       "119  SHOP087                2160                 678\n",
       "120  SHOP050                8015                 956\n",
       "121  SHOP061                6495                1105\n",
       "122  SHOP056               16780                1707\n",
       "123  SHOP070                5495                 860"
      ]
     },
     "execution_count": 25,
     "metadata": {},
     "output_type": "execute_result"
    }
   ],
   "source": [
    "test_shops = test_shops.drop('shop_profile', axis=1)\n",
    "test_shops"
   ]
  },
  {
   "cell_type": "code",
   "execution_count": 26,
   "id": "6d8a6842",
   "metadata": {
    "execution": {
     "iopub.execute_input": "2023-04-27T04:40:54.033075Z",
     "iopub.status.busy": "2023-04-27T04:40:54.032672Z",
     "iopub.status.idle": "2023-04-27T04:40:54.046454Z",
     "shell.execute_reply": "2023-04-27T04:40:54.045414Z"
    },
    "papermill": {
     "duration": 0.0381,
     "end_time": "2023-04-27T04:40:54.048939",
     "exception": false,
     "start_time": "2023-04-27T04:40:54.010839",
     "status": "completed"
    },
    "tags": []
   },
   "outputs": [
    {
     "data": {
      "text/html": [
       "<div>\n",
       "<style scoped>\n",
       "    .dataframe tbody tr th:only-of-type {\n",
       "        vertical-align: middle;\n",
       "    }\n",
       "\n",
       "    .dataframe tbody tr th {\n",
       "        vertical-align: top;\n",
       "    }\n",
       "\n",
       "    .dataframe thead th {\n",
       "        text-align: right;\n",
       "    }\n",
       "</style>\n",
       "<table border=\"1\" class=\"dataframe\">\n",
       "  <thead>\n",
       "    <tr style=\"text-align: right;\">\n",
       "      <th></th>\n",
       "      <th>shop_id</th>\n",
       "      <th>shop_profile</th>\n",
       "      <th>single_day_min_vol</th>\n",
       "      <th>customer_id_single</th>\n",
       "    </tr>\n",
       "  </thead>\n",
       "  <tbody>\n",
       "    <tr>\n",
       "      <th>0</th>\n",
       "      <td>SHOP047</td>\n",
       "      <td>Moderate</td>\n",
       "      <td>2020</td>\n",
       "      <td>609</td>\n",
       "    </tr>\n",
       "    <tr>\n",
       "      <th>1</th>\n",
       "      <td>SHOP009</td>\n",
       "      <td>High</td>\n",
       "      <td>9230</td>\n",
       "      <td>1596</td>\n",
       "    </tr>\n",
       "    <tr>\n",
       "      <th>2</th>\n",
       "      <td>SHOP083</td>\n",
       "      <td>Low</td>\n",
       "      <td>8225</td>\n",
       "      <td>1200</td>\n",
       "    </tr>\n",
       "    <tr>\n",
       "      <th>3</th>\n",
       "      <td>SHOP117</td>\n",
       "      <td>Low</td>\n",
       "      <td>6390</td>\n",
       "      <td>1196</td>\n",
       "    </tr>\n",
       "    <tr>\n",
       "      <th>4</th>\n",
       "      <td>SHOP042</td>\n",
       "      <td>Low</td>\n",
       "      <td>5265</td>\n",
       "      <td>1247</td>\n",
       "    </tr>\n",
       "    <tr>\n",
       "      <th>...</th>\n",
       "      <td>...</td>\n",
       "      <td>...</td>\n",
       "      <td>...</td>\n",
       "      <td>...</td>\n",
       "    </tr>\n",
       "    <tr>\n",
       "      <th>95</th>\n",
       "      <td>SHOP124</td>\n",
       "      <td>High</td>\n",
       "      <td>14510</td>\n",
       "      <td>1404</td>\n",
       "    </tr>\n",
       "    <tr>\n",
       "      <th>96</th>\n",
       "      <td>SHOP012</td>\n",
       "      <td>Low</td>\n",
       "      <td>2900</td>\n",
       "      <td>855</td>\n",
       "    </tr>\n",
       "    <tr>\n",
       "      <th>97</th>\n",
       "      <td>SHOP093</td>\n",
       "      <td>High</td>\n",
       "      <td>4145</td>\n",
       "      <td>1020</td>\n",
       "    </tr>\n",
       "    <tr>\n",
       "      <th>98</th>\n",
       "      <td>SHOP004</td>\n",
       "      <td>Low</td>\n",
       "      <td>6285</td>\n",
       "      <td>1055</td>\n",
       "    </tr>\n",
       "    <tr>\n",
       "      <th>99</th>\n",
       "      <td>SHOP101</td>\n",
       "      <td>High</td>\n",
       "      <td>10055</td>\n",
       "      <td>1741</td>\n",
       "    </tr>\n",
       "  </tbody>\n",
       "</table>\n",
       "<p>100 rows × 4 columns</p>\n",
       "</div>"
      ],
      "text/plain": [
       "    shop_id shop_profile  single_day_min_vol  customer_id_single\n",
       "0   SHOP047     Moderate                2020                 609\n",
       "1   SHOP009         High                9230                1596\n",
       "2   SHOP083          Low                8225                1200\n",
       "3   SHOP117          Low                6390                1196\n",
       "4   SHOP042          Low                5265                1247\n",
       "..      ...          ...                 ...                 ...\n",
       "95  SHOP124         High               14510                1404\n",
       "96  SHOP012          Low                2900                 855\n",
       "97  SHOP093         High                4145                1020\n",
       "98  SHOP004          Low                6285                1055\n",
       "99  SHOP101         High               10055                1741\n",
       "\n",
       "[100 rows x 4 columns]"
      ]
     },
     "execution_count": 26,
     "metadata": {},
     "output_type": "execute_result"
    }
   ],
   "source": [
    "train_shops"
   ]
  },
  {
   "cell_type": "markdown",
   "id": "fbec76ed",
   "metadata": {
    "papermill": {
     "duration": 0.020256,
     "end_time": "2023-04-27T04:40:54.089655",
     "exception": false,
     "start_time": "2023-04-27T04:40:54.069399",
     "status": "completed"
    },
    "tags": []
   },
   "source": [
    "## Encoding the target variable \n",
    "\n",
    "### Ordinal encoding\n",
    "0 = Low\n",
    "1 = Moderate\n",
    "2 = High"
   ]
  },
  {
   "cell_type": "code",
   "execution_count": 27,
   "id": "60f37dfa",
   "metadata": {
    "execution": {
     "iopub.execute_input": "2023-04-27T04:40:54.132187Z",
     "iopub.status.busy": "2023-04-27T04:40:54.131769Z",
     "iopub.status.idle": "2023-04-27T04:40:54.289546Z",
     "shell.execute_reply": "2023-04-27T04:40:54.288235Z"
    },
    "papermill": {
     "duration": 0.182521,
     "end_time": "2023-04-27T04:40:54.292518",
     "exception": false,
     "start_time": "2023-04-27T04:40:54.109997",
     "status": "completed"
    },
    "tags": []
   },
   "outputs": [],
   "source": [
    "from sklearn.preprocessing import LabelEncoder\n",
    "pd.options.mode.chained_assignment = None  # default='warn'\n",
    "\n",
    "# Define the mapping of labels to integer codes\n",
    "label_mapping = {\n",
    "    'Low': 0,\n",
    "    'Moderate': 1,\n",
    "    'High': 2\n",
    "}\n",
    "\n",
    "# Create an instance of the LabelEncoder\n",
    "encoder = LabelEncoder()\n",
    "\n",
    "# Fit the encoder to the shop_profile column in train_shops\n",
    "train_shops['shop_profile'] = encoder.fit_transform(train_shops['shop_profile'].map(label_mapping))\n"
   ]
  },
  {
   "cell_type": "code",
   "execution_count": 28,
   "id": "5ebc48da",
   "metadata": {
    "execution": {
     "iopub.execute_input": "2023-04-27T04:40:54.336712Z",
     "iopub.status.busy": "2023-04-27T04:40:54.336252Z",
     "iopub.status.idle": "2023-04-27T04:40:54.351171Z",
     "shell.execute_reply": "2023-04-27T04:40:54.349817Z"
    },
    "papermill": {
     "duration": 0.03999,
     "end_time": "2023-04-27T04:40:54.353708",
     "exception": false,
     "start_time": "2023-04-27T04:40:54.313718",
     "status": "completed"
    },
    "tags": []
   },
   "outputs": [
    {
     "data": {
      "text/html": [
       "<div>\n",
       "<style scoped>\n",
       "    .dataframe tbody tr th:only-of-type {\n",
       "        vertical-align: middle;\n",
       "    }\n",
       "\n",
       "    .dataframe tbody tr th {\n",
       "        vertical-align: top;\n",
       "    }\n",
       "\n",
       "    .dataframe thead th {\n",
       "        text-align: right;\n",
       "    }\n",
       "</style>\n",
       "<table border=\"1\" class=\"dataframe\">\n",
       "  <thead>\n",
       "    <tr style=\"text-align: right;\">\n",
       "      <th></th>\n",
       "      <th>shop_id</th>\n",
       "      <th>shop_profile</th>\n",
       "      <th>single_day_min_vol</th>\n",
       "      <th>customer_id_single</th>\n",
       "    </tr>\n",
       "  </thead>\n",
       "  <tbody>\n",
       "    <tr>\n",
       "      <th>0</th>\n",
       "      <td>SHOP047</td>\n",
       "      <td>1</td>\n",
       "      <td>2020</td>\n",
       "      <td>609</td>\n",
       "    </tr>\n",
       "    <tr>\n",
       "      <th>1</th>\n",
       "      <td>SHOP009</td>\n",
       "      <td>2</td>\n",
       "      <td>9230</td>\n",
       "      <td>1596</td>\n",
       "    </tr>\n",
       "    <tr>\n",
       "      <th>2</th>\n",
       "      <td>SHOP083</td>\n",
       "      <td>0</td>\n",
       "      <td>8225</td>\n",
       "      <td>1200</td>\n",
       "    </tr>\n",
       "    <tr>\n",
       "      <th>3</th>\n",
       "      <td>SHOP117</td>\n",
       "      <td>0</td>\n",
       "      <td>6390</td>\n",
       "      <td>1196</td>\n",
       "    </tr>\n",
       "    <tr>\n",
       "      <th>4</th>\n",
       "      <td>SHOP042</td>\n",
       "      <td>0</td>\n",
       "      <td>5265</td>\n",
       "      <td>1247</td>\n",
       "    </tr>\n",
       "    <tr>\n",
       "      <th>...</th>\n",
       "      <td>...</td>\n",
       "      <td>...</td>\n",
       "      <td>...</td>\n",
       "      <td>...</td>\n",
       "    </tr>\n",
       "    <tr>\n",
       "      <th>95</th>\n",
       "      <td>SHOP124</td>\n",
       "      <td>2</td>\n",
       "      <td>14510</td>\n",
       "      <td>1404</td>\n",
       "    </tr>\n",
       "    <tr>\n",
       "      <th>96</th>\n",
       "      <td>SHOP012</td>\n",
       "      <td>0</td>\n",
       "      <td>2900</td>\n",
       "      <td>855</td>\n",
       "    </tr>\n",
       "    <tr>\n",
       "      <th>97</th>\n",
       "      <td>SHOP093</td>\n",
       "      <td>2</td>\n",
       "      <td>4145</td>\n",
       "      <td>1020</td>\n",
       "    </tr>\n",
       "    <tr>\n",
       "      <th>98</th>\n",
       "      <td>SHOP004</td>\n",
       "      <td>0</td>\n",
       "      <td>6285</td>\n",
       "      <td>1055</td>\n",
       "    </tr>\n",
       "    <tr>\n",
       "      <th>99</th>\n",
       "      <td>SHOP101</td>\n",
       "      <td>2</td>\n",
       "      <td>10055</td>\n",
       "      <td>1741</td>\n",
       "    </tr>\n",
       "  </tbody>\n",
       "</table>\n",
       "<p>100 rows × 4 columns</p>\n",
       "</div>"
      ],
      "text/plain": [
       "    shop_id  shop_profile  single_day_min_vol  customer_id_single\n",
       "0   SHOP047             1                2020                 609\n",
       "1   SHOP009             2                9230                1596\n",
       "2   SHOP083             0                8225                1200\n",
       "3   SHOP117             0                6390                1196\n",
       "4   SHOP042             0                5265                1247\n",
       "..      ...           ...                 ...                 ...\n",
       "95  SHOP124             2               14510                1404\n",
       "96  SHOP012             0                2900                 855\n",
       "97  SHOP093             2                4145                1020\n",
       "98  SHOP004             0                6285                1055\n",
       "99  SHOP101             2               10055                1741\n",
       "\n",
       "[100 rows x 4 columns]"
      ]
     },
     "execution_count": 28,
     "metadata": {},
     "output_type": "execute_result"
    }
   ],
   "source": [
    "train_shops"
   ]
  },
  {
   "cell_type": "code",
   "execution_count": 29,
   "id": "9d14eb52",
   "metadata": {
    "execution": {
     "iopub.execute_input": "2023-04-27T04:40:54.397721Z",
     "iopub.status.busy": "2023-04-27T04:40:54.397284Z",
     "iopub.status.idle": "2023-04-27T04:40:55.830939Z",
     "shell.execute_reply": "2023-04-27T04:40:55.829526Z"
    },
    "papermill": {
     "duration": 1.459004,
     "end_time": "2023-04-27T04:40:55.833759",
     "exception": false,
     "start_time": "2023-04-27T04:40:54.374755",
     "status": "completed"
    },
    "tags": []
   },
   "outputs": [
    {
     "data": {
      "text/plain": [
       "<seaborn.axisgrid.PairGrid at 0x799e59c57e50>"
      ]
     },
     "execution_count": 29,
     "metadata": {},
     "output_type": "execute_result"
    },
    {
     "data": {
      "image/png": "[encoded data removed]",
      "text/plain": [
       "<Figure size 595.486x500 with 6 Axes>"
      ]
     },
     "metadata": {},
     "output_type": "display_data"
    }
   ],
   "source": [
    "sns.pairplot(train_shops, hue='shop_profile')"
   ]
  },
  {
   "cell_type": "markdown",
   "id": "379c582f",
   "metadata": {
    "papermill": {
     "duration": 0.02194,
     "end_time": "2023-04-27T04:40:55.878055",
     "exception": false,
     "start_time": "2023-04-27T04:40:55.856115",
     "status": "completed"
    },
    "tags": []
   },
   "source": [
    "## Spliting for crossvalidation"
   ]
  },
  {
   "cell_type": "code",
   "execution_count": 30,
   "id": "18f6da76",
   "metadata": {
    "execution": {
     "iopub.execute_input": "2023-04-27T04:40:55.924002Z",
     "iopub.status.busy": "2023-04-27T04:40:55.923567Z",
     "iopub.status.idle": "2023-04-27T04:40:55.932092Z",
     "shell.execute_reply": "2023-04-27T04:40:55.930542Z"
    },
    "papermill": {
     "duration": 0.034859,
     "end_time": "2023-04-27T04:40:55.934931",
     "exception": false,
     "start_time": "2023-04-27T04:40:55.900072",
     "status": "completed"
    },
    "tags": []
   },
   "outputs": [],
   "source": [
    "y = train_shops['shop_profile']\n",
    "X = train_shops.drop('shop_profile', axis=1)\n",
    "X = X.drop('shop_id',axis = 1)"
   ]
  },
  {
   "cell_type": "code",
   "execution_count": 31,
   "id": "966ee939",
   "metadata": {
    "execution": {
     "iopub.execute_input": "2023-04-27T04:40:55.982129Z",
     "iopub.status.busy": "2023-04-27T04:40:55.980881Z",
     "iopub.status.idle": "2023-04-27T04:40:55.989453Z",
     "shell.execute_reply": "2023-04-27T04:40:55.988507Z"
    },
    "papermill": {
     "duration": 0.034626,
     "end_time": "2023-04-27T04:40:55.991755",
     "exception": false,
     "start_time": "2023-04-27T04:40:55.957129",
     "status": "completed"
    },
    "tags": []
   },
   "outputs": [
    {
     "data": {
      "text/plain": [
       "0     1\n",
       "1     2\n",
       "2     0\n",
       "3     0\n",
       "4     0\n",
       "     ..\n",
       "95    2\n",
       "96    0\n",
       "97    2\n",
       "98    0\n",
       "99    2\n",
       "Name: shop_profile, Length: 100, dtype: int64"
      ]
     },
     "execution_count": 31,
     "metadata": {},
     "output_type": "execute_result"
    }
   ],
   "source": [
    "y"
   ]
  },
  {
   "cell_type": "code",
   "execution_count": 32,
   "id": "441e1182",
   "metadata": {
    "execution": {
     "iopub.execute_input": "2023-04-27T04:40:56.038441Z",
     "iopub.status.busy": "2023-04-27T04:40:56.037607Z",
     "iopub.status.idle": "2023-04-27T04:40:56.049732Z",
     "shell.execute_reply": "2023-04-27T04:40:56.048360Z"
    },
    "papermill": {
     "duration": 0.038434,
     "end_time": "2023-04-27T04:40:56.052327",
     "exception": false,
     "start_time": "2023-04-27T04:40:56.013893",
     "status": "completed"
    },
    "tags": []
   },
   "outputs": [
    {
     "data": {
      "text/html": [
       "<div>\n",
       "<style scoped>\n",
       "    .dataframe tbody tr th:only-of-type {\n",
       "        vertical-align: middle;\n",
       "    }\n",
       "\n",
       "    .dataframe tbody tr th {\n",
       "        vertical-align: top;\n",
       "    }\n",
       "\n",
       "    .dataframe thead th {\n",
       "        text-align: right;\n",
       "    }\n",
       "</style>\n",
       "<table border=\"1\" class=\"dataframe\">\n",
       "  <thead>\n",
       "    <tr style=\"text-align: right;\">\n",
       "      <th></th>\n",
       "      <th>single_day_min_vol</th>\n",
       "      <th>customer_id_single</th>\n",
       "    </tr>\n",
       "  </thead>\n",
       "  <tbody>\n",
       "    <tr>\n",
       "      <th>0</th>\n",
       "      <td>2020</td>\n",
       "      <td>609</td>\n",
       "    </tr>\n",
       "    <tr>\n",
       "      <th>1</th>\n",
       "      <td>9230</td>\n",
       "      <td>1596</td>\n",
       "    </tr>\n",
       "    <tr>\n",
       "      <th>2</th>\n",
       "      <td>8225</td>\n",
       "      <td>1200</td>\n",
       "    </tr>\n",
       "    <tr>\n",
       "      <th>3</th>\n",
       "      <td>6390</td>\n",
       "      <td>1196</td>\n",
       "    </tr>\n",
       "    <tr>\n",
       "      <th>4</th>\n",
       "      <td>5265</td>\n",
       "      <td>1247</td>\n",
       "    </tr>\n",
       "    <tr>\n",
       "      <th>...</th>\n",
       "      <td>...</td>\n",
       "      <td>...</td>\n",
       "    </tr>\n",
       "    <tr>\n",
       "      <th>95</th>\n",
       "      <td>14510</td>\n",
       "      <td>1404</td>\n",
       "    </tr>\n",
       "    <tr>\n",
       "      <th>96</th>\n",
       "      <td>2900</td>\n",
       "      <td>855</td>\n",
       "    </tr>\n",
       "    <tr>\n",
       "      <th>97</th>\n",
       "      <td>4145</td>\n",
       "      <td>1020</td>\n",
       "    </tr>\n",
       "    <tr>\n",
       "      <th>98</th>\n",
       "      <td>6285</td>\n",
       "      <td>1055</td>\n",
       "    </tr>\n",
       "    <tr>\n",
       "      <th>99</th>\n",
       "      <td>10055</td>\n",
       "      <td>1741</td>\n",
       "    </tr>\n",
       "  </tbody>\n",
       "</table>\n",
       "<p>100 rows × 2 columns</p>\n",
       "</div>"
      ],
      "text/plain": [
       "    single_day_min_vol  customer_id_single\n",
       "0                 2020                 609\n",
       "1                 9230                1596\n",
       "2                 8225                1200\n",
       "3                 6390                1196\n",
       "4                 5265                1247\n",
       "..                 ...                 ...\n",
       "95               14510                1404\n",
       "96                2900                 855\n",
       "97                4145                1020\n",
       "98                6285                1055\n",
       "99               10055                1741\n",
       "\n",
       "[100 rows x 2 columns]"
      ]
     },
     "execution_count": 32,
     "metadata": {},
     "output_type": "execute_result"
    }
   ],
   "source": [
    "X"
   ]
  },
  {
   "cell_type": "markdown",
   "id": "033c7f93",
   "metadata": {
    "papermill": {
     "duration": 0.023515,
     "end_time": "2023-04-27T04:40:56.099464",
     "exception": false,
     "start_time": "2023-04-27T04:40:56.075949",
     "status": "completed"
    },
    "tags": []
   },
   "source": [
    "## MI Scores"
   ]
  },
  {
   "cell_type": "code",
   "execution_count": 33,
   "id": "b568c7c8",
   "metadata": {
    "execution": {
     "iopub.execute_input": "2023-04-27T04:40:56.147391Z",
     "iopub.status.busy": "2023-04-27T04:40:56.146601Z",
     "iopub.status.idle": "2023-04-27T04:40:56.472158Z",
     "shell.execute_reply": "2023-04-27T04:40:56.470593Z"
    },
    "papermill": {
     "duration": 0.353009,
     "end_time": "2023-04-27T04:40:56.474900",
     "exception": false,
     "start_time": "2023-04-27T04:40:56.121891",
     "status": "completed"
    },
    "tags": []
   },
   "outputs": [
    {
     "name": "stdout",
     "output_type": "stream",
     "text": [
      "single_day_min_vol: 0.24\n",
      "customer_id_single: 0.19\n"
     ]
    }
   ],
   "source": [
    "from sklearn.feature_selection import mutual_info_classif\n",
    "\n",
    "# X is a matrix of features, y is a vector of target variable\n",
    "mi_scores = mutual_info_classif(X, y)\n",
    "\n",
    "# Get the names of the features\n",
    "feature_names = list(X.columns)\n",
    "\n",
    "# Print the MI scores with the feature names\n",
    "for i, score in enumerate(mi_scores):\n",
    "    print(f\"{feature_names[i]}: {score:.2f}\")\n"
   ]
  },
  {
   "cell_type": "markdown",
   "id": "92fc7dcb",
   "metadata": {
    "papermill": {
     "duration": 0.022058,
     "end_time": "2023-04-27T04:40:56.519673",
     "exception": false,
     "start_time": "2023-04-27T04:40:56.497615",
     "status": "completed"
    },
    "tags": []
   },
   "source": [
    "### Train test split"
   ]
  },
  {
   "cell_type": "code",
   "execution_count": 34,
   "id": "d373c6db",
   "metadata": {
    "execution": {
     "iopub.execute_input": "2023-04-27T04:40:56.567265Z",
     "iopub.status.busy": "2023-04-27T04:40:56.566852Z",
     "iopub.status.idle": "2023-04-27T04:40:56.574654Z",
     "shell.execute_reply": "2023-04-27T04:40:56.573287Z"
    },
    "papermill": {
     "duration": 0.034211,
     "end_time": "2023-04-27T04:40:56.577264",
     "exception": false,
     "start_time": "2023-04-27T04:40:56.543053",
     "status": "completed"
    },
    "tags": []
   },
   "outputs": [],
   "source": [
    "from sklearn.model_selection import train_test_split\n",
    "train_X, val_X, train_y, val_y = train_test_split(X, y, random_state = 0)"
   ]
  },
  {
   "cell_type": "markdown",
   "id": "f01530fa",
   "metadata": {
    "papermill": {
     "duration": 0.022074,
     "end_time": "2023-04-27T04:40:56.621798",
     "exception": false,
     "start_time": "2023-04-27T04:40:56.599724",
     "status": "completed"
    },
    "tags": []
   },
   "source": [
    "## Training the model"
   ]
  },
  {
   "cell_type": "code",
   "execution_count": 35,
   "id": "8d9d5d67",
   "metadata": {
    "execution": {
     "iopub.execute_input": "2023-04-27T04:40:56.668639Z",
     "iopub.status.busy": "2023-04-27T04:40:56.667853Z",
     "iopub.status.idle": "2023-04-27T04:40:56.679753Z",
     "shell.execute_reply": "2023-04-27T04:40:56.678709Z"
    },
    "papermill": {
     "duration": 0.037996,
     "end_time": "2023-04-27T04:40:56.682083",
     "exception": false,
     "start_time": "2023-04-27T04:40:56.644087",
     "status": "completed"
    },
    "tags": []
   },
   "outputs": [
    {
     "data": {
      "text/html": [
       "<div>\n",
       "<style scoped>\n",
       "    .dataframe tbody tr th:only-of-type {\n",
       "        vertical-align: middle;\n",
       "    }\n",
       "\n",
       "    .dataframe tbody tr th {\n",
       "        vertical-align: top;\n",
       "    }\n",
       "\n",
       "    .dataframe thead th {\n",
       "        text-align: right;\n",
       "    }\n",
       "</style>\n",
       "<table border=\"1\" class=\"dataframe\">\n",
       "  <thead>\n",
       "    <tr style=\"text-align: right;\">\n",
       "      <th></th>\n",
       "      <th>single_day_min_vol</th>\n",
       "      <th>customer_id_single</th>\n",
       "    </tr>\n",
       "  </thead>\n",
       "  <tbody>\n",
       "    <tr>\n",
       "      <th>48</th>\n",
       "      <td>6060</td>\n",
       "      <td>899</td>\n",
       "    </tr>\n",
       "    <tr>\n",
       "      <th>6</th>\n",
       "      <td>8755</td>\n",
       "      <td>1551</td>\n",
       "    </tr>\n",
       "    <tr>\n",
       "      <th>99</th>\n",
       "      <td>10055</td>\n",
       "      <td>1741</td>\n",
       "    </tr>\n",
       "    <tr>\n",
       "      <th>82</th>\n",
       "      <td>7515</td>\n",
       "      <td>1223</td>\n",
       "    </tr>\n",
       "    <tr>\n",
       "      <th>76</th>\n",
       "      <td>13400</td>\n",
       "      <td>1783</td>\n",
       "    </tr>\n",
       "    <tr>\n",
       "      <th>...</th>\n",
       "      <td>...</td>\n",
       "      <td>...</td>\n",
       "    </tr>\n",
       "    <tr>\n",
       "      <th>96</th>\n",
       "      <td>2900</td>\n",
       "      <td>855</td>\n",
       "    </tr>\n",
       "    <tr>\n",
       "      <th>67</th>\n",
       "      <td>5130</td>\n",
       "      <td>1408</td>\n",
       "    </tr>\n",
       "    <tr>\n",
       "      <th>64</th>\n",
       "      <td>11135</td>\n",
       "      <td>1509</td>\n",
       "    </tr>\n",
       "    <tr>\n",
       "      <th>47</th>\n",
       "      <td>4080</td>\n",
       "      <td>1139</td>\n",
       "    </tr>\n",
       "    <tr>\n",
       "      <th>44</th>\n",
       "      <td>10740</td>\n",
       "      <td>1657</td>\n",
       "    </tr>\n",
       "  </tbody>\n",
       "</table>\n",
       "<p>75 rows × 2 columns</p>\n",
       "</div>"
      ],
      "text/plain": [
       "    single_day_min_vol  customer_id_single\n",
       "48                6060                 899\n",
       "6                 8755                1551\n",
       "99               10055                1741\n",
       "82                7515                1223\n",
       "76               13400                1783\n",
       "..                 ...                 ...\n",
       "96                2900                 855\n",
       "67                5130                1408\n",
       "64               11135                1509\n",
       "47                4080                1139\n",
       "44               10740                1657\n",
       "\n",
       "[75 rows x 2 columns]"
      ]
     },
     "execution_count": 35,
     "metadata": {},
     "output_type": "execute_result"
    }
   ],
   "source": [
    "train_X"
   ]
  },
  {
   "cell_type": "code",
   "execution_count": 36,
   "id": "ef940b53",
   "metadata": {
    "execution": {
     "iopub.execute_input": "2023-04-27T04:40:56.730798Z",
     "iopub.status.busy": "2023-04-27T04:40:56.729686Z",
     "iopub.status.idle": "2023-04-27T04:40:56.738336Z",
     "shell.execute_reply": "2023-04-27T04:40:56.737095Z"
    },
    "papermill": {
     "duration": 0.035183,
     "end_time": "2023-04-27T04:40:56.740919",
     "exception": false,
     "start_time": "2023-04-27T04:40:56.705736",
     "status": "completed"
    },
    "tags": []
   },
   "outputs": [
    {
     "data": {
      "text/plain": [
       "48    1\n",
       "6     1\n",
       "99    2\n",
       "82    1\n",
       "76    2\n",
       "     ..\n",
       "96    0\n",
       "67    0\n",
       "64    2\n",
       "47    1\n",
       "44    1\n",
       "Name: shop_profile, Length: 75, dtype: int64"
      ]
     },
     "execution_count": 36,
     "metadata": {},
     "output_type": "execute_result"
    }
   ],
   "source": [
    "train_y"
   ]
  },
  {
   "cell_type": "code",
   "execution_count": 37,
   "id": "6422f782",
   "metadata": {
    "execution": {
     "iopub.execute_input": "2023-04-27T04:40:56.790694Z",
     "iopub.status.busy": "2023-04-27T04:40:56.790298Z",
     "iopub.status.idle": "2023-04-27T04:40:56.800975Z",
     "shell.execute_reply": "2023-04-27T04:40:56.799815Z"
    },
    "papermill": {
     "duration": 0.038621,
     "end_time": "2023-04-27T04:40:56.803662",
     "exception": false,
     "start_time": "2023-04-27T04:40:56.765041",
     "status": "completed"
    },
    "tags": []
   },
   "outputs": [
    {
     "data": {
      "text/html": [
       "<div>\n",
       "<style scoped>\n",
       "    .dataframe tbody tr th:only-of-type {\n",
       "        vertical-align: middle;\n",
       "    }\n",
       "\n",
       "    .dataframe tbody tr th {\n",
       "        vertical-align: top;\n",
       "    }\n",
       "\n",
       "    .dataframe thead th {\n",
       "        text-align: right;\n",
       "    }\n",
       "</style>\n",
       "<table border=\"1\" class=\"dataframe\">\n",
       "  <thead>\n",
       "    <tr style=\"text-align: right;\">\n",
       "      <th></th>\n",
       "      <th>single_day_min_vol</th>\n",
       "      <th>customer_id_single</th>\n",
       "    </tr>\n",
       "  </thead>\n",
       "  <tbody>\n",
       "    <tr>\n",
       "      <th>26</th>\n",
       "      <td>8060</td>\n",
       "      <td>1291</td>\n",
       "    </tr>\n",
       "    <tr>\n",
       "      <th>86</th>\n",
       "      <td>4610</td>\n",
       "      <td>963</td>\n",
       "    </tr>\n",
       "    <tr>\n",
       "      <th>2</th>\n",
       "      <td>8225</td>\n",
       "      <td>1200</td>\n",
       "    </tr>\n",
       "    <tr>\n",
       "      <th>55</th>\n",
       "      <td>15515</td>\n",
       "      <td>2014</td>\n",
       "    </tr>\n",
       "    <tr>\n",
       "      <th>75</th>\n",
       "      <td>17610</td>\n",
       "      <td>1829</td>\n",
       "    </tr>\n",
       "    <tr>\n",
       "      <th>93</th>\n",
       "      <td>11790</td>\n",
       "      <td>1534</td>\n",
       "    </tr>\n",
       "    <tr>\n",
       "      <th>16</th>\n",
       "      <td>12020</td>\n",
       "      <td>2065</td>\n",
       "    </tr>\n",
       "    <tr>\n",
       "      <th>73</th>\n",
       "      <td>4930</td>\n",
       "      <td>994</td>\n",
       "    </tr>\n",
       "    <tr>\n",
       "      <th>54</th>\n",
       "      <td>11190</td>\n",
       "      <td>1399</td>\n",
       "    </tr>\n",
       "    <tr>\n",
       "      <th>95</th>\n",
       "      <td>14510</td>\n",
       "      <td>1404</td>\n",
       "    </tr>\n",
       "    <tr>\n",
       "      <th>53</th>\n",
       "      <td>10950</td>\n",
       "      <td>1784</td>\n",
       "    </tr>\n",
       "    <tr>\n",
       "      <th>92</th>\n",
       "      <td>8850</td>\n",
       "      <td>1279</td>\n",
       "    </tr>\n",
       "    <tr>\n",
       "      <th>78</th>\n",
       "      <td>6500</td>\n",
       "      <td>1224</td>\n",
       "    </tr>\n",
       "    <tr>\n",
       "      <th>13</th>\n",
       "      <td>3390</td>\n",
       "      <td>1001</td>\n",
       "    </tr>\n",
       "    <tr>\n",
       "      <th>7</th>\n",
       "      <td>6260</td>\n",
       "      <td>828</td>\n",
       "    </tr>\n",
       "    <tr>\n",
       "      <th>30</th>\n",
       "      <td>18945</td>\n",
       "      <td>1949</td>\n",
       "    </tr>\n",
       "    <tr>\n",
       "      <th>22</th>\n",
       "      <td>9525</td>\n",
       "      <td>1886</td>\n",
       "    </tr>\n",
       "    <tr>\n",
       "      <th>24</th>\n",
       "      <td>2495</td>\n",
       "      <td>775</td>\n",
       "    </tr>\n",
       "    <tr>\n",
       "      <th>33</th>\n",
       "      <td>4610</td>\n",
       "      <td>1023</td>\n",
       "    </tr>\n",
       "    <tr>\n",
       "      <th>8</th>\n",
       "      <td>9570</td>\n",
       "      <td>1182</td>\n",
       "    </tr>\n",
       "    <tr>\n",
       "      <th>43</th>\n",
       "      <td>2545</td>\n",
       "      <td>833</td>\n",
       "    </tr>\n",
       "    <tr>\n",
       "      <th>62</th>\n",
       "      <td>6225</td>\n",
       "      <td>1358</td>\n",
       "    </tr>\n",
       "    <tr>\n",
       "      <th>3</th>\n",
       "      <td>6390</td>\n",
       "      <td>1196</td>\n",
       "    </tr>\n",
       "    <tr>\n",
       "      <th>71</th>\n",
       "      <td>9180</td>\n",
       "      <td>1555</td>\n",
       "    </tr>\n",
       "    <tr>\n",
       "      <th>45</th>\n",
       "      <td>9580</td>\n",
       "      <td>1314</td>\n",
       "    </tr>\n",
       "  </tbody>\n",
       "</table>\n",
       "</div>"
      ],
      "text/plain": [
       "    single_day_min_vol  customer_id_single\n",
       "26                8060                1291\n",
       "86                4610                 963\n",
       "2                 8225                1200\n",
       "55               15515                2014\n",
       "75               17610                1829\n",
       "93               11790                1534\n",
       "16               12020                2065\n",
       "73                4930                 994\n",
       "54               11190                1399\n",
       "95               14510                1404\n",
       "53               10950                1784\n",
       "92                8850                1279\n",
       "78                6500                1224\n",
       "13                3390                1001\n",
       "7                 6260                 828\n",
       "30               18945                1949\n",
       "22                9525                1886\n",
       "24                2495                 775\n",
       "33                4610                1023\n",
       "8                 9570                1182\n",
       "43                2545                 833\n",
       "62                6225                1358\n",
       "3                 6390                1196\n",
       "71                9180                1555\n",
       "45                9580                1314"
      ]
     },
     "execution_count": 37,
     "metadata": {},
     "output_type": "execute_result"
    }
   ],
   "source": [
    "val_X"
   ]
  },
  {
   "cell_type": "code",
   "execution_count": 38,
   "id": "de01ff46",
   "metadata": {
    "execution": {
     "iopub.execute_input": "2023-04-27T04:40:56.853054Z",
     "iopub.status.busy": "2023-04-27T04:40:56.852621Z",
     "iopub.status.idle": "2023-04-27T04:40:56.860873Z",
     "shell.execute_reply": "2023-04-27T04:40:56.859479Z"
    },
    "papermill": {
     "duration": 0.035577,
     "end_time": "2023-04-27T04:40:56.863134",
     "exception": false,
     "start_time": "2023-04-27T04:40:56.827557",
     "status": "completed"
    },
    "tags": []
   },
   "outputs": [
    {
     "data": {
      "text/plain": [
       "26    1\n",
       "86    1\n",
       "2     0\n",
       "55    2\n",
       "75    2\n",
       "93    2\n",
       "16    2\n",
       "73    1\n",
       "54    1\n",
       "95    2\n",
       "53    2\n",
       "92    0\n",
       "78    1\n",
       "13    1\n",
       "7     1\n",
       "30    2\n",
       "22    2\n",
       "24    0\n",
       "33    0\n",
       "8     0\n",
       "43    1\n",
       "62    2\n",
       "3     0\n",
       "71    1\n",
       "45    0\n",
       "Name: shop_profile, dtype: int64"
      ]
     },
     "execution_count": 38,
     "metadata": {},
     "output_type": "execute_result"
    }
   ],
   "source": [
    "val_y"
   ]
  },
  {
   "cell_type": "markdown",
   "id": "4ef0bf30",
   "metadata": {
    "papermill": {
     "duration": 0.022727,
     "end_time": "2023-04-27T04:40:56.909276",
     "exception": false,
     "start_time": "2023-04-27T04:40:56.886549",
     "status": "completed"
    },
    "tags": []
   },
   "source": [
    "### Training model"
   ]
  },
  {
   "cell_type": "code",
   "execution_count": 39,
   "id": "48047a42",
   "metadata": {
    "execution": {
     "iopub.execute_input": "2023-04-27T04:40:56.957467Z",
     "iopub.status.busy": "2023-04-27T04:40:56.957080Z",
     "iopub.status.idle": "2023-04-27T04:40:57.385423Z",
     "shell.execute_reply": "2023-04-27T04:40:57.384183Z"
    },
    "papermill": {
     "duration": 0.455906,
     "end_time": "2023-04-27T04:40:57.388331",
     "exception": false,
     "start_time": "2023-04-27T04:40:56.932425",
     "status": "completed"
    },
    "tags": []
   },
   "outputs": [],
   "source": [
    "from sklearn.neighbors import KNeighborsClassifier\n",
    "from xgboost import XGBClassifier\n",
    "from sklearn.ensemble import RandomForestClassifier"
   ]
  },
  {
   "cell_type": "code",
   "execution_count": 40,
   "id": "37035e07",
   "metadata": {
    "execution": {
     "iopub.execute_input": "2023-04-27T04:40:57.439074Z",
     "iopub.status.busy": "2023-04-27T04:40:57.438601Z",
     "iopub.status.idle": "2023-04-27T04:40:57.854096Z",
     "shell.execute_reply": "2023-04-27T04:40:57.852940Z"
    },
    "papermill": {
     "duration": 0.445075,
     "end_time": "2023-04-27T04:40:57.856709",
     "exception": false,
     "start_time": "2023-04-27T04:40:57.411634",
     "status": "completed"
    },
    "tags": []
   },
   "outputs": [
    {
     "data": {
      "text/plain": [
       "XGBClassifier(base_score=0.5, booster='gbtree', callbacks=None,\n",
       "              colsample_bylevel=1, colsample_bynode=1, colsample_bytree=1,\n",
       "              early_stopping_rounds=None, enable_categorical=False,\n",
       "              eval_metric=None, gamma=0, gpu_id=-1, grow_policy='depthwise',\n",
       "              importance_type=None, interaction_constraints='',\n",
       "              learning_rate=0.300000012, max_bin=256, max_cat_to_onehot=4,\n",
       "              max_delta_step=0, max_depth=6, max_leaves=0, min_child_weight=1,\n",
       "              missing=nan, monotone_constraints='()', n_estimators=100,\n",
       "              n_jobs=0, num_parallel_tree=1, objective='multi:softprob',\n",
       "              predictor='auto', random_state=0, reg_alpha=0, ...)"
      ]
     },
     "execution_count": 40,
     "metadata": {},
     "output_type": "execute_result"
    }
   ],
   "source": [
    "# Define the model with default hyperparameters\n",
    "model = XGBClassifier()\n",
    "# model = KNeighborsClassifier(n_neighbors= 25)\n",
    "# model = RandomForestClassifier(n_estimators=100,random_state=1)\n",
    "\n",
    "# Fit the model to the training data\n",
    "model.fit(train_X, train_y)"
   ]
  },
  {
   "cell_type": "markdown",
   "id": "e52358a4",
   "metadata": {
    "papermill": {
     "duration": 0.023063,
     "end_time": "2023-04-27T04:40:57.903504",
     "exception": false,
     "start_time": "2023-04-27T04:40:57.880441",
     "status": "completed"
    },
    "tags": []
   },
   "source": [
    "## Making predictions"
   ]
  },
  {
   "cell_type": "code",
   "execution_count": 41,
   "id": "2a445489",
   "metadata": {
    "execution": {
     "iopub.execute_input": "2023-04-27T04:40:57.953392Z",
     "iopub.status.busy": "2023-04-27T04:40:57.952160Z",
     "iopub.status.idle": "2023-04-27T04:40:57.964349Z",
     "shell.execute_reply": "2023-04-27T04:40:57.963239Z"
    },
    "papermill": {
     "duration": 0.040748,
     "end_time": "2023-04-27T04:40:57.967971",
     "exception": false,
     "start_time": "2023-04-27T04:40:57.927223",
     "status": "completed"
    },
    "tags": []
   },
   "outputs": [],
   "source": [
    "# Make predictions on the test data\n",
    "y_pred = model.predict(val_X)"
   ]
  },
  {
   "cell_type": "markdown",
   "id": "ae9f18aa",
   "metadata": {
    "papermill": {
     "duration": 0.023421,
     "end_time": "2023-04-27T04:40:58.016977",
     "exception": false,
     "start_time": "2023-04-27T04:40:57.993556",
     "status": "completed"
    },
    "tags": []
   },
   "source": [
    "## F1 Score"
   ]
  },
  {
   "cell_type": "code",
   "execution_count": 42,
   "id": "5a121efd",
   "metadata": {
    "execution": {
     "iopub.execute_input": "2023-04-27T04:40:58.066839Z",
     "iopub.status.busy": "2023-04-27T04:40:58.066424Z",
     "iopub.status.idle": "2023-04-27T04:40:58.074008Z",
     "shell.execute_reply": "2023-04-27T04:40:58.072688Z"
    },
    "papermill": {
     "duration": 0.034769,
     "end_time": "2023-04-27T04:40:58.076249",
     "exception": false,
     "start_time": "2023-04-27T04:40:58.041480",
     "status": "completed"
    },
    "tags": []
   },
   "outputs": [
    {
     "name": "stdout",
     "output_type": "stream",
     "text": [
      "F1 score: 0.52\n"
     ]
    }
   ],
   "source": [
    "from sklearn.metrics import f1_score\n",
    "\n",
    "# Calculate the F1 score\n",
    "f1 = f1_score(val_y, y_pred,average='micro')\n",
    "\n",
    "# Print the result\n",
    "print(\"F1 score:\", f1)"
   ]
  },
  {
   "cell_type": "markdown",
   "id": "dea6b068",
   "metadata": {
    "papermill": {
     "duration": 0.023118,
     "end_time": "2023-04-27T04:40:58.123245",
     "exception": false,
     "start_time": "2023-04-27T04:40:58.100127",
     "status": "completed"
    },
    "tags": []
   },
   "source": [
    "## For submissions Train using full X and y sets"
   ]
  },
  {
   "cell_type": "code",
   "execution_count": 43,
   "id": "44d76074",
   "metadata": {
    "execution": {
     "iopub.execute_input": "2023-04-27T04:40:58.173038Z",
     "iopub.status.busy": "2023-04-27T04:40:58.172128Z",
     "iopub.status.idle": "2023-04-27T04:40:58.477835Z",
     "shell.execute_reply": "2023-04-27T04:40:58.476900Z"
    },
    "papermill": {
     "duration": 0.334041,
     "end_time": "2023-04-27T04:40:58.480758",
     "exception": false,
     "start_time": "2023-04-27T04:40:58.146717",
     "status": "completed"
    },
    "tags": []
   },
   "outputs": [
    {
     "data": {
      "text/plain": [
       "XGBClassifier(base_score=0.5, booster='gbtree', callbacks=None,\n",
       "              colsample_bylevel=1, colsample_bynode=1, colsample_bytree=1,\n",
       "              early_stopping_rounds=None, enable_categorical=False,\n",
       "              eval_metric=None, gamma=0, gpu_id=-1, grow_policy='depthwise',\n",
       "              importance_type=None, interaction_constraints='',\n",
       "              learning_rate=0.300000012, max_bin=256, max_cat_to_onehot=4,\n",
       "              max_delta_step=0, max_depth=6, max_leaves=0, min_child_weight=1,\n",
       "              missing=nan, monotone_constraints='()', n_estimators=100,\n",
       "              n_jobs=0, num_parallel_tree=1, objective='multi:softprob',\n",
       "              predictor='auto', random_state=0, reg_alpha=0, ...)"
      ]
     },
     "execution_count": 43,
     "metadata": {},
     "output_type": "execute_result"
    }
   ],
   "source": [
    "# Define the model with default hyperparameters\n",
    "FinalModel = XGBClassifier()\n",
    "# FinalModel = KNeighborsClassifier(n_neighbors=3)\n",
    "# FinalModel = RandomForestClassifier(n_estimators=100,random_state=1)\n",
    "\n",
    "# Fit the model to the training data\n",
    "FinalModel.fit(train_X, train_y)"
   ]
  },
  {
   "cell_type": "code",
   "execution_count": 44,
   "id": "139d8f50",
   "metadata": {
    "execution": {
     "iopub.execute_input": "2023-04-27T04:40:58.529875Z",
     "iopub.status.busy": "2023-04-27T04:40:58.528944Z",
     "iopub.status.idle": "2023-04-27T04:40:58.541189Z",
     "shell.execute_reply": "2023-04-27T04:40:58.539858Z"
    },
    "papermill": {
     "duration": 0.039933,
     "end_time": "2023-04-27T04:40:58.543986",
     "exception": false,
     "start_time": "2023-04-27T04:40:58.504053",
     "status": "completed"
    },
    "tags": []
   },
   "outputs": [
    {
     "data": {
      "text/html": [
       "<div>\n",
       "<style scoped>\n",
       "    .dataframe tbody tr th:only-of-type {\n",
       "        vertical-align: middle;\n",
       "    }\n",
       "\n",
       "    .dataframe tbody tr th {\n",
       "        vertical-align: top;\n",
       "    }\n",
       "\n",
       "    .dataframe thead th {\n",
       "        text-align: right;\n",
       "    }\n",
       "</style>\n",
       "<table border=\"1\" class=\"dataframe\">\n",
       "  <thead>\n",
       "    <tr style=\"text-align: right;\">\n",
       "      <th></th>\n",
       "      <th>single_day_min_vol</th>\n",
       "      <th>customer_id_single</th>\n",
       "    </tr>\n",
       "  </thead>\n",
       "  <tbody>\n",
       "    <tr>\n",
       "      <th>100</th>\n",
       "      <td>9805</td>\n",
       "      <td>1053</td>\n",
       "    </tr>\n",
       "    <tr>\n",
       "      <th>101</th>\n",
       "      <td>6210</td>\n",
       "      <td>1063</td>\n",
       "    </tr>\n",
       "    <tr>\n",
       "      <th>102</th>\n",
       "      <td>11240</td>\n",
       "      <td>1435</td>\n",
       "    </tr>\n",
       "    <tr>\n",
       "      <th>103</th>\n",
       "      <td>9530</td>\n",
       "      <td>1038</td>\n",
       "    </tr>\n",
       "    <tr>\n",
       "      <th>104</th>\n",
       "      <td>5465</td>\n",
       "      <td>1041</td>\n",
       "    </tr>\n",
       "    <tr>\n",
       "      <th>105</th>\n",
       "      <td>5845</td>\n",
       "      <td>918</td>\n",
       "    </tr>\n",
       "    <tr>\n",
       "      <th>106</th>\n",
       "      <td>5045</td>\n",
       "      <td>1147</td>\n",
       "    </tr>\n",
       "    <tr>\n",
       "      <th>107</th>\n",
       "      <td>8220</td>\n",
       "      <td>1301</td>\n",
       "    </tr>\n",
       "    <tr>\n",
       "      <th>108</th>\n",
       "      <td>8605</td>\n",
       "      <td>1519</td>\n",
       "    </tr>\n",
       "    <tr>\n",
       "      <th>109</th>\n",
       "      <td>11600</td>\n",
       "      <td>1502</td>\n",
       "    </tr>\n",
       "    <tr>\n",
       "      <th>110</th>\n",
       "      <td>8590</td>\n",
       "      <td>1376</td>\n",
       "    </tr>\n",
       "    <tr>\n",
       "      <th>111</th>\n",
       "      <td>6320</td>\n",
       "      <td>1269</td>\n",
       "    </tr>\n",
       "    <tr>\n",
       "      <th>112</th>\n",
       "      <td>2130</td>\n",
       "      <td>838</td>\n",
       "    </tr>\n",
       "    <tr>\n",
       "      <th>113</th>\n",
       "      <td>15690</td>\n",
       "      <td>1681</td>\n",
       "    </tr>\n",
       "    <tr>\n",
       "      <th>114</th>\n",
       "      <td>4250</td>\n",
       "      <td>548</td>\n",
       "    </tr>\n",
       "    <tr>\n",
       "      <th>115</th>\n",
       "      <td>6760</td>\n",
       "      <td>1280</td>\n",
       "    </tr>\n",
       "    <tr>\n",
       "      <th>116</th>\n",
       "      <td>4630</td>\n",
       "      <td>1155</td>\n",
       "    </tr>\n",
       "    <tr>\n",
       "      <th>117</th>\n",
       "      <td>8665</td>\n",
       "      <td>1647</td>\n",
       "    </tr>\n",
       "    <tr>\n",
       "      <th>118</th>\n",
       "      <td>6060</td>\n",
       "      <td>1684</td>\n",
       "    </tr>\n",
       "    <tr>\n",
       "      <th>119</th>\n",
       "      <td>2160</td>\n",
       "      <td>678</td>\n",
       "    </tr>\n",
       "    <tr>\n",
       "      <th>120</th>\n",
       "      <td>8015</td>\n",
       "      <td>956</td>\n",
       "    </tr>\n",
       "    <tr>\n",
       "      <th>121</th>\n",
       "      <td>6495</td>\n",
       "      <td>1105</td>\n",
       "    </tr>\n",
       "    <tr>\n",
       "      <th>122</th>\n",
       "      <td>16780</td>\n",
       "      <td>1707</td>\n",
       "    </tr>\n",
       "    <tr>\n",
       "      <th>123</th>\n",
       "      <td>5495</td>\n",
       "      <td>860</td>\n",
       "    </tr>\n",
       "  </tbody>\n",
       "</table>\n",
       "</div>"
      ],
      "text/plain": [
       "     single_day_min_vol  customer_id_single\n",
       "100                9805                1053\n",
       "101                6210                1063\n",
       "102               11240                1435\n",
       "103                9530                1038\n",
       "104                5465                1041\n",
       "105                5845                 918\n",
       "106                5045                1147\n",
       "107                8220                1301\n",
       "108                8605                1519\n",
       "109               11600                1502\n",
       "110                8590                1376\n",
       "111                6320                1269\n",
       "112                2130                 838\n",
       "113               15690                1681\n",
       "114                4250                 548\n",
       "115                6760                1280\n",
       "116                4630                1155\n",
       "117                8665                1647\n",
       "118                6060                1684\n",
       "119                2160                 678\n",
       "120                8015                 956\n",
       "121                6495                1105\n",
       "122               16780                1707\n",
       "123                5495                 860"
      ]
     },
     "execution_count": 44,
     "metadata": {},
     "output_type": "execute_result"
    }
   ],
   "source": [
    "test_shops = test_shops.drop('shop_id', axis=1)\n",
    "test_shops"
   ]
  },
  {
   "cell_type": "code",
   "execution_count": 45,
   "id": "27baa836",
   "metadata": {
    "execution": {
     "iopub.execute_input": "2023-04-27T04:40:58.595934Z",
     "iopub.status.busy": "2023-04-27T04:40:58.594480Z",
     "iopub.status.idle": "2023-04-27T04:40:58.605915Z",
     "shell.execute_reply": "2023-04-27T04:40:58.604982Z"
    },
    "papermill": {
     "duration": 0.040447,
     "end_time": "2023-04-27T04:40:58.608811",
     "exception": false,
     "start_time": "2023-04-27T04:40:58.568364",
     "status": "completed"
    },
    "tags": []
   },
   "outputs": [],
   "source": [
    "FinalPred = FinalModel.predict(test_shops)"
   ]
  },
  {
   "cell_type": "code",
   "execution_count": 46,
   "id": "abb48536",
   "metadata": {
    "execution": {
     "iopub.execute_input": "2023-04-27T04:40:58.661301Z",
     "iopub.status.busy": "2023-04-27T04:40:58.660647Z",
     "iopub.status.idle": "2023-04-27T04:40:58.668423Z",
     "shell.execute_reply": "2023-04-27T04:40:58.667032Z"
    },
    "papermill": {
     "duration": 0.035433,
     "end_time": "2023-04-27T04:40:58.670999",
     "exception": false,
     "start_time": "2023-04-27T04:40:58.635566",
     "status": "completed"
    },
    "tags": []
   },
   "outputs": [
    {
     "data": {
      "text/plain": [
       "24"
      ]
     },
     "execution_count": 46,
     "metadata": {},
     "output_type": "execute_result"
    }
   ],
   "source": [
    "len(FinalPred)"
   ]
  },
  {
   "cell_type": "markdown",
   "id": "276d65e1",
   "metadata": {
    "papermill": {
     "duration": 0.024633,
     "end_time": "2023-04-27T04:40:58.719914",
     "exception": false,
     "start_time": "2023-04-27T04:40:58.695281",
     "status": "completed"
    },
    "tags": []
   },
   "source": [
    "## Combining predictions with shop_id"
   ]
  },
  {
   "cell_type": "code",
   "execution_count": 47,
   "id": "f456c249",
   "metadata": {
    "execution": {
     "iopub.execute_input": "2023-04-27T04:40:58.770766Z",
     "iopub.status.busy": "2023-04-27T04:40:58.769960Z",
     "iopub.status.idle": "2023-04-27T04:40:58.775817Z",
     "shell.execute_reply": "2023-04-27T04:40:58.775035Z"
    },
    "papermill": {
     "duration": 0.034226,
     "end_time": "2023-04-27T04:40:58.778213",
     "exception": false,
     "start_time": "2023-04-27T04:40:58.743987",
     "status": "completed"
    },
    "tags": []
   },
   "outputs": [],
   "source": [
    "# Create a dictionary mapping the old values to the new values\n",
    "mapping = {0: 'Low', 1: 'Moderate', 2: 'High'}\n",
    "\n",
    "# Map the values in the 'shop_profile' column using the dictionary\n",
    "testdata[\"shop_profile\"] = FinalPred"
   ]
  },
  {
   "cell_type": "code",
   "execution_count": 48,
   "id": "ba8c6f96",
   "metadata": {
    "execution": {
     "iopub.execute_input": "2023-04-27T04:40:58.828367Z",
     "iopub.status.busy": "2023-04-27T04:40:58.827514Z",
     "iopub.status.idle": "2023-04-27T04:40:58.839497Z",
     "shell.execute_reply": "2023-04-27T04:40:58.838341Z"
    },
    "papermill": {
     "duration": 0.039984,
     "end_time": "2023-04-27T04:40:58.842065",
     "exception": false,
     "start_time": "2023-04-27T04:40:58.802081",
     "status": "completed"
    },
    "tags": []
   },
   "outputs": [
    {
     "data": {
      "text/html": [
       "<div>\n",
       "<style scoped>\n",
       "    .dataframe tbody tr th:only-of-type {\n",
       "        vertical-align: middle;\n",
       "    }\n",
       "\n",
       "    .dataframe tbody tr th {\n",
       "        vertical-align: top;\n",
       "    }\n",
       "\n",
       "    .dataframe thead th {\n",
       "        text-align: right;\n",
       "    }\n",
       "</style>\n",
       "<table border=\"1\" class=\"dataframe\">\n",
       "  <thead>\n",
       "    <tr style=\"text-align: right;\">\n",
       "      <th></th>\n",
       "      <th>shop_id</th>\n",
       "      <th>shop_profile</th>\n",
       "    </tr>\n",
       "  </thead>\n",
       "  <tbody>\n",
       "    <tr>\n",
       "      <th>0</th>\n",
       "      <td>SHOP046</td>\n",
       "      <td>2</td>\n",
       "    </tr>\n",
       "    <tr>\n",
       "      <th>1</th>\n",
       "      <td>SHOP024</td>\n",
       "      <td>0</td>\n",
       "    </tr>\n",
       "    <tr>\n",
       "      <th>2</th>\n",
       "      <td>SHOP023</td>\n",
       "      <td>2</td>\n",
       "    </tr>\n",
       "    <tr>\n",
       "      <th>3</th>\n",
       "      <td>SHOP097</td>\n",
       "      <td>2</td>\n",
       "    </tr>\n",
       "    <tr>\n",
       "      <th>4</th>\n",
       "      <td>SHOP044</td>\n",
       "      <td>1</td>\n",
       "    </tr>\n",
       "    <tr>\n",
       "      <th>5</th>\n",
       "      <td>SHOP030</td>\n",
       "      <td>0</td>\n",
       "    </tr>\n",
       "    <tr>\n",
       "      <th>6</th>\n",
       "      <td>SHOP038</td>\n",
       "      <td>1</td>\n",
       "    </tr>\n",
       "    <tr>\n",
       "      <th>7</th>\n",
       "      <td>SHOP029</td>\n",
       "      <td>0</td>\n",
       "    </tr>\n",
       "    <tr>\n",
       "      <th>8</th>\n",
       "      <td>SHOP096</td>\n",
       "      <td>1</td>\n",
       "    </tr>\n",
       "    <tr>\n",
       "      <th>9</th>\n",
       "      <td>SHOP092</td>\n",
       "      <td>0</td>\n",
       "    </tr>\n",
       "    <tr>\n",
       "      <th>10</th>\n",
       "      <td>SHOP081</td>\n",
       "      <td>0</td>\n",
       "    </tr>\n",
       "    <tr>\n",
       "      <th>11</th>\n",
       "      <td>SHOP076</td>\n",
       "      <td>0</td>\n",
       "    </tr>\n",
       "    <tr>\n",
       "      <th>12</th>\n",
       "      <td>SHOP080</td>\n",
       "      <td>0</td>\n",
       "    </tr>\n",
       "    <tr>\n",
       "      <th>13</th>\n",
       "      <td>SHOP074</td>\n",
       "      <td>2</td>\n",
       "    </tr>\n",
       "    <tr>\n",
       "      <th>14</th>\n",
       "      <td>SHOP107</td>\n",
       "      <td>2</td>\n",
       "    </tr>\n",
       "    <tr>\n",
       "      <th>15</th>\n",
       "      <td>SHOP108</td>\n",
       "      <td>0</td>\n",
       "    </tr>\n",
       "    <tr>\n",
       "      <th>16</th>\n",
       "      <td>SHOP019</td>\n",
       "      <td>1</td>\n",
       "    </tr>\n",
       "    <tr>\n",
       "      <th>17</th>\n",
       "      <td>SHOP002</td>\n",
       "      <td>2</td>\n",
       "    </tr>\n",
       "    <tr>\n",
       "      <th>18</th>\n",
       "      <td>SHOP114</td>\n",
       "      <td>1</td>\n",
       "    </tr>\n",
       "    <tr>\n",
       "      <th>19</th>\n",
       "      <td>SHOP087</td>\n",
       "      <td>1</td>\n",
       "    </tr>\n",
       "    <tr>\n",
       "      <th>20</th>\n",
       "      <td>SHOP050</td>\n",
       "      <td>2</td>\n",
       "    </tr>\n",
       "    <tr>\n",
       "      <th>21</th>\n",
       "      <td>SHOP061</td>\n",
       "      <td>0</td>\n",
       "    </tr>\n",
       "    <tr>\n",
       "      <th>22</th>\n",
       "      <td>SHOP056</td>\n",
       "      <td>2</td>\n",
       "    </tr>\n",
       "    <tr>\n",
       "      <th>23</th>\n",
       "      <td>SHOP070</td>\n",
       "      <td>0</td>\n",
       "    </tr>\n",
       "  </tbody>\n",
       "</table>\n",
       "</div>"
      ],
      "text/plain": [
       "    shop_id  shop_profile\n",
       "0   SHOP046             2\n",
       "1   SHOP024             0\n",
       "2   SHOP023             2\n",
       "3   SHOP097             2\n",
       "4   SHOP044             1\n",
       "5   SHOP030             0\n",
       "6   SHOP038             1\n",
       "7   SHOP029             0\n",
       "8   SHOP096             1\n",
       "9   SHOP092             0\n",
       "10  SHOP081             0\n",
       "11  SHOP076             0\n",
       "12  SHOP080             0\n",
       "13  SHOP074             2\n",
       "14  SHOP107             2\n",
       "15  SHOP108             0\n",
       "16  SHOP019             1\n",
       "17  SHOP002             2\n",
       "18  SHOP114             1\n",
       "19  SHOP087             1\n",
       "20  SHOP050             2\n",
       "21  SHOP061             0\n",
       "22  SHOP056             2\n",
       "23  SHOP070             0"
      ]
     },
     "execution_count": 48,
     "metadata": {},
     "output_type": "execute_result"
    }
   ],
   "source": [
    "testdata"
   ]
  },
  {
   "cell_type": "code",
   "execution_count": 49,
   "id": "80353ff4",
   "metadata": {
    "execution": {
     "iopub.execute_input": "2023-04-27T04:40:58.892472Z",
     "iopub.status.busy": "2023-04-27T04:40:58.892086Z",
     "iopub.status.idle": "2023-04-27T04:40:58.898693Z",
     "shell.execute_reply": "2023-04-27T04:40:58.897370Z"
    },
    "papermill": {
     "duration": 0.034843,
     "end_time": "2023-04-27T04:40:58.901188",
     "exception": false,
     "start_time": "2023-04-27T04:40:58.866345",
     "status": "completed"
    },
    "tags": []
   },
   "outputs": [],
   "source": [
    "# Define a dictionary to map values to labels\n",
    "label_map = {0: 'Low', 1: 'Moderate', 2: 'High'}\n",
    "\n",
    "# Replace the values in the shop_profile column with labels\n",
    "testdata['shop_profile'] = testdata['shop_profile'].replace(label_map)"
   ]
  },
  {
   "cell_type": "code",
   "execution_count": 50,
   "id": "9a7e4958",
   "metadata": {
    "execution": {
     "iopub.execute_input": "2023-04-27T04:40:58.952714Z",
     "iopub.status.busy": "2023-04-27T04:40:58.951504Z",
     "iopub.status.idle": "2023-04-27T04:40:58.964093Z",
     "shell.execute_reply": "2023-04-27T04:40:58.962704Z"
    },
    "papermill": {
     "duration": 0.040441,
     "end_time": "2023-04-27T04:40:58.966368",
     "exception": false,
     "start_time": "2023-04-27T04:40:58.925927",
     "status": "completed"
    },
    "tags": []
   },
   "outputs": [
    {
     "name": "stdout",
     "output_type": "stream",
     "text": [
      "Done!!\n"
     ]
    }
   ],
   "source": [
    "## Write to CSV\n",
    "testdata.to_csv('output.csv', index=False)\n",
    "print(\"Done!!\")"
   ]
  }
 ],
 "metadata": {
  "kernelspec": {
   "display_name": "Python 3",
   "language": "python",
   "name": "python3"
  },
  "language_info": {
   "codemirror_mode": {
    "name": "ipython",
    "version": 3
   },
   "file_extension": ".py",
   "mimetype": "text/x-python",
   "name": "python",
   "nbconvert_exporter": "python",
   "pygments_lexer": "ipython3",
   "version": "3.7.12"
  },
  "papermill": {
   "default_parameters": {},
   "duration": 23.900225,
   "end_time": "2023-04-27T04:40:59.813420",
   "environment_variables": {},
   "exception": null,
   "input_path": "__notebook__.ipynb",
   "output_path": "__notebook__.ipynb",
   "parameters": {},
   "start_time": "2023-04-27T04:40:35.913195",
   "version": "2.4.0"
  }
 },
 "nbformat": 4,
 "nbformat_minor": 5
}
